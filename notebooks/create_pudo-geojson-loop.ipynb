{
 "cells": [
  {
   "cell_type": "markdown",
   "metadata": {},
   "source": [
    "# Create geojson file from list of PUDO coords\n",
    "Loops through all days of the week and all time windows to create geojson files for a given ward. \n",
    "\n",
    "**NB**: ward must be entered manually as a variable (i.e. script does not also loop through all wards).   \n",
    "\n",
    "**Resources**  \n",
    "See /home/test/Documents/PROJECTS/VFH/iPython_Notebooks/dv_pudo_profiles.ipynb for more info.  \n",
    "ref: https://geoffboeing.com/2015/10/exporting-python-data-geojson/  \n",
    "Huom: `with open(output_filename, 'wb') as output_file:` should be `'w'` not `'wb'` "
   ]
  },
  {
   "cell_type": "markdown",
   "metadata": {},
   "source": [
    "### Trip data obtained from this query:\n",
    "\n",
    "```\n",
    "CREATE TABLE cnangini.trip_data_092018_timewin AS\n",
    "SELECT \n",
    "\tpickup_datetime, \n",
    "\tTO_CHAR(pickup_datetime, 'FMDay') dow,\n",
    "\tTO_CHAR(pickup_datetime, 'HH24') HH,\n",
    "\tdropoff_datetime, pickup_ward2018, dropoff_ward2018, \n",
    "\tpickup_gc_intersection_id, dropoff_gc_intersection_id,\n",
    "\tpickup_neighbourhood, dropoff_neighbourhood,\n",
    "   case \n",
    "   \t\twhen (DATE_PART('isodow',a.pickup_datetime) < 6) --WEEKDAY\n",
    "\t\t\tAND (DATE_PART('hour',a.pickup_datetime) in (7,8,9)) \n",
    "\t\tthen 'amPeak'\n",
    "\t\twhen (DATE_PART('isodow',a.pickup_datetime) >= 6) --WEEKEND\t\n",
    "\t\t\tAND (DATE_PART('hour',a.pickup_datetime) in (7,8,9,10,11)) \n",
    "\t\tthen 'amPeak'\n",
    "\t\t\n",
    "\t\twhen (DATE_PART('isodow',a.pickup_datetime) < 6) --WEEKDAY\n",
    "\t\t\tAND (DATE_PART('hour',a.pickup_datetime) in (10,11,12,13,14,15)) \n",
    "\t\tthen 'midday'\n",
    "\t\twhen (DATE_PART('isodow',a.pickup_datetime) >= 6) --WEEKEND\t\n",
    "\t\t\tAND (DATE_PART('hour',a.pickup_datetime) in (12,13,14,15,16,17,18)) \n",
    "\t\tthen 'midday'\n",
    "\t\t\n",
    "    \twhen (DATE_PART('isodow',a.pickup_datetime) < 6) --WEEKDAY\n",
    " \t\t\tAND (DATE_PART('hour',a.pickup_datetime) in (16,17,18)) \n",
    " \t\tthen 'pmPeak'\n",
    "    \n",
    "        when DATE_PART('hour',a.pickup_datetime) in (19,20,21,22,23,0,1,2) then 'nightI'\n",
    "        when DATE_PART('hour',a.pickup_datetime) in (3,4,5,6) then 'nightII'\n",
    "        else 'outside_windows'\n",
    "        end as timewindow,\n",
    "\n",
    "pickup.geom as pickup_geom, dropoff.geom as dropoff_geom,\n",
    "ST_Y(pickup.geom) as lat_pickup,\n",
    "ST_X(pickup.geom) as lon_pickup,\n",
    "ST_Y(dropoff.geom) as lat_dropoff,\n",
    "ST_X(dropoff.geom) as lon_dropoff\n",
    "FROM ptc.trip_data_new_geom a\n",
    "inner join gis.centreline_intersection pickup on pickup.int_id = pickup_gc_intersection_id \n",
    "inner join gis.centreline_intersection dropoff on dropoff.int_id = dropoff_gc_intersection_id\n",
    "WHERE pickup_mun_id = 69 AND dropoff_mun_id = 69\n",
    "AND pickup_datetime > '20180901' AND pickup_datetime < '20181001'\n",
    "\n",
    "```\n",
    "\n",
    "### And then each day extracted with this query:\n",
    "\n",
    "```\n",
    "CREATE TABLE cnangini.trip_data_092018_timewin_monday AS\n",
    "SELECT \n",
    "\tdow, HH, timewindow, pickup_datetime, dropoff_datetime, \n",
    "\tpickup_ward2018, dropoff_ward2018, \n",
    "\tpickup_gc_intersection_id, dropoff_gc_intersection_id,\n",
    "\tpickup_neighbourhood, dropoff_neighbourhood,\n",
    "\tpickup_geom, dropoff_geom, lat_pickup, lon_pickup,\n",
    "\tlat_dropoff, lon_dropoff\n",
    "FROM cnangini.trip_data_092018_timewin\n",
    "WHERE dow='Monday'\n",
    "```"
   ]
  },
  {
   "cell_type": "code",
   "execution_count": 1,
   "metadata": {},
   "outputs": [
    {
     "data": {
      "text/plain": [
       "'/home/test/anaconda3/envs/vfh/bin/python'"
      ]
     },
     "execution_count": 1,
     "metadata": {},
     "output_type": "execute_result"
    }
   ],
   "source": [
    "import sys\n",
    "sys.executable"
   ]
  },
  {
   "cell_type": "code",
   "execution_count": 2,
   "metadata": {},
   "outputs": [],
   "source": [
    "%matplotlib inline\n",
    "import numpy as np\n",
    "import pandas as pd\n",
    "import pandas.io.sql as pandasql\n",
    "import matplotlib.pyplot as plt\n",
    "import matplotlib as mpl\n",
    "import matplotlib.ticker as ticker\n",
    "\n",
    "from IPython.display import HTML, display\n",
    "import datetime\n",
    "import matplotlib.dates as mdates\n",
    "from ipywidgets import interact, interactive, fixed, interact_manual\n",
    "import ipywidgets as widgets\n",
    "import os\n",
    "\n",
    "from datetime import datetime\n",
    "\n",
    "import json"
   ]
  },
  {
   "cell_type": "markdown",
   "metadata": {},
   "source": [
    "# Functions"
   ]
  },
  {
   "cell_type": "code",
   "execution_count": 3,
   "metadata": {},
   "outputs": [],
   "source": [
    "def round_coord(df, cols):\n",
    "    n=4    \n",
    "    for this_col in cols:\n",
    "        df[this_col] = df[this_col].round(decimals=n)\n",
    "    return df"
   ]
  },
  {
   "cell_type": "code",
   "execution_count": 4,
   "metadata": {},
   "outputs": [],
   "source": [
    "def agg_counts(df, this_type):\n",
    "    \n",
    "    df_agg=pd.DataFrame()\n",
    "    \n",
    "    this_ward = this_type + '_ward2018'\n",
    "    cols = ['dow','timewindow','lat_'+ this_type,'lon_'+ this_type,\n",
    "            this_type+'_gc_intersection_id', this_type +'_neighbourhood']\n",
    "    if this_type == 'pickup':\n",
    "        idx_name = 'pcounts'\n",
    "    else:\n",
    "        idx_name = 'dcounts'\n",
    "\n",
    "    df_agg=df.loc[(df[this_ward]==ward) & \n",
    "                  (df['timewindow']==this_tod)].groupby(cols).size().reset_index(name=idx_name)\n",
    "\n",
    "    df_agg = df_agg.rename(columns={'lat_'+this_type: 'latitude'})\n",
    "    df_agg = df_agg.rename(columns={'lon_'+this_type: 'longitude'})\n",
    "    df_agg = df_agg.rename(columns={this_type+'_gc_intersection_id': 'intersection_id'})\n",
    "    df_agg = df_agg.rename(columns={this_type+'_neighbourhood': 'nn'})\n",
    "    \n",
    "    # Add extra column to allow for stacking later on\n",
    "    if this_type == 'pickup':\n",
    "        df_agg = df_agg.assign(dcounts=0)\n",
    "    else:\n",
    "        idx_name = 'dcounts'\n",
    "        df_agg = df_agg.assign(pcounts=0)\n",
    "    \n",
    "    return df_agg"
   ]
  },
  {
   "cell_type": "code",
   "execution_count": 5,
   "metadata": {},
   "outputs": [],
   "source": [
    "# https://geoffboeing.com/2015/10/exporting-python-data-geojson/\n",
    "def df_to_geojson(df, properties, lat=\"latitude\", lon=\"longitude\"):\n",
    "    geojson = {\"type\":\"FeatureCollection\", \"features\":[]}\n",
    "    for _, row in df.iterrows():\n",
    "        feature = {\"type\":\"Feature\",\n",
    "                   \"properties\":{},\n",
    "                   \"geometry\":{\"type\":\"Point\",\n",
    "                               \"coordinates\":[]}}\n",
    "        feature[\"geometry\"][\"coordinates\"] = [row[lon],row[lat]]\n",
    "        for prop in properties:\n",
    "            if prop==\"story\":\n",
    "                this_prop = row[prop]\n",
    "            else:\n",
    "                this_prop = int(row[prop])\n",
    "            feature[\"properties\"][prop] = this_prop\n",
    "        geojson[\"features\"].append(feature)\n",
    "    return geojson"
   ]
  },
  {
   "cell_type": "markdown",
   "metadata": {},
   "source": [
    "# Variables"
   ]
  },
  {
   "cell_type": "code",
   "execution_count": 6,
   "metadata": {},
   "outputs": [],
   "source": [
    "ward=25"
   ]
  },
  {
   "cell_type": "code",
   "execution_count": 7,
   "metadata": {},
   "outputs": [],
   "source": [
    "# Stores final geojson file with all days of week, times of day, pu, do and pudo\n",
    "o = {}"
   ]
  },
  {
   "cell_type": "markdown",
   "metadata": {},
   "source": [
    "## geoJSON format for this_day, this_tod\n",
    "Format:  \n",
    "```\n",
    "{\n",
    "    this_day: {\n",
    "\t\tthis_tod: {\n",
    "\t\t\t'pu': geojson_pu_layer,\n",
    "\t\t\t'pudo':geojson_pudo_layer,\n",
    "\t\t\t'do':geojson_do_layer\n",
    "\t\t}\n",
    " ``` \n",
    " \n",
    " e.g.\n",
    " \n",
    " ```\n",
    " {\n",
    "    'Monday': {\n",
    "\t\t'amPeak': {\n",
    "\t\t\t'pu':geojson_pu_layer,\n",
    "\t\t\t'pudo':geojson_pudo_layer,\n",
    "\t\t\t'do':geojson_do_layer\n",
    "\t\t}\n",
    " ```"
   ]
  },
  {
   "cell_type": "code",
   "execution_count": 8,
   "metadata": {},
   "outputs": [],
   "source": [
    "dd=['Monday', 'Tuesday','Wednesday','Thursday','Friday','Saturday', 'Sunday']\n",
    "tt=['amPeak','midday','pmPeak','nightI','nightII']\n",
    "# NB!!!! Weekends (Saturday, Sunday) do NOT have a pmPeak\n",
    "\n",
    "c=15 #cut-off filter. Only counts >= c will be saved\n",
    "\n",
    "# Humber Story\n",
    "humber_id = 20232410"
   ]
  },
  {
   "cell_type": "code",
   "execution_count": null,
   "metadata": {},
   "outputs": [],
   "source": []
  },
  {
   "cell_type": "code",
   "execution_count": null,
   "metadata": {},
   "outputs": [],
   "source": []
  },
  {
   "cell_type": "markdown",
   "metadata": {},
   "source": [
    "# Loop"
   ]
  },
  {
   "cell_type": "code",
   "execution_count": 9,
   "metadata": {},
   "outputs": [
    {
     "name": "stdout",
     "output_type": "stream",
     "text": [
      "Weekends have no pmPeak period\n",
      "Weekends have no pmPeak period\n"
     ]
    }
   ],
   "source": [
    "for this_day in dd:\n",
    "    o[this_day] = {}\n",
    "\n",
    "    fname = '../../../Documents/PROJECTS/VFH/COT_PAGE/INTERIM_DATA/FROM_PGADMIN/tripdata_092018_' + this_day + '.csv'\n",
    "    df = pd.read_csv(fname)\n",
    "    \n",
    "    round_coord(df, ['lat_pickup', 'lon_pickup', 'lat_dropoff', 'lon_dropoff'])\n",
    "    \n",
    "    # 2. Filter out rows where neither pickup or dropoff wards are the ward of interest\n",
    "    df['keep'] = np.nan\n",
    "    df['latitude'] = np.nan\n",
    "    df['longitude'] = np.nan\n",
    "\n",
    "    df.loc[(df['pickup_ward2018']==ward) | (df['dropoff_ward2018']==ward), 'keep'] = 1    \n",
    "    df = df[df['keep'].notnull()] # Keep only rows where `keep` is not null\n",
    "    \n",
    "    # 3. Mark if row is a pickup or a dropoff\n",
    "    df['pu'] = np.nan\n",
    "    df['do'] = np.nan\n",
    "    df.loc[df['pickup_ward2018']==ward, 'pu'] = 1\n",
    "    df.loc[df['dropoff_ward2018']==ward, 'do'] = 1\n",
    "    \n",
    "    for this_tod in tt:\n",
    "        if this_tod == 'pmPeak' and (this_day == 'Saturday' or this_day == 'Sunday'):\n",
    "            print(\"Weekends have no pmPeak period\")\n",
    "        else:\n",
    "            o[this_day][this_tod] = {}\n",
    "\n",
    "            # 4. Aggregate pickups and dropoffs for this_tod\n",
    "            df_agg_pu = pd.DataFrame()\n",
    "            df_agg_do = pd.DataFrame()\n",
    "            df_agg_pu = agg_counts(df, 'pickup')\n",
    "            df_agg_do = agg_counts(df, 'dropoff')\n",
    "\n",
    "            # 5. Stack pickups on top of dropoffs\n",
    "            df_merge=pd.DataFrame()\n",
    "            df_merge=pd.concat([df_agg_pu, df_agg_do],sort=False)\n",
    "\n",
    "            # 6. Group on common intersection_id\n",
    "            # For each same intersection, collapse row for pickups and row for dropoffs into one single row \n",
    "            # with pcounts and dcounts representing the total counts for each.\n",
    "            df_merge_gr=pd.DataFrame()\n",
    "            df_merge_gr=df_merge.groupby(['intersection_id','latitude','longitude','nn'],as_index=False).sum()\n",
    "            \n",
    "            # Placeholder for story\n",
    "            if ward==1:\n",
    "#                 df_merge_gr['story']='0'   \n",
    "                if this_day=='Monday' and this_tod=='amPeak':\n",
    "                    df_merge_gr['story']='0'   \n",
    "                    df_merge_gr.loc[df_merge_gr['intersection_id']==humber_id, 'story']='humber'\n",
    "\n",
    "            # 7. Make the dataframes for each layer\n",
    "            # Need 3 separate dataframes for PUDOS, PU only, DO only.\n",
    "            df_pudo_layer = pd.DataFrame()\n",
    "            df_pu_layer = pd.DataFrame()\n",
    "            df_do_layer = pd.DataFrame()\n",
    "\n",
    "            df_pudo_layer = df_merge_gr.loc[(df_merge_gr['pcounts']>0) & (df_merge_gr['dcounts']>0)]\n",
    "            df_pu_layer = df_merge_gr.loc[(df_merge_gr['pcounts']>0) & (df_merge_gr['dcounts']==0)]\n",
    "            df_do_layer = df_merge_gr.loc[(df_merge_gr['pcounts']==0) & (df_merge_gr['dcounts']>0)]\n",
    "\n",
    "            # 8. Create the geojsons for all counts >= c\n",
    "            geojson_pu_layer = df_to_geojson(df_pu_layer.loc[(df_pu_layer[\"pcounts\"]>=c)], [\"pcounts\",\"nn\"])\n",
    "            geojson_do_layer = df_to_geojson(df_do_layer.loc[(df_do_layer[\"dcounts\"]>=c)], [\"dcounts\",\"nn\"])\n",
    "            if ward==1 and this_day=='Monday' and this_tod=='amPeak':\n",
    "                geojson_pudo_layer = df_to_geojson(df_pudo_layer.loc[\n",
    "                                                ((df_pudo_layer[\"pcounts\"]+df_pudo_layer[\"dcounts\"]) >= c)\n",
    "                                                ], [\"pcounts\",\"dcounts\",\"nn\",\"story\"])\n",
    "            else:\n",
    "                geojson_pudo_layer = df_to_geojson(df_pudo_layer.loc[\n",
    "                                ((df_pudo_layer[\"pcounts\"]+df_pudo_layer[\"dcounts\"]) >= c)\n",
    "                                ], [\"pcounts\",\"dcounts\",\"nn\"])\n",
    "\n",
    "            o[this_day][this_tod]['pu'] = geojson_pu_layer\n",
    "            o[this_day][this_tod]['pudo'] = geojson_pudo_layer\n",
    "            o[this_day][this_tod]['do'] = geojson_do_layer"
   ]
  },
  {
   "cell_type": "code",
   "execution_count": null,
   "metadata": {},
   "outputs": [],
   "source": []
  },
  {
   "cell_type": "code",
   "execution_count": null,
   "metadata": {},
   "outputs": [],
   "source": []
  },
  {
   "cell_type": "code",
   "execution_count": null,
   "metadata": {},
   "outputs": [],
   "source": []
  },
  {
   "cell_type": "markdown",
   "metadata": {},
   "source": [
    "# Write geojson to file\n",
    "Use `separators=(',', ':')` with `json.dump` for a minified file.  \n",
    "\n",
    "ref: https://stackoverflow.com/questions/33233313/python-json-dumpsval-to-output-minified-json"
   ]
  },
  {
   "cell_type": "code",
   "execution_count": 10,
   "metadata": {},
   "outputs": [
    {
     "name": "stdout",
     "output_type": "stream",
     "text": [
      "ward 25, cutoff 15\n"
     ]
    }
   ],
   "source": [
    "print('ward ' + repr(ward) + ', cutoff ' + repr(c))"
   ]
  },
  {
   "cell_type": "code",
   "execution_count": 11,
   "metadata": {},
   "outputs": [],
   "source": [
    "mydir = '../src/geojson/'\n",
    "# mydir = '/home/nangini/Documents/PROJECTS/BDITTO/VFH/DATA_STORY/DATA/INDIVIDUAL_GEOJSONS/'\n",
    "\n",
    "output_filename = mydir + 'w' + repr(ward) + '_agg_cutoff_' + repr(c) + '.geojson'\n",
    "\n",
    "with open(output_filename, 'w') as output_file:\n",
    "    output_file.write('')\n",
    "    json.dump(o, output_file, separators=(',', ':')) "
   ]
  },
  {
   "cell_type": "code",
   "execution_count": null,
   "metadata": {},
   "outputs": [],
   "source": []
  },
  {
   "cell_type": "code",
   "execution_count": 12,
   "metadata": {},
   "outputs": [
    {
     "name": "stdout",
     "output_type": "stream",
     "text": [
      "200 OK\n"
     ]
    }
   ],
   "source": [
    "print(\"200 OK\")"
   ]
  },
  {
   "cell_type": "code",
   "execution_count": null,
   "metadata": {},
   "outputs": [],
   "source": []
  },
  {
   "cell_type": "markdown",
   "metadata": {},
   "source": [
    "cutoff=15  \n",
    "`\n",
    "$ ls -lh src/geojson/\n",
    "-rw-r--r-- 1 test test 1.8M Feb 12 13:34 w10_agg_cutoff.geojson\n",
    "-rw-r--r-- 1 test test 366K Feb 12 13:37 w1_agg_cutoff.geojson\n",
    "`\n",
    "\n",
    "cutoff=0  \n",
    "`\n",
    "-rw-r--r-- 1 test test 2.8M Feb 12 13:58 w10_agg_cutoff_0.geojson\n",
    "-rw-r--r-- 1 test test 3.2M Feb 12 13:59 w1_agg_cutoff_0.geojson\n",
    "`"
   ]
  },
  {
   "cell_type": "code",
   "execution_count": null,
   "metadata": {},
   "outputs": [],
   "source": []
  },
  {
   "cell_type": "code",
   "execution_count": null,
   "metadata": {},
   "outputs": [],
   "source": []
  },
  {
   "cell_type": "code",
   "execution_count": null,
   "metadata": {},
   "outputs": [],
   "source": []
  },
  {
   "cell_type": "markdown",
   "metadata": {},
   "source": [
    "# Histograms of counts\n",
    "https://mode.com/example-gallery/python_histogram/"
   ]
  },
  {
   "cell_type": "code",
   "execution_count": 13,
   "metadata": {},
   "outputs": [],
   "source": [
    "import matplotlib.pyplot as plt\n",
    "from matplotlib.ticker import StrMethodFormatter\n",
    "\n",
    "def counts_hist(df, col, nbins):\n",
    "    ax = df.hist(column=col, bins=nbins, grid=True, color='#86bf91', zorder=2, rwidth=0.9)\n",
    "\n",
    "    ax = ax[0]\n",
    "    for x in ax:\n",
    "\n",
    "        # Despine\n",
    "        x.spines['right'].set_visible(False)\n",
    "        x.spines['top'].set_visible(False)\n",
    "        x.spines['left'].set_visible(False)\n",
    "\n",
    "        # Switch off ticks\n",
    "        x.tick_params(axis=\"both\", which=\"both\", bottom=\"off\", top=\"off\", \n",
    "                      labelbottom=\"on\", left=\"off\", right=\"off\", labelleft=\"on\")\n",
    "\n",
    "        # Draw horizontal axis lines\n",
    "        vals = x.get_yticks()\n",
    "        for tick in vals:\n",
    "            x.axhline(y=tick, linestyle='dashed', alpha=0.4, color='#eeeeee', zorder=1)\n",
    "\n",
    "        # Remove title\n",
    "        x.set_title(\"\")\n",
    "\n",
    "        # Set x-axis label\n",
    "        x.set_xlabel(col, labelpad=20, weight='bold', size=12)\n",
    "\n",
    "        # Set y-axis label\n",
    "        x.set_ylabel(\"Bin counts\", labelpad=20, weight='bold', size=12)\n",
    "\n",
    "        # Format y-axis label\n",
    "        x.yaxis.set_major_formatter(StrMethodFormatter('{x:,g}'))"
   ]
  },
  {
   "cell_type": "code",
   "execution_count": 14,
   "metadata": {},
   "outputs": [
    {
     "name": "stderr",
     "output_type": "stream",
     "text": [
      "/home/test/anaconda3/envs/vfh/lib/python3.6/site-packages/ipykernel_launcher.py:1: SettingWithCopyWarning: \n",
      "A value is trying to be set on a copy of a slice from a DataFrame.\n",
      "Try using .loc[row_indexer,col_indexer] = value instead\n",
      "\n",
      "See the caveats in the documentation: http://pandas.pydata.org/pandas-docs/stable/indexing.html#indexing-view-versus-copy\n",
      "  \"\"\"Entry point for launching an IPython kernel.\n",
      "/home/test/anaconda3/envs/vfh/lib/python3.6/site-packages/ipykernel_launcher.py:3: SettingWithCopyWarning: \n",
      "A value is trying to be set on a copy of a slice from a DataFrame.\n",
      "Try using .loc[row_indexer,col_indexer] = value instead\n",
      "\n",
      "See the caveats in the documentation: http://pandas.pydata.org/pandas-docs/stable/indexing.html#indexing-view-versus-copy\n",
      "  This is separate from the ipykernel package so we can avoid doing imports until\n"
     ]
    },
    {
     "data": {
      "text/html": [
       "<div>\n",
       "<style scoped>\n",
       "    .dataframe tbody tr th:only-of-type {\n",
       "        vertical-align: middle;\n",
       "    }\n",
       "\n",
       "    .dataframe tbody tr th {\n",
       "        vertical-align: top;\n",
       "    }\n",
       "\n",
       "    .dataframe thead th {\n",
       "        text-align: right;\n",
       "    }\n",
       "</style>\n",
       "<table border=\"1\" class=\"dataframe\">\n",
       "  <thead>\n",
       "    <tr style=\"text-align: right;\">\n",
       "      <th></th>\n",
       "      <th>intersection_id</th>\n",
       "      <th>latitude</th>\n",
       "      <th>longitude</th>\n",
       "      <th>nn</th>\n",
       "      <th>pcounts</th>\n",
       "      <th>dcounts</th>\n",
       "      <th>sum</th>\n",
       "    </tr>\n",
       "  </thead>\n",
       "  <tbody>\n",
       "    <tr>\n",
       "      <th>3</th>\n",
       "      <td>13441768</td>\n",
       "      <td>43.8235</td>\n",
       "      <td>-79.2039</td>\n",
       "      <td>131.0</td>\n",
       "      <td>2</td>\n",
       "      <td>1</td>\n",
       "      <td>3</td>\n",
       "    </tr>\n",
       "    <tr>\n",
       "      <th>8</th>\n",
       "      <td>13441824</td>\n",
       "      <td>43.8219</td>\n",
       "      <td>-79.2131</td>\n",
       "      <td>131.0</td>\n",
       "      <td>3</td>\n",
       "      <td>3</td>\n",
       "      <td>6</td>\n",
       "    </tr>\n",
       "    <tr>\n",
       "      <th>11</th>\n",
       "      <td>13441850</td>\n",
       "      <td>43.8211</td>\n",
       "      <td>-79.2062</td>\n",
       "      <td>131.0</td>\n",
       "      <td>3</td>\n",
       "      <td>3</td>\n",
       "      <td>6</td>\n",
       "    </tr>\n",
       "    <tr>\n",
       "      <th>12</th>\n",
       "      <td>13441865</td>\n",
       "      <td>43.8208</td>\n",
       "      <td>-79.2124</td>\n",
       "      <td>131.0</td>\n",
       "      <td>5</td>\n",
       "      <td>2</td>\n",
       "      <td>7</td>\n",
       "    </tr>\n",
       "    <tr>\n",
       "      <th>14</th>\n",
       "      <td>13441897</td>\n",
       "      <td>43.8199</td>\n",
       "      <td>-79.2112</td>\n",
       "      <td>131.0</td>\n",
       "      <td>1</td>\n",
       "      <td>1</td>\n",
       "      <td>2</td>\n",
       "    </tr>\n",
       "    <tr>\n",
       "      <th>16</th>\n",
       "      <td>13441920</td>\n",
       "      <td>43.8193</td>\n",
       "      <td>-79.2030</td>\n",
       "      <td>131.0</td>\n",
       "      <td>3</td>\n",
       "      <td>4</td>\n",
       "      <td>7</td>\n",
       "    </tr>\n",
       "    <tr>\n",
       "      <th>17</th>\n",
       "      <td>13441932</td>\n",
       "      <td>43.8190</td>\n",
       "      <td>-79.2003</td>\n",
       "      <td>131.0</td>\n",
       "      <td>4</td>\n",
       "      <td>2</td>\n",
       "      <td>6</td>\n",
       "    </tr>\n",
       "    <tr>\n",
       "      <th>22</th>\n",
       "      <td>13441963</td>\n",
       "      <td>43.8188</td>\n",
       "      <td>-79.2151</td>\n",
       "      <td>132.0</td>\n",
       "      <td>8</td>\n",
       "      <td>4</td>\n",
       "      <td>12</td>\n",
       "    </tr>\n",
       "    <tr>\n",
       "      <th>23</th>\n",
       "      <td>13441968</td>\n",
       "      <td>43.8186</td>\n",
       "      <td>-79.2064</td>\n",
       "      <td>131.0</td>\n",
       "      <td>2</td>\n",
       "      <td>1</td>\n",
       "      <td>3</td>\n",
       "    </tr>\n",
       "    <tr>\n",
       "      <th>24</th>\n",
       "      <td>13441977</td>\n",
       "      <td>43.8184</td>\n",
       "      <td>-79.2119</td>\n",
       "      <td>131.0</td>\n",
       "      <td>1</td>\n",
       "      <td>1</td>\n",
       "      <td>2</td>\n",
       "    </tr>\n",
       "  </tbody>\n",
       "</table>\n",
       "</div>"
      ],
      "text/plain": [
       "    intersection_id  latitude  longitude     nn  pcounts  dcounts  sum\n",
       "3          13441768   43.8235   -79.2039  131.0        2        1    3\n",
       "8          13441824   43.8219   -79.2131  131.0        3        3    6\n",
       "11         13441850   43.8211   -79.2062  131.0        3        3    6\n",
       "12         13441865   43.8208   -79.2124  131.0        5        2    7\n",
       "14         13441897   43.8199   -79.2112  131.0        1        1    2\n",
       "16         13441920   43.8193   -79.2030  131.0        3        4    7\n",
       "17         13441932   43.8190   -79.2003  131.0        4        2    6\n",
       "22         13441963   43.8188   -79.2151  132.0        8        4   12\n",
       "23         13441968   43.8186   -79.2064  131.0        2        1    3\n",
       "24         13441977   43.8184   -79.2119  131.0        1        1    2"
      ]
     },
     "execution_count": 14,
     "metadata": {},
     "output_type": "execute_result"
    }
   ],
   "source": [
    "df_pudo_layer['sum'] = np.nan\n",
    "\n",
    "df_pudo_layer['sum'] = df_pudo_layer['dcounts'] + df_pudo_layer['pcounts']\n",
    "df_pudo_layer.head(10)"
   ]
  },
  {
   "cell_type": "code",
   "execution_count": 15,
   "metadata": {},
   "outputs": [
    {
     "name": "stdout",
     "output_type": "stream",
     "text": [
      "6\n",
      "pickups bin width: 0.6\n",
      "8\n",
      "dropoffs bin width: 0.8\n",
      "20\n",
      "pudos bin width: 0.7142857142857143\n"
     ]
    },
    {
     "name": "stderr",
     "output_type": "stream",
     "text": [
      "/home/test/anaconda3/envs/vfh/lib/python3.6/site-packages/matplotlib/cbook/__init__.py:424: MatplotlibDeprecationWarning: \n",
      "Passing one of 'on', 'true', 'off', 'false' as a boolean is deprecated; use an actual boolean (True/False) instead.\n",
      "  warn_deprecated(\"2.2\", \"Passing one of 'on', 'true', 'off', 'false' as a \"\n"
     ]
    },
    {
     "data": {
      "image/png": "[encoded data removed]",
      "text/plain": [
       "<Figure size 432x288 with 1 Axes>"
      ]
     },
     "metadata": {
      "needs_background": "light"
     },
     "output_type": "display_data"
    },
    {
     "data": {
      "image/png": "[encoded data removed]",
      "text/plain": [
       "<Figure size 432x288 with 1 Axes>"
      ]
     },
     "metadata": {
      "needs_background": "light"
     },
     "output_type": "display_data"
    },
    {
     "data": {
      "image/png": "[encoded data removed]",
      "text/plain": [
       "<Figure size 432x288 with 1 Axes>"
      ]
     },
     "metadata": {
      "needs_background": "light"
     },
     "output_type": "display_data"
    }
   ],
   "source": [
    "nbins = 10\n",
    "print(df_pu_layer['pcounts'].max())\n",
    "print('pickups bin width: ' + repr(df_pu_layer['pcounts'].max()/nbins))\n",
    "\n",
    "counts_hist(df_pu_layer, 'pcounts', nbins)\n",
    "\n",
    "print(df_do_layer['dcounts'].max())\n",
    "print('dropoffs bin width: ' + repr(df_do_layer['dcounts'].max()/nbins))\n",
    "counts_hist(df_do_layer, 'dcounts', nbins)\n",
    "\n",
    "nbins = 28\n",
    "print(df_pudo_layer['sum'].max())\n",
    "print('pudos bin width: ' + repr(df_pudo_layer['sum'].max()/nbins))\n",
    "counts_hist(df_pudo_layer, 'sum', nbins)"
   ]
  }
 ],
 "metadata": {
  "kernelspec": {
   "display_name": "Python 3",
   "language": "python",
   "name": "python3"
  },
  "language_info": {
   "codemirror_mode": {
    "name": "ipython",
    "version": 3
   },
   "file_extension": ".py",
   "mimetype": "text/x-python",
   "name": "python",
   "nbconvert_exporter": "python",
   "pygments_lexer": "ipython3",
   "version": "3.6.7"
  }
 },
 "nbformat": 4,
 "nbformat_minor": 2
}
