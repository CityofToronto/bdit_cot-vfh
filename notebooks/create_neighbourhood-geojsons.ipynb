{
 "cells": [
  {
   "cell_type": "markdown",
   "metadata": {},
   "source": [
    "# Create geojson file for neighbourhoods\n",
    "shapefile for wards in `gis.city_ward`  \n",
    "the ward table is pulled from gccview  \n",
    "\n",
    "for neighbourhoods `gis.neighbourhood`  \n",
    "\n",
    "To create geojson in pgAdmin:\n",
    "\n",
    "```\n",
    "CREATE TABLE cnangini.wards_geojson AS\n",
    "SELECT ST_AsGeoJSON(ST_ASTEXT(geom)) FROM gis.city_ward;\n",
    "```\n",
    "\n",
    "```\n",
    "CREATE TABLE cnangini.neighbourhoods_geojson AS\n",
    "SELECT ST_AsGeoJSON(ST_ASTEXT(geom)) FROM gis.neighbourhood;\n",
    "```"
   ]
  },
  {
   "cell_type": "code",
   "execution_count": 1,
   "metadata": {},
   "outputs": [
    {
     "data": {
      "text/plain": [
       "'/home/test/anaconda3/envs/vfh/bin/python'"
      ]
     },
     "execution_count": 1,
     "metadata": {},
     "output_type": "execute_result"
    }
   ],
   "source": [
    "import sys\n",
    "sys.executable"
   ]
  },
  {
   "cell_type": "code",
   "execution_count": 2,
   "metadata": {},
   "outputs": [],
   "source": [
    "%matplotlib inline\n",
    "import numpy as np\n",
    "import pandas as pd\n",
    "import pandas.io.sql as pandasql\n",
    "import matplotlib.pyplot as plt\n",
    "import matplotlib as mpl\n",
    "import matplotlib.ticker as ticker\n",
    "\n",
    "from IPython.display import HTML, display\n",
    "import datetime\n",
    "import matplotlib.dates as mdates\n",
    "import os\n",
    "\n",
    "from datetime import datetime\n",
    "\n",
    "import json"
   ]
  },
  {
   "cell_type": "code",
   "execution_count": null,
   "metadata": {},
   "outputs": [],
   "source": []
  },
  {
   "cell_type": "markdown",
   "metadata": {},
   "source": [
    "# Variables"
   ]
  },
  {
   "cell_type": "code",
   "execution_count": 3,
   "metadata": {},
   "outputs": [],
   "source": [
    "ward=1"
   ]
  },
  {
   "cell_type": "code",
   "execution_count": null,
   "metadata": {},
   "outputs": [],
   "source": []
  },
  {
   "cell_type": "code",
   "execution_count": 5,
   "metadata": {},
   "outputs": [],
   "source": [
    "fname = '../../../Documents/PROJECTS/VFH/COT_PAGE/INTERIM_DATA/FROM_PGADMIN/tripdata_092018.csv'\n",
    "df = pd.read_csv(fname)"
   ]
  },
  {
   "cell_type": "code",
   "execution_count": 6,
   "metadata": {},
   "outputs": [
    {
     "name": "stdout",
     "output_type": "stream",
     "text": [
      "(4478890, 17)\n"
     ]
    }
   ],
   "source": [
    "print(df.shape)"
   ]
  },
  {
   "cell_type": "code",
   "execution_count": 7,
   "metadata": {},
   "outputs": [
    {
     "data": {
      "text/plain": [
       "['pickup_datetime',\n",
       " 'dow',\n",
       " 'hh',\n",
       " 'dropoff_datetime',\n",
       " 'pickup_ward2018',\n",
       " 'dropoff_ward2018',\n",
       " 'pickup_gc_intersection_id',\n",
       " 'dropoff_gc_intersection_id',\n",
       " 'pickup_neighbourhood',\n",
       " 'dropoff_neighbourhood',\n",
       " 'timewindow',\n",
       " 'pickup_geom',\n",
       " 'dropoff_geom',\n",
       " 'lat_pickup',\n",
       " 'lon_pickup',\n",
       " 'lat_dropoff',\n",
       " 'lon_dropoff']"
      ]
     },
     "execution_count": 7,
     "metadata": {},
     "output_type": "execute_result"
    }
   ],
   "source": [
    "list(df)"
   ]
  },
  {
   "cell_type": "code",
   "execution_count": 11,
   "metadata": {},
   "outputs": [
    {
     "name": "stdout",
     "output_type": "stream",
     "text": [
      "141\n"
     ]
    },
    {
     "data": {
      "text/plain": [
       "array([  1.,   2.,   3.,   4.,   5.,   6.,   7.,   8.,   9.,  10.,  11.,\n",
       "        12.,  13.,  14.,  15.,  16.,  17.,  18.,  19.,  20.,  21.,  22.,\n",
       "        23.,  24.,  25.,  26.,  27.,  28.,  29.,  30.,  31.,  32.,  33.,\n",
       "        34.,  35.,  36.,  37.,  38.,  39.,  40.,  41.,  42.,  43.,  44.,\n",
       "        45.,  46.,  47.,  48.,  49.,  50.,  51.,  52.,  53.,  54.,  55.,\n",
       "        56.,  57.,  58.,  59.,  60.,  61.,  62.,  63.,  64.,  65.,  66.,\n",
       "        67.,  68.,  69.,  70.,  71.,  72.,  73.,  74.,  75.,  76.,  77.,\n",
       "        78.,  79.,  80.,  81.,  82.,  83.,  84.,  85.,  86.,  87.,  88.,\n",
       "        89.,  90.,  91.,  92.,  93.,  94.,  95.,  96.,  97.,  98.,  99.,\n",
       "       100., 101., 102., 103., 104., 105., 106., 107., 108., 109., 110.,\n",
       "       111., 112., 113., 114., 115., 116., 117., 118., 119., 120., 121.,\n",
       "       122., 123., 124., 125., 126., 127., 128., 129., 130., 131., 132.,\n",
       "       133., 134., 135., 136., 137., 138., 139., 140.,  nan])"
      ]
     },
     "execution_count": 11,
     "metadata": {},
     "output_type": "execute_result"
    }
   ],
   "source": [
    "print(len(df['pickup_neighbourhood'].sort_values().unique()))\n",
    "df['pickup_neighbourhood'].sort_values().unique()"
   ]
  },
  {
   "cell_type": "code",
   "execution_count": 14,
   "metadata": {},
   "outputs": [
    {
     "data": {
      "text/plain": [
       "array([ 1.,  2.,  3.,  4.,  5.,  6.,  7.,  8., 11., 22.])"
      ]
     },
     "execution_count": 14,
     "metadata": {},
     "output_type": "execute_result"
    }
   ],
   "source": [
    "df.loc[df['pickup_ward2018']==ward, 'pickup_neighbourhood'].sort_values().unique()"
   ]
  },
  {
   "cell_type": "code",
   "execution_count": 15,
   "metadata": {},
   "outputs": [
    {
     "data": {
      "text/plain": [
       "array([ 1.,  2.,  3.,  4.,  5.,  6.,  7.,  8., 11., 22.])"
      ]
     },
     "execution_count": 15,
     "metadata": {},
     "output_type": "execute_result"
    }
   ],
   "source": [
    "df.loc[df['dropoff_ward2018']==ward, 'dropoff_neighbourhood'].sort_values().unique()"
   ]
  },
  {
   "cell_type": "code",
   "execution_count": null,
   "metadata": {},
   "outputs": [],
   "source": []
  },
  {
   "cell_type": "code",
   "execution_count": 23,
   "metadata": {},
   "outputs": [],
   "source": [
    "import geojson\n",
    "\n",
    "nnfile = '../../../Documents/PROJECTS/VFH/COT_PAGE/INTERIM_DATA/FROM_PGADMIN/nntest_geojson.csv'\n",
    "\n",
    "with open(nnfile) as f:\n",
    "    gj = geojson.load(f)\n",
    "# features = gj['features'][0]\n",
    "\n"
   ]
  },
  {
   "cell_type": "code",
   "execution_count": 24,
   "metadata": {},
   "outputs": [
    {
     "data": {
      "text/plain": [
       "{\"coordinates\": [[[-79.391195, 43.681081], [-79.391405, 43.68097], [-79.393224, 43.680166], [-79.395809, 43.67898], [-79.397349, 43.678275], [-79.397456, 43.678225], [-79.397564, 43.678167], [-79.397671, 43.678118], [-79.39778, 43.678068], [-79.397889, 43.678014], [-79.397931, 43.677995], [-79.397944, 43.678026], [-79.398012, 43.678204], [-79.398141, 43.678531], [-79.398352, 43.679039], [-79.398563, 43.679554], [-79.398733, 43.679962], [-79.398939, 43.68046], [-79.399065, 43.680767], [-79.399215, 43.681128], [-79.399804, 43.682543], [-79.400169, 43.683416], [-79.400209, 43.683527], [-79.40053, 43.68431], [-79.400841, 43.685027], [-79.401126, 43.685716], [-79.401495, 43.686641], [-79.402339, 43.688721], [-79.403085, 43.690633], [-79.403085, 43.690687], [-79.403062, 43.69074], [-79.403018, 43.690782], [-79.401858, 43.690989], [-79.401758, 43.691019], [-79.401695, 43.69104], [-79.401586, 43.691076], [-79.401475, 43.69106], [-79.400869, 43.691198], [-79.401046, 43.691647], [-79.401129, 43.691756], [-79.401285, 43.692098], [-79.401589, 43.692923], [-79.401895, 43.693727], [-79.402191, 43.694575], [-79.402323, 43.694892], [-79.402373, 43.695112], [-79.402404, 43.695495], [-79.403094, 43.695349], [-79.403507, 43.69526], [-79.404674, 43.69502], [-79.405052, 43.695978], [-79.405281, 43.696553], [-79.405413, 43.696952], [-79.405612, 43.69748], [-79.405883, 43.69818], [-79.405661, 43.698019], [-79.405471, 43.697963], [-79.404605, 43.697687], [-79.403203, 43.69727], [-79.403124, 43.697262], [-79.402963, 43.697149], [-79.402769, 43.697126], [-79.402584, 43.697074], [-79.402278, 43.696998], [-79.401668, 43.696834], [-79.401267, 43.69673], [-79.40009, 43.696391], [-79.398961, 43.696097], [-79.39804, 43.695845], [-79.3972, 43.695653], [-79.396885, 43.695603], [-79.396105, 43.695659], [-79.39538, 43.692273], [-79.395342, 43.692099], [-79.39517, 43.691261], [-79.395063, 43.690784], [-79.394936, 43.690199], [-79.394891, 43.690001], [-79.394821, 43.689735], [-79.394603, 43.689217], [-79.394568, 43.689132], [-79.394142, 43.688083], [-79.393705, 43.687133], [-79.393332, 43.686233], [-79.393186, 43.685881], [-79.392854, 43.685026], [-79.392384, 43.683941], [-79.392033, 43.683101], [-79.391939, 43.682875], [-79.391631, 43.682149], [-79.391555, 43.681973], [-79.39134, 43.681432], [-79.391195, 43.681081]]], \"type\": \"Polygon\"}"
      ]
     },
     "execution_count": 24,
     "metadata": {},
     "output_type": "execute_result"
    }
   ],
   "source": [
    "gj"
   ]
  },
  {
   "cell_type": "code",
   "execution_count": null,
   "metadata": {},
   "outputs": [],
   "source": []
  },
  {
   "cell_type": "code",
   "execution_count": null,
   "metadata": {},
   "outputs": [],
   "source": []
  },
  {
   "cell_type": "code",
   "execution_count": null,
   "metadata": {},
   "outputs": [],
   "source": []
  }
 ],
 "metadata": {
  "kernelspec": {
   "display_name": "Python 3",
   "language": "python",
   "name": "python3"
  },
  "language_info": {
   "codemirror_mode": {
    "name": "ipython",
    "version": 3
   },
   "file_extension": ".py",
   "mimetype": "text/x-python",
   "name": "python",
   "nbconvert_exporter": "python",
   "pygments_lexer": "ipython3",
   "version": "3.6.7"
  }
 },
 "nbformat": 4,
 "nbformat_minor": 2
}
