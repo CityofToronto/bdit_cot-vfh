{
 "cells": [
  {
   "cell_type": "markdown",
   "metadata": {},
   "source": [
    "# Create geojson file from list of PUDO coords\n",
    "See /home/test/Documents/PROJECTS/VFH/iPython_Notebooks/dv_pudo_profiles.ipynb for more info.  \n",
    "\n",
    "ref: https://geoffboeing.com/2015/10/exporting-python-data-geojson/  \n",
    "Huom: `with open(output_filename, 'wb') as output_file:` should be `'w'` not `'wb'`  "
   ]
  },
  {
   "cell_type": "code",
   "execution_count": 1,
   "metadata": {},
   "outputs": [
    {
     "data": {
      "text/plain": [
       "'/home/test/anaconda3/envs/vfh/bin/python'"
      ]
     },
     "execution_count": 1,
     "metadata": {},
     "output_type": "execute_result"
    }
   ],
   "source": [
    "import sys\n",
    "sys.executable"
   ]
  },
  {
   "cell_type": "code",
   "execution_count": 2,
   "metadata": {},
   "outputs": [],
   "source": [
    "%matplotlib inline\n",
    "import numpy as np\n",
    "import pandas as pd\n",
    "import pandas.io.sql as pandasql\n",
    "import matplotlib.pyplot as plt\n",
    "import matplotlib as mpl\n",
    "import matplotlib.ticker as ticker\n",
    "\n",
    "from IPython.display import HTML, display\n",
    "import datetime\n",
    "import matplotlib.dates as mdates\n",
    "from ipywidgets import interact, interactive, fixed, interact_manual\n",
    "import ipywidgets as widgets\n",
    "import os\n",
    "\n",
    "from datetime import datetime\n",
    "\n",
    "import json"
   ]
  },
  {
   "cell_type": "markdown",
   "metadata": {},
   "source": [
    "# Functions"
   ]
  },
  {
   "cell_type": "code",
   "execution_count": 3,
   "metadata": {},
   "outputs": [],
   "source": [
    "# https://geoffboeing.com/2015/10/exporting-python-data-geojson/\n",
    "def df_to_geojson(df, properties, lat='latitude', lon='longitude'):\n",
    "    geojson = {'type':'FeatureCollection', 'features':[]}\n",
    "    for _, row in df.iterrows():\n",
    "        feature = {'type':'Feature',\n",
    "                   'properties':{},\n",
    "                   'geometry':{'type':'Point',\n",
    "                               'coordinates':[]}}\n",
    "        feature['geometry']['coordinates'] = [row[lon],row[lat]]\n",
    "        for prop in properties:\n",
    "            feature['properties'][prop] = row[prop]\n",
    "        geojson['features'].append(feature)\n",
    "    return geojson"
   ]
  },
  {
   "cell_type": "markdown",
   "metadata": {},
   "source": [
    "# GeoJSON properties for file"
   ]
  },
  {
   "cell_type": "code",
   "execution_count": 4,
   "metadata": {},
   "outputs": [],
   "source": [
    "# Define the properties of the PUDO geojson file\n",
    "cols = ['type','dow','timewindow','latitude','longitude','intersection_id','counts']"
   ]
  },
  {
   "cell_type": "code",
   "execution_count": null,
   "metadata": {},
   "outputs": [],
   "source": []
  },
  {
   "cell_type": "markdown",
   "metadata": {},
   "source": [
    "# Variables"
   ]
  },
  {
   "cell_type": "code",
   "execution_count": 5,
   "metadata": {},
   "outputs": [],
   "source": [
    "ward=1\n",
    "this_day = \"Monday\"\n",
    "this_tod = \"amPeak\""
   ]
  },
  {
   "cell_type": "code",
   "execution_count": null,
   "metadata": {},
   "outputs": [],
   "source": []
  },
  {
   "cell_type": "markdown",
   "metadata": {},
   "source": [
    "# Read PUDO data from csv file"
   ]
  },
  {
   "cell_type": "code",
   "execution_count": 6,
   "metadata": {},
   "outputs": [
    {
     "name": "stdout",
     "output_type": "stream",
     "text": [
      "(494842, 14)\n"
     ]
    },
    {
     "data": {
      "text/html": [
       "<div>\n",
       "<style scoped>\n",
       "    .dataframe tbody tr th:only-of-type {\n",
       "        vertical-align: middle;\n",
       "    }\n",
       "\n",
       "    .dataframe tbody tr th {\n",
       "        vertical-align: top;\n",
       "    }\n",
       "\n",
       "    .dataframe thead th {\n",
       "        text-align: right;\n",
       "    }\n",
       "</style>\n",
       "<table border=\"1\" class=\"dataframe\">\n",
       "  <thead>\n",
       "    <tr style=\"text-align: right;\">\n",
       "      <th></th>\n",
       "      <th>pickup_datetime</th>\n",
       "      <th>dropoff_datetime</th>\n",
       "      <th>pickup_ward2018</th>\n",
       "      <th>dropoff_ward2018</th>\n",
       "      <th>pickup_gc_intersection_id</th>\n",
       "      <th>dropoff_gc_intersection_id</th>\n",
       "      <th>dow</th>\n",
       "      <th>timewindow</th>\n",
       "      <th>pickup_geom</th>\n",
       "      <th>dropoff_geom</th>\n",
       "      <th>lat_pickup</th>\n",
       "      <th>lon_pickup</th>\n",
       "      <th>lat_dropoff</th>\n",
       "      <th>lon_dropoff</th>\n",
       "    </tr>\n",
       "  </thead>\n",
       "  <tbody>\n",
       "    <tr>\n",
       "      <th>0</th>\n",
       "      <td>2018-09-03 00:00:00</td>\n",
       "      <td>2018-09-03 00:34:01</td>\n",
       "      <td>18.0</td>\n",
       "      <td>10.0</td>\n",
       "      <td>13447475</td>\n",
       "      <td>13467654</td>\n",
       "      <td>Monday</td>\n",
       "      <td>nightII</td>\n",
       "      <td>0101000020E61000005BE2AF6670DA53C01D22DBEA93E2...</td>\n",
       "      <td>0101000020E610000013E6CE309BD953C0938FE7777DD2...</td>\n",
       "      <td>43.770139</td>\n",
       "      <td>-79.413110</td>\n",
       "      <td>43.644454</td>\n",
       "      <td>-79.400097</td>\n",
       "    </tr>\n",
       "    <tr>\n",
       "      <th>1</th>\n",
       "      <td>2018-09-03 00:00:00</td>\n",
       "      <td>2018-09-03 00:10:54</td>\n",
       "      <td>10.0</td>\n",
       "      <td>13.0</td>\n",
       "      <td>13467763</td>\n",
       "      <td>13464030</td>\n",
       "      <td>Monday</td>\n",
       "      <td>nightII</td>\n",
       "      <td>0101000020E610000051E519D30AD953C0C23B89A05BD2...</td>\n",
       "      <td>0101000020E610000079E6DB3E68D853C00F3AF08356D5...</td>\n",
       "      <td>43.643421</td>\n",
       "      <td>-79.391286</td>\n",
       "      <td>43.666703</td>\n",
       "      <td>-79.381363</td>\n",
       "    </tr>\n",
       "    <tr>\n",
       "      <th>2</th>\n",
       "      <td>2018-09-03 00:00:00</td>\n",
       "      <td>2018-09-03 00:12:34</td>\n",
       "      <td>13.0</td>\n",
       "      <td>10.0</td>\n",
       "      <td>13464551</td>\n",
       "      <td>13467763</td>\n",
       "      <td>Monday</td>\n",
       "      <td>nightII</td>\n",
       "      <td>0101000020E6100000A342F6F3C6D753C0E8EE4CFEEDD4...</td>\n",
       "      <td>0101000020E610000051E519D30AD953C0C23B89A05BD2...</td>\n",
       "      <td>43.663513</td>\n",
       "      <td>-79.371518</td>\n",
       "      <td>43.643421</td>\n",
       "      <td>-79.391286</td>\n",
       "    </tr>\n",
       "    <tr>\n",
       "      <th>3</th>\n",
       "      <td>2018-09-03 00:00:00</td>\n",
       "      <td>2018-09-03 00:24:18</td>\n",
       "      <td>13.0</td>\n",
       "      <td>3.0</td>\n",
       "      <td>13465140</td>\n",
       "      <td>13470547</td>\n",
       "      <td>Monday</td>\n",
       "      <td>nightII</td>\n",
       "      <td>0101000020E6100000DF5023ED39D853C020ED2E3976D4...</td>\n",
       "      <td>0101000020E610000004410BFFE5E153C041B447898CCC...</td>\n",
       "      <td>43.659858</td>\n",
       "      <td>-79.378536</td>\n",
       "      <td>43.598039</td>\n",
       "      <td>-79.529663</td>\n",
       "    </tr>\n",
       "    <tr>\n",
       "      <th>4</th>\n",
       "      <td>2018-09-03 00:00:00</td>\n",
       "      <td>2018-09-03 00:18:21</td>\n",
       "      <td>8.0</td>\n",
       "      <td>13.0</td>\n",
       "      <td>14044860</td>\n",
       "      <td>14673305</td>\n",
       "      <td>Monday</td>\n",
       "      <td>nightII</td>\n",
       "      <td>0101000020E6100000A37FC1EFB8DC53C070C432B4FCDB...</td>\n",
       "      <td>0101000020E61000008C84E11C68D853C062D98093A3D5...</td>\n",
       "      <td>43.718649</td>\n",
       "      <td>-79.448788</td>\n",
       "      <td>43.669054</td>\n",
       "      <td>-79.381355</td>\n",
       "    </tr>\n",
       "  </tbody>\n",
       "</table>\n",
       "</div>"
      ],
      "text/plain": [
       "       pickup_datetime     dropoff_datetime  pickup_ward2018  \\\n",
       "0  2018-09-03 00:00:00  2018-09-03 00:34:01             18.0   \n",
       "1  2018-09-03 00:00:00  2018-09-03 00:10:54             10.0   \n",
       "2  2018-09-03 00:00:00  2018-09-03 00:12:34             13.0   \n",
       "3  2018-09-03 00:00:00  2018-09-03 00:24:18             13.0   \n",
       "4  2018-09-03 00:00:00  2018-09-03 00:18:21              8.0   \n",
       "\n",
       "   dropoff_ward2018  pickup_gc_intersection_id  dropoff_gc_intersection_id  \\\n",
       "0              10.0                   13447475                    13467654   \n",
       "1              13.0                   13467763                    13464030   \n",
       "2              10.0                   13464551                    13467763   \n",
       "3               3.0                   13465140                    13470547   \n",
       "4              13.0                   14044860                    14673305   \n",
       "\n",
       "      dow timewindow                                        pickup_geom  \\\n",
       "0  Monday    nightII  0101000020E61000005BE2AF6670DA53C01D22DBEA93E2...   \n",
       "1  Monday    nightII  0101000020E610000051E519D30AD953C0C23B89A05BD2...   \n",
       "2  Monday    nightII  0101000020E6100000A342F6F3C6D753C0E8EE4CFEEDD4...   \n",
       "3  Monday    nightII  0101000020E6100000DF5023ED39D853C020ED2E3976D4...   \n",
       "4  Monday    nightII  0101000020E6100000A37FC1EFB8DC53C070C432B4FCDB...   \n",
       "\n",
       "                                        dropoff_geom  lat_pickup  lon_pickup  \\\n",
       "0  0101000020E610000013E6CE309BD953C0938FE7777DD2...   43.770139  -79.413110   \n",
       "1  0101000020E610000079E6DB3E68D853C00F3AF08356D5...   43.643421  -79.391286   \n",
       "2  0101000020E610000051E519D30AD953C0C23B89A05BD2...   43.663513  -79.371518   \n",
       "3  0101000020E610000004410BFFE5E153C041B447898CCC...   43.659858  -79.378536   \n",
       "4  0101000020E61000008C84E11C68D853C062D98093A3D5...   43.718649  -79.448788   \n",
       "\n",
       "   lat_dropoff  lon_dropoff  \n",
       "0    43.644454   -79.400097  \n",
       "1    43.666703   -79.381363  \n",
       "2    43.643421   -79.391286  \n",
       "3    43.598039   -79.529663  \n",
       "4    43.669054   -79.381355  "
      ]
     },
     "execution_count": 6,
     "metadata": {},
     "output_type": "execute_result"
    }
   ],
   "source": [
    "fname = '../../../Documents/PROJECTS/VFH/COT_PAGE/test_data/all_pudo_mon.csv'\n",
    "# fname = '../../../Documents/PROJECTS/VFH/COT_PAGE/test_data/all_pudo_mon_ampeak.csv'\n",
    "# fname = '~/Documents/PROJECTS/BDITTO/VFH/DATA_STORY/DATA/from_pgAdmin//w1_pudo_092018_latlon.csv'\n",
    "\n",
    "df = pd.read_csv(fname)\n",
    "\n",
    "print(df.shape)\n",
    "df.head(5)"
   ]
  },
  {
   "cell_type": "code",
   "execution_count": 7,
   "metadata": {},
   "outputs": [
    {
     "data": {
      "text/plain": [
       "['pickup_datetime',\n",
       " 'dropoff_datetime',\n",
       " 'pickup_ward2018',\n",
       " 'dropoff_ward2018',\n",
       " 'pickup_gc_intersection_id',\n",
       " 'dropoff_gc_intersection_id',\n",
       " 'dow',\n",
       " 'timewindow',\n",
       " 'pickup_geom',\n",
       " 'dropoff_geom',\n",
       " 'lat_pickup',\n",
       " 'lon_pickup',\n",
       " 'lat_dropoff',\n",
       " 'lon_dropoff']"
      ]
     },
     "execution_count": 7,
     "metadata": {},
     "output_type": "execute_result"
    }
   ],
   "source": [
    "list(df)"
   ]
  },
  {
   "cell_type": "code",
   "execution_count": 8,
   "metadata": {},
   "outputs": [
    {
     "data": {
      "text/html": [
       "<div>\n",
       "<style scoped>\n",
       "    .dataframe tbody tr th:only-of-type {\n",
       "        vertical-align: middle;\n",
       "    }\n",
       "\n",
       "    .dataframe tbody tr th {\n",
       "        vertical-align: top;\n",
       "    }\n",
       "\n",
       "    .dataframe thead th {\n",
       "        text-align: right;\n",
       "    }\n",
       "</style>\n",
       "<table border=\"1\" class=\"dataframe\">\n",
       "  <thead>\n",
       "    <tr style=\"text-align: right;\">\n",
       "      <th></th>\n",
       "      <th>pickup_datetime</th>\n",
       "      <th>dropoff_datetime</th>\n",
       "      <th>pickup_ward2018</th>\n",
       "      <th>dropoff_ward2018</th>\n",
       "      <th>pickup_gc_intersection_id</th>\n",
       "      <th>dropoff_gc_intersection_id</th>\n",
       "      <th>dow</th>\n",
       "      <th>timewindow</th>\n",
       "      <th>pickup_geom</th>\n",
       "      <th>dropoff_geom</th>\n",
       "      <th>lat_pickup</th>\n",
       "      <th>lon_pickup</th>\n",
       "      <th>lat_dropoff</th>\n",
       "      <th>lon_dropoff</th>\n",
       "    </tr>\n",
       "  </thead>\n",
       "  <tbody>\n",
       "    <tr>\n",
       "      <th>333377</th>\n",
       "      <td>2018-09-10 08:00:00</td>\n",
       "      <td>2018-09-10 08:08:53</td>\n",
       "      <td>1.0</td>\n",
       "      <td>1.0</td>\n",
       "      <td>13454935</td>\n",
       "      <td>20232410</td>\n",
       "      <td>Monday</td>\n",
       "      <td>amPeak</td>\n",
       "      <td>0101000020E61000005851FD2F49E653C0139F29DE82DC...</td>\n",
       "      <td>0101000020E610000075DC3A49C4E653C09A9B9F7D4DDD...</td>\n",
       "      <td>43.722744</td>\n",
       "      <td>-79.598217</td>\n",
       "      <td>43.728927</td>\n",
       "      <td>-79.60573</td>\n",
       "    </tr>\n",
       "    <tr>\n",
       "      <th>350828</th>\n",
       "      <td>2018-09-10 08:00:00</td>\n",
       "      <td>2018-09-10 08:05:53</td>\n",
       "      <td>1.0</td>\n",
       "      <td>1.0</td>\n",
       "      <td>13454935</td>\n",
       "      <td>13459809</td>\n",
       "      <td>Monday</td>\n",
       "      <td>amPeak</td>\n",
       "      <td>0101000020E61000005851FD2F49E653C0139F29DE82DC...</td>\n",
       "      <td>0101000020E61000000DB97F50AAE553C0D1F8C0B9BFD8...</td>\n",
       "      <td>43.722744</td>\n",
       "      <td>-79.598217</td>\n",
       "      <td>43.693351</td>\n",
       "      <td>-79.58852</td>\n",
       "    </tr>\n",
       "  </tbody>\n",
       "</table>\n",
       "</div>"
      ],
      "text/plain": [
       "            pickup_datetime     dropoff_datetime  pickup_ward2018  \\\n",
       "333377  2018-09-10 08:00:00  2018-09-10 08:08:53              1.0   \n",
       "350828  2018-09-10 08:00:00  2018-09-10 08:05:53              1.0   \n",
       "\n",
       "        dropoff_ward2018  pickup_gc_intersection_id  \\\n",
       "333377               1.0                   13454935   \n",
       "350828               1.0                   13454935   \n",
       "\n",
       "        dropoff_gc_intersection_id     dow timewindow  \\\n",
       "333377                    20232410  Monday     amPeak   \n",
       "350828                    13459809  Monday     amPeak   \n",
       "\n",
       "                                              pickup_geom  \\\n",
       "333377  0101000020E61000005851FD2F49E653C0139F29DE82DC...   \n",
       "350828  0101000020E61000005851FD2F49E653C0139F29DE82DC...   \n",
       "\n",
       "                                             dropoff_geom  lat_pickup  \\\n",
       "333377  0101000020E610000075DC3A49C4E653C09A9B9F7D4DDD...   43.722744   \n",
       "350828  0101000020E61000000DB97F50AAE553C0D1F8C0B9BFD8...   43.722744   \n",
       "\n",
       "        lon_pickup  lat_dropoff  lon_dropoff  \n",
       "333377  -79.598217    43.728927    -79.60573  \n",
       "350828  -79.598217    43.693351    -79.58852  "
      ]
     },
     "execution_count": 8,
     "metadata": {},
     "output_type": "execute_result"
    }
   ],
   "source": [
    "df.loc[(df['pickup_gc_intersection_id']==13454935) & (df['dow']=='Monday') & (df['timewindow']=='amPeak')]"
   ]
  },
  {
   "cell_type": "code",
   "execution_count": 9,
   "metadata": {},
   "outputs": [
    {
     "data": {
      "text/html": [
       "<div>\n",
       "<style scoped>\n",
       "    .dataframe tbody tr th:only-of-type {\n",
       "        vertical-align: middle;\n",
       "    }\n",
       "\n",
       "    .dataframe tbody tr th {\n",
       "        vertical-align: top;\n",
       "    }\n",
       "\n",
       "    .dataframe thead th {\n",
       "        text-align: right;\n",
       "    }\n",
       "</style>\n",
       "<table border=\"1\" class=\"dataframe\">\n",
       "  <thead>\n",
       "    <tr style=\"text-align: right;\">\n",
       "      <th></th>\n",
       "      <th>pickup_datetime</th>\n",
       "      <th>dropoff_datetime</th>\n",
       "      <th>pickup_ward2018</th>\n",
       "      <th>dropoff_ward2018</th>\n",
       "      <th>pickup_gc_intersection_id</th>\n",
       "      <th>dropoff_gc_intersection_id</th>\n",
       "      <th>dow</th>\n",
       "      <th>timewindow</th>\n",
       "      <th>pickup_geom</th>\n",
       "      <th>dropoff_geom</th>\n",
       "      <th>lat_pickup</th>\n",
       "      <th>lon_pickup</th>\n",
       "      <th>lat_dropoff</th>\n",
       "      <th>lon_dropoff</th>\n",
       "    </tr>\n",
       "  </thead>\n",
       "  <tbody>\n",
       "    <tr>\n",
       "      <th>428572</th>\n",
       "      <td>2018-09-03 08:00:00</td>\n",
       "      <td>2018-09-03 08:03:28</td>\n",
       "      <td>1.0</td>\n",
       "      <td>1.0</td>\n",
       "      <td>13455196</td>\n",
       "      <td>13454935</td>\n",
       "      <td>Monday</td>\n",
       "      <td>amPeak</td>\n",
       "      <td>0101000020E61000005B2EED6468E753C00EA1543F52DC...</td>\n",
       "      <td>0101000020E61000005851FD2F49E653C0139F29DE82DC...</td>\n",
       "      <td>43.72126</td>\n",
       "      <td>-79.615747</td>\n",
       "      <td>43.722744</td>\n",
       "      <td>-79.598217</td>\n",
       "    </tr>\n",
       "  </tbody>\n",
       "</table>\n",
       "</div>"
      ],
      "text/plain": [
       "            pickup_datetime     dropoff_datetime  pickup_ward2018  \\\n",
       "428572  2018-09-03 08:00:00  2018-09-03 08:03:28              1.0   \n",
       "\n",
       "        dropoff_ward2018  pickup_gc_intersection_id  \\\n",
       "428572               1.0                   13455196   \n",
       "\n",
       "        dropoff_gc_intersection_id     dow timewindow  \\\n",
       "428572                    13454935  Monday     amPeak   \n",
       "\n",
       "                                              pickup_geom  \\\n",
       "428572  0101000020E61000005B2EED6468E753C00EA1543F52DC...   \n",
       "\n",
       "                                             dropoff_geom  lat_pickup  \\\n",
       "428572  0101000020E61000005851FD2F49E653C0139F29DE82DC...    43.72126   \n",
       "\n",
       "        lon_pickup  lat_dropoff  lon_dropoff  \n",
       "428572  -79.615747    43.722744   -79.598217  "
      ]
     },
     "execution_count": 9,
     "metadata": {},
     "output_type": "execute_result"
    }
   ],
   "source": [
    "df.loc[(df['dropoff_gc_intersection_id']==13454935) & (df['dow']=='Monday') & (df['timewindow']=='amPeak')]"
   ]
  },
  {
   "cell_type": "code",
   "execution_count": 10,
   "metadata": {},
   "outputs": [
    {
     "ename": "SyntaxError",
     "evalue": "invalid syntax (<ipython-input-10-02c2a1c0215a>, line 1)",
     "output_type": "error",
     "traceback": [
      "\u001b[0;36m  File \u001b[0;32m\"<ipython-input-10-02c2a1c0215a>\"\u001b[0;36m, line \u001b[0;32m1\u001b[0m\n\u001b[0;31m    df=\u001b[0m\n\u001b[0m       ^\u001b[0m\n\u001b[0;31mSyntaxError\u001b[0m\u001b[0;31m:\u001b[0m invalid syntax\n"
     ]
    }
   ],
   "source": [
    "df="
   ]
  },
  {
   "cell_type": "markdown",
   "metadata": {},
   "source": [
    "# Housekeeping"
   ]
  },
  {
   "cell_type": "markdown",
   "metadata": {},
   "source": [
    "## 1. Round lat, lon to 4 decimal places"
   ]
  },
  {
   "cell_type": "code",
   "execution_count": null,
   "metadata": {},
   "outputs": [],
   "source": [
    "n=4 # number of decimals to round to\n",
    "\n",
    "df['lat_pickup'] = df['lat_pickup'].round(decimals=n)\n",
    "df['lon_pickup'] = df['lon_pickup'].round(decimals=n)\n",
    "\n",
    "df['lat_dropoff'] = df['lat_dropoff'].round(decimals=n)\n",
    "df['lon_dropoff'] = df['lon_dropoff'].round(decimals=n)"
   ]
  },
  {
   "cell_type": "markdown",
   "metadata": {},
   "source": [
    "## 2. Filter out rows where neither pickup or dropoff wards are the ward of interest\n",
    "Make col `keep` = 1 for where pick-up or for drop-off wards are the ward of interest"
   ]
  },
  {
   "cell_type": "code",
   "execution_count": null,
   "metadata": {},
   "outputs": [],
   "source": [
    "# Assign a Pickup or Dropoff in column 'type'\n",
    "df['keep'] = np.nan\n",
    "df['latitude'] = np.nan\n",
    "df['longitude'] = np.nan\n",
    "\n",
    "df.loc[(df['pickup_ward2018']==ward) | (df['dropoff_ward2018']==ward), 'keep'] = 1"
   ]
  },
  {
   "cell_type": "code",
   "execution_count": null,
   "metadata": {},
   "outputs": [],
   "source": [
    "# Check\n",
    "df['keep'].unique()"
   ]
  },
  {
   "cell_type": "code",
   "execution_count": null,
   "metadata": {},
   "outputs": [],
   "source": [
    "# Keep only rows where `keep` is not null\n",
    "df = df[df['keep'].notnull()]"
   ]
  },
  {
   "cell_type": "code",
   "execution_count": null,
   "metadata": {},
   "outputs": [],
   "source": [
    "# Check\n",
    "df['keep'].unique()"
   ]
  },
  {
   "cell_type": "code",
   "execution_count": null,
   "metadata": {},
   "outputs": [],
   "source": [
    "print(df.shape)"
   ]
  },
  {
   "cell_type": "code",
   "execution_count": null,
   "metadata": {},
   "outputs": [],
   "source": [
    "df.head(5)"
   ]
  },
  {
   "cell_type": "code",
   "execution_count": null,
   "metadata": {},
   "outputs": [],
   "source": []
  },
  {
   "cell_type": "markdown",
   "metadata": {},
   "source": [
    "## 3a. Split df into two dfs for pickups and dropoffs separately\n",
    "one where pickup ward == ward, the other where dropoff_ward == ward  \n",
    "\n",
    "Assign `type` = 1 for pickup df, 5 for dropoff df."
   ]
  },
  {
   "cell_type": "code",
   "execution_count": null,
   "metadata": {},
   "outputs": [],
   "source": [
    "df_pu = pd.DataFrame()\n",
    "df_pu = df.loc[df['pickup_ward2018']==ward]\n",
    "df_pu['type'] = 1"
   ]
  },
  {
   "cell_type": "code",
   "execution_count": null,
   "metadata": {},
   "outputs": [],
   "source": [
    "df_do = pd.DataFrame()\n",
    "df_do = df.loc[df['dropoff_ward2018']==ward]\n",
    "df_do['type'] = 5"
   ]
  },
  {
   "cell_type": "code",
   "execution_count": null,
   "metadata": {},
   "outputs": [],
   "source": [
    "df_pu.head(4)"
   ]
  },
  {
   "cell_type": "code",
   "execution_count": null,
   "metadata": {},
   "outputs": [],
   "source": [
    "# Fill `latitude` and `longitude` col with pickup or dropoff lat/lon\n",
    "df_pu['latitude'] = df_pu['lat_pickup']\n",
    "df_pu['longitude'] = df_pu['lon_pickup']\n",
    "\n",
    "df_do['latitude'] = df_do['lat_dropoff']\n",
    "df_do['longitude'] = df_do['lon_dropoff']"
   ]
  },
  {
   "cell_type": "code",
   "execution_count": null,
   "metadata": {},
   "outputs": [],
   "source": []
  },
  {
   "cell_type": "code",
   "execution_count": null,
   "metadata": {},
   "outputs": [],
   "source": [
    "df_pu.head(4)"
   ]
  },
  {
   "cell_type": "code",
   "execution_count": null,
   "metadata": {},
   "outputs": [],
   "source": [
    "df_do.head(4)"
   ]
  },
  {
   "cell_type": "code",
   "execution_count": null,
   "metadata": {},
   "outputs": [],
   "source": []
  },
  {
   "cell_type": "markdown",
   "metadata": {},
   "source": [
    "## 3b. Aggregate pickups and dropoffs"
   ]
  },
  {
   "cell_type": "code",
   "execution_count": null,
   "metadata": {},
   "outputs": [],
   "source": [
    "df_pu_agg=pd.DataFrame()\n",
    "\n",
    "df_pu_agg = df_pu.groupby(\n",
    "    ['type','dow','timewindow','latitude','longitude','pickup_gc_intersection_id']\n",
    "    ).size().reset_index(name='counts')\n",
    "\n",
    "df_pu_agg.head(3)"
   ]
  },
  {
   "cell_type": "code",
   "execution_count": null,
   "metadata": {},
   "outputs": [],
   "source": [
    "# Check\n",
    "df_pu_agg.loc[df_pu_agg['pickup_gc_intersection_id']==13454935]"
   ]
  },
  {
   "cell_type": "code",
   "execution_count": null,
   "metadata": {},
   "outputs": [],
   "source": []
  },
  {
   "cell_type": "code",
   "execution_count": null,
   "metadata": {},
   "outputs": [],
   "source": [
    "df_do_agg=pd.DataFrame()\n",
    "\n",
    "df_do_agg = df_do.groupby(\n",
    "    ['type','dow','timewindow','latitude','longitude','dropoff_gc_intersection_id']\n",
    "    ).size().reset_index(name='counts')\n",
    "\n",
    "df_do_agg.head(3)"
   ]
  },
  {
   "cell_type": "code",
   "execution_count": null,
   "metadata": {},
   "outputs": [],
   "source": [
    "# Check\n",
    "df_do_agg.loc[df_do_agg['dropoff_gc_intersection_id']==13454935]"
   ]
  },
  {
   "cell_type": "code",
   "execution_count": null,
   "metadata": {},
   "outputs": [],
   "source": []
  },
  {
   "cell_type": "markdown",
   "metadata": {},
   "source": [
    "## 4. Make a common table on common columns"
   ]
  },
  {
   "cell_type": "markdown",
   "metadata": {},
   "source": [
    "### a. All points\n",
    "Concat `df_pu` and `df_do`."
   ]
  },
  {
   "cell_type": "code",
   "execution_count": null,
   "metadata": {},
   "outputs": [],
   "source": [
    "# First rename intersection id to common name to allow concat\n",
    "df_pu = df_pu.rename(columns={'pickup_gc_intersection_id': 'intersection_id'})\n",
    "df_do = df_do.rename(columns={'dropoff_gc_intersection_id': 'intersection_id'})"
   ]
  },
  {
   "cell_type": "code",
   "execution_count": null,
   "metadata": {},
   "outputs": [],
   "source": [
    "df_pudo=pd.DataFrame()\n",
    "\n",
    "df_pudo=pd.concat([\n",
    "    df_pu[['type','dow','timewindow','latitude','longitude','intersection_id']], \n",
    "    df_do[['type','dow','timewindow','latitude','longitude','intersection_id']]\n",
    "    ])\n",
    "\n",
    "df_pudo.head(4)"
   ]
  },
  {
   "cell_type": "code",
   "execution_count": null,
   "metadata": {},
   "outputs": [],
   "source": [
    "# Check\n",
    "df_pudo.loc[df_pudo['intersection_id']==13454935]"
   ]
  },
  {
   "cell_type": "code",
   "execution_count": null,
   "metadata": {},
   "outputs": [],
   "source": []
  },
  {
   "cell_type": "markdown",
   "metadata": {},
   "source": [
    "### a. Aggregates\n",
    "Concat `df_pu_agg` and `df_do_agg`."
   ]
  },
  {
   "cell_type": "code",
   "execution_count": null,
   "metadata": {},
   "outputs": [],
   "source": [
    "# First rename intersection id to common name to allow concat\n",
    "df_pu_agg = df_pu_agg.rename(columns={'pickup_gc_intersection_id': 'intersection_id'})\n",
    "df_do_agg = df_do_agg.rename(columns={'dropoff_gc_intersection_id': 'intersection_id'})"
   ]
  },
  {
   "cell_type": "code",
   "execution_count": null,
   "metadata": {},
   "outputs": [],
   "source": [
    "df_pudo_agg=pd.DataFrame()\n",
    "\n",
    "df_pudo_agg=pd.concat([df_pu_agg[cols], df_do_agg[cols] ])\n",
    "\n",
    "df_pudo_agg.head(4)"
   ]
  },
  {
   "cell_type": "code",
   "execution_count": null,
   "metadata": {},
   "outputs": [],
   "source": [
    "# Check\n",
    "df_pudo_agg.loc[df_pudo_agg['intersection_id']==13454935]"
   ]
  },
  {
   "cell_type": "code",
   "execution_count": null,
   "metadata": {},
   "outputs": [],
   "source": []
  },
  {
   "cell_type": "code",
   "execution_count": null,
   "metadata": {},
   "outputs": [],
   "source": []
  },
  {
   "cell_type": "code",
   "execution_count": null,
   "metadata": {},
   "outputs": [],
   "source": []
  },
  {
   "cell_type": "code",
   "execution_count": null,
   "metadata": {},
   "outputs": [],
   "source": [
    "df="
   ]
  },
  {
   "cell_type": "code",
   "execution_count": null,
   "metadata": {},
   "outputs": [],
   "source": []
  },
  {
   "cell_type": "markdown",
   "metadata": {},
   "source": [
    "# Save to geojson"
   ]
  },
  {
   "cell_type": "markdown",
   "metadata": {},
   "source": [
    "## All points"
   ]
  },
  {
   "cell_type": "code",
   "execution_count": null,
   "metadata": {},
   "outputs": [],
   "source": [
    "geojson = df_to_geojson(df_pudo, ['dow', 'timewindow', 'type'])"
   ]
  },
  {
   "cell_type": "code",
   "execution_count": null,
   "metadata": {},
   "outputs": [],
   "source": []
  },
  {
   "cell_type": "markdown",
   "metadata": {},
   "source": [
    "## Aggregated points"
   ]
  },
  {
   "cell_type": "code",
   "execution_count": null,
   "metadata": {},
   "outputs": [],
   "source": [
    "geojson_agg = df_to_geojson(df_pudo_agg, cols)"
   ]
  },
  {
   "cell_type": "code",
   "execution_count": null,
   "metadata": {},
   "outputs": [],
   "source": []
  },
  {
   "cell_type": "markdown",
   "metadata": {},
   "source": [
    "# Write geojson to file"
   ]
  },
  {
   "cell_type": "markdown",
   "metadata": {},
   "source": [
    "## All points"
   ]
  },
  {
   "cell_type": "code",
   "execution_count": null,
   "metadata": {},
   "outputs": [],
   "source": [
    "output_filename = '../src/geojson/w1_092018_' + this_day + '_' + this_tod + '.geojson'\n",
    "# output_filename = 'w1_092018_' + this_day + '_' + this_tod + '.geojson'\n",
    "\n",
    "with open(output_filename, 'w') as output_file:\n",
    "    output_file.write('')\n",
    "    json.dump(geojson, output_file, indent=2) "
   ]
  },
  {
   "cell_type": "markdown",
   "metadata": {},
   "source": [
    "## Aggregated points"
   ]
  },
  {
   "cell_type": "code",
   "execution_count": null,
   "metadata": {},
   "outputs": [],
   "source": [
    "output_filename = '../src/geojson/w1_092018_' + this_day + '_' + this_tod + '_agg.geojson'\n",
    "# output_filename = 'w1_092018_' + this_day + '_' + this_tod + '_agg.geojson'\n",
    "\n",
    "with open(output_filename, 'w') as output_file:\n",
    "    output_file.write('')\n",
    "    json.dump(geojson_agg, output_file, indent=2) "
   ]
  },
  {
   "cell_type": "code",
   "execution_count": null,
   "metadata": {},
   "outputs": [],
   "source": []
  },
  {
   "cell_type": "markdown",
   "metadata": {},
   "source": [
    "`\n",
    "$ ls -lh src/geojson/\n",
    "-rw-r--r-- 1 test test 328K Dec  4 15:46 w1_092018_Monday_amPeak_agg.geojson\n",
    "-rw-r--r-- 1 test test 753K Dec  4 13:51 w1_092018_Monday_amPeak.geojson\n",
    "`\n"
   ]
  },
  {
   "cell_type": "code",
   "execution_count": null,
   "metadata": {},
   "outputs": [],
   "source": []
  },
  {
   "cell_type": "code",
   "execution_count": null,
   "metadata": {},
   "outputs": [],
   "source": []
  },
  {
   "cell_type": "code",
   "execution_count": null,
   "metadata": {},
   "outputs": [],
   "source": []
  },
  {
   "cell_type": "code",
   "execution_count": null,
   "metadata": {},
   "outputs": [],
   "source": []
  }
 ],
 "metadata": {
  "kernelspec": {
   "display_name": "Python 3",
   "language": "python",
   "name": "python3"
  },
  "language_info": {
   "codemirror_mode": {
    "name": "ipython",
    "version": 3
   },
   "file_extension": ".py",
   "mimetype": "text/x-python",
   "name": "python",
   "nbconvert_exporter": "python",
   "pygments_lexer": "ipython3",
   "version": "3.6.7"
  }
 },
 "nbformat": 4,
 "nbformat_minor": 2
}
