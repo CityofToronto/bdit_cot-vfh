{
 "cells": [
  {
   "cell_type": "markdown",
   "metadata": {},
   "source": [
    "# Create geojson file from list of PUDO coords\n",
    "See /home/test/Documents/PROJECTS/VFH/iPython_Notebooks/dv_pudo_profiles.ipynb for more info.  \n",
    "\n",
    "ref: https://geoffboeing.com/2015/10/exporting-python-data-geojson/  \n",
    "Huom: `with open(output_filename, 'wb') as output_file:` should be `'w'` not `'wb'`  "
   ]
  },
  {
   "cell_type": "code",
   "execution_count": 1,
   "metadata": {},
   "outputs": [
    {
     "data": {
      "text/plain": [
       "'/home/test/anaconda3/envs/vfh/bin/python'"
      ]
     },
     "execution_count": 1,
     "metadata": {},
     "output_type": "execute_result"
    }
   ],
   "source": [
    "import sys\n",
    "sys.executable"
   ]
  },
  {
   "cell_type": "code",
   "execution_count": 2,
   "metadata": {},
   "outputs": [],
   "source": [
    "%matplotlib inline\n",
    "import numpy as np\n",
    "import pandas as pd\n",
    "import pandas.io.sql as pandasql\n",
    "import matplotlib.pyplot as plt\n",
    "import matplotlib as mpl\n",
    "import matplotlib.ticker as ticker\n",
    "\n",
    "from IPython.display import HTML, display\n",
    "import datetime\n",
    "import matplotlib.dates as mdates\n",
    "from ipywidgets import interact, interactive, fixed, interact_manual\n",
    "import ipywidgets as widgets\n",
    "import os\n",
    "\n",
    "from datetime import datetime\n",
    "\n",
    "import json"
   ]
  },
  {
   "cell_type": "markdown",
   "metadata": {},
   "source": [
    "# Functions"
   ]
  },
  {
   "cell_type": "code",
   "execution_count": 3,
   "metadata": {},
   "outputs": [],
   "source": [
    "# https://geoffboeing.com/2015/10/exporting-python-data-geojson/\n",
    "def df_to_geojson(df, properties, lat='latitude', lon='longitude'):\n",
    "    geojson = {'type':'FeatureCollection', 'features':[]}\n",
    "    for _, row in df.iterrows():\n",
    "        feature = {'type':'Feature',\n",
    "                   'properties':{},\n",
    "                   'geometry':{'type':'Point',\n",
    "                               'coordinates':[]}}\n",
    "        feature['geometry']['coordinates'] = [row[lon],row[lat]]\n",
    "        for prop in properties:\n",
    "            feature['properties'][prop] = row[prop]\n",
    "        geojson['features'].append(feature)\n",
    "    return geojson"
   ]
  },
  {
   "cell_type": "markdown",
   "metadata": {},
   "source": [
    "# GeoJSON properties for file"
   ]
  },
  {
   "cell_type": "code",
   "execution_count": 4,
   "metadata": {},
   "outputs": [],
   "source": [
    "# Define the properties of the PUDO geojson file\n",
    "cols = ['dow', 'timewindow', 'type']"
   ]
  },
  {
   "cell_type": "markdown",
   "metadata": {},
   "source": [
    "# Variables"
   ]
  },
  {
   "cell_type": "code",
   "execution_count": 5,
   "metadata": {},
   "outputs": [],
   "source": [
    "ward=1\n",
    "this_day = \"Monday\"\n",
    "this_tod = \"amPeak\""
   ]
  },
  {
   "cell_type": "markdown",
   "metadata": {},
   "source": [
    "# Read PUDO data from csv file"
   ]
  },
  {
   "cell_type": "code",
   "execution_count": 6,
   "metadata": {},
   "outputs": [
    {
     "name": "stdout",
     "output_type": "stream",
     "text": [
      "(1380447, 16)\n"
     ]
    },
    {
     "data": {
      "text/html": [
       "<div>\n",
       "<style scoped>\n",
       "    .dataframe tbody tr th:only-of-type {\n",
       "        vertical-align: middle;\n",
       "    }\n",
       "\n",
       "    .dataframe tbody tr th {\n",
       "        vertical-align: top;\n",
       "    }\n",
       "\n",
       "    .dataframe thead th {\n",
       "        text-align: right;\n",
       "    }\n",
       "</style>\n",
       "<table border=\"1\" class=\"dataframe\">\n",
       "  <thead>\n",
       "    <tr style=\"text-align: right;\">\n",
       "      <th></th>\n",
       "      <th>pickup_datetime</th>\n",
       "      <th>dropoff_datetime</th>\n",
       "      <th>pickup_ward2018</th>\n",
       "      <th>dropoff_ward2018</th>\n",
       "      <th>pickup_gc_intersection_id</th>\n",
       "      <th>dropoff_gc_intersection_id</th>\n",
       "      <th>pickup_mun_id</th>\n",
       "      <th>dropoff_mun_id</th>\n",
       "      <th>dow</th>\n",
       "      <th>timewindow</th>\n",
       "      <th>pickup_geom</th>\n",
       "      <th>dropoff_geom</th>\n",
       "      <th>lat_pickup</th>\n",
       "      <th>lon_pickup</th>\n",
       "      <th>lat_dropoff</th>\n",
       "      <th>lon_dropoff</th>\n",
       "    </tr>\n",
       "  </thead>\n",
       "  <tbody>\n",
       "    <tr>\n",
       "      <th>0</th>\n",
       "      <td>2018-01-31 11:00:00</td>\n",
       "      <td>2018-01-31 11:16:10</td>\n",
       "      <td>1.0</td>\n",
       "      <td>1.0</td>\n",
       "      <td>13453377</td>\n",
       "      <td>13452644</td>\n",
       "      <td>69</td>\n",
       "      <td>69</td>\n",
       "      <td>Wednesday</td>\n",
       "      <td>midday</td>\n",
       "      <td>0101000020E6100000891D070AAEE753C0C9183602E5DD...</td>\n",
       "      <td>0101000020E6100000D7213E7D32E453C0A36DDE3370DE...</td>\n",
       "      <td>43.733551</td>\n",
       "      <td>-79.619998</td>\n",
       "      <td>43.737799</td>\n",
       "      <td>-79.565582</td>\n",
       "    </tr>\n",
       "    <tr>\n",
       "      <th>1</th>\n",
       "      <td>2018-02-04 11:00:00</td>\n",
       "      <td>2018-02-04 11:04:20</td>\n",
       "      <td>1.0</td>\n",
       "      <td>1.0</td>\n",
       "      <td>13452484</td>\n",
       "      <td>13449810</td>\n",
       "      <td>69</td>\n",
       "      <td>69</td>\n",
       "      <td>Saturday</td>\n",
       "      <td>midday</td>\n",
       "      <td>0101000020E6100000C253F8CEF0E553C02ED0E61F9ADE...</td>\n",
       "      <td>0101000020E610000053AD506718E653C09CC2B2E8C9E0...</td>\n",
       "      <td>43.739079</td>\n",
       "      <td>-79.592823</td>\n",
       "      <td>43.756162</td>\n",
       "      <td>-79.595239</td>\n",
       "    </tr>\n",
       "    <tr>\n",
       "      <th>2</th>\n",
       "      <td>2018-01-16 11:00:00</td>\n",
       "      <td>2018-01-16 11:50:22</td>\n",
       "      <td>13.0</td>\n",
       "      <td>1.0</td>\n",
       "      <td>20089579</td>\n",
       "      <td>13453797</td>\n",
       "      <td>69</td>\n",
       "      <td>69</td>\n",
       "      <td>Tuesday</td>\n",
       "      <td>midday</td>\n",
       "      <td>0101000020E6100000CCF75953E3D753C0872927604FD4...</td>\n",
       "      <td>0101000020E6100000A8D9369EE5E653C0E9F258C695DD...</td>\n",
       "      <td>43.658672</td>\n",
       "      <td>-79.373250</td>\n",
       "      <td>43.731133</td>\n",
       "      <td>-79.607765</td>\n",
       "    </tr>\n",
       "    <tr>\n",
       "      <th>3</th>\n",
       "      <td>2018-01-06 11:00:00</td>\n",
       "      <td>2018-01-06 11:36:41</td>\n",
       "      <td>10.0</td>\n",
       "      <td>1.0</td>\n",
       "      <td>30079943</td>\n",
       "      <td>13452805</td>\n",
       "      <td>69</td>\n",
       "      <td>69</td>\n",
       "      <td>Saturday</td>\n",
       "      <td>midday</td>\n",
       "      <td>0101000020E6100000DA7D7D639EDA53C0BC6C5A7ACBD1...</td>\n",
       "      <td>0101000020E61000001B87ED33D6E353C0CD0709F34CDE...</td>\n",
       "      <td>43.639022</td>\n",
       "      <td>-79.415917</td>\n",
       "      <td>43.736723</td>\n",
       "      <td>-79.559949</td>\n",
       "    </tr>\n",
       "    <tr>\n",
       "      <th>4</th>\n",
       "      <td>2018-01-12 11:00:00</td>\n",
       "      <td>2018-01-12 11:13:41</td>\n",
       "      <td>1.0</td>\n",
       "      <td>1.0</td>\n",
       "      <td>20232392</td>\n",
       "      <td>13462944</td>\n",
       "      <td>69</td>\n",
       "      <td>69</td>\n",
       "      <td>Friday</td>\n",
       "      <td>midday</td>\n",
       "      <td>0101000020E6100000214404ACADE653C06A0D40CB3CDD...</td>\n",
       "      <td>0101000020E6100000FF5CD13961E453C0499FDFC27DD6...</td>\n",
       "      <td>43.728418</td>\n",
       "      <td>-79.604350</td>\n",
       "      <td>43.675713</td>\n",
       "      <td>-79.568434</td>\n",
       "    </tr>\n",
       "  </tbody>\n",
       "</table>\n",
       "</div>"
      ],
      "text/plain": [
       "       pickup_datetime     dropoff_datetime  pickup_ward2018  \\\n",
       "0  2018-01-31 11:00:00  2018-01-31 11:16:10              1.0   \n",
       "1  2018-02-04 11:00:00  2018-02-04 11:04:20              1.0   \n",
       "2  2018-01-16 11:00:00  2018-01-16 11:50:22             13.0   \n",
       "3  2018-01-06 11:00:00  2018-01-06 11:36:41             10.0   \n",
       "4  2018-01-12 11:00:00  2018-01-12 11:13:41              1.0   \n",
       "\n",
       "   dropoff_ward2018  pickup_gc_intersection_id  dropoff_gc_intersection_id  \\\n",
       "0               1.0                   13453377                    13452644   \n",
       "1               1.0                   13452484                    13449810   \n",
       "2               1.0                   20089579                    13453797   \n",
       "3               1.0                   30079943                    13452805   \n",
       "4               1.0                   20232392                    13462944   \n",
       "\n",
       "   pickup_mun_id  dropoff_mun_id        dow timewindow  \\\n",
       "0             69              69  Wednesday     midday   \n",
       "1             69              69   Saturday     midday   \n",
       "2             69              69    Tuesday     midday   \n",
       "3             69              69   Saturday     midday   \n",
       "4             69              69     Friday     midday   \n",
       "\n",
       "                                         pickup_geom  \\\n",
       "0  0101000020E6100000891D070AAEE753C0C9183602E5DD...   \n",
       "1  0101000020E6100000C253F8CEF0E553C02ED0E61F9ADE...   \n",
       "2  0101000020E6100000CCF75953E3D753C0872927604FD4...   \n",
       "3  0101000020E6100000DA7D7D639EDA53C0BC6C5A7ACBD1...   \n",
       "4  0101000020E6100000214404ACADE653C06A0D40CB3CDD...   \n",
       "\n",
       "                                        dropoff_geom  lat_pickup  lon_pickup  \\\n",
       "0  0101000020E6100000D7213E7D32E453C0A36DDE3370DE...   43.733551  -79.619998   \n",
       "1  0101000020E610000053AD506718E653C09CC2B2E8C9E0...   43.739079  -79.592823   \n",
       "2  0101000020E6100000A8D9369EE5E653C0E9F258C695DD...   43.658672  -79.373250   \n",
       "3  0101000020E61000001B87ED33D6E353C0CD0709F34CDE...   43.639022  -79.415917   \n",
       "4  0101000020E6100000FF5CD13961E453C0499FDFC27DD6...   43.728418  -79.604350   \n",
       "\n",
       "   lat_dropoff  lon_dropoff  \n",
       "0    43.737799   -79.565582  \n",
       "1    43.756162   -79.595239  \n",
       "2    43.731133   -79.607765  \n",
       "3    43.736723   -79.559949  \n",
       "4    43.675713   -79.568434  "
      ]
     },
     "execution_count": 6,
     "metadata": {},
     "output_type": "execute_result"
    }
   ],
   "source": [
    "fname = '../../../Documents/PROJECTS/VFH/COT_PAGE/dummydata/test_data/w1_pudo_092018_latlon.csv'\n",
    "\n",
    "df = pd.read_csv(fname)\n",
    "\n",
    "print(df.shape)\n",
    "df.head(5)"
   ]
  },
  {
   "cell_type": "code",
   "execution_count": 7,
   "metadata": {},
   "outputs": [
    {
     "data": {
      "text/plain": [
       "['pickup_datetime',\n",
       " 'dropoff_datetime',\n",
       " 'pickup_ward2018',\n",
       " 'dropoff_ward2018',\n",
       " 'pickup_gc_intersection_id',\n",
       " 'dropoff_gc_intersection_id',\n",
       " 'pickup_mun_id',\n",
       " 'dropoff_mun_id',\n",
       " 'dow',\n",
       " 'timewindow',\n",
       " 'pickup_geom',\n",
       " 'dropoff_geom',\n",
       " 'lat_pickup',\n",
       " 'lon_pickup',\n",
       " 'lat_dropoff',\n",
       " 'lon_dropoff']"
      ]
     },
     "execution_count": 7,
     "metadata": {},
     "output_type": "execute_result"
    }
   ],
   "source": [
    "list(df)"
   ]
  },
  {
   "cell_type": "code",
   "execution_count": null,
   "metadata": {},
   "outputs": [],
   "source": []
  },
  {
   "cell_type": "markdown",
   "metadata": {},
   "source": [
    "# Housekeeping"
   ]
  },
  {
   "cell_type": "markdown",
   "metadata": {},
   "source": [
    "## 1. Round lat, lon to 4 decimal places"
   ]
  },
  {
   "cell_type": "code",
   "execution_count": 8,
   "metadata": {},
   "outputs": [],
   "source": [
    "n=4 # number of decimals to round to\n",
    "\n",
    "df['lat_pickup'] = df['lat_pickup'].round(decimals=n)\n",
    "df['lon_pickup'] = df['lon_pickup'].round(decimals=n)\n",
    "\n",
    "df['lat_dropoff'] = df['lat_dropoff'].round(decimals=n)\n",
    "df['lon_dropoff'] = df['lon_dropoff'].round(decimals=n)"
   ]
  },
  {
   "cell_type": "markdown",
   "metadata": {},
   "source": [
    "## 2. Assign a Pickup or Dropoff in column 'type'"
   ]
  },
  {
   "cell_type": "code",
   "execution_count": 9,
   "metadata": {},
   "outputs": [],
   "source": [
    "# Assign a Pickup or Dropoff in column 'type'\n",
    "df['type'] = 0\n",
    "\n",
    "df.loc[df['pickup_ward2018']==1, 'type'] = 1\n",
    "df.loc[df['dropoff_ward2018']==1, 'type'] = 5"
   ]
  },
  {
   "cell_type": "code",
   "execution_count": 10,
   "metadata": {},
   "outputs": [
    {
     "data": {
      "text/plain": [
       "array([5, 1])"
      ]
     },
     "execution_count": 10,
     "metadata": {},
     "output_type": "execute_result"
    }
   ],
   "source": [
    "# Check\n",
    "df['type'].unique()"
   ]
  },
  {
   "cell_type": "code",
   "execution_count": null,
   "metadata": {},
   "outputs": [],
   "source": []
  },
  {
   "cell_type": "markdown",
   "metadata": {},
   "source": [
    "## 3. Make a latitude, longitude column for each type"
   ]
  },
  {
   "cell_type": "code",
   "execution_count": 12,
   "metadata": {},
   "outputs": [],
   "source": [
    "df['latitude'] = np.nan\n",
    "df['longitude'] = np.nan"
   ]
  },
  {
   "cell_type": "code",
   "execution_count": 13,
   "metadata": {},
   "outputs": [],
   "source": [
    "df['latitude'] = np.where(df['type']==1, df['lat_pickup'], df['lat_dropoff'])\n",
    "df['longitude'] = np.where(df['type']==1, df['lon_pickup'], df['lon_dropoff'])"
   ]
  },
  {
   "cell_type": "code",
   "execution_count": null,
   "metadata": {},
   "outputs": [],
   "source": []
  },
  {
   "cell_type": "code",
   "execution_count": 15,
   "metadata": {},
   "outputs": [
    {
     "data": {
      "text/html": [
       "<div>\n",
       "<style scoped>\n",
       "    .dataframe tbody tr th:only-of-type {\n",
       "        vertical-align: middle;\n",
       "    }\n",
       "\n",
       "    .dataframe tbody tr th {\n",
       "        vertical-align: top;\n",
       "    }\n",
       "\n",
       "    .dataframe thead th {\n",
       "        text-align: right;\n",
       "    }\n",
       "</style>\n",
       "<table border=\"1\" class=\"dataframe\">\n",
       "  <thead>\n",
       "    <tr style=\"text-align: right;\">\n",
       "      <th></th>\n",
       "      <th>pickup_datetime</th>\n",
       "      <th>dropoff_datetime</th>\n",
       "      <th>pickup_ward2018</th>\n",
       "      <th>dropoff_ward2018</th>\n",
       "      <th>pickup_gc_intersection_id</th>\n",
       "      <th>dropoff_gc_intersection_id</th>\n",
       "      <th>pickup_mun_id</th>\n",
       "      <th>dropoff_mun_id</th>\n",
       "      <th>dow</th>\n",
       "      <th>timewindow</th>\n",
       "      <th>pickup_geom</th>\n",
       "      <th>dropoff_geom</th>\n",
       "      <th>lat_pickup</th>\n",
       "      <th>lon_pickup</th>\n",
       "      <th>lat_dropoff</th>\n",
       "      <th>lon_dropoff</th>\n",
       "      <th>type</th>\n",
       "      <th>latitude</th>\n",
       "      <th>longitude</th>\n",
       "    </tr>\n",
       "  </thead>\n",
       "  <tbody>\n",
       "  </tbody>\n",
       "</table>\n",
       "</div>"
      ],
      "text/plain": [
       "Empty DataFrame\n",
       "Columns: [pickup_datetime, dropoff_datetime, pickup_ward2018, dropoff_ward2018, pickup_gc_intersection_id, dropoff_gc_intersection_id, pickup_mun_id, dropoff_mun_id, dow, timewindow, pickup_geom, dropoff_geom, lat_pickup, lon_pickup, lat_dropoff, lon_dropoff, type, latitude, longitude]\n",
       "Index: []"
      ]
     },
     "execution_count": 15,
     "metadata": {},
     "output_type": "execute_result"
    }
   ],
   "source": [
    "# Check\n",
    "df.loc[df['latitude'].isnull()]"
   ]
  },
  {
   "cell_type": "code",
   "execution_count": 16,
   "metadata": {},
   "outputs": [
    {
     "data": {
      "text/html": [
       "<div>\n",
       "<style scoped>\n",
       "    .dataframe tbody tr th:only-of-type {\n",
       "        vertical-align: middle;\n",
       "    }\n",
       "\n",
       "    .dataframe tbody tr th {\n",
       "        vertical-align: top;\n",
       "    }\n",
       "\n",
       "    .dataframe thead th {\n",
       "        text-align: right;\n",
       "    }\n",
       "</style>\n",
       "<table border=\"1\" class=\"dataframe\">\n",
       "  <thead>\n",
       "    <tr style=\"text-align: right;\">\n",
       "      <th></th>\n",
       "      <th>pickup_datetime</th>\n",
       "      <th>dropoff_datetime</th>\n",
       "      <th>pickup_ward2018</th>\n",
       "      <th>dropoff_ward2018</th>\n",
       "      <th>pickup_gc_intersection_id</th>\n",
       "      <th>dropoff_gc_intersection_id</th>\n",
       "      <th>pickup_mun_id</th>\n",
       "      <th>dropoff_mun_id</th>\n",
       "      <th>dow</th>\n",
       "      <th>timewindow</th>\n",
       "      <th>pickup_geom</th>\n",
       "      <th>dropoff_geom</th>\n",
       "      <th>lat_pickup</th>\n",
       "      <th>lon_pickup</th>\n",
       "      <th>lat_dropoff</th>\n",
       "      <th>lon_dropoff</th>\n",
       "      <th>type</th>\n",
       "      <th>latitude</th>\n",
       "      <th>longitude</th>\n",
       "    </tr>\n",
       "  </thead>\n",
       "  <tbody>\n",
       "  </tbody>\n",
       "</table>\n",
       "</div>"
      ],
      "text/plain": [
       "Empty DataFrame\n",
       "Columns: [pickup_datetime, dropoff_datetime, pickup_ward2018, dropoff_ward2018, pickup_gc_intersection_id, dropoff_gc_intersection_id, pickup_mun_id, dropoff_mun_id, dow, timewindow, pickup_geom, dropoff_geom, lat_pickup, lon_pickup, lat_dropoff, lon_dropoff, type, latitude, longitude]\n",
       "Index: []"
      ]
     },
     "execution_count": 16,
     "metadata": {},
     "output_type": "execute_result"
    }
   ],
   "source": [
    "# Check\n",
    "df.loc[df['longitude'].isnull()]"
   ]
  },
  {
   "cell_type": "code",
   "execution_count": null,
   "metadata": {},
   "outputs": [],
   "source": []
  },
  {
   "cell_type": "code",
   "execution_count": null,
   "metadata": {},
   "outputs": [],
   "source": []
  },
  {
   "cell_type": "markdown",
   "metadata": {},
   "source": [
    "# PUDO subsets"
   ]
  },
  {
   "cell_type": "markdown",
   "metadata": {},
   "source": [
    "## Filter by ward"
   ]
  },
  {
   "cell_type": "markdown",
   "metadata": {},
   "source": [
    "### all days of week, all time windows"
   ]
  },
  {
   "cell_type": "code",
   "execution_count": null,
   "metadata": {},
   "outputs": [],
   "source": [
    "# df_pu = df.loc[df['pickup_ward2018']==ward, ['pickup_datetime',\n",
    "#  'dropoff_datetime', 'dropoff_ward2018', 'dow', 'timewindow','lat_pickup','lon_pickup']]\n",
    "# print(df_pu.shape)"
   ]
  },
  {
   "cell_type": "code",
   "execution_count": null,
   "metadata": {},
   "outputs": [],
   "source": [
    "# df_pu = df_pu.rename(columns={'lat_pickup': 'latitude', 'lon_pickup': 'longitude'})\n",
    "# list(df_pu)"
   ]
  },
  {
   "cell_type": "markdown",
   "metadata": {},
   "source": [
    "### Monday, amPeak only"
   ]
  },
  {
   "cell_type": "code",
   "execution_count": 18,
   "metadata": {},
   "outputs": [
    {
     "name": "stdout",
     "output_type": "stream",
     "text": [
      "(18226, 9)\n"
     ]
    },
    {
     "data": {
      "text/plain": [
       "['pickup_datetime',\n",
       " 'dropoff_datetime',\n",
       " 'pickup_ward2018',\n",
       " 'dropoff_ward2018',\n",
       " 'type',\n",
       " 'dow',\n",
       " 'timewindow',\n",
       " 'latitude',\n",
       " 'longitude']"
      ]
     },
     "execution_count": 18,
     "metadata": {},
     "output_type": "execute_result"
    }
   ],
   "source": [
    "df_mon_amPeak = df.loc[(df['dow']==\"Monday\") & (df['timewindow']==\"amPeak\"), ['pickup_datetime',\n",
    " 'dropoff_datetime', 'pickup_ward2018','dropoff_ward2018','type', 'dow', 'timewindow','latitude', 'longitude']]\n",
    "\n",
    "print(df_mon_amPeak.shape)\n",
    "list(df_mon_amPeak)"
   ]
  },
  {
   "cell_type": "code",
   "execution_count": 23,
   "metadata": {},
   "outputs": [
    {
     "data": {
      "text/html": [
       "<div>\n",
       "<style scoped>\n",
       "    .dataframe tbody tr th:only-of-type {\n",
       "        vertical-align: middle;\n",
       "    }\n",
       "\n",
       "    .dataframe tbody tr th {\n",
       "        vertical-align: top;\n",
       "    }\n",
       "\n",
       "    .dataframe thead th {\n",
       "        text-align: right;\n",
       "    }\n",
       "</style>\n",
       "<table border=\"1\" class=\"dataframe\">\n",
       "  <thead>\n",
       "    <tr style=\"text-align: right;\">\n",
       "      <th></th>\n",
       "      <th>pickup_datetime</th>\n",
       "      <th>dropoff_datetime</th>\n",
       "      <th>pickup_ward2018</th>\n",
       "      <th>dropoff_ward2018</th>\n",
       "      <th>type</th>\n",
       "      <th>dow</th>\n",
       "      <th>timewindow</th>\n",
       "      <th>latitude</th>\n",
       "      <th>longitude</th>\n",
       "    </tr>\n",
       "  </thead>\n",
       "  <tbody>\n",
       "    <tr>\n",
       "      <th>37</th>\n",
       "      <td>2018-02-05 07:00:00</td>\n",
       "      <td>2018-02-05 07:27:39</td>\n",
       "      <td>2.0</td>\n",
       "      <td>1.0</td>\n",
       "      <td>5</td>\n",
       "      <td>Monday</td>\n",
       "      <td>amPeak</td>\n",
       "      <td>43.7311</td>\n",
       "      <td>-79.6078</td>\n",
       "    </tr>\n",
       "    <tr>\n",
       "      <th>38</th>\n",
       "      <td>2018-02-05 07:00:00</td>\n",
       "      <td>2018-02-05 07:31:18</td>\n",
       "      <td>8.0</td>\n",
       "      <td>1.0</td>\n",
       "      <td>5</td>\n",
       "      <td>Monday</td>\n",
       "      <td>amPeak</td>\n",
       "      <td>43.7311</td>\n",
       "      <td>-79.6078</td>\n",
       "    </tr>\n",
       "    <tr>\n",
       "      <th>39</th>\n",
       "      <td>2018-01-15 07:00:00</td>\n",
       "      <td>2018-01-15 07:05:55</td>\n",
       "      <td>1.0</td>\n",
       "      <td>1.0</td>\n",
       "      <td>5</td>\n",
       "      <td>Monday</td>\n",
       "      <td>amPeak</td>\n",
       "      <td>43.7075</td>\n",
       "      <td>-79.5782</td>\n",
       "    </tr>\n",
       "    <tr>\n",
       "      <th>81</th>\n",
       "      <td>2018-02-12 07:00:00</td>\n",
       "      <td>2018-02-12 07:10:52</td>\n",
       "      <td>1.0</td>\n",
       "      <td>1.0</td>\n",
       "      <td>5</td>\n",
       "      <td>Monday</td>\n",
       "      <td>amPeak</td>\n",
       "      <td>43.7301</td>\n",
       "      <td>-79.6049</td>\n",
       "    </tr>\n",
       "    <tr>\n",
       "      <th>84</th>\n",
       "      <td>2018-01-29 07:00:00</td>\n",
       "      <td>2018-01-29 07:10:34</td>\n",
       "      <td>2.0</td>\n",
       "      <td>1.0</td>\n",
       "      <td>5</td>\n",
       "      <td>Monday</td>\n",
       "      <td>amPeak</td>\n",
       "      <td>43.7147</td>\n",
       "      <td>-79.5922</td>\n",
       "    </tr>\n",
       "    <tr>\n",
       "      <th>85</th>\n",
       "      <td>2018-01-01 07:00:00</td>\n",
       "      <td>2018-01-01 07:06:29</td>\n",
       "      <td>7.0</td>\n",
       "      <td>1.0</td>\n",
       "      <td>5</td>\n",
       "      <td>Monday</td>\n",
       "      <td>amPeak</td>\n",
       "      <td>43.7322</td>\n",
       "      <td>-79.5921</td>\n",
       "    </tr>\n",
       "    <tr>\n",
       "      <th>109</th>\n",
       "      <td>2018-02-12 07:00:00</td>\n",
       "      <td>2018-02-12 07:12:18</td>\n",
       "      <td>1.0</td>\n",
       "      <td>1.0</td>\n",
       "      <td>5</td>\n",
       "      <td>Monday</td>\n",
       "      <td>amPeak</td>\n",
       "      <td>43.7019</td>\n",
       "      <td>-79.5756</td>\n",
       "    </tr>\n",
       "    <tr>\n",
       "      <th>134</th>\n",
       "      <td>2018-01-15 07:00:00</td>\n",
       "      <td>2018-01-15 07:18:23</td>\n",
       "      <td>7.0</td>\n",
       "      <td>1.0</td>\n",
       "      <td>5</td>\n",
       "      <td>Monday</td>\n",
       "      <td>amPeak</td>\n",
       "      <td>43.7115</td>\n",
       "      <td>-79.5714</td>\n",
       "    </tr>\n",
       "    <tr>\n",
       "      <th>142</th>\n",
       "      <td>2018-01-01 07:00:00</td>\n",
       "      <td>2018-01-01 07:13:30</td>\n",
       "      <td>7.0</td>\n",
       "      <td>1.0</td>\n",
       "      <td>5</td>\n",
       "      <td>Monday</td>\n",
       "      <td>amPeak</td>\n",
       "      <td>43.6934</td>\n",
       "      <td>-79.5885</td>\n",
       "    </tr>\n",
       "    <tr>\n",
       "      <th>143</th>\n",
       "      <td>2018-01-01 07:00:00</td>\n",
       "      <td>2018-01-01 07:29:11</td>\n",
       "      <td>7.0</td>\n",
       "      <td>1.0</td>\n",
       "      <td>5</td>\n",
       "      <td>Monday</td>\n",
       "      <td>amPeak</td>\n",
       "      <td>43.6978</td>\n",
       "      <td>-79.5932</td>\n",
       "    </tr>\n",
       "  </tbody>\n",
       "</table>\n",
       "</div>"
      ],
      "text/plain": [
       "         pickup_datetime     dropoff_datetime  pickup_ward2018  \\\n",
       "37   2018-02-05 07:00:00  2018-02-05 07:27:39              2.0   \n",
       "38   2018-02-05 07:00:00  2018-02-05 07:31:18              8.0   \n",
       "39   2018-01-15 07:00:00  2018-01-15 07:05:55              1.0   \n",
       "81   2018-02-12 07:00:00  2018-02-12 07:10:52              1.0   \n",
       "84   2018-01-29 07:00:00  2018-01-29 07:10:34              2.0   \n",
       "85   2018-01-01 07:00:00  2018-01-01 07:06:29              7.0   \n",
       "109  2018-02-12 07:00:00  2018-02-12 07:12:18              1.0   \n",
       "134  2018-01-15 07:00:00  2018-01-15 07:18:23              7.0   \n",
       "142  2018-01-01 07:00:00  2018-01-01 07:13:30              7.0   \n",
       "143  2018-01-01 07:00:00  2018-01-01 07:29:11              7.0   \n",
       "\n",
       "     dropoff_ward2018  type     dow timewindow  latitude  longitude  \n",
       "37                1.0     5  Monday     amPeak   43.7311   -79.6078  \n",
       "38                1.0     5  Monday     amPeak   43.7311   -79.6078  \n",
       "39                1.0     5  Monday     amPeak   43.7075   -79.5782  \n",
       "81                1.0     5  Monday     amPeak   43.7301   -79.6049  \n",
       "84                1.0     5  Monday     amPeak   43.7147   -79.5922  \n",
       "85                1.0     5  Monday     amPeak   43.7322   -79.5921  \n",
       "109               1.0     5  Monday     amPeak   43.7019   -79.5756  \n",
       "134               1.0     5  Monday     amPeak   43.7115   -79.5714  \n",
       "142               1.0     5  Monday     amPeak   43.6934   -79.5885  \n",
       "143               1.0     5  Monday     amPeak   43.6978   -79.5932  "
      ]
     },
     "execution_count": 23,
     "metadata": {},
     "output_type": "execute_result"
    }
   ],
   "source": [
    "df_mon_amPeak.loc[df_mon_amPeak['type']==5].head(10)"
   ]
  },
  {
   "cell_type": "code",
   "execution_count": null,
   "metadata": {},
   "outputs": [],
   "source": []
  },
  {
   "cell_type": "code",
   "execution_count": null,
   "metadata": {},
   "outputs": [],
   "source": []
  },
  {
   "cell_type": "code",
   "execution_count": null,
   "metadata": {},
   "outputs": [],
   "source": [
    "df="
   ]
  },
  {
   "cell_type": "code",
   "execution_count": null,
   "metadata": {},
   "outputs": [],
   "source": []
  },
  {
   "cell_type": "markdown",
   "metadata": {},
   "source": [
    "# Save to geojson"
   ]
  },
  {
   "cell_type": "code",
   "execution_count": null,
   "metadata": {},
   "outputs": [],
   "source": [
    "# geojson_pu = df_to_geojson(df_pu, cols)"
   ]
  },
  {
   "cell_type": "code",
   "execution_count": 24,
   "metadata": {},
   "outputs": [],
   "source": [
    "geojson_mon_amPeak = df_to_geojson(df_mon_amPeak, cols)"
   ]
  },
  {
   "cell_type": "code",
   "execution_count": null,
   "metadata": {},
   "outputs": [],
   "source": []
  },
  {
   "cell_type": "code",
   "execution_count": null,
   "metadata": {},
   "outputs": [],
   "source": []
  },
  {
   "cell_type": "markdown",
   "metadata": {},
   "source": [
    "# Write geojson to file"
   ]
  },
  {
   "cell_type": "code",
   "execution_count": 25,
   "metadata": {},
   "outputs": [],
   "source": [
    "output_filename = '../src/geojson/w1_092018_' + this_day + '_' + this_tod + '.geojson'\n",
    "\n",
    "with open(output_filename, 'w') as output_file:\n",
    "    output_file.write('')\n",
    "    json.dump(geojson_mon_amPeak, output_file, indent=2) "
   ]
  },
  {
   "cell_type": "code",
   "execution_count": null,
   "metadata": {},
   "outputs": [],
   "source": []
  },
  {
   "cell_type": "code",
   "execution_count": null,
   "metadata": {},
   "outputs": [],
   "source": []
  }
 ],
 "metadata": {
  "kernelspec": {
   "display_name": "Python 3",
   "language": "python",
   "name": "python3"
  },
  "language_info": {
   "codemirror_mode": {
    "name": "ipython",
    "version": 3
   },
   "file_extension": ".py",
   "mimetype": "text/x-python",
   "name": "python",
   "nbconvert_exporter": "python",
   "pygments_lexer": "ipython3",
   "version": "3.6.7"
  }
 },
 "nbformat": 4,
 "nbformat_minor": 2
}
