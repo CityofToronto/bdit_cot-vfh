{
 "cells": [
  {
   "cell_type": "markdown",
   "metadata": {},
   "source": [
    "# Create geojson file from list of PUDO coords\n",
    "See /home/test/Documents/PROJECTS/VFH/iPython_Notebooks/dv_pudo_profiles.ipynb for more info.  \n",
    "\n",
    "ref: https://geoffboeing.com/2015/10/exporting-python-data-geojson/  \n",
    "Huom: `with open(output_filename, 'wb') as output_file:` should be `'w'` not `'wb'`  \n",
    "\n",
    "**Resources**  \n",
    "geoJSON minifier: https://jsonformatter.org/json-minify  "
   ]
  },
  {
   "cell_type": "code",
   "execution_count": 1,
   "metadata": {},
   "outputs": [],
   "source": [
    "import sys\n",
    "sys.executable"
   ]
  },
  {
   "cell_type": "code",
   "execution_count": 2,
   "metadata": {},
   "outputs": [],
   "source": [
    "%matplotlib inline\n",
    "import numpy as np\n",
    "import pandas as pd\n",
    "import pandas.io.sql as pandasql\n",
    "import matplotlib.pyplot as plt\n",
    "import matplotlib as mpl\n",
    "import matplotlib.ticker as ticker\n",
    "\n",
    "from IPython.display import HTML, display\n",
    "import datetime\n",
    "import matplotlib.dates as mdates\n",
    "from ipywidgets import interact, interactive, fixed, interact_manual\n",
    "import ipywidgets as widgets\n",
    "import os\n",
    "\n",
    "from datetime import datetime\n",
    "\n",
    "import json"
   ]
  },
  {
   "cell_type": "markdown",
   "metadata": {},
   "source": [
    "# Functions"
   ]
  },
  {
   "cell_type": "code",
   "execution_count": 3,
   "metadata": {},
   "outputs": [],
   "source": [
    "# https://geoffboeing.com/2015/10/exporting-python-data-geojson/\n",
    "def df_to_geojson(df, properties, lat='latitude', lon='longitude'):\n",
    "    geojson = {'type':'FeatureCollection', 'features':[]}\n",
    "    for _, row in df.iterrows():\n",
    "        feature = {'type':'Feature',\n",
    "                   'properties':{},\n",
    "                   'geometry':{'type':'Point',\n",
    "                               'coordinates':[]}}\n",
    "        feature['geometry']['coordinates'] = [row[lon],row[lat]]\n",
    "        for prop in properties:\n",
    "            feature['properties'][prop] = row[prop]\n",
    "        geojson['features'].append(feature)\n",
    "    return geojson"
   ]
  },
  {
   "cell_type": "markdown",
   "metadata": {},
   "source": [
    "# GeoJSON properties for file"
   ]
  },
  {
   "cell_type": "code",
   "execution_count": 4,
   "metadata": {},
   "outputs": [],
   "source": [
    "# Define the properties of the PUDO geojson file\n",
    "prop = ['type','counts', 'overlap']"
   ]
  },
  {
   "cell_type": "code",
   "execution_count": null,
   "metadata": {},
   "outputs": [],
   "source": []
  },
  {
   "cell_type": "markdown",
   "metadata": {},
   "source": [
    "# Variables"
   ]
  },
  {
   "cell_type": "code",
   "execution_count": 5,
   "metadata": {},
   "outputs": [],
   "source": [
    "ward=10\n",
    "this_day = \"Monday\"\n",
    "this_tod = \"nightIII\""
   ]
  },
  {
   "cell_type": "code",
   "execution_count": 6,
   "metadata": {},
   "outputs": [],
   "source": [
    "if ward == 1:\n",
    "    test_id1 = 13454935\n",
    "    test_id2 = 13453946\n",
    "elif ward == 10:\n",
    "    test_id1 = 13467106 # Adelaide and John\n",
    "    test_id2 = 13466303"
   ]
  },
  {
   "cell_type": "code",
   "execution_count": null,
   "metadata": {},
   "outputs": [],
   "source": []
  },
  {
   "cell_type": "markdown",
   "metadata": {},
   "source": [
    "# Read PUDO data from csv file"
   ]
  },
  {
   "cell_type": "code",
   "execution_count": 7,
   "metadata": {},
   "outputs": [
    {
     "name": "stdout",
     "output_type": "stream",
     "text": [
      "(494842, 14)\n"
     ]
    },
    {
     "data": {
      "text/html": [
       "<div>\n",
       "<style scoped>\n",
       "    .dataframe tbody tr th:only-of-type {\n",
       "        vertical-align: middle;\n",
       "    }\n",
       "\n",
       "    .dataframe tbody tr th {\n",
       "        vertical-align: top;\n",
       "    }\n",
       "\n",
       "    .dataframe thead th {\n",
       "        text-align: right;\n",
       "    }\n",
       "</style>\n",
       "<table border=\"1\" class=\"dataframe\">\n",
       "  <thead>\n",
       "    <tr style=\"text-align: right;\">\n",
       "      <th></th>\n",
       "      <th>pickup_datetime</th>\n",
       "      <th>dropoff_datetime</th>\n",
       "      <th>pickup_ward2018</th>\n",
       "      <th>dropoff_ward2018</th>\n",
       "      <th>pickup_gc_intersection_id</th>\n",
       "      <th>dropoff_gc_intersection_id</th>\n",
       "      <th>dow</th>\n",
       "      <th>timewindow</th>\n",
       "      <th>pickup_geom</th>\n",
       "      <th>dropoff_geom</th>\n",
       "      <th>lat_pickup</th>\n",
       "      <th>lon_pickup</th>\n",
       "      <th>lat_dropoff</th>\n",
       "      <th>lon_dropoff</th>\n",
       "    </tr>\n",
       "  </thead>\n",
       "  <tbody>\n",
       "    <tr>\n",
       "      <th>0</th>\n",
       "      <td>2018-09-03 00:00:00</td>\n",
       "      <td>2018-09-03 00:34:01</td>\n",
       "      <td>18.0</td>\n",
       "      <td>10.0</td>\n",
       "      <td>13447475</td>\n",
       "      <td>13467654</td>\n",
       "      <td>Monday</td>\n",
       "      <td>nightII</td>\n",
       "      <td>0101000020E61000005BE2AF6670DA53C01D22DBEA93E2...</td>\n",
       "      <td>0101000020E610000013E6CE309BD953C0938FE7777DD2...</td>\n",
       "      <td>43.770139</td>\n",
       "      <td>-79.413110</td>\n",
       "      <td>43.644454</td>\n",
       "      <td>-79.400097</td>\n",
       "    </tr>\n",
       "    <tr>\n",
       "      <th>1</th>\n",
       "      <td>2018-09-03 00:00:00</td>\n",
       "      <td>2018-09-03 00:10:54</td>\n",
       "      <td>10.0</td>\n",
       "      <td>13.0</td>\n",
       "      <td>13467763</td>\n",
       "      <td>13464030</td>\n",
       "      <td>Monday</td>\n",
       "      <td>nightII</td>\n",
       "      <td>0101000020E610000051E519D30AD953C0C23B89A05BD2...</td>\n",
       "      <td>0101000020E610000079E6DB3E68D853C00F3AF08356D5...</td>\n",
       "      <td>43.643421</td>\n",
       "      <td>-79.391286</td>\n",
       "      <td>43.666703</td>\n",
       "      <td>-79.381363</td>\n",
       "    </tr>\n",
       "    <tr>\n",
       "      <th>2</th>\n",
       "      <td>2018-09-03 00:00:00</td>\n",
       "      <td>2018-09-03 00:12:34</td>\n",
       "      <td>13.0</td>\n",
       "      <td>10.0</td>\n",
       "      <td>13464551</td>\n",
       "      <td>13467763</td>\n",
       "      <td>Monday</td>\n",
       "      <td>nightII</td>\n",
       "      <td>0101000020E6100000A342F6F3C6D753C0E8EE4CFEEDD4...</td>\n",
       "      <td>0101000020E610000051E519D30AD953C0C23B89A05BD2...</td>\n",
       "      <td>43.663513</td>\n",
       "      <td>-79.371518</td>\n",
       "      <td>43.643421</td>\n",
       "      <td>-79.391286</td>\n",
       "    </tr>\n",
       "    <tr>\n",
       "      <th>3</th>\n",
       "      <td>2018-09-03 00:00:00</td>\n",
       "      <td>2018-09-03 00:24:18</td>\n",
       "      <td>13.0</td>\n",
       "      <td>3.0</td>\n",
       "      <td>13465140</td>\n",
       "      <td>13470547</td>\n",
       "      <td>Monday</td>\n",
       "      <td>nightII</td>\n",
       "      <td>0101000020E6100000DF5023ED39D853C020ED2E3976D4...</td>\n",
       "      <td>0101000020E610000004410BFFE5E153C041B447898CCC...</td>\n",
       "      <td>43.659858</td>\n",
       "      <td>-79.378536</td>\n",
       "      <td>43.598039</td>\n",
       "      <td>-79.529663</td>\n",
       "    </tr>\n",
       "    <tr>\n",
       "      <th>4</th>\n",
       "      <td>2018-09-03 00:00:00</td>\n",
       "      <td>2018-09-03 00:18:21</td>\n",
       "      <td>8.0</td>\n",
       "      <td>13.0</td>\n",
       "      <td>14044860</td>\n",
       "      <td>14673305</td>\n",
       "      <td>Monday</td>\n",
       "      <td>nightII</td>\n",
       "      <td>0101000020E6100000A37FC1EFB8DC53C070C432B4FCDB...</td>\n",
       "      <td>0101000020E61000008C84E11C68D853C062D98093A3D5...</td>\n",
       "      <td>43.718649</td>\n",
       "      <td>-79.448788</td>\n",
       "      <td>43.669054</td>\n",
       "      <td>-79.381355</td>\n",
       "    </tr>\n",
       "  </tbody>\n",
       "</table>\n",
       "</div>"
      ],
      "text/plain": [
       "       pickup_datetime     dropoff_datetime  pickup_ward2018  \\\n",
       "0  2018-09-03 00:00:00  2018-09-03 00:34:01             18.0   \n",
       "1  2018-09-03 00:00:00  2018-09-03 00:10:54             10.0   \n",
       "2  2018-09-03 00:00:00  2018-09-03 00:12:34             13.0   \n",
       "3  2018-09-03 00:00:00  2018-09-03 00:24:18             13.0   \n",
       "4  2018-09-03 00:00:00  2018-09-03 00:18:21              8.0   \n",
       "\n",
       "   dropoff_ward2018  pickup_gc_intersection_id  dropoff_gc_intersection_id  \\\n",
       "0              10.0                   13447475                    13467654   \n",
       "1              13.0                   13467763                    13464030   \n",
       "2              10.0                   13464551                    13467763   \n",
       "3               3.0                   13465140                    13470547   \n",
       "4              13.0                   14044860                    14673305   \n",
       "\n",
       "      dow timewindow                                        pickup_geom  \\\n",
       "0  Monday    nightII  0101000020E61000005BE2AF6670DA53C01D22DBEA93E2...   \n",
       "1  Monday    nightII  0101000020E610000051E519D30AD953C0C23B89A05BD2...   \n",
       "2  Monday    nightII  0101000020E6100000A342F6F3C6D753C0E8EE4CFEEDD4...   \n",
       "3  Monday    nightII  0101000020E6100000DF5023ED39D853C020ED2E3976D4...   \n",
       "4  Monday    nightII  0101000020E6100000A37FC1EFB8DC53C070C432B4FCDB...   \n",
       "\n",
       "                                        dropoff_geom  lat_pickup  lon_pickup  \\\n",
       "0  0101000020E610000013E6CE309BD953C0938FE7777DD2...   43.770139  -79.413110   \n",
       "1  0101000020E610000079E6DB3E68D853C00F3AF08356D5...   43.643421  -79.391286   \n",
       "2  0101000020E610000051E519D30AD953C0C23B89A05BD2...   43.663513  -79.371518   \n",
       "3  0101000020E610000004410BFFE5E153C041B447898CCC...   43.659858  -79.378536   \n",
       "4  0101000020E61000008C84E11C68D853C062D98093A3D5...   43.718649  -79.448788   \n",
       "\n",
       "   lat_dropoff  lon_dropoff  \n",
       "0    43.644454   -79.400097  \n",
       "1    43.666703   -79.381363  \n",
       "2    43.643421   -79.391286  \n",
       "3    43.598039   -79.529663  \n",
       "4    43.669054   -79.381355  "
      ]
     },
     "execution_count": 7,
     "metadata": {},
     "output_type": "execute_result"
    }
   ],
   "source": [
    "fname = '../../../Documents/PROJECTS/VFH/COT_PAGE/INTERIM_DATA/FROM_PGADMIN/all_pudo_mon.csv'\n",
    "# fname = '../../../Documents/PROJECTS/VFH/COT_PAGE/test_data/all_pudo_mon_ampeak.csv'\n",
    "# fname = '~/Documents/PROJECTS/BDITTO/VFH/DATA_STORY/DATA/from_pgAdmin/all_pudo_mon.csv'\n",
    "\n",
    "df = pd.read_csv(fname)\n",
    "\n",
    "print(df.shape)\n",
    "df.head(5)"
   ]
  },
  {
   "cell_type": "code",
   "execution_count": 8,
   "metadata": {},
   "outputs": [
    {
     "data": {
      "text/plain": [
       "['pickup_datetime',\n",
       " 'dropoff_datetime',\n",
       " 'pickup_ward2018',\n",
       " 'dropoff_ward2018',\n",
       " 'pickup_gc_intersection_id',\n",
       " 'dropoff_gc_intersection_id',\n",
       " 'dow',\n",
       " 'timewindow',\n",
       " 'pickup_geom',\n",
       " 'dropoff_geom',\n",
       " 'lat_pickup',\n",
       " 'lon_pickup',\n",
       " 'lat_dropoff',\n",
       " 'lon_dropoff']"
      ]
     },
     "execution_count": 8,
     "metadata": {},
     "output_type": "execute_result"
    }
   ],
   "source": [
    "list(df)"
   ]
  },
  {
   "cell_type": "code",
   "execution_count": 9,
   "metadata": {},
   "outputs": [
    {
     "data": {
      "text/html": [
       "<div>\n",
       "<style scoped>\n",
       "    .dataframe tbody tr th:only-of-type {\n",
       "        vertical-align: middle;\n",
       "    }\n",
       "\n",
       "    .dataframe tbody tr th {\n",
       "        vertical-align: top;\n",
       "    }\n",
       "\n",
       "    .dataframe thead th {\n",
       "        text-align: right;\n",
       "    }\n",
       "</style>\n",
       "<table border=\"1\" class=\"dataframe\">\n",
       "  <thead>\n",
       "    <tr style=\"text-align: right;\">\n",
       "      <th></th>\n",
       "      <th>pickup_datetime</th>\n",
       "      <th>dropoff_datetime</th>\n",
       "      <th>pickup_ward2018</th>\n",
       "      <th>dropoff_ward2018</th>\n",
       "      <th>pickup_gc_intersection_id</th>\n",
       "      <th>dropoff_gc_intersection_id</th>\n",
       "      <th>dow</th>\n",
       "      <th>timewindow</th>\n",
       "      <th>pickup_geom</th>\n",
       "      <th>dropoff_geom</th>\n",
       "      <th>lat_pickup</th>\n",
       "      <th>lon_pickup</th>\n",
       "      <th>lat_dropoff</th>\n",
       "      <th>lon_dropoff</th>\n",
       "    </tr>\n",
       "  </thead>\n",
       "  <tbody>\n",
       "    <tr>\n",
       "      <th>333377</th>\n",
       "      <td>2018-09-10 08:00:00</td>\n",
       "      <td>2018-09-10 08:08:53</td>\n",
       "      <td>1.0</td>\n",
       "      <td>1.0</td>\n",
       "      <td>13454935</td>\n",
       "      <td>20232410</td>\n",
       "      <td>Monday</td>\n",
       "      <td>amPeak</td>\n",
       "      <td>0101000020E61000005851FD2F49E653C0139F29DE82DC...</td>\n",
       "      <td>0101000020E610000075DC3A49C4E653C09A9B9F7D4DDD...</td>\n",
       "      <td>43.722744</td>\n",
       "      <td>-79.598217</td>\n",
       "      <td>43.728927</td>\n",
       "      <td>-79.60573</td>\n",
       "    </tr>\n",
       "    <tr>\n",
       "      <th>350828</th>\n",
       "      <td>2018-09-10 08:00:00</td>\n",
       "      <td>2018-09-10 08:05:53</td>\n",
       "      <td>1.0</td>\n",
       "      <td>1.0</td>\n",
       "      <td>13454935</td>\n",
       "      <td>13459809</td>\n",
       "      <td>Monday</td>\n",
       "      <td>amPeak</td>\n",
       "      <td>0101000020E61000005851FD2F49E653C0139F29DE82DC...</td>\n",
       "      <td>0101000020E61000000DB97F50AAE553C0D1F8C0B9BFD8...</td>\n",
       "      <td>43.722744</td>\n",
       "      <td>-79.598217</td>\n",
       "      <td>43.693351</td>\n",
       "      <td>-79.58852</td>\n",
       "    </tr>\n",
       "  </tbody>\n",
       "</table>\n",
       "</div>"
      ],
      "text/plain": [
       "            pickup_datetime     dropoff_datetime  pickup_ward2018  \\\n",
       "333377  2018-09-10 08:00:00  2018-09-10 08:08:53              1.0   \n",
       "350828  2018-09-10 08:00:00  2018-09-10 08:05:53              1.0   \n",
       "\n",
       "        dropoff_ward2018  pickup_gc_intersection_id  \\\n",
       "333377               1.0                   13454935   \n",
       "350828               1.0                   13454935   \n",
       "\n",
       "        dropoff_gc_intersection_id     dow timewindow  \\\n",
       "333377                    20232410  Monday     amPeak   \n",
       "350828                    13459809  Monday     amPeak   \n",
       "\n",
       "                                              pickup_geom  \\\n",
       "333377  0101000020E61000005851FD2F49E653C0139F29DE82DC...   \n",
       "350828  0101000020E61000005851FD2F49E653C0139F29DE82DC...   \n",
       "\n",
       "                                             dropoff_geom  lat_pickup  \\\n",
       "333377  0101000020E610000075DC3A49C4E653C09A9B9F7D4DDD...   43.722744   \n",
       "350828  0101000020E61000000DB97F50AAE553C0D1F8C0B9BFD8...   43.722744   \n",
       "\n",
       "        lon_pickup  lat_dropoff  lon_dropoff  \n",
       "333377  -79.598217    43.728927    -79.60573  \n",
       "350828  -79.598217    43.693351    -79.58852  "
      ]
     },
     "execution_count": 9,
     "metadata": {},
     "output_type": "execute_result"
    }
   ],
   "source": [
    "df.loc[(df['pickup_gc_intersection_id']==13454935) & (df['dow']=='Monday') & (df['timewindow']=='amPeak')]"
   ]
  },
  {
   "cell_type": "code",
   "execution_count": 10,
   "metadata": {},
   "outputs": [
    {
     "data": {
      "text/html": [
       "<div>\n",
       "<style scoped>\n",
       "    .dataframe tbody tr th:only-of-type {\n",
       "        vertical-align: middle;\n",
       "    }\n",
       "\n",
       "    .dataframe tbody tr th {\n",
       "        vertical-align: top;\n",
       "    }\n",
       "\n",
       "    .dataframe thead th {\n",
       "        text-align: right;\n",
       "    }\n",
       "</style>\n",
       "<table border=\"1\" class=\"dataframe\">\n",
       "  <thead>\n",
       "    <tr style=\"text-align: right;\">\n",
       "      <th></th>\n",
       "      <th>pickup_datetime</th>\n",
       "      <th>dropoff_datetime</th>\n",
       "      <th>pickup_ward2018</th>\n",
       "      <th>dropoff_ward2018</th>\n",
       "      <th>pickup_gc_intersection_id</th>\n",
       "      <th>dropoff_gc_intersection_id</th>\n",
       "      <th>dow</th>\n",
       "      <th>timewindow</th>\n",
       "      <th>pickup_geom</th>\n",
       "      <th>dropoff_geom</th>\n",
       "      <th>lat_pickup</th>\n",
       "      <th>lon_pickup</th>\n",
       "      <th>lat_dropoff</th>\n",
       "      <th>lon_dropoff</th>\n",
       "    </tr>\n",
       "  </thead>\n",
       "  <tbody>\n",
       "    <tr>\n",
       "      <th>428572</th>\n",
       "      <td>2018-09-03 08:00:00</td>\n",
       "      <td>2018-09-03 08:03:28</td>\n",
       "      <td>1.0</td>\n",
       "      <td>1.0</td>\n",
       "      <td>13455196</td>\n",
       "      <td>13454935</td>\n",
       "      <td>Monday</td>\n",
       "      <td>amPeak</td>\n",
       "      <td>0101000020E61000005B2EED6468E753C00EA1543F52DC...</td>\n",
       "      <td>0101000020E61000005851FD2F49E653C0139F29DE82DC...</td>\n",
       "      <td>43.72126</td>\n",
       "      <td>-79.615747</td>\n",
       "      <td>43.722744</td>\n",
       "      <td>-79.598217</td>\n",
       "    </tr>\n",
       "  </tbody>\n",
       "</table>\n",
       "</div>"
      ],
      "text/plain": [
       "            pickup_datetime     dropoff_datetime  pickup_ward2018  \\\n",
       "428572  2018-09-03 08:00:00  2018-09-03 08:03:28              1.0   \n",
       "\n",
       "        dropoff_ward2018  pickup_gc_intersection_id  \\\n",
       "428572               1.0                   13455196   \n",
       "\n",
       "        dropoff_gc_intersection_id     dow timewindow  \\\n",
       "428572                    13454935  Monday     amPeak   \n",
       "\n",
       "                                              pickup_geom  \\\n",
       "428572  0101000020E61000005B2EED6468E753C00EA1543F52DC...   \n",
       "\n",
       "                                             dropoff_geom  lat_pickup  \\\n",
       "428572  0101000020E61000005851FD2F49E653C0139F29DE82DC...    43.72126   \n",
       "\n",
       "        lon_pickup  lat_dropoff  lon_dropoff  \n",
       "428572  -79.615747    43.722744   -79.598217  "
      ]
     },
     "execution_count": 10,
     "metadata": {},
     "output_type": "execute_result"
    }
   ],
   "source": [
    "df.loc[(df['dropoff_gc_intersection_id']==13454935) & (df['dow']=='Monday') & (df['timewindow']=='amPeak')]"
   ]
  },
  {
   "cell_type": "code",
   "execution_count": null,
   "metadata": {},
   "outputs": [],
   "source": []
  },
  {
   "cell_type": "markdown",
   "metadata": {},
   "source": [
    "# Housekeeping"
   ]
  },
  {
   "cell_type": "markdown",
   "metadata": {},
   "source": [
    "## 1. Round lat, lon to 4 decimal places"
   ]
  },
  {
   "cell_type": "code",
   "execution_count": 11,
   "metadata": {},
   "outputs": [],
   "source": [
    "n=4 # number of decimals to round to\n",
    "\n",
    "df['lat_pickup'] = df['lat_pickup'].round(decimals=n)\n",
    "df['lon_pickup'] = df['lon_pickup'].round(decimals=n)\n",
    "\n",
    "df['lat_dropoff'] = df['lat_dropoff'].round(decimals=n)\n",
    "df['lon_dropoff'] = df['lon_dropoff'].round(decimals=n)"
   ]
  },
  {
   "cell_type": "markdown",
   "metadata": {},
   "source": [
    "## 2. Filter out rows where neither pickup or dropoff wards are the ward of interest\n",
    "Make col `keep` = 1 for where pick-up or for drop-off wards are the ward of interest"
   ]
  },
  {
   "cell_type": "code",
   "execution_count": 12,
   "metadata": {},
   "outputs": [],
   "source": [
    "# Assign a Pickup or Dropoff in column 'type'\n",
    "df['keep'] = np.nan\n",
    "df['latitude'] = np.nan\n",
    "df['longitude'] = np.nan\n",
    "\n",
    "df.loc[(df['pickup_ward2018']==ward) | (df['dropoff_ward2018']==ward), 'keep'] = 1"
   ]
  },
  {
   "cell_type": "code",
   "execution_count": 13,
   "metadata": {},
   "outputs": [
    {
     "data": {
      "text/plain": [
       "array([ 1., nan])"
      ]
     },
     "execution_count": 13,
     "metadata": {},
     "output_type": "execute_result"
    }
   ],
   "source": [
    "# Check\n",
    "df['keep'].unique()"
   ]
  },
  {
   "cell_type": "code",
   "execution_count": 14,
   "metadata": {},
   "outputs": [],
   "source": [
    "# Keep only rows where `keep` is not null\n",
    "df = df[df['keep'].notnull()]"
   ]
  },
  {
   "cell_type": "code",
   "execution_count": 15,
   "metadata": {},
   "outputs": [
    {
     "data": {
      "text/plain": [
       "array([1.])"
      ]
     },
     "execution_count": 15,
     "metadata": {},
     "output_type": "execute_result"
    }
   ],
   "source": [
    "# Check\n",
    "df['keep'].unique()"
   ]
  },
  {
   "cell_type": "code",
   "execution_count": 16,
   "metadata": {},
   "outputs": [
    {
     "name": "stdout",
     "output_type": "stream",
     "text": [
      "(166086, 17)\n"
     ]
    }
   ],
   "source": [
    "print(df.shape)"
   ]
  },
  {
   "cell_type": "code",
   "execution_count": 17,
   "metadata": {},
   "outputs": [
    {
     "data": {
      "text/html": [
       "<div>\n",
       "<style scoped>\n",
       "    .dataframe tbody tr th:only-of-type {\n",
       "        vertical-align: middle;\n",
       "    }\n",
       "\n",
       "    .dataframe tbody tr th {\n",
       "        vertical-align: top;\n",
       "    }\n",
       "\n",
       "    .dataframe thead th {\n",
       "        text-align: right;\n",
       "    }\n",
       "</style>\n",
       "<table border=\"1\" class=\"dataframe\">\n",
       "  <thead>\n",
       "    <tr style=\"text-align: right;\">\n",
       "      <th></th>\n",
       "      <th>pickup_datetime</th>\n",
       "      <th>dropoff_datetime</th>\n",
       "      <th>pickup_ward2018</th>\n",
       "      <th>dropoff_ward2018</th>\n",
       "      <th>pickup_gc_intersection_id</th>\n",
       "      <th>dropoff_gc_intersection_id</th>\n",
       "      <th>dow</th>\n",
       "      <th>timewindow</th>\n",
       "      <th>pickup_geom</th>\n",
       "      <th>dropoff_geom</th>\n",
       "      <th>lat_pickup</th>\n",
       "      <th>lon_pickup</th>\n",
       "      <th>lat_dropoff</th>\n",
       "      <th>lon_dropoff</th>\n",
       "      <th>keep</th>\n",
       "      <th>latitude</th>\n",
       "      <th>longitude</th>\n",
       "    </tr>\n",
       "  </thead>\n",
       "  <tbody>\n",
       "    <tr>\n",
       "      <th>0</th>\n",
       "      <td>2018-09-03 00:00:00</td>\n",
       "      <td>2018-09-03 00:34:01</td>\n",
       "      <td>18.0</td>\n",
       "      <td>10.0</td>\n",
       "      <td>13447475</td>\n",
       "      <td>13467654</td>\n",
       "      <td>Monday</td>\n",
       "      <td>nightII</td>\n",
       "      <td>0101000020E61000005BE2AF6670DA53C01D22DBEA93E2...</td>\n",
       "      <td>0101000020E610000013E6CE309BD953C0938FE7777DD2...</td>\n",
       "      <td>43.7701</td>\n",
       "      <td>-79.4131</td>\n",
       "      <td>43.6445</td>\n",
       "      <td>-79.4001</td>\n",
       "      <td>1.0</td>\n",
       "      <td>NaN</td>\n",
       "      <td>NaN</td>\n",
       "    </tr>\n",
       "    <tr>\n",
       "      <th>1</th>\n",
       "      <td>2018-09-03 00:00:00</td>\n",
       "      <td>2018-09-03 00:10:54</td>\n",
       "      <td>10.0</td>\n",
       "      <td>13.0</td>\n",
       "      <td>13467763</td>\n",
       "      <td>13464030</td>\n",
       "      <td>Monday</td>\n",
       "      <td>nightII</td>\n",
       "      <td>0101000020E610000051E519D30AD953C0C23B89A05BD2...</td>\n",
       "      <td>0101000020E610000079E6DB3E68D853C00F3AF08356D5...</td>\n",
       "      <td>43.6434</td>\n",
       "      <td>-79.3913</td>\n",
       "      <td>43.6667</td>\n",
       "      <td>-79.3814</td>\n",
       "      <td>1.0</td>\n",
       "      <td>NaN</td>\n",
       "      <td>NaN</td>\n",
       "    </tr>\n",
       "    <tr>\n",
       "      <th>2</th>\n",
       "      <td>2018-09-03 00:00:00</td>\n",
       "      <td>2018-09-03 00:12:34</td>\n",
       "      <td>13.0</td>\n",
       "      <td>10.0</td>\n",
       "      <td>13464551</td>\n",
       "      <td>13467763</td>\n",
       "      <td>Monday</td>\n",
       "      <td>nightII</td>\n",
       "      <td>0101000020E6100000A342F6F3C6D753C0E8EE4CFEEDD4...</td>\n",
       "      <td>0101000020E610000051E519D30AD953C0C23B89A05BD2...</td>\n",
       "      <td>43.6635</td>\n",
       "      <td>-79.3715</td>\n",
       "      <td>43.6434</td>\n",
       "      <td>-79.3913</td>\n",
       "      <td>1.0</td>\n",
       "      <td>NaN</td>\n",
       "      <td>NaN</td>\n",
       "    </tr>\n",
       "    <tr>\n",
       "      <th>7</th>\n",
       "      <td>2018-09-03 00:00:00</td>\n",
       "      <td>2018-09-03 00:25:12</td>\n",
       "      <td>10.0</td>\n",
       "      <td>23.0</td>\n",
       "      <td>13467149</td>\n",
       "      <td>13445567</td>\n",
       "      <td>Monday</td>\n",
       "      <td>nightII</td>\n",
       "      <td>0101000020E6100000114B23960FD953C0EB083B20E4D2...</td>\n",
       "      <td>0101000020E610000021F13FBAB7D153C0B3D1137822E4...</td>\n",
       "      <td>43.6476</td>\n",
       "      <td>-79.3916</td>\n",
       "      <td>43.7823</td>\n",
       "      <td>-79.2768</td>\n",
       "      <td>1.0</td>\n",
       "      <td>NaN</td>\n",
       "      <td>NaN</td>\n",
       "    </tr>\n",
       "    <tr>\n",
       "      <th>8</th>\n",
       "      <td>2018-09-03 00:00:00</td>\n",
       "      <td>2018-09-03 00:13:19</td>\n",
       "      <td>10.0</td>\n",
       "      <td>10.0</td>\n",
       "      <td>14621058</td>\n",
       "      <td>13467746</td>\n",
       "      <td>Monday</td>\n",
       "      <td>nightII</td>\n",
       "      <td>0101000020E6100000363D49368ED853C0D81E02B61FD2...</td>\n",
       "      <td>0101000020E610000045A22B6CE1DA53C095E3C7F86DD2...</td>\n",
       "      <td>43.6416</td>\n",
       "      <td>-79.3837</td>\n",
       "      <td>43.6440</td>\n",
       "      <td>-79.4200</td>\n",
       "      <td>1.0</td>\n",
       "      <td>NaN</td>\n",
       "      <td>NaN</td>\n",
       "    </tr>\n",
       "  </tbody>\n",
       "</table>\n",
       "</div>"
      ],
      "text/plain": [
       "       pickup_datetime     dropoff_datetime  pickup_ward2018  \\\n",
       "0  2018-09-03 00:00:00  2018-09-03 00:34:01             18.0   \n",
       "1  2018-09-03 00:00:00  2018-09-03 00:10:54             10.0   \n",
       "2  2018-09-03 00:00:00  2018-09-03 00:12:34             13.0   \n",
       "7  2018-09-03 00:00:00  2018-09-03 00:25:12             10.0   \n",
       "8  2018-09-03 00:00:00  2018-09-03 00:13:19             10.0   \n",
       "\n",
       "   dropoff_ward2018  pickup_gc_intersection_id  dropoff_gc_intersection_id  \\\n",
       "0              10.0                   13447475                    13467654   \n",
       "1              13.0                   13467763                    13464030   \n",
       "2              10.0                   13464551                    13467763   \n",
       "7              23.0                   13467149                    13445567   \n",
       "8              10.0                   14621058                    13467746   \n",
       "\n",
       "      dow timewindow                                        pickup_geom  \\\n",
       "0  Monday    nightII  0101000020E61000005BE2AF6670DA53C01D22DBEA93E2...   \n",
       "1  Monday    nightII  0101000020E610000051E519D30AD953C0C23B89A05BD2...   \n",
       "2  Monday    nightII  0101000020E6100000A342F6F3C6D753C0E8EE4CFEEDD4...   \n",
       "7  Monday    nightII  0101000020E6100000114B23960FD953C0EB083B20E4D2...   \n",
       "8  Monday    nightII  0101000020E6100000363D49368ED853C0D81E02B61FD2...   \n",
       "\n",
       "                                        dropoff_geom  lat_pickup  lon_pickup  \\\n",
       "0  0101000020E610000013E6CE309BD953C0938FE7777DD2...     43.7701    -79.4131   \n",
       "1  0101000020E610000079E6DB3E68D853C00F3AF08356D5...     43.6434    -79.3913   \n",
       "2  0101000020E610000051E519D30AD953C0C23B89A05BD2...     43.6635    -79.3715   \n",
       "7  0101000020E610000021F13FBAB7D153C0B3D1137822E4...     43.6476    -79.3916   \n",
       "8  0101000020E610000045A22B6CE1DA53C095E3C7F86DD2...     43.6416    -79.3837   \n",
       "\n",
       "   lat_dropoff  lon_dropoff  keep  latitude  longitude  \n",
       "0      43.6445     -79.4001   1.0       NaN        NaN  \n",
       "1      43.6667     -79.3814   1.0       NaN        NaN  \n",
       "2      43.6434     -79.3913   1.0       NaN        NaN  \n",
       "7      43.7823     -79.2768   1.0       NaN        NaN  \n",
       "8      43.6440     -79.4200   1.0       NaN        NaN  "
      ]
     },
     "execution_count": 17,
     "metadata": {},
     "output_type": "execute_result"
    }
   ],
   "source": [
    "df.head(5)"
   ]
  },
  {
   "cell_type": "code",
   "execution_count": null,
   "metadata": {},
   "outputs": [],
   "source": []
  },
  {
   "cell_type": "markdown",
   "metadata": {},
   "source": [
    "## 3a. Split df into two dfs for pickups and dropoffs separately\n",
    "one where pickup ward == ward, the other where dropoff_ward == ward  \n",
    "\n",
    "Assign `type` = 1 for pickup df, 5 for dropoff df."
   ]
  },
  {
   "cell_type": "code",
   "execution_count": 18,
   "metadata": {},
   "outputs": [
    {
     "name": "stderr",
     "output_type": "stream",
     "text": [
      "/home/test/anaconda3/envs/vfh/lib/python3.6/site-packages/ipykernel_launcher.py:3: SettingWithCopyWarning: \n",
      "A value is trying to be set on a copy of a slice from a DataFrame.\n",
      "Try using .loc[row_indexer,col_indexer] = value instead\n",
      "\n",
      "See the caveats in the documentation: http://pandas.pydata.org/pandas-docs/stable/indexing.html#indexing-view-versus-copy\n",
      "  This is separate from the ipykernel package so we can avoid doing imports until\n"
     ]
    }
   ],
   "source": [
    "df_pu = pd.DataFrame()\n",
    "df_pu = df.loc[df['pickup_ward2018']==ward]\n",
    "df_pu['type'] = 1"
   ]
  },
  {
   "cell_type": "code",
   "execution_count": 19,
   "metadata": {},
   "outputs": [
    {
     "name": "stderr",
     "output_type": "stream",
     "text": [
      "/home/test/anaconda3/envs/vfh/lib/python3.6/site-packages/ipykernel_launcher.py:3: SettingWithCopyWarning: \n",
      "A value is trying to be set on a copy of a slice from a DataFrame.\n",
      "Try using .loc[row_indexer,col_indexer] = value instead\n",
      "\n",
      "See the caveats in the documentation: http://pandas.pydata.org/pandas-docs/stable/indexing.html#indexing-view-versus-copy\n",
      "  This is separate from the ipykernel package so we can avoid doing imports until\n"
     ]
    }
   ],
   "source": [
    "df_do = pd.DataFrame()\n",
    "df_do = df.loc[df['dropoff_ward2018']==ward]\n",
    "df_do['type'] = 5"
   ]
  },
  {
   "cell_type": "code",
   "execution_count": 20,
   "metadata": {},
   "outputs": [
    {
     "data": {
      "text/html": [
       "<div>\n",
       "<style scoped>\n",
       "    .dataframe tbody tr th:only-of-type {\n",
       "        vertical-align: middle;\n",
       "    }\n",
       "\n",
       "    .dataframe tbody tr th {\n",
       "        vertical-align: top;\n",
       "    }\n",
       "\n",
       "    .dataframe thead th {\n",
       "        text-align: right;\n",
       "    }\n",
       "</style>\n",
       "<table border=\"1\" class=\"dataframe\">\n",
       "  <thead>\n",
       "    <tr style=\"text-align: right;\">\n",
       "      <th></th>\n",
       "      <th>pickup_datetime</th>\n",
       "      <th>dropoff_datetime</th>\n",
       "      <th>pickup_ward2018</th>\n",
       "      <th>dropoff_ward2018</th>\n",
       "      <th>pickup_gc_intersection_id</th>\n",
       "      <th>dropoff_gc_intersection_id</th>\n",
       "      <th>dow</th>\n",
       "      <th>timewindow</th>\n",
       "      <th>pickup_geom</th>\n",
       "      <th>dropoff_geom</th>\n",
       "      <th>lat_pickup</th>\n",
       "      <th>lon_pickup</th>\n",
       "      <th>lat_dropoff</th>\n",
       "      <th>lon_dropoff</th>\n",
       "      <th>keep</th>\n",
       "      <th>latitude</th>\n",
       "      <th>longitude</th>\n",
       "      <th>type</th>\n",
       "    </tr>\n",
       "  </thead>\n",
       "  <tbody>\n",
       "    <tr>\n",
       "      <th>1</th>\n",
       "      <td>2018-09-03 00:00:00</td>\n",
       "      <td>2018-09-03 00:10:54</td>\n",
       "      <td>10.0</td>\n",
       "      <td>13.0</td>\n",
       "      <td>13467763</td>\n",
       "      <td>13464030</td>\n",
       "      <td>Monday</td>\n",
       "      <td>nightII</td>\n",
       "      <td>0101000020E610000051E519D30AD953C0C23B89A05BD2...</td>\n",
       "      <td>0101000020E610000079E6DB3E68D853C00F3AF08356D5...</td>\n",
       "      <td>43.6434</td>\n",
       "      <td>-79.3913</td>\n",
       "      <td>43.6667</td>\n",
       "      <td>-79.3814</td>\n",
       "      <td>1.0</td>\n",
       "      <td>NaN</td>\n",
       "      <td>NaN</td>\n",
       "      <td>1</td>\n",
       "    </tr>\n",
       "    <tr>\n",
       "      <th>7</th>\n",
       "      <td>2018-09-03 00:00:00</td>\n",
       "      <td>2018-09-03 00:25:12</td>\n",
       "      <td>10.0</td>\n",
       "      <td>23.0</td>\n",
       "      <td>13467149</td>\n",
       "      <td>13445567</td>\n",
       "      <td>Monday</td>\n",
       "      <td>nightII</td>\n",
       "      <td>0101000020E6100000114B23960FD953C0EB083B20E4D2...</td>\n",
       "      <td>0101000020E610000021F13FBAB7D153C0B3D1137822E4...</td>\n",
       "      <td>43.6476</td>\n",
       "      <td>-79.3916</td>\n",
       "      <td>43.7823</td>\n",
       "      <td>-79.2768</td>\n",
       "      <td>1.0</td>\n",
       "      <td>NaN</td>\n",
       "      <td>NaN</td>\n",
       "      <td>1</td>\n",
       "    </tr>\n",
       "    <tr>\n",
       "      <th>8</th>\n",
       "      <td>2018-09-03 00:00:00</td>\n",
       "      <td>2018-09-03 00:13:19</td>\n",
       "      <td>10.0</td>\n",
       "      <td>10.0</td>\n",
       "      <td>14621058</td>\n",
       "      <td>13467746</td>\n",
       "      <td>Monday</td>\n",
       "      <td>nightII</td>\n",
       "      <td>0101000020E6100000363D49368ED853C0D81E02B61FD2...</td>\n",
       "      <td>0101000020E610000045A22B6CE1DA53C095E3C7F86DD2...</td>\n",
       "      <td>43.6416</td>\n",
       "      <td>-79.3837</td>\n",
       "      <td>43.6440</td>\n",
       "      <td>-79.4200</td>\n",
       "      <td>1.0</td>\n",
       "      <td>NaN</td>\n",
       "      <td>NaN</td>\n",
       "      <td>1</td>\n",
       "    </tr>\n",
       "    <tr>\n",
       "      <th>10</th>\n",
       "      <td>2018-09-03 00:00:00</td>\n",
       "      <td>2018-09-03 00:07:58</td>\n",
       "      <td>10.0</td>\n",
       "      <td>10.0</td>\n",
       "      <td>13467929</td>\n",
       "      <td>13467729</td>\n",
       "      <td>Monday</td>\n",
       "      <td>nightII</td>\n",
       "      <td>0101000020E6100000855DE4035AD853C096EC9BA52BD2...</td>\n",
       "      <td>0101000020E610000035A3F68DF5D853C00B8F00E564D2...</td>\n",
       "      <td>43.6420</td>\n",
       "      <td>-79.3805</td>\n",
       "      <td>43.6437</td>\n",
       "      <td>-79.3900</td>\n",
       "      <td>1.0</td>\n",
       "      <td>NaN</td>\n",
       "      <td>NaN</td>\n",
       "      <td>1</td>\n",
       "    </tr>\n",
       "  </tbody>\n",
       "</table>\n",
       "</div>"
      ],
      "text/plain": [
       "        pickup_datetime     dropoff_datetime  pickup_ward2018  \\\n",
       "1   2018-09-03 00:00:00  2018-09-03 00:10:54             10.0   \n",
       "7   2018-09-03 00:00:00  2018-09-03 00:25:12             10.0   \n",
       "8   2018-09-03 00:00:00  2018-09-03 00:13:19             10.0   \n",
       "10  2018-09-03 00:00:00  2018-09-03 00:07:58             10.0   \n",
       "\n",
       "    dropoff_ward2018  pickup_gc_intersection_id  dropoff_gc_intersection_id  \\\n",
       "1               13.0                   13467763                    13464030   \n",
       "7               23.0                   13467149                    13445567   \n",
       "8               10.0                   14621058                    13467746   \n",
       "10              10.0                   13467929                    13467729   \n",
       "\n",
       "       dow timewindow                                        pickup_geom  \\\n",
       "1   Monday    nightII  0101000020E610000051E519D30AD953C0C23B89A05BD2...   \n",
       "7   Monday    nightII  0101000020E6100000114B23960FD953C0EB083B20E4D2...   \n",
       "8   Monday    nightII  0101000020E6100000363D49368ED853C0D81E02B61FD2...   \n",
       "10  Monday    nightII  0101000020E6100000855DE4035AD853C096EC9BA52BD2...   \n",
       "\n",
       "                                         dropoff_geom  lat_pickup  lon_pickup  \\\n",
       "1   0101000020E610000079E6DB3E68D853C00F3AF08356D5...     43.6434    -79.3913   \n",
       "7   0101000020E610000021F13FBAB7D153C0B3D1137822E4...     43.6476    -79.3916   \n",
       "8   0101000020E610000045A22B6CE1DA53C095E3C7F86DD2...     43.6416    -79.3837   \n",
       "10  0101000020E610000035A3F68DF5D853C00B8F00E564D2...     43.6420    -79.3805   \n",
       "\n",
       "    lat_dropoff  lon_dropoff  keep  latitude  longitude  type  \n",
       "1       43.6667     -79.3814   1.0       NaN        NaN     1  \n",
       "7       43.7823     -79.2768   1.0       NaN        NaN     1  \n",
       "8       43.6440     -79.4200   1.0       NaN        NaN     1  \n",
       "10      43.6437     -79.3900   1.0       NaN        NaN     1  "
      ]
     },
     "execution_count": 20,
     "metadata": {},
     "output_type": "execute_result"
    }
   ],
   "source": [
    "df_pu.head(4)"
   ]
  },
  {
   "cell_type": "code",
   "execution_count": 21,
   "metadata": {},
   "outputs": [
    {
     "name": "stderr",
     "output_type": "stream",
     "text": [
      "/home/test/anaconda3/envs/vfh/lib/python3.6/site-packages/ipykernel_launcher.py:2: SettingWithCopyWarning: \n",
      "A value is trying to be set on a copy of a slice from a DataFrame.\n",
      "Try using .loc[row_indexer,col_indexer] = value instead\n",
      "\n",
      "See the caveats in the documentation: http://pandas.pydata.org/pandas-docs/stable/indexing.html#indexing-view-versus-copy\n",
      "  \n",
      "/home/test/anaconda3/envs/vfh/lib/python3.6/site-packages/ipykernel_launcher.py:3: SettingWithCopyWarning: \n",
      "A value is trying to be set on a copy of a slice from a DataFrame.\n",
      "Try using .loc[row_indexer,col_indexer] = value instead\n",
      "\n",
      "See the caveats in the documentation: http://pandas.pydata.org/pandas-docs/stable/indexing.html#indexing-view-versus-copy\n",
      "  This is separate from the ipykernel package so we can avoid doing imports until\n",
      "/home/test/anaconda3/envs/vfh/lib/python3.6/site-packages/ipykernel_launcher.py:5: SettingWithCopyWarning: \n",
      "A value is trying to be set on a copy of a slice from a DataFrame.\n",
      "Try using .loc[row_indexer,col_indexer] = value instead\n",
      "\n",
      "See the caveats in the documentation: http://pandas.pydata.org/pandas-docs/stable/indexing.html#indexing-view-versus-copy\n",
      "  \"\"\"\n",
      "/home/test/anaconda3/envs/vfh/lib/python3.6/site-packages/ipykernel_launcher.py:6: SettingWithCopyWarning: \n",
      "A value is trying to be set on a copy of a slice from a DataFrame.\n",
      "Try using .loc[row_indexer,col_indexer] = value instead\n",
      "\n",
      "See the caveats in the documentation: http://pandas.pydata.org/pandas-docs/stable/indexing.html#indexing-view-versus-copy\n",
      "  \n"
     ]
    }
   ],
   "source": [
    "# Fill `latitude` and `longitude` col with pickup or dropoff lat/lon\n",
    "df_pu['latitude'] = df_pu['lat_pickup']\n",
    "df_pu['longitude'] = df_pu['lon_pickup']\n",
    "\n",
    "df_do['latitude'] = df_do['lat_dropoff']\n",
    "df_do['longitude'] = df_do['lon_dropoff']"
   ]
  },
  {
   "cell_type": "code",
   "execution_count": null,
   "metadata": {},
   "outputs": [],
   "source": []
  },
  {
   "cell_type": "code",
   "execution_count": 22,
   "metadata": {},
   "outputs": [
    {
     "data": {
      "text/html": [
       "<div>\n",
       "<style scoped>\n",
       "    .dataframe tbody tr th:only-of-type {\n",
       "        vertical-align: middle;\n",
       "    }\n",
       "\n",
       "    .dataframe tbody tr th {\n",
       "        vertical-align: top;\n",
       "    }\n",
       "\n",
       "    .dataframe thead th {\n",
       "        text-align: right;\n",
       "    }\n",
       "</style>\n",
       "<table border=\"1\" class=\"dataframe\">\n",
       "  <thead>\n",
       "    <tr style=\"text-align: right;\">\n",
       "      <th></th>\n",
       "      <th>pickup_datetime</th>\n",
       "      <th>dropoff_datetime</th>\n",
       "      <th>pickup_ward2018</th>\n",
       "      <th>dropoff_ward2018</th>\n",
       "      <th>pickup_gc_intersection_id</th>\n",
       "      <th>dropoff_gc_intersection_id</th>\n",
       "      <th>dow</th>\n",
       "      <th>timewindow</th>\n",
       "      <th>pickup_geom</th>\n",
       "      <th>dropoff_geom</th>\n",
       "      <th>lat_pickup</th>\n",
       "      <th>lon_pickup</th>\n",
       "      <th>lat_dropoff</th>\n",
       "      <th>lon_dropoff</th>\n",
       "      <th>keep</th>\n",
       "      <th>latitude</th>\n",
       "      <th>longitude</th>\n",
       "      <th>type</th>\n",
       "    </tr>\n",
       "  </thead>\n",
       "  <tbody>\n",
       "    <tr>\n",
       "      <th>1</th>\n",
       "      <td>2018-09-03 00:00:00</td>\n",
       "      <td>2018-09-03 00:10:54</td>\n",
       "      <td>10.0</td>\n",
       "      <td>13.0</td>\n",
       "      <td>13467763</td>\n",
       "      <td>13464030</td>\n",
       "      <td>Monday</td>\n",
       "      <td>nightII</td>\n",
       "      <td>0101000020E610000051E519D30AD953C0C23B89A05BD2...</td>\n",
       "      <td>0101000020E610000079E6DB3E68D853C00F3AF08356D5...</td>\n",
       "      <td>43.6434</td>\n",
       "      <td>-79.3913</td>\n",
       "      <td>43.6667</td>\n",
       "      <td>-79.3814</td>\n",
       "      <td>1.0</td>\n",
       "      <td>43.6434</td>\n",
       "      <td>-79.3913</td>\n",
       "      <td>1</td>\n",
       "    </tr>\n",
       "    <tr>\n",
       "      <th>7</th>\n",
       "      <td>2018-09-03 00:00:00</td>\n",
       "      <td>2018-09-03 00:25:12</td>\n",
       "      <td>10.0</td>\n",
       "      <td>23.0</td>\n",
       "      <td>13467149</td>\n",
       "      <td>13445567</td>\n",
       "      <td>Monday</td>\n",
       "      <td>nightII</td>\n",
       "      <td>0101000020E6100000114B23960FD953C0EB083B20E4D2...</td>\n",
       "      <td>0101000020E610000021F13FBAB7D153C0B3D1137822E4...</td>\n",
       "      <td>43.6476</td>\n",
       "      <td>-79.3916</td>\n",
       "      <td>43.7823</td>\n",
       "      <td>-79.2768</td>\n",
       "      <td>1.0</td>\n",
       "      <td>43.6476</td>\n",
       "      <td>-79.3916</td>\n",
       "      <td>1</td>\n",
       "    </tr>\n",
       "    <tr>\n",
       "      <th>8</th>\n",
       "      <td>2018-09-03 00:00:00</td>\n",
       "      <td>2018-09-03 00:13:19</td>\n",
       "      <td>10.0</td>\n",
       "      <td>10.0</td>\n",
       "      <td>14621058</td>\n",
       "      <td>13467746</td>\n",
       "      <td>Monday</td>\n",
       "      <td>nightII</td>\n",
       "      <td>0101000020E6100000363D49368ED853C0D81E02B61FD2...</td>\n",
       "      <td>0101000020E610000045A22B6CE1DA53C095E3C7F86DD2...</td>\n",
       "      <td>43.6416</td>\n",
       "      <td>-79.3837</td>\n",
       "      <td>43.6440</td>\n",
       "      <td>-79.4200</td>\n",
       "      <td>1.0</td>\n",
       "      <td>43.6416</td>\n",
       "      <td>-79.3837</td>\n",
       "      <td>1</td>\n",
       "    </tr>\n",
       "    <tr>\n",
       "      <th>10</th>\n",
       "      <td>2018-09-03 00:00:00</td>\n",
       "      <td>2018-09-03 00:07:58</td>\n",
       "      <td>10.0</td>\n",
       "      <td>10.0</td>\n",
       "      <td>13467929</td>\n",
       "      <td>13467729</td>\n",
       "      <td>Monday</td>\n",
       "      <td>nightII</td>\n",
       "      <td>0101000020E6100000855DE4035AD853C096EC9BA52BD2...</td>\n",
       "      <td>0101000020E610000035A3F68DF5D853C00B8F00E564D2...</td>\n",
       "      <td>43.6420</td>\n",
       "      <td>-79.3805</td>\n",
       "      <td>43.6437</td>\n",
       "      <td>-79.3900</td>\n",
       "      <td>1.0</td>\n",
       "      <td>43.6420</td>\n",
       "      <td>-79.3805</td>\n",
       "      <td>1</td>\n",
       "    </tr>\n",
       "  </tbody>\n",
       "</table>\n",
       "</div>"
      ],
      "text/plain": [
       "        pickup_datetime     dropoff_datetime  pickup_ward2018  \\\n",
       "1   2018-09-03 00:00:00  2018-09-03 00:10:54             10.0   \n",
       "7   2018-09-03 00:00:00  2018-09-03 00:25:12             10.0   \n",
       "8   2018-09-03 00:00:00  2018-09-03 00:13:19             10.0   \n",
       "10  2018-09-03 00:00:00  2018-09-03 00:07:58             10.0   \n",
       "\n",
       "    dropoff_ward2018  pickup_gc_intersection_id  dropoff_gc_intersection_id  \\\n",
       "1               13.0                   13467763                    13464030   \n",
       "7               23.0                   13467149                    13445567   \n",
       "8               10.0                   14621058                    13467746   \n",
       "10              10.0                   13467929                    13467729   \n",
       "\n",
       "       dow timewindow                                        pickup_geom  \\\n",
       "1   Monday    nightII  0101000020E610000051E519D30AD953C0C23B89A05BD2...   \n",
       "7   Monday    nightII  0101000020E6100000114B23960FD953C0EB083B20E4D2...   \n",
       "8   Monday    nightII  0101000020E6100000363D49368ED853C0D81E02B61FD2...   \n",
       "10  Monday    nightII  0101000020E6100000855DE4035AD853C096EC9BA52BD2...   \n",
       "\n",
       "                                         dropoff_geom  lat_pickup  lon_pickup  \\\n",
       "1   0101000020E610000079E6DB3E68D853C00F3AF08356D5...     43.6434    -79.3913   \n",
       "7   0101000020E610000021F13FBAB7D153C0B3D1137822E4...     43.6476    -79.3916   \n",
       "8   0101000020E610000045A22B6CE1DA53C095E3C7F86DD2...     43.6416    -79.3837   \n",
       "10  0101000020E610000035A3F68DF5D853C00B8F00E564D2...     43.6420    -79.3805   \n",
       "\n",
       "    lat_dropoff  lon_dropoff  keep  latitude  longitude  type  \n",
       "1       43.6667     -79.3814   1.0   43.6434   -79.3913     1  \n",
       "7       43.7823     -79.2768   1.0   43.6476   -79.3916     1  \n",
       "8       43.6440     -79.4200   1.0   43.6416   -79.3837     1  \n",
       "10      43.6437     -79.3900   1.0   43.6420   -79.3805     1  "
      ]
     },
     "execution_count": 22,
     "metadata": {},
     "output_type": "execute_result"
    }
   ],
   "source": [
    "df_pu.head(4)"
   ]
  },
  {
   "cell_type": "code",
   "execution_count": 23,
   "metadata": {},
   "outputs": [
    {
     "data": {
      "text/html": [
       "<div>\n",
       "<style scoped>\n",
       "    .dataframe tbody tr th:only-of-type {\n",
       "        vertical-align: middle;\n",
       "    }\n",
       "\n",
       "    .dataframe tbody tr th {\n",
       "        vertical-align: top;\n",
       "    }\n",
       "\n",
       "    .dataframe thead th {\n",
       "        text-align: right;\n",
       "    }\n",
       "</style>\n",
       "<table border=\"1\" class=\"dataframe\">\n",
       "  <thead>\n",
       "    <tr style=\"text-align: right;\">\n",
       "      <th></th>\n",
       "      <th>pickup_datetime</th>\n",
       "      <th>dropoff_datetime</th>\n",
       "      <th>pickup_ward2018</th>\n",
       "      <th>dropoff_ward2018</th>\n",
       "      <th>pickup_gc_intersection_id</th>\n",
       "      <th>dropoff_gc_intersection_id</th>\n",
       "      <th>dow</th>\n",
       "      <th>timewindow</th>\n",
       "      <th>pickup_geom</th>\n",
       "      <th>dropoff_geom</th>\n",
       "      <th>lat_pickup</th>\n",
       "      <th>lon_pickup</th>\n",
       "      <th>lat_dropoff</th>\n",
       "      <th>lon_dropoff</th>\n",
       "      <th>keep</th>\n",
       "      <th>latitude</th>\n",
       "      <th>longitude</th>\n",
       "      <th>type</th>\n",
       "    </tr>\n",
       "  </thead>\n",
       "  <tbody>\n",
       "    <tr>\n",
       "      <th>0</th>\n",
       "      <td>2018-09-03 00:00:00</td>\n",
       "      <td>2018-09-03 00:34:01</td>\n",
       "      <td>18.0</td>\n",
       "      <td>10.0</td>\n",
       "      <td>13447475</td>\n",
       "      <td>13467654</td>\n",
       "      <td>Monday</td>\n",
       "      <td>nightII</td>\n",
       "      <td>0101000020E61000005BE2AF6670DA53C01D22DBEA93E2...</td>\n",
       "      <td>0101000020E610000013E6CE309BD953C0938FE7777DD2...</td>\n",
       "      <td>43.7701</td>\n",
       "      <td>-79.4131</td>\n",
       "      <td>43.6445</td>\n",
       "      <td>-79.4001</td>\n",
       "      <td>1.0</td>\n",
       "      <td>43.6445</td>\n",
       "      <td>-79.4001</td>\n",
       "      <td>5</td>\n",
       "    </tr>\n",
       "    <tr>\n",
       "      <th>2</th>\n",
       "      <td>2018-09-03 00:00:00</td>\n",
       "      <td>2018-09-03 00:12:34</td>\n",
       "      <td>13.0</td>\n",
       "      <td>10.0</td>\n",
       "      <td>13464551</td>\n",
       "      <td>13467763</td>\n",
       "      <td>Monday</td>\n",
       "      <td>nightII</td>\n",
       "      <td>0101000020E6100000A342F6F3C6D753C0E8EE4CFEEDD4...</td>\n",
       "      <td>0101000020E610000051E519D30AD953C0C23B89A05BD2...</td>\n",
       "      <td>43.6635</td>\n",
       "      <td>-79.3715</td>\n",
       "      <td>43.6434</td>\n",
       "      <td>-79.3913</td>\n",
       "      <td>1.0</td>\n",
       "      <td>43.6434</td>\n",
       "      <td>-79.3913</td>\n",
       "      <td>5</td>\n",
       "    </tr>\n",
       "    <tr>\n",
       "      <th>8</th>\n",
       "      <td>2018-09-03 00:00:00</td>\n",
       "      <td>2018-09-03 00:13:19</td>\n",
       "      <td>10.0</td>\n",
       "      <td>10.0</td>\n",
       "      <td>14621058</td>\n",
       "      <td>13467746</td>\n",
       "      <td>Monday</td>\n",
       "      <td>nightII</td>\n",
       "      <td>0101000020E6100000363D49368ED853C0D81E02B61FD2...</td>\n",
       "      <td>0101000020E610000045A22B6CE1DA53C095E3C7F86DD2...</td>\n",
       "      <td>43.6416</td>\n",
       "      <td>-79.3837</td>\n",
       "      <td>43.6440</td>\n",
       "      <td>-79.4200</td>\n",
       "      <td>1.0</td>\n",
       "      <td>43.6440</td>\n",
       "      <td>-79.4200</td>\n",
       "      <td>5</td>\n",
       "    </tr>\n",
       "    <tr>\n",
       "      <th>10</th>\n",
       "      <td>2018-09-03 00:00:00</td>\n",
       "      <td>2018-09-03 00:07:58</td>\n",
       "      <td>10.0</td>\n",
       "      <td>10.0</td>\n",
       "      <td>13467929</td>\n",
       "      <td>13467729</td>\n",
       "      <td>Monday</td>\n",
       "      <td>nightII</td>\n",
       "      <td>0101000020E6100000855DE4035AD853C096EC9BA52BD2...</td>\n",
       "      <td>0101000020E610000035A3F68DF5D853C00B8F00E564D2...</td>\n",
       "      <td>43.6420</td>\n",
       "      <td>-79.3805</td>\n",
       "      <td>43.6437</td>\n",
       "      <td>-79.3900</td>\n",
       "      <td>1.0</td>\n",
       "      <td>43.6437</td>\n",
       "      <td>-79.3900</td>\n",
       "      <td>5</td>\n",
       "    </tr>\n",
       "  </tbody>\n",
       "</table>\n",
       "</div>"
      ],
      "text/plain": [
       "        pickup_datetime     dropoff_datetime  pickup_ward2018  \\\n",
       "0   2018-09-03 00:00:00  2018-09-03 00:34:01             18.0   \n",
       "2   2018-09-03 00:00:00  2018-09-03 00:12:34             13.0   \n",
       "8   2018-09-03 00:00:00  2018-09-03 00:13:19             10.0   \n",
       "10  2018-09-03 00:00:00  2018-09-03 00:07:58             10.0   \n",
       "\n",
       "    dropoff_ward2018  pickup_gc_intersection_id  dropoff_gc_intersection_id  \\\n",
       "0               10.0                   13447475                    13467654   \n",
       "2               10.0                   13464551                    13467763   \n",
       "8               10.0                   14621058                    13467746   \n",
       "10              10.0                   13467929                    13467729   \n",
       "\n",
       "       dow timewindow                                        pickup_geom  \\\n",
       "0   Monday    nightII  0101000020E61000005BE2AF6670DA53C01D22DBEA93E2...   \n",
       "2   Monday    nightII  0101000020E6100000A342F6F3C6D753C0E8EE4CFEEDD4...   \n",
       "8   Monday    nightII  0101000020E6100000363D49368ED853C0D81E02B61FD2...   \n",
       "10  Monday    nightII  0101000020E6100000855DE4035AD853C096EC9BA52BD2...   \n",
       "\n",
       "                                         dropoff_geom  lat_pickup  lon_pickup  \\\n",
       "0   0101000020E610000013E6CE309BD953C0938FE7777DD2...     43.7701    -79.4131   \n",
       "2   0101000020E610000051E519D30AD953C0C23B89A05BD2...     43.6635    -79.3715   \n",
       "8   0101000020E610000045A22B6CE1DA53C095E3C7F86DD2...     43.6416    -79.3837   \n",
       "10  0101000020E610000035A3F68DF5D853C00B8F00E564D2...     43.6420    -79.3805   \n",
       "\n",
       "    lat_dropoff  lon_dropoff  keep  latitude  longitude  type  \n",
       "0       43.6445     -79.4001   1.0   43.6445   -79.4001     5  \n",
       "2       43.6434     -79.3913   1.0   43.6434   -79.3913     5  \n",
       "8       43.6440     -79.4200   1.0   43.6440   -79.4200     5  \n",
       "10      43.6437     -79.3900   1.0   43.6437   -79.3900     5  "
      ]
     },
     "execution_count": 23,
     "metadata": {},
     "output_type": "execute_result"
    }
   ],
   "source": [
    "df_do.head(4)"
   ]
  },
  {
   "cell_type": "code",
   "execution_count": null,
   "metadata": {},
   "outputs": [],
   "source": []
  },
  {
   "cell_type": "markdown",
   "metadata": {},
   "source": [
    "## 3b. Aggregate pickups and dropoffs"
   ]
  },
  {
   "cell_type": "code",
   "execution_count": 24,
   "metadata": {},
   "outputs": [
    {
     "data": {
      "text/html": [
       "<div>\n",
       "<style scoped>\n",
       "    .dataframe tbody tr th:only-of-type {\n",
       "        vertical-align: middle;\n",
       "    }\n",
       "\n",
       "    .dataframe tbody tr th {\n",
       "        vertical-align: top;\n",
       "    }\n",
       "\n",
       "    .dataframe thead th {\n",
       "        text-align: right;\n",
       "    }\n",
       "</style>\n",
       "<table border=\"1\" class=\"dataframe\">\n",
       "  <thead>\n",
       "    <tr style=\"text-align: right;\">\n",
       "      <th></th>\n",
       "      <th>type</th>\n",
       "      <th>dow</th>\n",
       "      <th>timewindow</th>\n",
       "      <th>latitude</th>\n",
       "      <th>longitude</th>\n",
       "      <th>pickup_gc_intersection_id</th>\n",
       "      <th>counts</th>\n",
       "    </tr>\n",
       "  </thead>\n",
       "  <tbody>\n",
       "    <tr>\n",
       "      <th>0</th>\n",
       "      <td>1</td>\n",
       "      <td>Monday</td>\n",
       "      <td>amPeak</td>\n",
       "      <td>43.6311</td>\n",
       "      <td>-79.4155</td>\n",
       "      <td>30021269</td>\n",
       "      <td>1</td>\n",
       "    </tr>\n",
       "    <tr>\n",
       "      <th>1</th>\n",
       "      <td>1</td>\n",
       "      <td>Monday</td>\n",
       "      <td>amPeak</td>\n",
       "      <td>43.6316</td>\n",
       "      <td>-79.4273</td>\n",
       "      <td>13469141</td>\n",
       "      <td>1</td>\n",
       "    </tr>\n",
       "    <tr>\n",
       "      <th>2</th>\n",
       "      <td>1</td>\n",
       "      <td>Monday</td>\n",
       "      <td>amPeak</td>\n",
       "      <td>43.6320</td>\n",
       "      <td>-79.4195</td>\n",
       "      <td>20229234</td>\n",
       "      <td>1</td>\n",
       "    </tr>\n",
       "  </tbody>\n",
       "</table>\n",
       "</div>"
      ],
      "text/plain": [
       "   type     dow timewindow  latitude  longitude  pickup_gc_intersection_id  \\\n",
       "0     1  Monday     amPeak   43.6311   -79.4155                   30021269   \n",
       "1     1  Monday     amPeak   43.6316   -79.4273                   13469141   \n",
       "2     1  Monday     amPeak   43.6320   -79.4195                   20229234   \n",
       "\n",
       "   counts  \n",
       "0       1  \n",
       "1       1  \n",
       "2       1  "
      ]
     },
     "execution_count": 24,
     "metadata": {},
     "output_type": "execute_result"
    }
   ],
   "source": [
    "df_pu_agg=pd.DataFrame()\n",
    "\n",
    "df_pu_agg = df_pu.groupby(\n",
    "    ['type','dow','timewindow','latitude','longitude','pickup_gc_intersection_id']\n",
    "    ).size().reset_index(name='counts')\n",
    "\n",
    "df_pu_agg.head(3)"
   ]
  },
  {
   "cell_type": "code",
   "execution_count": 25,
   "metadata": {},
   "outputs": [
    {
     "data": {
      "text/html": [
       "<div>\n",
       "<style scoped>\n",
       "    .dataframe tbody tr th:only-of-type {\n",
       "        vertical-align: middle;\n",
       "    }\n",
       "\n",
       "    .dataframe tbody tr th {\n",
       "        vertical-align: top;\n",
       "    }\n",
       "\n",
       "    .dataframe thead th {\n",
       "        text-align: right;\n",
       "    }\n",
       "</style>\n",
       "<table border=\"1\" class=\"dataframe\">\n",
       "  <thead>\n",
       "    <tr style=\"text-align: right;\">\n",
       "      <th></th>\n",
       "      <th>type</th>\n",
       "      <th>dow</th>\n",
       "      <th>timewindow</th>\n",
       "      <th>latitude</th>\n",
       "      <th>longitude</th>\n",
       "      <th>pickup_gc_intersection_id</th>\n",
       "      <th>counts</th>\n",
       "    </tr>\n",
       "  </thead>\n",
       "  <tbody>\n",
       "  </tbody>\n",
       "</table>\n",
       "</div>"
      ],
      "text/plain": [
       "Empty DataFrame\n",
       "Columns: [type, dow, timewindow, latitude, longitude, pickup_gc_intersection_id, counts]\n",
       "Index: []"
      ]
     },
     "execution_count": 25,
     "metadata": {},
     "output_type": "execute_result"
    }
   ],
   "source": [
    "# Check\n",
    "df_pu_agg.loc[df_pu_agg['pickup_gc_intersection_id']==13454935]"
   ]
  },
  {
   "cell_type": "code",
   "execution_count": null,
   "metadata": {},
   "outputs": [],
   "source": []
  },
  {
   "cell_type": "code",
   "execution_count": 26,
   "metadata": {},
   "outputs": [
    {
     "data": {
      "text/html": [
       "<div>\n",
       "<style scoped>\n",
       "    .dataframe tbody tr th:only-of-type {\n",
       "        vertical-align: middle;\n",
       "    }\n",
       "\n",
       "    .dataframe tbody tr th {\n",
       "        vertical-align: top;\n",
       "    }\n",
       "\n",
       "    .dataframe thead th {\n",
       "        text-align: right;\n",
       "    }\n",
       "</style>\n",
       "<table border=\"1\" class=\"dataframe\">\n",
       "  <thead>\n",
       "    <tr style=\"text-align: right;\">\n",
       "      <th></th>\n",
       "      <th>type</th>\n",
       "      <th>dow</th>\n",
       "      <th>timewindow</th>\n",
       "      <th>latitude</th>\n",
       "      <th>longitude</th>\n",
       "      <th>dropoff_gc_intersection_id</th>\n",
       "      <th>counts</th>\n",
       "    </tr>\n",
       "  </thead>\n",
       "  <tbody>\n",
       "    <tr>\n",
       "      <th>0</th>\n",
       "      <td>5</td>\n",
       "      <td>Monday</td>\n",
       "      <td>amPeak</td>\n",
       "      <td>43.6309</td>\n",
       "      <td>-79.4198</td>\n",
       "      <td>13469187</td>\n",
       "      <td>1</td>\n",
       "    </tr>\n",
       "    <tr>\n",
       "      <th>1</th>\n",
       "      <td>5</td>\n",
       "      <td>Monday</td>\n",
       "      <td>amPeak</td>\n",
       "      <td>43.6311</td>\n",
       "      <td>-79.4155</td>\n",
       "      <td>30021269</td>\n",
       "      <td>2</td>\n",
       "    </tr>\n",
       "    <tr>\n",
       "      <th>2</th>\n",
       "      <td>5</td>\n",
       "      <td>Monday</td>\n",
       "      <td>amPeak</td>\n",
       "      <td>43.6312</td>\n",
       "      <td>-79.4102</td>\n",
       "      <td>13969590</td>\n",
       "      <td>2</td>\n",
       "    </tr>\n",
       "  </tbody>\n",
       "</table>\n",
       "</div>"
      ],
      "text/plain": [
       "   type     dow timewindow  latitude  longitude  dropoff_gc_intersection_id  \\\n",
       "0     5  Monday     amPeak   43.6309   -79.4198                    13469187   \n",
       "1     5  Monday     amPeak   43.6311   -79.4155                    30021269   \n",
       "2     5  Monday     amPeak   43.6312   -79.4102                    13969590   \n",
       "\n",
       "   counts  \n",
       "0       1  \n",
       "1       2  \n",
       "2       2  "
      ]
     },
     "execution_count": 26,
     "metadata": {},
     "output_type": "execute_result"
    }
   ],
   "source": [
    "df_do_agg=pd.DataFrame()\n",
    "\n",
    "df_do_agg = df_do.groupby(\n",
    "    ['type','dow','timewindow','latitude','longitude','dropoff_gc_intersection_id']\n",
    "    ).size().reset_index(name='counts')\n",
    "\n",
    "df_do_agg.head(3)"
   ]
  },
  {
   "cell_type": "code",
   "execution_count": 27,
   "metadata": {},
   "outputs": [
    {
     "data": {
      "text/html": [
       "<div>\n",
       "<style scoped>\n",
       "    .dataframe tbody tr th:only-of-type {\n",
       "        vertical-align: middle;\n",
       "    }\n",
       "\n",
       "    .dataframe tbody tr th {\n",
       "        vertical-align: top;\n",
       "    }\n",
       "\n",
       "    .dataframe thead th {\n",
       "        text-align: right;\n",
       "    }\n",
       "</style>\n",
       "<table border=\"1\" class=\"dataframe\">\n",
       "  <thead>\n",
       "    <tr style=\"text-align: right;\">\n",
       "      <th></th>\n",
       "      <th>type</th>\n",
       "      <th>dow</th>\n",
       "      <th>timewindow</th>\n",
       "      <th>latitude</th>\n",
       "      <th>longitude</th>\n",
       "      <th>dropoff_gc_intersection_id</th>\n",
       "      <th>counts</th>\n",
       "    </tr>\n",
       "  </thead>\n",
       "  <tbody>\n",
       "  </tbody>\n",
       "</table>\n",
       "</div>"
      ],
      "text/plain": [
       "Empty DataFrame\n",
       "Columns: [type, dow, timewindow, latitude, longitude, dropoff_gc_intersection_id, counts]\n",
       "Index: []"
      ]
     },
     "execution_count": 27,
     "metadata": {},
     "output_type": "execute_result"
    }
   ],
   "source": [
    "# Check\n",
    "df_do_agg.loc[df_do_agg['dropoff_gc_intersection_id']==13454935]"
   ]
  },
  {
   "cell_type": "code",
   "execution_count": null,
   "metadata": {},
   "outputs": [],
   "source": []
  },
  {
   "cell_type": "markdown",
   "metadata": {},
   "source": [
    "## 4. Make a common table on common columns"
   ]
  },
  {
   "cell_type": "markdown",
   "metadata": {},
   "source": [
    "### a. Aggregates\n",
    "Concat `df_pu_agg` and `df_do_agg`."
   ]
  },
  {
   "cell_type": "code",
   "execution_count": 28,
   "metadata": {},
   "outputs": [],
   "source": [
    "# First rename intersection id to common name to allow concat\n",
    "df_pu_agg = df_pu_agg.rename(columns={'pickup_gc_intersection_id': 'intersection_id'})\n",
    "df_do_agg = df_do_agg.rename(columns={'dropoff_gc_intersection_id': 'intersection_id'})"
   ]
  },
  {
   "cell_type": "code",
   "execution_count": 29,
   "metadata": {},
   "outputs": [
    {
     "data": {
      "text/html": [
       "<div>\n",
       "<style scoped>\n",
       "    .dataframe tbody tr th:only-of-type {\n",
       "        vertical-align: middle;\n",
       "    }\n",
       "\n",
       "    .dataframe tbody tr th {\n",
       "        vertical-align: top;\n",
       "    }\n",
       "\n",
       "    .dataframe thead th {\n",
       "        text-align: right;\n",
       "    }\n",
       "</style>\n",
       "<table border=\"1\" class=\"dataframe\">\n",
       "  <thead>\n",
       "    <tr style=\"text-align: right;\">\n",
       "      <th></th>\n",
       "      <th>type</th>\n",
       "      <th>dow</th>\n",
       "      <th>timewindow</th>\n",
       "      <th>latitude</th>\n",
       "      <th>longitude</th>\n",
       "      <th>intersection_id</th>\n",
       "      <th>counts</th>\n",
       "    </tr>\n",
       "  </thead>\n",
       "  <tbody>\n",
       "    <tr>\n",
       "      <th>0</th>\n",
       "      <td>1</td>\n",
       "      <td>Monday</td>\n",
       "      <td>amPeak</td>\n",
       "      <td>43.6311</td>\n",
       "      <td>-79.4155</td>\n",
       "      <td>30021269</td>\n",
       "      <td>1</td>\n",
       "    </tr>\n",
       "    <tr>\n",
       "      <th>1</th>\n",
       "      <td>1</td>\n",
       "      <td>Monday</td>\n",
       "      <td>amPeak</td>\n",
       "      <td>43.6316</td>\n",
       "      <td>-79.4273</td>\n",
       "      <td>13469141</td>\n",
       "      <td>1</td>\n",
       "    </tr>\n",
       "    <tr>\n",
       "      <th>2</th>\n",
       "      <td>1</td>\n",
       "      <td>Monday</td>\n",
       "      <td>amPeak</td>\n",
       "      <td>43.6320</td>\n",
       "      <td>-79.4195</td>\n",
       "      <td>20229234</td>\n",
       "      <td>1</td>\n",
       "    </tr>\n",
       "    <tr>\n",
       "      <th>3</th>\n",
       "      <td>1</td>\n",
       "      <td>Monday</td>\n",
       "      <td>amPeak</td>\n",
       "      <td>43.6322</td>\n",
       "      <td>-79.4005</td>\n",
       "      <td>13469040</td>\n",
       "      <td>2</td>\n",
       "    </tr>\n",
       "  </tbody>\n",
       "</table>\n",
       "</div>"
      ],
      "text/plain": [
       "   type     dow timewindow  latitude  longitude  intersection_id  counts\n",
       "0     1  Monday     amPeak   43.6311   -79.4155         30021269       1\n",
       "1     1  Monday     amPeak   43.6316   -79.4273         13469141       1\n",
       "2     1  Monday     amPeak   43.6320   -79.4195         20229234       1\n",
       "3     1  Monday     amPeak   43.6322   -79.4005         13469040       2"
      ]
     },
     "execution_count": 29,
     "metadata": {},
     "output_type": "execute_result"
    }
   ],
   "source": [
    "cols = ['type','dow','timewindow','latitude','longitude','intersection_id','counts']\n",
    "\n",
    "df_pudo_agg=pd.DataFrame()\n",
    "\n",
    "df_pudo_agg=pd.concat([df_pu_agg[cols], df_do_agg[cols] ])\n",
    "\n",
    "df_pudo_agg.head(4)"
   ]
  },
  {
   "cell_type": "code",
   "execution_count": 30,
   "metadata": {},
   "outputs": [
    {
     "data": {
      "text/html": [
       "<div>\n",
       "<style scoped>\n",
       "    .dataframe tbody tr th:only-of-type {\n",
       "        vertical-align: middle;\n",
       "    }\n",
       "\n",
       "    .dataframe tbody tr th {\n",
       "        vertical-align: top;\n",
       "    }\n",
       "\n",
       "    .dataframe thead th {\n",
       "        text-align: right;\n",
       "    }\n",
       "</style>\n",
       "<table border=\"1\" class=\"dataframe\">\n",
       "  <thead>\n",
       "    <tr style=\"text-align: right;\">\n",
       "      <th></th>\n",
       "      <th>type</th>\n",
       "      <th>dow</th>\n",
       "      <th>timewindow</th>\n",
       "      <th>latitude</th>\n",
       "      <th>longitude</th>\n",
       "      <th>intersection_id</th>\n",
       "      <th>counts</th>\n",
       "    </tr>\n",
       "  </thead>\n",
       "  <tbody>\n",
       "    <tr>\n",
       "      <th>415</th>\n",
       "      <td>1</td>\n",
       "      <td>Monday</td>\n",
       "      <td>amPeak</td>\n",
       "      <td>43.6479</td>\n",
       "      <td>-79.3903</td>\n",
       "      <td>13467106</td>\n",
       "      <td>62</td>\n",
       "    </tr>\n",
       "    <tr>\n",
       "      <th>404</th>\n",
       "      <td>5</td>\n",
       "      <td>Monday</td>\n",
       "      <td>amPeak</td>\n",
       "      <td>43.6479</td>\n",
       "      <td>-79.3903</td>\n",
       "      <td>13467106</td>\n",
       "      <td>13</td>\n",
       "    </tr>\n",
       "  </tbody>\n",
       "</table>\n",
       "</div>"
      ],
      "text/plain": [
       "     type     dow timewindow  latitude  longitude  intersection_id  counts\n",
       "415     1  Monday     amPeak   43.6479   -79.3903         13467106      62\n",
       "404     5  Monday     amPeak   43.6479   -79.3903         13467106      13"
      ]
     },
     "execution_count": 30,
     "metadata": {},
     "output_type": "execute_result"
    }
   ],
   "source": [
    "# Check\n",
    "df_pudo_agg.loc[(df_pudo_agg['timewindow']=='amPeak') & (df_pudo_agg['intersection_id']==test_id1)]"
   ]
  },
  {
   "cell_type": "code",
   "execution_count": 31,
   "metadata": {},
   "outputs": [
    {
     "data": {
      "text/html": [
       "<div>\n",
       "<style scoped>\n",
       "    .dataframe tbody tr th:only-of-type {\n",
       "        vertical-align: middle;\n",
       "    }\n",
       "\n",
       "    .dataframe tbody tr th {\n",
       "        vertical-align: top;\n",
       "    }\n",
       "\n",
       "    .dataframe thead th {\n",
       "        text-align: right;\n",
       "    }\n",
       "</style>\n",
       "<table border=\"1\" class=\"dataframe\">\n",
       "  <thead>\n",
       "    <tr style=\"text-align: right;\">\n",
       "      <th></th>\n",
       "      <th>type</th>\n",
       "      <th>dow</th>\n",
       "      <th>timewindow</th>\n",
       "      <th>latitude</th>\n",
       "      <th>longitude</th>\n",
       "      <th>intersection_id</th>\n",
       "      <th>counts</th>\n",
       "    </tr>\n",
       "  </thead>\n",
       "  <tbody>\n",
       "    <tr>\n",
       "      <th>589</th>\n",
       "      <td>1</td>\n",
       "      <td>Monday</td>\n",
       "      <td>amPeak</td>\n",
       "      <td>43.6528</td>\n",
       "      <td>-79.3934</td>\n",
       "      <td>13466303</td>\n",
       "      <td>3</td>\n",
       "    </tr>\n",
       "  </tbody>\n",
       "</table>\n",
       "</div>"
      ],
      "text/plain": [
       "     type     dow timewindow  latitude  longitude  intersection_id  counts\n",
       "589     1  Monday     amPeak   43.6528   -79.3934         13466303       3"
      ]
     },
     "execution_count": 31,
     "metadata": {},
     "output_type": "execute_result"
    }
   ],
   "source": [
    "df_pudo_agg.loc[(df_pudo_agg['timewindow']=='amPeak') & (df_pudo_agg['intersection_id']==test_id2)]"
   ]
  },
  {
   "cell_type": "code",
   "execution_count": null,
   "metadata": {},
   "outputs": [],
   "source": []
  },
  {
   "cell_type": "code",
   "execution_count": null,
   "metadata": {},
   "outputs": [],
   "source": []
  },
  {
   "cell_type": "markdown",
   "metadata": {},
   "source": [
    "## 4. Subset this_tod"
   ]
  },
  {
   "cell_type": "code",
   "execution_count": 32,
   "metadata": {},
   "outputs": [],
   "source": [
    "df_pudo_agg_tod = df_pudo_agg.loc[(df_pudo_agg['timewindow']==this_tod)]"
   ]
  },
  {
   "cell_type": "code",
   "execution_count": 33,
   "metadata": {},
   "outputs": [
    {
     "name": "stderr",
     "output_type": "stream",
     "text": [
      "/home/test/anaconda3/envs/vfh/lib/python3.6/site-packages/ipykernel_launcher.py:2: SettingWithCopyWarning: \n",
      "A value is trying to be set on a copy of a slice from a DataFrame.\n",
      "Try using .loc[row_indexer,col_indexer] = value instead\n",
      "\n",
      "See the caveats in the documentation: http://pandas.pydata.org/pandas-docs/stable/indexing.html#indexing-view-versus-copy\n",
      "  \n"
     ]
    }
   ],
   "source": [
    "# Mark the >= second occurrence of overlapping intersections for this_tod as True\n",
    "df_pudo_agg_tod['first overlap'] = df_pudo_agg_tod['intersection_id'].duplicated()"
   ]
  },
  {
   "cell_type": "code",
   "execution_count": 34,
   "metadata": {},
   "outputs": [
    {
     "data": {
      "text/html": [
       "<div>\n",
       "<style scoped>\n",
       "    .dataframe tbody tr th:only-of-type {\n",
       "        vertical-align: middle;\n",
       "    }\n",
       "\n",
       "    .dataframe tbody tr th {\n",
       "        vertical-align: top;\n",
       "    }\n",
       "\n",
       "    .dataframe thead th {\n",
       "        text-align: right;\n",
       "    }\n",
       "</style>\n",
       "<table border=\"1\" class=\"dataframe\">\n",
       "  <thead>\n",
       "    <tr style=\"text-align: right;\">\n",
       "      <th></th>\n",
       "      <th>type</th>\n",
       "      <th>dow</th>\n",
       "      <th>timewindow</th>\n",
       "      <th>latitude</th>\n",
       "      <th>longitude</th>\n",
       "      <th>intersection_id</th>\n",
       "      <th>counts</th>\n",
       "      <th>first overlap</th>\n",
       "    </tr>\n",
       "  </thead>\n",
       "  <tbody>\n",
       "    <tr>\n",
       "      <th>2874</th>\n",
       "      <td>1</td>\n",
       "      <td>Monday</td>\n",
       "      <td>nightIII</td>\n",
       "      <td>43.6479</td>\n",
       "      <td>-79.3903</td>\n",
       "      <td>13467106</td>\n",
       "      <td>21</td>\n",
       "      <td>False</td>\n",
       "    </tr>\n",
       "    <tr>\n",
       "      <th>2797</th>\n",
       "      <td>5</td>\n",
       "      <td>Monday</td>\n",
       "      <td>nightIII</td>\n",
       "      <td>43.6479</td>\n",
       "      <td>-79.3903</td>\n",
       "      <td>13467106</td>\n",
       "      <td>14</td>\n",
       "      <td>True</td>\n",
       "    </tr>\n",
       "  </tbody>\n",
       "</table>\n",
       "</div>"
      ],
      "text/plain": [
       "      type     dow timewindow  latitude  longitude  intersection_id  counts  \\\n",
       "2874     1  Monday   nightIII   43.6479   -79.3903         13467106      21   \n",
       "2797     5  Monday   nightIII   43.6479   -79.3903         13467106      14   \n",
       "\n",
       "      first overlap  \n",
       "2874          False  \n",
       "2797           True  "
      ]
     },
     "execution_count": 34,
     "metadata": {},
     "output_type": "execute_result"
    }
   ],
   "source": [
    "# Check\n",
    "df_pudo_agg_tod.loc[(df_pudo_agg_tod['intersection_id']==test_id1)]"
   ]
  },
  {
   "cell_type": "code",
   "execution_count": 35,
   "metadata": {},
   "outputs": [
    {
     "data": {
      "text/html": [
       "<div>\n",
       "<style scoped>\n",
       "    .dataframe tbody tr th:only-of-type {\n",
       "        vertical-align: middle;\n",
       "    }\n",
       "\n",
       "    .dataframe tbody tr th {\n",
       "        vertical-align: top;\n",
       "    }\n",
       "\n",
       "    .dataframe thead th {\n",
       "        text-align: right;\n",
       "    }\n",
       "</style>\n",
       "<table border=\"1\" class=\"dataframe\">\n",
       "  <thead>\n",
       "    <tr style=\"text-align: right;\">\n",
       "      <th></th>\n",
       "      <th>type</th>\n",
       "      <th>dow</th>\n",
       "      <th>timewindow</th>\n",
       "      <th>latitude</th>\n",
       "      <th>longitude</th>\n",
       "      <th>intersection_id</th>\n",
       "      <th>counts</th>\n",
       "      <th>first overlap</th>\n",
       "    </tr>\n",
       "  </thead>\n",
       "  <tbody>\n",
       "    <tr>\n",
       "      <th>2918</th>\n",
       "      <td>5</td>\n",
       "      <td>Monday</td>\n",
       "      <td>nightIII</td>\n",
       "      <td>43.6528</td>\n",
       "      <td>-79.3934</td>\n",
       "      <td>13466303</td>\n",
       "      <td>1</td>\n",
       "      <td>False</td>\n",
       "    </tr>\n",
       "  </tbody>\n",
       "</table>\n",
       "</div>"
      ],
      "text/plain": [
       "      type     dow timewindow  latitude  longitude  intersection_id  counts  \\\n",
       "2918     5  Monday   nightIII   43.6528   -79.3934         13466303       1   \n",
       "\n",
       "      first overlap  \n",
       "2918          False  "
      ]
     },
     "execution_count": 35,
     "metadata": {},
     "output_type": "execute_result"
    }
   ],
   "source": [
    "# Check\n",
    "df_pudo_agg_tod.loc[(df_pudo_agg_tod['intersection_id']==test_id2)]"
   ]
  },
  {
   "cell_type": "code",
   "execution_count": 36,
   "metadata": {},
   "outputs": [
    {
     "name": "stdout",
     "output_type": "stream",
     "text": [
      "372\n"
     ]
    }
   ],
   "source": [
    "# Store overlapping intersections in a list\n",
    "overlap_ids = list(df_pudo_agg_tod.loc[df_pudo_agg_tod['first overlap']==True, 'intersection_id'])\n",
    "print(len(overlap_ids))"
   ]
  },
  {
   "cell_type": "code",
   "execution_count": 37,
   "metadata": {},
   "outputs": [
    {
     "data": {
      "text/plain": [
       "False"
      ]
     },
     "execution_count": 37,
     "metadata": {},
     "output_type": "execute_result"
    }
   ],
   "source": [
    "# Check\n",
    "test_id2 in list(overlap_ids)\n",
    "\n",
    "# => False is correct"
   ]
  },
  {
   "cell_type": "code",
   "execution_count": null,
   "metadata": {},
   "outputs": [],
   "source": []
  },
  {
   "cell_type": "code",
   "execution_count": 38,
   "metadata": {},
   "outputs": [
    {
     "name": "stderr",
     "output_type": "stream",
     "text": [
      "/home/test/anaconda3/envs/vfh/lib/python3.6/site-packages/ipykernel_launcher.py:3: SettingWithCopyWarning: \n",
      "A value is trying to be set on a copy of a slice from a DataFrame.\n",
      "Try using .loc[row_indexer,col_indexer] = value instead\n",
      "\n",
      "See the caveats in the documentation: http://pandas.pydata.org/pandas-docs/stable/indexing.html#indexing-view-versus-copy\n",
      "  This is separate from the ipykernel package so we can avoid doing imports until\n"
     ]
    }
   ],
   "source": [
    "# Mark all occurrences of overlapping intersections as True by finding if `intersection_id` is in\n",
    "# list `overlap_ids`\n",
    "df_pudo_agg_tod['overlap'] = df_pudo_agg_tod['intersection_id'].isin(list(overlap_ids))"
   ]
  },
  {
   "cell_type": "code",
   "execution_count": 39,
   "metadata": {},
   "outputs": [
    {
     "data": {
      "text/html": [
       "<div>\n",
       "<style scoped>\n",
       "    .dataframe tbody tr th:only-of-type {\n",
       "        vertical-align: middle;\n",
       "    }\n",
       "\n",
       "    .dataframe tbody tr th {\n",
       "        vertical-align: top;\n",
       "    }\n",
       "\n",
       "    .dataframe thead th {\n",
       "        text-align: right;\n",
       "    }\n",
       "</style>\n",
       "<table border=\"1\" class=\"dataframe\">\n",
       "  <thead>\n",
       "    <tr style=\"text-align: right;\">\n",
       "      <th></th>\n",
       "      <th>type</th>\n",
       "      <th>dow</th>\n",
       "      <th>timewindow</th>\n",
       "      <th>latitude</th>\n",
       "      <th>longitude</th>\n",
       "      <th>intersection_id</th>\n",
       "      <th>counts</th>\n",
       "      <th>first overlap</th>\n",
       "      <th>overlap</th>\n",
       "    </tr>\n",
       "  </thead>\n",
       "  <tbody>\n",
       "    <tr>\n",
       "      <th>2874</th>\n",
       "      <td>1</td>\n",
       "      <td>Monday</td>\n",
       "      <td>nightIII</td>\n",
       "      <td>43.6479</td>\n",
       "      <td>-79.3903</td>\n",
       "      <td>13467106</td>\n",
       "      <td>21</td>\n",
       "      <td>False</td>\n",
       "      <td>True</td>\n",
       "    </tr>\n",
       "    <tr>\n",
       "      <th>2797</th>\n",
       "      <td>5</td>\n",
       "      <td>Monday</td>\n",
       "      <td>nightIII</td>\n",
       "      <td>43.6479</td>\n",
       "      <td>-79.3903</td>\n",
       "      <td>13467106</td>\n",
       "      <td>14</td>\n",
       "      <td>True</td>\n",
       "      <td>True</td>\n",
       "    </tr>\n",
       "  </tbody>\n",
       "</table>\n",
       "</div>"
      ],
      "text/plain": [
       "      type     dow timewindow  latitude  longitude  intersection_id  counts  \\\n",
       "2874     1  Monday   nightIII   43.6479   -79.3903         13467106      21   \n",
       "2797     5  Monday   nightIII   43.6479   -79.3903         13467106      14   \n",
       "\n",
       "      first overlap  overlap  \n",
       "2874          False     True  \n",
       "2797           True     True  "
      ]
     },
     "execution_count": 39,
     "metadata": {},
     "output_type": "execute_result"
    }
   ],
   "source": [
    "# Check\n",
    "df_pudo_agg_tod.loc[(df_pudo_agg_tod['intersection_id']==test_id1)]"
   ]
  },
  {
   "cell_type": "code",
   "execution_count": 40,
   "metadata": {},
   "outputs": [
    {
     "data": {
      "text/html": [
       "<div>\n",
       "<style scoped>\n",
       "    .dataframe tbody tr th:only-of-type {\n",
       "        vertical-align: middle;\n",
       "    }\n",
       "\n",
       "    .dataframe tbody tr th {\n",
       "        vertical-align: top;\n",
       "    }\n",
       "\n",
       "    .dataframe thead th {\n",
       "        text-align: right;\n",
       "    }\n",
       "</style>\n",
       "<table border=\"1\" class=\"dataframe\">\n",
       "  <thead>\n",
       "    <tr style=\"text-align: right;\">\n",
       "      <th></th>\n",
       "      <th>type</th>\n",
       "      <th>dow</th>\n",
       "      <th>timewindow</th>\n",
       "      <th>latitude</th>\n",
       "      <th>longitude</th>\n",
       "      <th>intersection_id</th>\n",
       "      <th>counts</th>\n",
       "      <th>first overlap</th>\n",
       "      <th>overlap</th>\n",
       "    </tr>\n",
       "  </thead>\n",
       "  <tbody>\n",
       "    <tr>\n",
       "      <th>2918</th>\n",
       "      <td>5</td>\n",
       "      <td>Monday</td>\n",
       "      <td>nightIII</td>\n",
       "      <td>43.6528</td>\n",
       "      <td>-79.3934</td>\n",
       "      <td>13466303</td>\n",
       "      <td>1</td>\n",
       "      <td>False</td>\n",
       "      <td>False</td>\n",
       "    </tr>\n",
       "  </tbody>\n",
       "</table>\n",
       "</div>"
      ],
      "text/plain": [
       "      type     dow timewindow  latitude  longitude  intersection_id  counts  \\\n",
       "2918     5  Monday   nightIII   43.6528   -79.3934         13466303       1   \n",
       "\n",
       "      first overlap  overlap  \n",
       "2918          False    False  "
      ]
     },
     "execution_count": 40,
     "metadata": {},
     "output_type": "execute_result"
    }
   ],
   "source": [
    "df_pudo_agg_tod.loc[(df_pudo_agg_tod['intersection_id']==test_id2)]"
   ]
  },
  {
   "cell_type": "code",
   "execution_count": 41,
   "metadata": {},
   "outputs": [],
   "source": [
    "# => Checks are OK"
   ]
  },
  {
   "cell_type": "code",
   "execution_count": null,
   "metadata": {},
   "outputs": [],
   "source": []
  },
  {
   "cell_type": "code",
   "execution_count": 42,
   "metadata": {},
   "outputs": [],
   "source": [
    "# df="
   ]
  },
  {
   "cell_type": "markdown",
   "metadata": {},
   "source": [
    "# Save to geojson"
   ]
  },
  {
   "cell_type": "markdown",
   "metadata": {},
   "source": [
    "## Aggregated points"
   ]
  },
  {
   "cell_type": "code",
   "execution_count": 43,
   "metadata": {},
   "outputs": [],
   "source": [
    "geojson_pu_unique = df_to_geojson(df_pudo_agg_tod.loc[(df_pudo_agg_tod['type']==1) & \n",
    "                                                      (df_pudo_agg_tod['overlap']==False)], ['counts'])"
   ]
  },
  {
   "cell_type": "code",
   "execution_count": 44,
   "metadata": {},
   "outputs": [],
   "source": [
    "geojson_pudo = df_to_geojson(df_pudo_agg_tod.loc[(df_pudo_agg_tod['type']==1) & \n",
    "                                                      (df_pudo_agg_tod['overlap']==True)], ['counts'])"
   ]
  },
  {
   "cell_type": "code",
   "execution_count": 45,
   "metadata": {},
   "outputs": [],
   "source": [
    "geojson_do_unique = df_to_geojson(df_pudo_agg_tod.loc[(df_pudo_agg_tod['type']==5) & \n",
    "                                                      (df_pudo_agg_tod['overlap']==False)], ['counts'])"
   ]
  },
  {
   "cell_type": "code",
   "execution_count": null,
   "metadata": {},
   "outputs": [],
   "source": []
  },
  {
   "cell_type": "code",
   "execution_count": null,
   "metadata": {},
   "outputs": [],
   "source": []
  },
  {
   "cell_type": "code",
   "execution_count": null,
   "metadata": {},
   "outputs": [],
   "source": []
  },
  {
   "cell_type": "markdown",
   "metadata": {},
   "source": [
    "# Write geojson to file"
   ]
  },
  {
   "cell_type": "markdown",
   "metadata": {},
   "source": [
    "## Aggregated points"
   ]
  },
  {
   "cell_type": "code",
   "execution_count": 46,
   "metadata": {},
   "outputs": [
    {
     "name": "stdout",
     "output_type": "stream",
     "text": [
      "w10 Monday nightIII\n"
     ]
    }
   ],
   "source": [
    "print('w' +repr(ward), this_day, this_tod)"
   ]
  },
  {
   "cell_type": "code",
   "execution_count": 47,
   "metadata": {},
   "outputs": [],
   "source": [
    "output_filename = '../../../Documents/PROJECTS/VFH/COT_PAGE/INTERIM_DATA/INDIVIDUAL_GEOJSONS/w' + repr(ward) + '_092018_' + this_day + '_' + this_tod + '_pu_agg_unique.geojson'\n",
    "\n",
    "with open(output_filename, 'w') as output_file:\n",
    "    output_file.write('')\n",
    "    json.dump(geojson_pu_unique, output_file, indent=2) "
   ]
  },
  {
   "cell_type": "code",
   "execution_count": 48,
   "metadata": {},
   "outputs": [],
   "source": [
    "output_filename = '../../../Documents/PROJECTS/VFH/COT_PAGE/INTERIM_DATA/INDIVIDUAL_GEOJSONS/w' + repr(ward) + '_092018_' + this_day + '_' + this_tod + '_do_agg_unique.geojson'\n",
    "\n",
    "with open(output_filename, 'w') as output_file:\n",
    "    output_file.write('')\n",
    "    json.dump(geojson_do_unique, output_file, indent=2) "
   ]
  },
  {
   "cell_type": "code",
   "execution_count": 49,
   "metadata": {},
   "outputs": [],
   "source": [
    "output_filename = '../../../Documents/PROJECTS/VFH/COT_PAGE/INTERIM_DATA/INDIVIDUAL_GEOJSONS/w' + repr(ward) + '_092018_' + this_day + '_' + this_tod + '_pudo_agg.geojson'\n",
    "\n",
    "with open(output_filename, 'w') as output_file:\n",
    "    output_file.write('')\n",
    "    json.dump(geojson_pudo, output_file, indent=2) "
   ]
  },
  {
   "cell_type": "code",
   "execution_count": null,
   "metadata": {},
   "outputs": [],
   "source": []
  },
  {
   "cell_type": "markdown",
   "metadata": {},
   "source": [
    "`\n",
    "$ ls -lh ~/Documents/PROJECTS/VFH/COT_PAGE/INTERIM_DATA/INDIVIDUAL_GEOJSONS/\n",
    "total 216K\n",
    "-rw-r--r-- 1 test test 109K Dec  9 11:23 w1_092018_Monday_pmPeak_do_agg.geojson\n",
    "-rw-r--r-- 1 test test 104K Dec  9 11:23 w1_092018_Monday_pmPeak_pu_agg.geojson\n",
    "`\n"
   ]
  },
  {
   "cell_type": "code",
   "execution_count": null,
   "metadata": {},
   "outputs": [],
   "source": []
  },
  {
   "cell_type": "markdown",
   "metadata": {},
   "source": [
    "`\n",
    "$ ls -lh src/geojson/\n",
    "-rw-r--r-- 1 test test 328K Dec  4 15:46 w1_092018_Monday_amPeak_agg.geojson\n",
    "-rw-r--r-- 1 test test 753K Dec  4 13:51 w1_092018_Monday_amPeak.geojson\n",
    "`\n"
   ]
  },
  {
   "cell_type": "code",
   "execution_count": null,
   "metadata": {},
   "outputs": [],
   "source": []
  },
  {
   "cell_type": "code",
   "execution_count": null,
   "metadata": {},
   "outputs": [],
   "source": []
  },
  {
   "cell_type": "code",
   "execution_count": null,
   "metadata": {},
   "outputs": [],
   "source": []
  },
  {
   "cell_type": "code",
   "execution_count": null,
   "metadata": {},
   "outputs": [],
   "source": []
  }
 ],
 "metadata": {
  "kernelspec": {
   "display_name": "Python 3",
   "language": "python",
   "name": "python3"
  },
  "language_info": {
   "codemirror_mode": {
    "name": "ipython",
    "version": 3
   },
   "file_extension": ".py",
   "mimetype": "text/x-python",
   "name": "python",
   "nbconvert_exporter": "python",
   "pygments_lexer": "ipython3",
   "version": "3.6.7"
  }
 },
 "nbformat": 4,
 "nbformat_minor": 2
}
