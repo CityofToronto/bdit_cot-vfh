{
 "cells": [
  {
   "cell_type": "markdown",
   "metadata": {},
   "source": [
    "# Create geojson file from list of PUDO coords\n",
    "See /home/test/Documents/PROJECTS/VFH/iPython_Notebooks/dv_pudo_profiles.ipynb for more info.  \n",
    "\n",
    "ref: https://geoffboeing.com/2015/10/exporting-python-data-geojson/  \n",
    "Huom: `with open(output_filename, 'wb') as output_file:` should be `'w'` not `'wb'`  \n",
    "\n",
    "**Resources**  \n",
    "geoJSON minifier: https://jsonformatter.org/json-minify  "
   ]
  },
  {
   "cell_type": "code",
   "execution_count": 1,
   "metadata": {},
   "outputs": [
    {
     "data": {
      "text/plain": [
       "'/home/test/anaconda3/envs/vfh/bin/python'"
      ]
     },
     "execution_count": 1,
     "metadata": {},
     "output_type": "execute_result"
    }
   ],
   "source": [
    "import sys\n",
    "sys.executable"
   ]
  },
  {
   "cell_type": "code",
   "execution_count": 2,
   "metadata": {},
   "outputs": [],
   "source": [
    "%matplotlib inline\n",
    "import numpy as np\n",
    "import pandas as pd\n",
    "import pandas.io.sql as pandasql\n",
    "import matplotlib.pyplot as plt\n",
    "import matplotlib as mpl\n",
    "import matplotlib.ticker as ticker\n",
    "\n",
    "from IPython.display import HTML, display\n",
    "import datetime\n",
    "import matplotlib.dates as mdates\n",
    "from ipywidgets import interact, interactive, fixed, interact_manual\n",
    "import ipywidgets as widgets\n",
    "import os\n",
    "\n",
    "from datetime import datetime\n",
    "\n",
    "import json"
   ]
  },
  {
   "cell_type": "markdown",
   "metadata": {},
   "source": [
    "# Functions"
   ]
  },
  {
   "cell_type": "code",
   "execution_count": 3,
   "metadata": {},
   "outputs": [],
   "source": [
    "# https://geoffboeing.com/2015/10/exporting-python-data-geojson/\n",
    "def df_to_geojson(df, properties, lat=\"latitude\", lon=\"longitude\"):\n",
    "    geojson = {\"type\":\"FeatureCollection\", \"features\":[]}\n",
    "    for _, row in df.iterrows():\n",
    "        feature = {\"type\":\"Feature\",\n",
    "                   \"properties\":{},\n",
    "                   \"geometry\":{\"type\":\"Point\",\n",
    "                               \"coordinates\":[]}}\n",
    "        feature[\"geometry\"][\"coordinates\"] = [row[lon],row[lat]]\n",
    "        for prop in properties:\n",
    "            feature[\"properties\"][prop] = int(row[prop])\n",
    "        geojson[\"features\"].append(feature)\n",
    "    return geojson"
   ]
  },
  {
   "cell_type": "markdown",
   "metadata": {},
   "source": [
    "# GeoJSON properties for file"
   ]
  },
  {
   "cell_type": "code",
   "execution_count": 4,
   "metadata": {},
   "outputs": [],
   "source": [
    "# Define the properties of the PUDO geojson file\n",
    "prop = [\"type\",\"counts\", \"overlap\"]"
   ]
  },
  {
   "cell_type": "code",
   "execution_count": null,
   "metadata": {},
   "outputs": [],
   "source": []
  },
  {
   "cell_type": "markdown",
   "metadata": {},
   "source": [
    "# Variables"
   ]
  },
  {
   "cell_type": "code",
   "execution_count": 5,
   "metadata": {},
   "outputs": [
    {
     "data": {
      "text/plain": [
       "{}"
      ]
     },
     "execution_count": 5,
     "metadata": {},
     "output_type": "execute_result"
    }
   ],
   "source": [
    "# Stores final geojson file with all days of week, times of day, pu, do and pudo\n",
    "megageo = {}\n",
    "megageo"
   ]
  },
  {
   "cell_type": "code",
   "execution_count": 42,
   "metadata": {},
   "outputs": [],
   "source": [
    "ward=1\n",
    "this_day = 'Monday'\n",
    "this_tod = 'amPeak'"
   ]
  },
  {
   "cell_type": "code",
   "execution_count": 43,
   "metadata": {},
   "outputs": [],
   "source": [
    "if ward == 1:\n",
    "    test_id1 = 20232410   # 13454935\n",
    "    test_id2 = 13453946\n",
    "elif ward == 10:\n",
    "    test_id1 = 13467106 # Adelaide and John\n",
    "    test_id2 = 13466303"
   ]
  },
  {
   "cell_type": "code",
   "execution_count": null,
   "metadata": {},
   "outputs": [],
   "source": []
  },
  {
   "cell_type": "markdown",
   "metadata": {},
   "source": [
    "# Read PUDO data from csv file"
   ]
  },
  {
   "cell_type": "code",
   "execution_count": 44,
   "metadata": {},
   "outputs": [
    {
     "name": "stdout",
     "output_type": "stream",
     "text": [
      "(494842, 17)\n"
     ]
    },
    {
     "data": {
      "text/html": [
       "<div>\n",
       "<style scoped>\n",
       "    .dataframe tbody tr th:only-of-type {\n",
       "        vertical-align: middle;\n",
       "    }\n",
       "\n",
       "    .dataframe tbody tr th {\n",
       "        vertical-align: top;\n",
       "    }\n",
       "\n",
       "    .dataframe thead th {\n",
       "        text-align: right;\n",
       "    }\n",
       "</style>\n",
       "<table border=\"1\" class=\"dataframe\">\n",
       "  <thead>\n",
       "    <tr style=\"text-align: right;\">\n",
       "      <th></th>\n",
       "      <th>dow</th>\n",
       "      <th>hh</th>\n",
       "      <th>timewindow</th>\n",
       "      <th>pickup_datetime</th>\n",
       "      <th>dropoff_datetime</th>\n",
       "      <th>pickup_ward2018</th>\n",
       "      <th>dropoff_ward2018</th>\n",
       "      <th>pickup_gc_intersection_id</th>\n",
       "      <th>dropoff_gc_intersection_id</th>\n",
       "      <th>pickup_neighbourhood</th>\n",
       "      <th>dropoff_neighbourhood</th>\n",
       "      <th>pickup_geom</th>\n",
       "      <th>dropoff_geom</th>\n",
       "      <th>lat_pickup</th>\n",
       "      <th>lon_pickup</th>\n",
       "      <th>lat_dropoff</th>\n",
       "      <th>lon_dropoff</th>\n",
       "    </tr>\n",
       "  </thead>\n",
       "  <tbody>\n",
       "    <tr>\n",
       "      <th>0</th>\n",
       "      <td>Monday</td>\n",
       "      <td>0</td>\n",
       "      <td>nightI</td>\n",
       "      <td>2018-09-03 00:00:00</td>\n",
       "      <td>2018-09-03 00:34:01</td>\n",
       "      <td>18.0</td>\n",
       "      <td>10.0</td>\n",
       "      <td>13447475</td>\n",
       "      <td>13467654</td>\n",
       "      <td>51.0</td>\n",
       "      <td>77.0</td>\n",
       "      <td>0101000020E61000005BE2AF6670DA53C01D22DBEA93E2...</td>\n",
       "      <td>0101000020E610000013E6CE309BD953C0938FE7777DD2...</td>\n",
       "      <td>43.770139</td>\n",
       "      <td>-79.413110</td>\n",
       "      <td>43.644454</td>\n",
       "      <td>-79.400097</td>\n",
       "    </tr>\n",
       "    <tr>\n",
       "      <th>1</th>\n",
       "      <td>Monday</td>\n",
       "      <td>0</td>\n",
       "      <td>nightI</td>\n",
       "      <td>2018-09-03 00:00:00</td>\n",
       "      <td>2018-09-03 00:10:54</td>\n",
       "      <td>10.0</td>\n",
       "      <td>13.0</td>\n",
       "      <td>13467763</td>\n",
       "      <td>13464030</td>\n",
       "      <td>77.0</td>\n",
       "      <td>75.0</td>\n",
       "      <td>0101000020E610000051E519D30AD953C0C23B89A05BD2...</td>\n",
       "      <td>0101000020E610000079E6DB3E68D853C00F3AF08356D5...</td>\n",
       "      <td>43.643421</td>\n",
       "      <td>-79.391286</td>\n",
       "      <td>43.666703</td>\n",
       "      <td>-79.381363</td>\n",
       "    </tr>\n",
       "    <tr>\n",
       "      <th>2</th>\n",
       "      <td>Monday</td>\n",
       "      <td>0</td>\n",
       "      <td>nightI</td>\n",
       "      <td>2018-09-03 00:00:00</td>\n",
       "      <td>2018-09-03 00:12:34</td>\n",
       "      <td>13.0</td>\n",
       "      <td>10.0</td>\n",
       "      <td>13464551</td>\n",
       "      <td>13467763</td>\n",
       "      <td>71.0</td>\n",
       "      <td>77.0</td>\n",
       "      <td>0101000020E6100000A342F6F3C6D753C0E8EE4CFEEDD4...</td>\n",
       "      <td>0101000020E610000051E519D30AD953C0C23B89A05BD2...</td>\n",
       "      <td>43.663513</td>\n",
       "      <td>-79.371518</td>\n",
       "      <td>43.643421</td>\n",
       "      <td>-79.391286</td>\n",
       "    </tr>\n",
       "    <tr>\n",
       "      <th>3</th>\n",
       "      <td>Monday</td>\n",
       "      <td>0</td>\n",
       "      <td>nightI</td>\n",
       "      <td>2018-09-03 00:00:00</td>\n",
       "      <td>2018-09-03 00:24:18</td>\n",
       "      <td>13.0</td>\n",
       "      <td>3.0</td>\n",
       "      <td>13465140</td>\n",
       "      <td>13470547</td>\n",
       "      <td>75.0</td>\n",
       "      <td>19.0</td>\n",
       "      <td>0101000020E6100000DF5023ED39D853C020ED2E3976D4...</td>\n",
       "      <td>0101000020E610000004410BFFE5E153C041B447898CCC...</td>\n",
       "      <td>43.659858</td>\n",
       "      <td>-79.378536</td>\n",
       "      <td>43.598039</td>\n",
       "      <td>-79.529663</td>\n",
       "    </tr>\n",
       "    <tr>\n",
       "      <th>4</th>\n",
       "      <td>Monday</td>\n",
       "      <td>0</td>\n",
       "      <td>nightI</td>\n",
       "      <td>2018-09-03 00:00:00</td>\n",
       "      <td>2018-09-03 00:18:21</td>\n",
       "      <td>8.0</td>\n",
       "      <td>13.0</td>\n",
       "      <td>14044860</td>\n",
       "      <td>14673305</td>\n",
       "      <td>31.0</td>\n",
       "      <td>75.0</td>\n",
       "      <td>0101000020E6100000A37FC1EFB8DC53C070C432B4FCDB...</td>\n",
       "      <td>0101000020E61000008C84E11C68D853C062D98093A3D5...</td>\n",
       "      <td>43.718649</td>\n",
       "      <td>-79.448788</td>\n",
       "      <td>43.669054</td>\n",
       "      <td>-79.381355</td>\n",
       "    </tr>\n",
       "  </tbody>\n",
       "</table>\n",
       "</div>"
      ],
      "text/plain": [
       "      dow  hh timewindow      pickup_datetime     dropoff_datetime  \\\n",
       "0  Monday   0     nightI  2018-09-03 00:00:00  2018-09-03 00:34:01   \n",
       "1  Monday   0     nightI  2018-09-03 00:00:00  2018-09-03 00:10:54   \n",
       "2  Monday   0     nightI  2018-09-03 00:00:00  2018-09-03 00:12:34   \n",
       "3  Monday   0     nightI  2018-09-03 00:00:00  2018-09-03 00:24:18   \n",
       "4  Monday   0     nightI  2018-09-03 00:00:00  2018-09-03 00:18:21   \n",
       "\n",
       "   pickup_ward2018  dropoff_ward2018  pickup_gc_intersection_id  \\\n",
       "0             18.0              10.0                   13447475   \n",
       "1             10.0              13.0                   13467763   \n",
       "2             13.0              10.0                   13464551   \n",
       "3             13.0               3.0                   13465140   \n",
       "4              8.0              13.0                   14044860   \n",
       "\n",
       "   dropoff_gc_intersection_id  pickup_neighbourhood  dropoff_neighbourhood  \\\n",
       "0                    13467654                  51.0                   77.0   \n",
       "1                    13464030                  77.0                   75.0   \n",
       "2                    13467763                  71.0                   77.0   \n",
       "3                    13470547                  75.0                   19.0   \n",
       "4                    14673305                  31.0                   75.0   \n",
       "\n",
       "                                         pickup_geom  \\\n",
       "0  0101000020E61000005BE2AF6670DA53C01D22DBEA93E2...   \n",
       "1  0101000020E610000051E519D30AD953C0C23B89A05BD2...   \n",
       "2  0101000020E6100000A342F6F3C6D753C0E8EE4CFEEDD4...   \n",
       "3  0101000020E6100000DF5023ED39D853C020ED2E3976D4...   \n",
       "4  0101000020E6100000A37FC1EFB8DC53C070C432B4FCDB...   \n",
       "\n",
       "                                        dropoff_geom  lat_pickup  lon_pickup  \\\n",
       "0  0101000020E610000013E6CE309BD953C0938FE7777DD2...   43.770139  -79.413110   \n",
       "1  0101000020E610000079E6DB3E68D853C00F3AF08356D5...   43.643421  -79.391286   \n",
       "2  0101000020E610000051E519D30AD953C0C23B89A05BD2...   43.663513  -79.371518   \n",
       "3  0101000020E610000004410BFFE5E153C041B447898CCC...   43.659858  -79.378536   \n",
       "4  0101000020E61000008C84E11C68D853C062D98093A3D5...   43.718649  -79.448788   \n",
       "\n",
       "   lat_dropoff  lon_dropoff  \n",
       "0    43.644454   -79.400097  \n",
       "1    43.666703   -79.381363  \n",
       "2    43.643421   -79.391286  \n",
       "3    43.598039   -79.529663  \n",
       "4    43.669054   -79.381355  "
      ]
     },
     "execution_count": 44,
     "metadata": {},
     "output_type": "execute_result"
    }
   ],
   "source": [
    "fname = '../../../Documents/PROJECTS/VFH/COT_PAGE/INTERIM_DATA/FROM_PGADMIN/tripdata_092018_' + this_day + '.csv'\n",
    "# fname = '~/Documents/PROJECTS/BDITTO/VFH/DATA_STORY/DATA/from_pgAdmin/tripdata_092018_' + this_day + '.csv'\n",
    "\n",
    "df = pd.read_csv(fname)\n",
    "\n",
    "print(df.shape)\n",
    "df.head(5)"
   ]
  },
  {
   "cell_type": "code",
   "execution_count": 46,
   "metadata": {},
   "outputs": [],
   "source": [
    "# df['timewindow'].unique()\n",
    "# There are 4 timewindows for weekdays (['nightI', 'nightII', 'amPeak', 'midday', 'pmPeak']) \n",
    "# and 3 for weekends (['nightI', 'nightII', 'amPeak', 'midday'])"
   ]
  },
  {
   "cell_type": "code",
   "execution_count": null,
   "metadata": {},
   "outputs": [],
   "source": []
  },
  {
   "cell_type": "code",
   "execution_count": null,
   "metadata": {},
   "outputs": [],
   "source": []
  },
  {
   "cell_type": "markdown",
   "metadata": {},
   "source": [
    "# Housekeeping"
   ]
  },
  {
   "cell_type": "markdown",
   "metadata": {},
   "source": [
    "## 1. Round lat, lon to 4 decimal places"
   ]
  },
  {
   "cell_type": "code",
   "execution_count": 18,
   "metadata": {},
   "outputs": [],
   "source": [
    "n=4 # number of decimals to round to\n",
    "\n",
    "df['lat_pickup'] = df['lat_pickup'].round(decimals=n)\n",
    "df['lon_pickup'] = df['lon_pickup'].round(decimals=n)\n",
    "\n",
    "df['lat_dropoff'] = df['lat_dropoff'].round(decimals=n)\n",
    "df['lon_dropoff'] = df['lon_dropoff'].round(decimals=n)"
   ]
  },
  {
   "cell_type": "code",
   "execution_count": null,
   "metadata": {},
   "outputs": [],
   "source": []
  },
  {
   "cell_type": "markdown",
   "metadata": {},
   "source": [
    "## 2. Filter out rows where neither pickup or dropoff wards are the ward of interest\n",
    "Make col `keep` = 1 for where pick-up or for drop-off wards are the ward of interest"
   ]
  },
  {
   "cell_type": "code",
   "execution_count": 47,
   "metadata": {},
   "outputs": [],
   "source": [
    "# Assign a Pickup or Dropoff in column 'type'\n",
    "df['keep'] = np.nan\n",
    "df['latitude'] = np.nan\n",
    "df['longitude'] = np.nan\n",
    "\n",
    "df.loc[(df['pickup_ward2018']==ward) | (df['dropoff_ward2018']==ward), 'keep'] = 1"
   ]
  },
  {
   "cell_type": "code",
   "execution_count": 49,
   "metadata": {},
   "outputs": [],
   "source": [
    "# Keep only rows where `keep` is not null\n",
    "df = df[df['keep'].notnull()]"
   ]
  },
  {
   "cell_type": "code",
   "execution_count": null,
   "metadata": {},
   "outputs": [],
   "source": []
  },
  {
   "cell_type": "markdown",
   "metadata": {},
   "source": [
    "## 3. Mark if row is a pickup or a dropoff\n",
    "pickup is where pickup ward == ward, dropoff is where dropoff_ward == ward  \n",
    "Note that a row can contain **both** a pickup and a dropoff !!!  "
   ]
  },
  {
   "cell_type": "code",
   "execution_count": 52,
   "metadata": {},
   "outputs": [],
   "source": [
    "df['pu'] = np.nan\n",
    "df['do'] = np.nan"
   ]
  },
  {
   "cell_type": "code",
   "execution_count": 53,
   "metadata": {},
   "outputs": [],
   "source": [
    "df.loc[df['pickup_ward2018']==ward, 'pu'] = 1"
   ]
  },
  {
   "cell_type": "code",
   "execution_count": 54,
   "metadata": {},
   "outputs": [],
   "source": [
    "df.loc[df['dropoff_ward2018']==ward, 'do'] = 1"
   ]
  },
  {
   "cell_type": "code",
   "execution_count": null,
   "metadata": {},
   "outputs": [],
   "source": []
  },
  {
   "cell_type": "markdown",
   "metadata": {},
   "source": [
    "## 4. Aggregate pickups and dropoffs for this_tod\n",
    "Sums trips at same intersection."
   ]
  },
  {
   "cell_type": "code",
   "execution_count": 71,
   "metadata": {},
   "outputs": [],
   "source": [
    "def agg_counts(df, this_type):\n",
    "    \n",
    "    df_agg=pd.DataFrame()\n",
    "    \n",
    "    this_ward = this_type + '_ward2018'\n",
    "    cols = ['dow','timewindow','lat_'+ this_type,'lon_'+ this_type,\n",
    "            this_type+'_gc_intersection_id', this_type +'_neighbourhood']\n",
    "    if this_type == 'pickup':\n",
    "        idx_name = 'pcounts'\n",
    "    else:\n",
    "        idx_name = 'dcounts'\n",
    "\n",
    "    df_agg=df.loc[(df[this_ward]==ward) & \n",
    "                  (df['timewindow']==this_tod)].groupby(cols).size().reset_index(name=idx_name)\n",
    "\n",
    "    df_agg = df_agg.rename(columns={'lat_'+this_type: 'latitude'})\n",
    "    df_agg = df_agg.rename(columns={'lon_'+this_type: 'longitude'})\n",
    "    df_agg = df_agg.rename(columns={this_type+'_gc_intersection_id': 'intersection_id'})\n",
    "    df_agg = df_agg.rename(columns={this_type+'_neighbourhood': 'nn'})\n",
    "    \n",
    "    # Add extra column to allow for stacking later on\n",
    "    if this_type == 'pickup':\n",
    "        df_agg = df_agg.assign(dcounts=0)\n",
    "    else:\n",
    "        idx_name = 'dcounts'\n",
    "        df_agg = df_agg.assign(pcounts=0)\n",
    "    \n",
    "    return df_agg"
   ]
  },
  {
   "cell_type": "code",
   "execution_count": 72,
   "metadata": {},
   "outputs": [],
   "source": [
    "df_agg_pu = pd.DataFrame()\n",
    "df_agg_pu = agg_counts(df, 'pickup')"
   ]
  },
  {
   "cell_type": "code",
   "execution_count": 74,
   "metadata": {},
   "outputs": [],
   "source": [
    "df_agg_do=pd.DataFrame()\n",
    "df_agg_do = agg_counts(df, 'dropoff')"
   ]
  },
  {
   "cell_type": "code",
   "execution_count": null,
   "metadata": {},
   "outputs": [],
   "source": []
  },
  {
   "cell_type": "code",
   "execution_count": null,
   "metadata": {},
   "outputs": [],
   "source": []
  },
  {
   "cell_type": "markdown",
   "metadata": {},
   "source": [
    "## 5. Stack pickups on top of dropoffs"
   ]
  },
  {
   "cell_type": "code",
   "execution_count": 76,
   "metadata": {},
   "outputs": [
    {
     "name": "stdout",
     "output_type": "stream",
     "text": [
      "(642, 8)\n",
      "(465, 8)\n",
      "(1107, 8)\n"
     ]
    },
    {
     "data": {
      "text/html": [
       "<div>\n",
       "<style scoped>\n",
       "    .dataframe tbody tr th:only-of-type {\n",
       "        vertical-align: middle;\n",
       "    }\n",
       "\n",
       "    .dataframe tbody tr th {\n",
       "        vertical-align: top;\n",
       "    }\n",
       "\n",
       "    .dataframe thead th {\n",
       "        text-align: right;\n",
       "    }\n",
       "</style>\n",
       "<table border=\"1\" class=\"dataframe\">\n",
       "  <thead>\n",
       "    <tr style=\"text-align: right;\">\n",
       "      <th></th>\n",
       "      <th>dow</th>\n",
       "      <th>timewindow</th>\n",
       "      <th>latitude</th>\n",
       "      <th>longitude</th>\n",
       "      <th>intersection_id</th>\n",
       "      <th>nn</th>\n",
       "      <th>pcounts</th>\n",
       "      <th>dcounts</th>\n",
       "    </tr>\n",
       "  </thead>\n",
       "  <tbody>\n",
       "    <tr>\n",
       "      <th>0</th>\n",
       "      <td>Monday</td>\n",
       "      <td>amPeak</td>\n",
       "      <td>43.674320</td>\n",
       "      <td>-79.565395</td>\n",
       "      <td>13463160</td>\n",
       "      <td>7.0</td>\n",
       "      <td>3</td>\n",
       "      <td>0</td>\n",
       "    </tr>\n",
       "    <tr>\n",
       "      <th>1</th>\n",
       "      <td>Monday</td>\n",
       "      <td>amPeak</td>\n",
       "      <td>43.674478</td>\n",
       "      <td>-79.563177</td>\n",
       "      <td>13463137</td>\n",
       "      <td>11.0</td>\n",
       "      <td>2</td>\n",
       "      <td>0</td>\n",
       "    </tr>\n",
       "    <tr>\n",
       "      <th>2</th>\n",
       "      <td>Monday</td>\n",
       "      <td>amPeak</td>\n",
       "      <td>43.674687</td>\n",
       "      <td>-79.590075</td>\n",
       "      <td>30029304</td>\n",
       "      <td>1.0</td>\n",
       "      <td>1</td>\n",
       "      <td>0</td>\n",
       "    </tr>\n",
       "    <tr>\n",
       "      <th>3</th>\n",
       "      <td>Monday</td>\n",
       "      <td>amPeak</td>\n",
       "      <td>43.675713</td>\n",
       "      <td>-79.568434</td>\n",
       "      <td>13462944</td>\n",
       "      <td>7.0</td>\n",
       "      <td>96</td>\n",
       "      <td>0</td>\n",
       "    </tr>\n",
       "    <tr>\n",
       "      <th>4</th>\n",
       "      <td>Monday</td>\n",
       "      <td>amPeak</td>\n",
       "      <td>43.676339</td>\n",
       "      <td>-79.570409</td>\n",
       "      <td>13462841</td>\n",
       "      <td>7.0</td>\n",
       "      <td>3</td>\n",
       "      <td>0</td>\n",
       "    </tr>\n",
       "    <tr>\n",
       "      <th>5</th>\n",
       "      <td>Monday</td>\n",
       "      <td>amPeak</td>\n",
       "      <td>43.676838</td>\n",
       "      <td>-79.564219</td>\n",
       "      <td>13462745</td>\n",
       "      <td>7.0</td>\n",
       "      <td>11</td>\n",
       "      <td>0</td>\n",
       "    </tr>\n",
       "    <tr>\n",
       "      <th>6</th>\n",
       "      <td>Monday</td>\n",
       "      <td>amPeak</td>\n",
       "      <td>43.677149</td>\n",
       "      <td>-79.571164</td>\n",
       "      <td>13462701</td>\n",
       "      <td>7.0</td>\n",
       "      <td>1</td>\n",
       "      <td>0</td>\n",
       "    </tr>\n",
       "    <tr>\n",
       "      <th>7</th>\n",
       "      <td>Monday</td>\n",
       "      <td>amPeak</td>\n",
       "      <td>43.677504</td>\n",
       "      <td>-79.568048</td>\n",
       "      <td>13462642</td>\n",
       "      <td>7.0</td>\n",
       "      <td>3</td>\n",
       "      <td>0</td>\n",
       "    </tr>\n",
       "    <tr>\n",
       "      <th>8</th>\n",
       "      <td>Monday</td>\n",
       "      <td>amPeak</td>\n",
       "      <td>43.678077</td>\n",
       "      <td>-79.568836</td>\n",
       "      <td>13462541</td>\n",
       "      <td>7.0</td>\n",
       "      <td>1</td>\n",
       "      <td>0</td>\n",
       "    </tr>\n",
       "    <tr>\n",
       "      <th>9</th>\n",
       "      <td>Monday</td>\n",
       "      <td>amPeak</td>\n",
       "      <td>43.678177</td>\n",
       "      <td>-79.564837</td>\n",
       "      <td>13462514</td>\n",
       "      <td>7.0</td>\n",
       "      <td>4</td>\n",
       "      <td>0</td>\n",
       "    </tr>\n",
       "    <tr>\n",
       "      <th>10</th>\n",
       "      <td>Monday</td>\n",
       "      <td>amPeak</td>\n",
       "      <td>43.678342</td>\n",
       "      <td>-79.584970</td>\n",
       "      <td>13462531</td>\n",
       "      <td>1.0</td>\n",
       "      <td>3</td>\n",
       "      <td>0</td>\n",
       "    </tr>\n",
       "  </tbody>\n",
       "</table>\n",
       "</div>"
      ],
      "text/plain": [
       "       dow timewindow   latitude  longitude  intersection_id    nn  pcounts  \\\n",
       "0   Monday     amPeak  43.674320 -79.565395         13463160   7.0        3   \n",
       "1   Monday     amPeak  43.674478 -79.563177         13463137  11.0        2   \n",
       "2   Monday     amPeak  43.674687 -79.590075         30029304   1.0        1   \n",
       "3   Monday     amPeak  43.675713 -79.568434         13462944   7.0       96   \n",
       "4   Monday     amPeak  43.676339 -79.570409         13462841   7.0        3   \n",
       "5   Monday     amPeak  43.676838 -79.564219         13462745   7.0       11   \n",
       "6   Monday     amPeak  43.677149 -79.571164         13462701   7.0        1   \n",
       "7   Monday     amPeak  43.677504 -79.568048         13462642   7.0        3   \n",
       "8   Monday     amPeak  43.678077 -79.568836         13462541   7.0        1   \n",
       "9   Monday     amPeak  43.678177 -79.564837         13462514   7.0        4   \n",
       "10  Monday     amPeak  43.678342 -79.584970         13462531   1.0        3   \n",
       "\n",
       "    dcounts  \n",
       "0         0  \n",
       "1         0  \n",
       "2         0  \n",
       "3         0  \n",
       "4         0  \n",
       "5         0  \n",
       "6         0  \n",
       "7         0  \n",
       "8         0  \n",
       "9         0  \n",
       "10        0  "
      ]
     },
     "execution_count": 76,
     "metadata": {},
     "output_type": "execute_result"
    }
   ],
   "source": [
    "# stack\n",
    "print(df_agg_pu.shape)\n",
    "print(df_agg_do.shape)\n",
    "\n",
    "df_merge=pd.concat([df_agg_pu, df_agg_do],sort=False)\n",
    "\n",
    "print(df_merge.shape)\n",
    "df_merge.head(11)"
   ]
  },
  {
   "cell_type": "code",
   "execution_count": 77,
   "metadata": {},
   "outputs": [
    {
     "data": {
      "text/html": [
       "<div>\n",
       "<style scoped>\n",
       "    .dataframe tbody tr th:only-of-type {\n",
       "        vertical-align: middle;\n",
       "    }\n",
       "\n",
       "    .dataframe tbody tr th {\n",
       "        vertical-align: top;\n",
       "    }\n",
       "\n",
       "    .dataframe thead th {\n",
       "        text-align: right;\n",
       "    }\n",
       "</style>\n",
       "<table border=\"1\" class=\"dataframe\">\n",
       "  <thead>\n",
       "    <tr style=\"text-align: right;\">\n",
       "      <th></th>\n",
       "      <th>dow</th>\n",
       "      <th>timewindow</th>\n",
       "      <th>latitude</th>\n",
       "      <th>longitude</th>\n",
       "      <th>intersection_id</th>\n",
       "      <th>nn</th>\n",
       "      <th>pcounts</th>\n",
       "      <th>dcounts</th>\n",
       "    </tr>\n",
       "  </thead>\n",
       "  <tbody>\n",
       "    <tr>\n",
       "      <th>326</th>\n",
       "      <td>Monday</td>\n",
       "      <td>amPeak</td>\n",
       "      <td>43.728927</td>\n",
       "      <td>-79.60573</td>\n",
       "      <td>20232410</td>\n",
       "      <td>1.0</td>\n",
       "      <td>24</td>\n",
       "      <td>0</td>\n",
       "    </tr>\n",
       "    <tr>\n",
       "      <th>252</th>\n",
       "      <td>Monday</td>\n",
       "      <td>amPeak</td>\n",
       "      <td>43.728927</td>\n",
       "      <td>-79.60573</td>\n",
       "      <td>20232410</td>\n",
       "      <td>1.0</td>\n",
       "      <td>0</td>\n",
       "      <td>212</td>\n",
       "    </tr>\n",
       "  </tbody>\n",
       "</table>\n",
       "</div>"
      ],
      "text/plain": [
       "        dow timewindow   latitude  longitude  intersection_id   nn  pcounts  \\\n",
       "326  Monday     amPeak  43.728927  -79.60573         20232410  1.0       24   \n",
       "252  Monday     amPeak  43.728927  -79.60573         20232410  1.0        0   \n",
       "\n",
       "     dcounts  \n",
       "326        0  \n",
       "252      212  "
      ]
     },
     "execution_count": 77,
     "metadata": {},
     "output_type": "execute_result"
    }
   ],
   "source": [
    "# Check\n",
    "this_id=20232410  #13453946\n",
    "df_merge.loc[df_merge['intersection_id']==this_id]\n",
    "\n",
    "# Compare with database\n",
    "# SELECT * \n",
    "# FROM cnangini.trip_data_092018_timewin_monday\n",
    "# WHERE timewindow = 'amPeak'\n",
    "# AND dropoff_gc_intersection_id = 20232410\n",
    "# \n",
    "# RESULT: 24 pickups and 212 dropoffs"
   ]
  },
  {
   "cell_type": "code",
   "execution_count": null,
   "metadata": {},
   "outputs": [],
   "source": []
  },
  {
   "cell_type": "markdown",
   "metadata": {},
   "source": [
    "## 6. Group on common `intersection_id`\n",
    "For each same intersection, collapse row for pickups and row for dropoffs into one single row with `pcounts` and `dcounts` representing the total counts for each."
   ]
  },
  {
   "cell_type": "code",
   "execution_count": 80,
   "metadata": {},
   "outputs": [
    {
     "name": "stdout",
     "output_type": "stream",
     "text": [
      "(802, 6)\n"
     ]
    },
    {
     "data": {
      "text/html": [
       "<div>\n",
       "<style scoped>\n",
       "    .dataframe tbody tr th:only-of-type {\n",
       "        vertical-align: middle;\n",
       "    }\n",
       "\n",
       "    .dataframe tbody tr th {\n",
       "        vertical-align: top;\n",
       "    }\n",
       "\n",
       "    .dataframe thead th {\n",
       "        text-align: right;\n",
       "    }\n",
       "</style>\n",
       "<table border=\"1\" class=\"dataframe\">\n",
       "  <thead>\n",
       "    <tr style=\"text-align: right;\">\n",
       "      <th></th>\n",
       "      <th>intersection_id</th>\n",
       "      <th>latitude</th>\n",
       "      <th>longitude</th>\n",
       "      <th>nn</th>\n",
       "      <th>pcounts</th>\n",
       "      <th>dcounts</th>\n",
       "    </tr>\n",
       "  </thead>\n",
       "  <tbody>\n",
       "    <tr>\n",
       "      <th>0</th>\n",
       "      <td>13449225</td>\n",
       "      <td>43.760101</td>\n",
       "      <td>-79.586116</td>\n",
       "      <td>2.0</td>\n",
       "      <td>6</td>\n",
       "      <td>0</td>\n",
       "    </tr>\n",
       "    <tr>\n",
       "      <th>1</th>\n",
       "      <td>13449294</td>\n",
       "      <td>43.759608</td>\n",
       "      <td>-79.589911</td>\n",
       "      <td>4.0</td>\n",
       "      <td>1</td>\n",
       "      <td>1</td>\n",
       "    </tr>\n",
       "    <tr>\n",
       "      <th>2</th>\n",
       "      <td>13449386</td>\n",
       "      <td>43.758951</td>\n",
       "      <td>-79.595692</td>\n",
       "      <td>4.0</td>\n",
       "      <td>7</td>\n",
       "      <td>2</td>\n",
       "    </tr>\n",
       "    <tr>\n",
       "      <th>3</th>\n",
       "      <td>13449423</td>\n",
       "      <td>43.758758</td>\n",
       "      <td>-79.590381</td>\n",
       "      <td>4.0</td>\n",
       "      <td>1</td>\n",
       "      <td>1</td>\n",
       "    </tr>\n",
       "    <tr>\n",
       "      <th>4</th>\n",
       "      <td>13449457</td>\n",
       "      <td>43.758461</td>\n",
       "      <td>-79.589353</td>\n",
       "      <td>4.0</td>\n",
       "      <td>5</td>\n",
       "      <td>1</td>\n",
       "    </tr>\n",
       "    <tr>\n",
       "      <th>5</th>\n",
       "      <td>13449478</td>\n",
       "      <td>43.758431</td>\n",
       "      <td>-79.597834</td>\n",
       "      <td>2.0</td>\n",
       "      <td>1</td>\n",
       "      <td>0</td>\n",
       "    </tr>\n",
       "    <tr>\n",
       "      <th>6</th>\n",
       "      <td>13449547</td>\n",
       "      <td>43.757884</td>\n",
       "      <td>-79.594564</td>\n",
       "      <td>2.0</td>\n",
       "      <td>1</td>\n",
       "      <td>0</td>\n",
       "    </tr>\n",
       "    <tr>\n",
       "      <th>7</th>\n",
       "      <td>13449574</td>\n",
       "      <td>43.757861</td>\n",
       "      <td>-79.603381</td>\n",
       "      <td>4.0</td>\n",
       "      <td>2</td>\n",
       "      <td>2</td>\n",
       "    </tr>\n",
       "    <tr>\n",
       "      <th>8</th>\n",
       "      <td>13449575</td>\n",
       "      <td>43.757749</td>\n",
       "      <td>-79.593802</td>\n",
       "      <td>2.0</td>\n",
       "      <td>2</td>\n",
       "      <td>0</td>\n",
       "    </tr>\n",
       "    <tr>\n",
       "      <th>9</th>\n",
       "      <td>13449649</td>\n",
       "      <td>43.757164</td>\n",
       "      <td>-79.590362</td>\n",
       "      <td>2.0</td>\n",
       "      <td>1</td>\n",
       "      <td>0</td>\n",
       "    </tr>\n",
       "    <tr>\n",
       "      <th>10</th>\n",
       "      <td>13449748</td>\n",
       "      <td>43.756527</td>\n",
       "      <td>-79.593498</td>\n",
       "      <td>2.0</td>\n",
       "      <td>1</td>\n",
       "      <td>0</td>\n",
       "    </tr>\n",
       "  </tbody>\n",
       "</table>\n",
       "</div>"
      ],
      "text/plain": [
       "    intersection_id   latitude  longitude   nn  pcounts  dcounts\n",
       "0          13449225  43.760101 -79.586116  2.0        6        0\n",
       "1          13449294  43.759608 -79.589911  4.0        1        1\n",
       "2          13449386  43.758951 -79.595692  4.0        7        2\n",
       "3          13449423  43.758758 -79.590381  4.0        1        1\n",
       "4          13449457  43.758461 -79.589353  4.0        5        1\n",
       "5          13449478  43.758431 -79.597834  2.0        1        0\n",
       "6          13449547  43.757884 -79.594564  2.0        1        0\n",
       "7          13449574  43.757861 -79.603381  4.0        2        2\n",
       "8          13449575  43.757749 -79.593802  2.0        2        0\n",
       "9          13449649  43.757164 -79.590362  2.0        1        0\n",
       "10         13449748  43.756527 -79.593498  2.0        1        0"
      ]
     },
     "execution_count": 80,
     "metadata": {},
     "output_type": "execute_result"
    }
   ],
   "source": [
    "df_merge_gr=pd.DataFrame()\n",
    "\n",
    "df_merge_gr=df_merge.groupby(['intersection_id','latitude','longitude'],as_index=False).sum()"
   ]
  },
  {
   "cell_type": "code",
   "execution_count": null,
   "metadata": {},
   "outputs": [],
   "source": []
  },
  {
   "cell_type": "code",
   "execution_count": null,
   "metadata": {},
   "outputs": [],
   "source": []
  },
  {
   "cell_type": "markdown",
   "metadata": {},
   "source": [
    "## 7. Make the dataframes for each layer!\n",
    "Need 3 separate dataframes for PUDOS, PU only, DO only."
   ]
  },
  {
   "cell_type": "code",
   "execution_count": 95,
   "metadata": {},
   "outputs": [],
   "source": [
    "df_pudo_layer = pd.DataFrame()\n",
    "df_pu_layer = pd.DataFrame()\n",
    "df_do_layer = pd.DataFrame()"
   ]
  },
  {
   "cell_type": "code",
   "execution_count": 96,
   "metadata": {},
   "outputs": [],
   "source": [
    "df_pudo_layer = df_merge_gr.loc[(df_merge_gr['pcounts']>0) & (df_merge_gr['dcounts']>0)]\n",
    "df_pu_layer = df_merge_gr.loc[(df_merge_gr['pcounts']>0) & (df_merge_gr['dcounts']==0)]\n",
    "df_do_layer = df_merge_gr.loc[(df_merge_gr['pcounts']==0) & (df_merge_gr['dcounts']>0)]"
   ]
  },
  {
   "cell_type": "code",
   "execution_count": null,
   "metadata": {},
   "outputs": [],
   "source": []
  },
  {
   "cell_type": "code",
   "execution_count": null,
   "metadata": {},
   "outputs": [],
   "source": []
  },
  {
   "cell_type": "markdown",
   "metadata": {},
   "source": [
    "# Save to geojson"
   ]
  },
  {
   "cell_type": "code",
   "execution_count": 72,
   "metadata": {},
   "outputs": [
    {
     "name": "stdout",
     "output_type": "stream",
     "text": [
      "w1 Saturday nightIII\n"
     ]
    }
   ],
   "source": [
    "print('w' +repr(ward), this_day, this_tod)"
   ]
  },
  {
   "cell_type": "markdown",
   "metadata": {},
   "source": [
    "## Apply cut-off filter\n",
    "Only counts >= `c` will be saved.  "
   ]
  },
  {
   "cell_type": "code",
   "execution_count": 112,
   "metadata": {},
   "outputs": [],
   "source": [
    "c = 10 # cut-off"
   ]
  },
  {
   "cell_type": "code",
   "execution_count": 81,
   "metadata": {},
   "outputs": [],
   "source": [
    "geojson_pu_layer = df_to_geojson(df_pu_layer.loc[(df_pu_layer[\"pcounts\"]>=c)], [\"pcounts\",\"nn\"])"
   ]
  },
  {
   "cell_type": "code",
   "execution_count": 82,
   "metadata": {},
   "outputs": [],
   "source": [
    "geojson_do_layer = df_to_geojson(df_do_layer.loc[(df_do_layer[\"dcounts\"]>=c)], [\"dcounts\",\"nn\"])"
   ]
  },
  {
   "cell_type": "code",
   "execution_count": 83,
   "metadata": {},
   "outputs": [],
   "source": [
    "geojson_pudo_layer = df_to_geojson(df_pudo_layer.loc[\n",
    "    ((df_pudo_layer[\"pcounts\"]+df_pudo_layer[\"dcounts\"]) >= c)\n",
    "                                                    ], [\"pcounts\",\"dcounts\",\"nn\"])"
   ]
  },
  {
   "cell_type": "code",
   "execution_count": null,
   "metadata": {},
   "outputs": [],
   "source": []
  },
  {
   "cell_type": "markdown",
   "metadata": {},
   "source": [
    "# geoJSON format for this_day, this_tod\n",
    "Format:  \n",
    "```\n",
    "this_day: {\n",
    "\t\tthis_tod: {\n",
    "\t\t\t'pu': geojson_pu_layer,\n",
    "\t\t\t'pudo':geojson_pudo_layer,\n",
    "\t\t\t'do':geojson_do_layer\n",
    "\t\t}\n",
    " ``` \n",
    " \n",
    " e.g.\n",
    " \n",
    " ```\n",
    "'Monday': {\n",
    "\t\t'amPeak': {\n",
    "\t\t\t'pu':geojson_pu_layer,\n",
    "\t\t\t'pudo':geojson_pudo_layer,\n",
    "\t\t\t'do':geojson_do_layer\n",
    "\t\t}\n",
    " ```"
   ]
  },
  {
   "cell_type": "code",
   "execution_count": 85,
   "metadata": {},
   "outputs": [
    {
     "data": {
      "text/plain": [
       "{'nightIII': {'pu': {'type': 'FeatureCollection', 'features': []},\n",
       "  'pudo': {'type': 'FeatureCollection',\n",
       "   'features': [{'type': 'Feature',\n",
       "     'properties': {'pcounts': 5, 'dcounts': 5, 'nn': 4},\n",
       "     'geometry': {'type': 'Point', 'coordinates': [-79.5838, 43.7468]}},\n",
       "    {'type': 'Feature',\n",
       "     'properties': {'pcounts': 6, 'dcounts': 3, 'nn': 4},\n",
       "     'geometry': {'type': 'Point', 'coordinates': [-79.5892, 43.7411]}},\n",
       "    {'type': 'Feature',\n",
       "     'properties': {'pcounts': 32, 'dcounts': 17, 'nn': 2},\n",
       "     'geometry': {'type': 'Point', 'coordinates': [-79.6035, 43.7169]}},\n",
       "    {'type': 'Feature',\n",
       "     'properties': {'pcounts': 2, 'dcounts': 7, 'nn': 10},\n",
       "     'geometry': {'type': 'Point', 'coordinates': [-79.5551, 43.7151]}},\n",
       "    {'type': 'Feature',\n",
       "     'properties': {'pcounts': 3, 'dcounts': 10, 'nn': 2},\n",
       "     'geometry': {'type': 'Point', 'coordinates': [-79.5845, 43.6901]}},\n",
       "    {'type': 'Feature',\n",
       "     'properties': {'pcounts': 7, 'dcounts': 11, 'nn': 2},\n",
       "     'geometry': {'type': 'Point', 'coordinates': [-79.5956, 43.6868]}},\n",
       "    {'type': 'Feature',\n",
       "     'properties': {'pcounts': 4, 'dcounts': 9, 'nn': 2},\n",
       "     'geometry': {'type': 'Point', 'coordinates': [-79.5994, 43.6866]}},\n",
       "    {'type': 'Feature',\n",
       "     'properties': {'pcounts': 2, 'dcounts': 20, 'nn': 2},\n",
       "     'geometry': {'type': 'Point', 'coordinates': [-79.5929, 43.6808]}},\n",
       "    {'type': 'Feature',\n",
       "     'properties': {'pcounts': 9, 'dcounts': 1, 'nn': 2},\n",
       "     'geometry': {'type': 'Point', 'coordinates': [-79.585, 43.6783]}},\n",
       "    {'type': 'Feature',\n",
       "     'properties': {'pcounts': 20, 'dcounts': 14, 'nn': 14},\n",
       "     'geometry': {'type': 'Point', 'coordinates': [-79.5684, 43.6757]}},\n",
       "    {'type': 'Feature',\n",
       "     'properties': {'pcounts': 4, 'dcounts': 6, 'nn': 10},\n",
       "     'geometry': {'type': 'Point', 'coordinates': [-79.5451, 43.7228]}}]},\n",
       "  'do': {'type': 'FeatureCollection', 'features': []}}}"
      ]
     },
     "execution_count": 85,
     "metadata": {},
     "output_type": "execute_result"
    }
   ],
   "source": [
    "if this_tod=='amPeak':\n",
    "    megageo[this_day] = {}\n",
    "    megageo[this_day][this_tod] = {}\n",
    "    \n",
    "    megageo[this_day][this_tod]['pu'] = geojson_pu_layer\n",
    "    megageo[this_day][this_tod]['pudo'] = geojson_pudo_layer\n",
    "    megageo[this_day][this_tod]['do'] = geojson_do_layer\n",
    "    \n",
    "else:\n",
    "    megageo[this_tod] = {}\n",
    "    \n",
    "    megageo[this_tod]['pu'] = geojson_pu_layer\n",
    "    megageo[this_tod]['pudo'] = geojson_pudo_layer\n",
    "    megageo[this_tod]['do'] = geojson_do_layer\n",
    "    \n",
    "megageo"
   ]
  },
  {
   "cell_type": "code",
   "execution_count": null,
   "metadata": {},
   "outputs": [],
   "source": []
  },
  {
   "cell_type": "code",
   "execution_count": null,
   "metadata": {},
   "outputs": [],
   "source": []
  },
  {
   "cell_type": "code",
   "execution_count": null,
   "metadata": {},
   "outputs": [],
   "source": []
  },
  {
   "cell_type": "code",
   "execution_count": null,
   "metadata": {},
   "outputs": [],
   "source": [
    "df="
   ]
  },
  {
   "cell_type": "markdown",
   "metadata": {},
   "source": [
    "# Write geojson to file\n",
    "Use `separators=(',', ':')` with `json.dump` for a minified file.  \n",
    "\n",
    "ref: https://stackoverflow.com/questions/33233313/python-json-dumpsval-to-output-minified-json"
   ]
  },
  {
   "cell_type": "code",
   "execution_count": 86,
   "metadata": {},
   "outputs": [],
   "source": [
    "# mydir = '../../../Documents/PROJECTS/VFH/COT_PAGE/INTERIM_DATA/INDIVIDUAL_GEOJSONS/'\n",
    "mydir = '/home/nangini/Documents/PROJECTS/BDITTO/VFH/DATA_STORY/DATA/INDIVIDUAL_GEOJSONS/'\n",
    "\n",
    "output_filename = mydir + 'w' + repr(ward) + '_092018_' + this_day + '_' + this_tod + '_cutoff_nn.geojson'\n",
    "\n",
    "with open(output_filename, 'w') as output_file:\n",
    "    output_file.write('')\n",
    "    json.dump(megageo, output_file, separators=(',', ':')) "
   ]
  },
  {
   "cell_type": "code",
   "execution_count": null,
   "metadata": {},
   "outputs": [],
   "source": []
  },
  {
   "cell_type": "code",
   "execution_count": 87,
   "metadata": {},
   "outputs": [
    {
     "name": "stdout",
     "output_type": "stream",
     "text": [
      "200 OK\n"
     ]
    }
   ],
   "source": [
    "print(\"200 OK\")"
   ]
  },
  {
   "cell_type": "code",
   "execution_count": null,
   "metadata": {},
   "outputs": [],
   "source": []
  },
  {
   "cell_type": "markdown",
   "metadata": {},
   "source": [
    "`\n",
    "$ ls -lh ~/Documents/PROJECTS/VFH/COT_PAGE/INTERIM_DATA/INDIVIDUAL_GEOJSONS/\n",
    "total 216K\n",
    "-rw-r--r-- 1 test test 109K Dec  9 11:23 w1_092018_Monday_pmPeak_do_agg.geojson\n",
    "-rw-r--r-- 1 test test 104K Dec  9 11:23 w1_092018_Monday_pmPeak_pu_agg.geojson\n",
    "`\n"
   ]
  },
  {
   "cell_type": "markdown",
   "metadata": {},
   "source": [
    "`\n",
    "$ ls -lh src/geojson/\n",
    "-rw-r--r-- 1 test test 328K Dec  4 15:46 w1_092018_Monday_amPeak_agg.geojson\n",
    "-rw-r--r-- 1 test test 753K Dec  4 13:51 w1_092018_Monday_amPeak.geojson\n",
    "`\n"
   ]
  },
  {
   "cell_type": "code",
   "execution_count": null,
   "metadata": {},
   "outputs": [],
   "source": []
  },
  {
   "cell_type": "code",
   "execution_count": null,
   "metadata": {},
   "outputs": [],
   "source": []
  },
  {
   "cell_type": "code",
   "execution_count": null,
   "metadata": {},
   "outputs": [],
   "source": []
  },
  {
   "cell_type": "markdown",
   "metadata": {},
   "source": [
    "# Histograms of counts\n",
    "https://mode.com/example-gallery/python_histogram/"
   ]
  },
  {
   "cell_type": "code",
   "execution_count": 105,
   "metadata": {},
   "outputs": [],
   "source": [
    "import matplotlib.pyplot as plt\n",
    "from matplotlib.ticker import StrMethodFormatter\n",
    "\n",
    "def counts_hist(df, col, nbins):\n",
    "    ax = df.hist(column=col, bins=nbins, grid=True, color='#86bf91', zorder=2, rwidth=0.9)\n",
    "\n",
    "    ax = ax[0]\n",
    "    for x in ax:\n",
    "\n",
    "        # Despine\n",
    "        x.spines['right'].set_visible(False)\n",
    "        x.spines['top'].set_visible(False)\n",
    "        x.spines['left'].set_visible(False)\n",
    "\n",
    "        # Switch off ticks\n",
    "        x.tick_params(axis=\"both\", which=\"both\", bottom=\"off\", top=\"off\", \n",
    "                      labelbottom=\"on\", left=\"off\", right=\"off\", labelleft=\"on\")\n",
    "\n",
    "        # Draw horizontal axis lines\n",
    "        vals = x.get_yticks()\n",
    "        for tick in vals:\n",
    "            x.axhline(y=tick, linestyle='dashed', alpha=0.4, color='#eeeeee', zorder=1)\n",
    "\n",
    "        # Remove title\n",
    "        x.set_title(\"\")\n",
    "\n",
    "        # Set x-axis label\n",
    "        x.set_xlabel(col, labelpad=20, weight='bold', size=12)\n",
    "\n",
    "        # Set y-axis label\n",
    "        x.set_ylabel(\"Bin counts\", labelpad=20, weight='bold', size=12)\n",
    "\n",
    "        # Format y-axis label\n",
    "        x.yaxis.set_major_formatter(StrMethodFormatter('{x:,g}'))"
   ]
  },
  {
   "cell_type": "code",
   "execution_count": 106,
   "metadata": {},
   "outputs": [
    {
     "name": "stderr",
     "output_type": "stream",
     "text": [
      "/home/test/anaconda3/envs/vfh/lib/python3.6/site-packages/ipykernel_launcher.py:1: SettingWithCopyWarning: \n",
      "A value is trying to be set on a copy of a slice from a DataFrame.\n",
      "Try using .loc[row_indexer,col_indexer] = value instead\n",
      "\n",
      "See the caveats in the documentation: http://pandas.pydata.org/pandas-docs/stable/indexing.html#indexing-view-versus-copy\n",
      "  \"\"\"Entry point for launching an IPython kernel.\n",
      "/home/test/anaconda3/envs/vfh/lib/python3.6/site-packages/ipykernel_launcher.py:3: SettingWithCopyWarning: \n",
      "A value is trying to be set on a copy of a slice from a DataFrame.\n",
      "Try using .loc[row_indexer,col_indexer] = value instead\n",
      "\n",
      "See the caveats in the documentation: http://pandas.pydata.org/pandas-docs/stable/indexing.html#indexing-view-versus-copy\n",
      "  This is separate from the ipykernel package so we can avoid doing imports until\n"
     ]
    },
    {
     "data": {
      "text/html": [
       "<div>\n",
       "<style scoped>\n",
       "    .dataframe tbody tr th:only-of-type {\n",
       "        vertical-align: middle;\n",
       "    }\n",
       "\n",
       "    .dataframe tbody tr th {\n",
       "        vertical-align: top;\n",
       "    }\n",
       "\n",
       "    .dataframe thead th {\n",
       "        text-align: right;\n",
       "    }\n",
       "</style>\n",
       "<table border=\"1\" class=\"dataframe\">\n",
       "  <thead>\n",
       "    <tr style=\"text-align: right;\">\n",
       "      <th></th>\n",
       "      <th>intersection_id</th>\n",
       "      <th>latitude</th>\n",
       "      <th>longitude</th>\n",
       "      <th>nn</th>\n",
       "      <th>pcounts</th>\n",
       "      <th>dcounts</th>\n",
       "      <th>sum</th>\n",
       "    </tr>\n",
       "  </thead>\n",
       "  <tbody>\n",
       "    <tr>\n",
       "      <th>1</th>\n",
       "      <td>13449294</td>\n",
       "      <td>43.759608</td>\n",
       "      <td>-79.589911</td>\n",
       "      <td>4.0</td>\n",
       "      <td>1</td>\n",
       "      <td>1</td>\n",
       "      <td>2</td>\n",
       "    </tr>\n",
       "    <tr>\n",
       "      <th>2</th>\n",
       "      <td>13449386</td>\n",
       "      <td>43.758951</td>\n",
       "      <td>-79.595692</td>\n",
       "      <td>4.0</td>\n",
       "      <td>7</td>\n",
       "      <td>2</td>\n",
       "      <td>9</td>\n",
       "    </tr>\n",
       "    <tr>\n",
       "      <th>3</th>\n",
       "      <td>13449423</td>\n",
       "      <td>43.758758</td>\n",
       "      <td>-79.590381</td>\n",
       "      <td>4.0</td>\n",
       "      <td>1</td>\n",
       "      <td>1</td>\n",
       "      <td>2</td>\n",
       "    </tr>\n",
       "    <tr>\n",
       "      <th>4</th>\n",
       "      <td>13449457</td>\n",
       "      <td>43.758461</td>\n",
       "      <td>-79.589353</td>\n",
       "      <td>4.0</td>\n",
       "      <td>5</td>\n",
       "      <td>1</td>\n",
       "      <td>6</td>\n",
       "    </tr>\n",
       "    <tr>\n",
       "      <th>7</th>\n",
       "      <td>13449574</td>\n",
       "      <td>43.757861</td>\n",
       "      <td>-79.603381</td>\n",
       "      <td>4.0</td>\n",
       "      <td>2</td>\n",
       "      <td>2</td>\n",
       "      <td>4</td>\n",
       "    </tr>\n",
       "    <tr>\n",
       "      <th>12</th>\n",
       "      <td>13449783</td>\n",
       "      <td>43.756233</td>\n",
       "      <td>-79.588348</td>\n",
       "      <td>4.0</td>\n",
       "      <td>13</td>\n",
       "      <td>7</td>\n",
       "      <td>20</td>\n",
       "    </tr>\n",
       "    <tr>\n",
       "      <th>14</th>\n",
       "      <td>13449815</td>\n",
       "      <td>43.756088</td>\n",
       "      <td>-79.591049</td>\n",
       "      <td>4.0</td>\n",
       "      <td>1</td>\n",
       "      <td>1</td>\n",
       "      <td>2</td>\n",
       "    </tr>\n",
       "    <tr>\n",
       "      <th>20</th>\n",
       "      <td>13449992</td>\n",
       "      <td>43.754960</td>\n",
       "      <td>-79.588411</td>\n",
       "      <td>4.0</td>\n",
       "      <td>10</td>\n",
       "      <td>3</td>\n",
       "      <td>13</td>\n",
       "    </tr>\n",
       "    <tr>\n",
       "      <th>28</th>\n",
       "      <td>13450184</td>\n",
       "      <td>43.753620</td>\n",
       "      <td>-79.587100</td>\n",
       "      <td>4.0</td>\n",
       "      <td>17</td>\n",
       "      <td>1</td>\n",
       "      <td>18</td>\n",
       "    </tr>\n",
       "    <tr>\n",
       "      <th>31</th>\n",
       "      <td>13450197</td>\n",
       "      <td>43.753827</td>\n",
       "      <td>-79.615222</td>\n",
       "      <td>2.0</td>\n",
       "      <td>2</td>\n",
       "      <td>3</td>\n",
       "      <td>5</td>\n",
       "    </tr>\n",
       "  </tbody>\n",
       "</table>\n",
       "</div>"
      ],
      "text/plain": [
       "    intersection_id   latitude  longitude   nn  pcounts  dcounts  sum\n",
       "1          13449294  43.759608 -79.589911  4.0        1        1    2\n",
       "2          13449386  43.758951 -79.595692  4.0        7        2    9\n",
       "3          13449423  43.758758 -79.590381  4.0        1        1    2\n",
       "4          13449457  43.758461 -79.589353  4.0        5        1    6\n",
       "7          13449574  43.757861 -79.603381  4.0        2        2    4\n",
       "12         13449783  43.756233 -79.588348  4.0       13        7   20\n",
       "14         13449815  43.756088 -79.591049  4.0        1        1    2\n",
       "20         13449992  43.754960 -79.588411  4.0       10        3   13\n",
       "28         13450184  43.753620 -79.587100  4.0       17        1   18\n",
       "31         13450197  43.753827 -79.615222  2.0        2        3    5"
      ]
     },
     "execution_count": 106,
     "metadata": {},
     "output_type": "execute_result"
    }
   ],
   "source": [
    "df_pudo_layer['sum'] = np.nan\n",
    "\n",
    "df_pudo_layer['sum'] = df_pudo_layer['dcounts'] + df_pudo_layer['pcounts']\n",
    "df_pudo_layer.head(10)"
   ]
  },
  {
   "cell_type": "code",
   "execution_count": 111,
   "metadata": {},
   "outputs": [
    {
     "name": "stdout",
     "output_type": "stream",
     "text": [
      "10\n",
      "pickups bin width: 1.0\n",
      "37\n",
      "dropoffs bin width: 3.7\n",
      "236\n",
      "pudos bin width: 8.428571428571429\n"
     ]
    },
    {
     "data": {
      "image/png": "[encoded data removed]",
      "text/plain": [
       "<Figure size 432x288 with 1 Axes>"
      ]
     },
     "metadata": {
      "needs_background": "light"
     },
     "output_type": "display_data"
    },
    {
     "data": {
      "image/png": "[encoded data removed]",
      "text/plain": [
       "<Figure size 432x288 with 1 Axes>"
      ]
     },
     "metadata": {
      "needs_background": "light"
     },
     "output_type": "display_data"
    },
    {
     "data": {
      "image/png": "[encoded data removed]",
      "text/plain": [
       "<Figure size 432x288 with 1 Axes>"
      ]
     },
     "metadata": {
      "needs_background": "light"
     },
     "output_type": "display_data"
    }
   ],
   "source": [
    "nbins = 10\n",
    "print(df_pu_layer['pcounts'].max())\n",
    "print('pickups bin width: ' + repr(df_pu_layer['pcounts'].max()/nbins))\n",
    "\n",
    "counts_hist(df_pu_layer, 'pcounts', nbins)\n",
    "\n",
    "print(df_do_layer['dcounts'].max())\n",
    "print('dropoffs bin width: ' + repr(df_do_layer['dcounts'].max()/nbins))\n",
    "counts_hist(df_do_layer, 'dcounts', nbins)\n",
    "\n",
    "nbins = 28\n",
    "print(df_pudo_layer['sum'].max())\n",
    "print('pudos bin width: ' + repr(df_pudo_layer['sum'].max()/nbins))\n",
    "counts_hist(df_pudo_layer, 'sum', nbins)"
   ]
  }
 ],
 "metadata": {
  "kernelspec": {
   "display_name": "Python 3",
   "language": "python",
   "name": "python3"
  },
  "language_info": {
   "codemirror_mode": {
    "name": "ipython",
    "version": 3
   },
   "file_extension": ".py",
   "mimetype": "text/x-python",
   "name": "python",
   "nbconvert_exporter": "python",
   "pygments_lexer": "ipython3",
   "version": "3.6.7"
  }
 },
 "nbformat": 4,
 "nbformat_minor": 2
}
