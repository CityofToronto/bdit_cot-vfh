{
 "cells": [
  {
   "cell_type": "markdown",
   "metadata": {},
   "source": [
    "# Create json file of time-of-day PTC counts for Fig 4 lineChart\n",
    "\n",
    "See https://github.com/CityofToronto/bdit_vfh/blob/master/notebooks/vfh_final.ipynb  \n",
    "\n",
    "ref: https://geoffboeing.com/2015/10/exporting-python-data-geojson/  \n",
    "Huom: `with open(output_filename, 'wb') as output_file:` should be `'w'` not `'wb'`  \n",
    "\n",
    "**Resources**  \n",
    "geoJSON minifier: https://jsonformatter.org/json-minify  "
   ]
  },
  {
   "cell_type": "markdown",
   "metadata": {},
   "source": [
    "## Fig 4 Query (Fig4_tod_counts_city.sql)\n",
    "\n",
    "see: https://github.com/CityofToronto/bdit_vfh/blob/master/notebooks/vfh_final.ipynb  \n",
    "**Trips by Time of Day and Day of Week, September 2018**  \n",
    "**Exhibit 3-7**    \n",
    "\n",
    "\n",
    "```\n",
    "CREATE TABLE cnangini.fig4_tod_counts_city AS\n",
    "WITH sum AS (\n",
    "\tSELECT pickup_datetime, hr, \n",
    "\t\tsum(count) as count, \n",
    "\t\textract(month from pickup_datetime) as mon, \n",
    "\t\textract(year from pickup_datetime) as yr,\n",
    "\t\textract(dow from pickup_datetime) as dow \n",
    "\tFROM ptc.trip_data_agg_ward_25\n",
    "\tWHERE pickup_datetime > '2018-08-31'\n",
    "\tGROUP BY pickup_datetime, hr\n",
    "), \n",
    "\n",
    "collect AS (\n",
    "\tSELECT  avg(count) as count, hr, dow \n",
    "\tFROM sum\n",
    "\tGROUP BY hr, dow\n",
    ")\n",
    "\n",
    "SELECT \n",
    "\t--period_name, period_uid, \n",
    "\tcount, hr, \n",
    "\tCASE WHEN dow = 0 THEN 7 ELSE dow END AS dow\n",
    "FROM collect\n",
    "-- LEFT JOIN ptc.period_lookup_simple ON dow=period_dow AND hr=period_hr\n",
    "-- LEFT JOIN ptc.periods_simple USING (period_uid)\n",
    "ORDER BY dow, hr\n",
    "```\n",
    "\n",
    "_**Note:** table `cnangini.fig4_tod_counts_city` to be deleted from schema; saved as `~/Documents/PROJECTS/VFH/COT_PAGE/INTERIM_DATA/FROM_PGADMIN/Fig4_tod_counts_city.csv`_"
   ]
  },
  {
   "cell_type": "code",
   "execution_count": 105,
   "metadata": {},
   "outputs": [
    {
     "data": {
      "text/plain": [
       "'/home/test/anaconda3/envs/vfh/bin/python'"
      ]
     },
     "execution_count": 105,
     "metadata": {},
     "output_type": "execute_result"
    }
   ],
   "source": [
    "import sys\n",
    "sys.executable"
   ]
  },
  {
   "cell_type": "code",
   "execution_count": 106,
   "metadata": {},
   "outputs": [],
   "source": [
    "%matplotlib inline\n",
    "import numpy as np\n",
    "import pandas as pd\n",
    "import pandas.io.sql as pandasql\n",
    "import matplotlib.pyplot as plt\n",
    "import matplotlib as mpl\n",
    "import matplotlib.ticker as ticker\n",
    "\n",
    "from IPython.display import HTML, display\n",
    "import datetime\n",
    "import matplotlib.dates as mdates\n",
    "from ipywidgets import interact, interactive, fixed, interact_manual\n",
    "import ipywidgets as widgets\n",
    "import os\n",
    "\n",
    "from datetime import datetime\n",
    "\n",
    "import json"
   ]
  },
  {
   "cell_type": "code",
   "execution_count": null,
   "metadata": {},
   "outputs": [],
   "source": []
  },
  {
   "cell_type": "markdown",
   "metadata": {},
   "source": [
    "# Read tod counts data\n",
    "Note: already ordered starting from Monday (dow=1)."
   ]
  },
  {
   "cell_type": "code",
   "execution_count": 107,
   "metadata": {},
   "outputs": [
    {
     "name": "stdout",
     "output_type": "stream",
     "text": [
      "(168, 3)\n"
     ]
    },
    {
     "data": {
      "text/html": [
       "<div>\n",
       "<style scoped>\n",
       "    .dataframe tbody tr th:only-of-type {\n",
       "        vertical-align: middle;\n",
       "    }\n",
       "\n",
       "    .dataframe tbody tr th {\n",
       "        vertical-align: top;\n",
       "    }\n",
       "\n",
       "    .dataframe thead th {\n",
       "        text-align: right;\n",
       "    }\n",
       "</style>\n",
       "<table border=\"1\" class=\"dataframe\">\n",
       "  <thead>\n",
       "    <tr style=\"text-align: right;\">\n",
       "      <th></th>\n",
       "      <th>count</th>\n",
       "      <th>hr</th>\n",
       "      <th>dow</th>\n",
       "    </tr>\n",
       "  </thead>\n",
       "  <tbody>\n",
       "    <tr>\n",
       "      <th>0</th>\n",
       "      <td>4166.75</td>\n",
       "      <td>0</td>\n",
       "      <td>1</td>\n",
       "    </tr>\n",
       "    <tr>\n",
       "      <th>1</th>\n",
       "      <td>3010.75</td>\n",
       "      <td>1</td>\n",
       "      <td>1</td>\n",
       "    </tr>\n",
       "    <tr>\n",
       "      <th>2</th>\n",
       "      <td>2488.25</td>\n",
       "      <td>2</td>\n",
       "      <td>1</td>\n",
       "    </tr>\n",
       "    <tr>\n",
       "      <th>3</th>\n",
       "      <td>1598.75</td>\n",
       "      <td>3</td>\n",
       "      <td>1</td>\n",
       "    </tr>\n",
       "    <tr>\n",
       "      <th>4</th>\n",
       "      <td>1312.25</td>\n",
       "      <td>4</td>\n",
       "      <td>1</td>\n",
       "    </tr>\n",
       "  </tbody>\n",
       "</table>\n",
       "</div>"
      ],
      "text/plain": [
       "     count  hr  dow\n",
       "0  4166.75   0    1\n",
       "1  3010.75   1    1\n",
       "2  2488.25   2    1\n",
       "3  1598.75   3    1\n",
       "4  1312.25   4    1"
      ]
     },
     "execution_count": 107,
     "metadata": {},
     "output_type": "execute_result"
    }
   ],
   "source": [
    "fname = '../../../Documents/PROJECTS/VFH/COT_PAGE/INTERIM_DATA/FROM_PGADMIN/Fig4_tod_counts_city.csv'\n",
    "\n",
    "df = pd.read_csv(fname)\n",
    "\n",
    "print(df.shape)\n",
    "df.head(5)"
   ]
  },
  {
   "cell_type": "code",
   "execution_count": null,
   "metadata": {},
   "outputs": [],
   "source": []
  },
  {
   "cell_type": "code",
   "execution_count": null,
   "metadata": {},
   "outputs": [],
   "source": []
  },
  {
   "cell_type": "markdown",
   "metadata": {},
   "source": [
    "# Check against database"
   ]
  },
  {
   "cell_type": "markdown",
   "metadata": {},
   "source": [
    "## pick-ups, Monday, hr 0: 15454 rows"
   ]
  },
  {
   "cell_type": "markdown",
   "metadata": {},
   "source": [
    "\n",
    "```\n",
    "WITH X AS (\n",
    "\tSELECT \n",
    "\t\tTO_CHAR(pickup_datetime, 'FMDay') pickup_dow,\n",
    "\t\tTO_CHAR(pickup_datetime, 'HH24') pickup_hr,\n",
    "\t\tTO_CHAR(dropoff_datetime, 'FMDay') dropoff_dow,\n",
    "\t\tTO_CHAR(dropoff_datetime, 'HH24') dropoff_hr,\n",
    "\t\tpickup_ward2018, dropoff_ward2018, pickup_mun_id,\n",
    "\t\tpickup_neighbourhood, dropoff_neighbourhood\n",
    "FROM ptc.trip_data_new_geom a\n",
    "WHERE pickup_mun_id = 69 AND dropoff_mun_id = 69\n",
    "AND pickup_datetime > '20180901' AND pickup_datetime < '20181001'\n",
    ")\n",
    "\n",
    "SELECT COUNT(*)\n",
    "FROM X\n",
    "WHERE pickup_dow = 'Monday'\n",
    "AND pickup_hr = '00'\n",
    "```\n",
    "\n",
    "**15454 rows**  \n"
   ]
  },
  {
   "cell_type": "markdown",
   "metadata": {},
   "source": [
    "## pick-ups, Monday, hr 2: 9150 rows"
   ]
  },
  {
   "cell_type": "markdown",
   "metadata": {},
   "source": [
    "## drop-offs, Monday, hr 2: 9145 rows"
   ]
  },
  {
   "cell_type": "code",
   "execution_count": null,
   "metadata": {},
   "outputs": [],
   "source": []
  },
  {
   "cell_type": "code",
   "execution_count": null,
   "metadata": {},
   "outputs": [],
   "source": []
  },
  {
   "cell_type": "code",
   "execution_count": null,
   "metadata": {},
   "outputs": [],
   "source": []
  },
  {
   "cell_type": "code",
   "execution_count": 110,
   "metadata": {},
   "outputs": [
    {
     "data": {
      "text/plain": [
       "<matplotlib.axes._subplots.AxesSubplot at 0x7f060e630898>"
      ]
     },
     "execution_count": 110,
     "metadata": {},
     "output_type": "execute_result"
    },
    {
     "data": {
      "image/png": "[encoded data removed]",
      "text/plain": [
       "<Figure size 1080x720 with 1 Axes>"
      ]
     },
     "metadata": {
      "needs_background": "light"
     },
     "output_type": "display_data"
    }
   ],
   "source": [
    "df.plot(y=[\"count\"], kind=\"line\", use_index=True, title='PTC counts - City', figsize=(15,10))"
   ]
  },
  {
   "cell_type": "code",
   "execution_count": null,
   "metadata": {},
   "outputs": [],
   "source": []
  },
  {
   "cell_type": "code",
   "execution_count": null,
   "metadata": {},
   "outputs": [],
   "source": []
  },
  {
   "cell_type": "code",
   "execution_count": null,
   "metadata": {},
   "outputs": [],
   "source": [
    "df="
   ]
  },
  {
   "cell_type": "code",
   "execution_count": null,
   "metadata": {},
   "outputs": [],
   "source": []
  },
  {
   "cell_type": "code",
   "execution_count": null,
   "metadata": {},
   "outputs": [],
   "source": []
  },
  {
   "cell_type": "markdown",
   "metadata": {},
   "source": [
    "# Create json object and write to file\n",
    "Format:  \n",
    "```\n",
    "{\n",
    "\t\"keys\": {\n",
    "\t\t\"name\": \"tod\",\n",
    "\t\t\"values\": [\n",
    "0, 1, 2, 3, 4, 5, 6, 7, 8, 9, 10, 11, 12, 13, 14, 15, 16, 17, 18, 19, 20, 21, 22, 23, 24, 25, 26, 27, 28, 29, 30, 31, 32, 33, 34, 35, 36, 37, 38, 39, 40, 41, 42, 43, 44, 45, 46, 47, 48, 49, 50, 51, 52, 53, 54, 55, 56, 57, 58, 59, 60, 61, 62, 63, 64, 65, 66, 67, 68, 69, 70, 71, 72, 73, 74, 75, 76, 77, 78, 79, 80, 81, 82, 83, 84, 85, 86, 87, 88, 89, 90, 91, 92, 93, 94, 95, 96, 97, 98, 99, 100, 101, 102, 103, 104, 105, 106, 107, 108, 109, 110, 111, 112, 113, 114, 115, 116, 117, 118, 119, 120, 121, 122, 123, 124, 125, 126, 127, 128, 129, 130, 131, 132, 133, 134, 135, 136, 137, 138, 139, 140, 141, 142, 143, 144, 145, 146, 147, 148, 149, 150, 151, 152, 153, 154, 155, 156, 157, 158, 159, 160, 161, 162, 163, 164, 165, 166, 167\n",
    "\t\t]\n",
    "\t},\n",
    "\t\"pudo\": [0.3234158,0.21998841,0.18961688,0.15678278,0.13872403, 0.48019858,0.36938352...\n",
    "        ]\n",
    "}\n",
    "```"
   ]
  },
  {
   "cell_type": "code",
   "execution_count": 115,
   "metadata": {},
   "outputs": [
    {
     "data": {
      "text/plain": [
       "{'keys': {'name': 'tod',\n",
       "  'values': [0,\n",
       "   1,\n",
       "   2,\n",
       "   3,\n",
       "   4,\n",
       "   5,\n",
       "   6,\n",
       "   7,\n",
       "   8,\n",
       "   9,\n",
       "   10,\n",
       "   11,\n",
       "   12,\n",
       "   13,\n",
       "   14,\n",
       "   15,\n",
       "   16,\n",
       "   17,\n",
       "   18,\n",
       "   19,\n",
       "   20,\n",
       "   21,\n",
       "   22,\n",
       "   23,\n",
       "   24,\n",
       "   25,\n",
       "   26,\n",
       "   27,\n",
       "   28,\n",
       "   29,\n",
       "   30,\n",
       "   31,\n",
       "   32,\n",
       "   33,\n",
       "   34,\n",
       "   35,\n",
       "   36,\n",
       "   37,\n",
       "   38,\n",
       "   39,\n",
       "   40,\n",
       "   41,\n",
       "   42,\n",
       "   43,\n",
       "   44,\n",
       "   45,\n",
       "   46,\n",
       "   47,\n",
       "   48,\n",
       "   49,\n",
       "   50,\n",
       "   51,\n",
       "   52,\n",
       "   53,\n",
       "   54,\n",
       "   55,\n",
       "   56,\n",
       "   57,\n",
       "   58,\n",
       "   59,\n",
       "   60,\n",
       "   61,\n",
       "   62,\n",
       "   63,\n",
       "   64,\n",
       "   65,\n",
       "   66,\n",
       "   67,\n",
       "   68,\n",
       "   69,\n",
       "   70,\n",
       "   71,\n",
       "   72,\n",
       "   73,\n",
       "   74,\n",
       "   75,\n",
       "   76,\n",
       "   77,\n",
       "   78,\n",
       "   79,\n",
       "   80,\n",
       "   81,\n",
       "   82,\n",
       "   83,\n",
       "   84,\n",
       "   85,\n",
       "   86,\n",
       "   87,\n",
       "   88,\n",
       "   89,\n",
       "   90,\n",
       "   91,\n",
       "   92,\n",
       "   93,\n",
       "   94,\n",
       "   95,\n",
       "   96,\n",
       "   97,\n",
       "   98,\n",
       "   99,\n",
       "   100,\n",
       "   101,\n",
       "   102,\n",
       "   103,\n",
       "   104,\n",
       "   105,\n",
       "   106,\n",
       "   107,\n",
       "   108,\n",
       "   109,\n",
       "   110,\n",
       "   111,\n",
       "   112,\n",
       "   113,\n",
       "   114,\n",
       "   115,\n",
       "   116,\n",
       "   117,\n",
       "   118,\n",
       "   119,\n",
       "   120,\n",
       "   121,\n",
       "   122,\n",
       "   123,\n",
       "   124,\n",
       "   125,\n",
       "   126,\n",
       "   127,\n",
       "   128,\n",
       "   129,\n",
       "   130,\n",
       "   131,\n",
       "   132,\n",
       "   133,\n",
       "   134,\n",
       "   135,\n",
       "   136,\n",
       "   137,\n",
       "   138,\n",
       "   139,\n",
       "   140,\n",
       "   141,\n",
       "   142,\n",
       "   143,\n",
       "   144,\n",
       "   145,\n",
       "   146,\n",
       "   147,\n",
       "   148,\n",
       "   149,\n",
       "   150,\n",
       "   151,\n",
       "   152,\n",
       "   153,\n",
       "   154,\n",
       "   155,\n",
       "   156,\n",
       "   157,\n",
       "   158,\n",
       "   159,\n",
       "   160,\n",
       "   161,\n",
       "   162,\n",
       "   163,\n",
       "   164,\n",
       "   165,\n",
       "   166,\n",
       "   167]},\n",
       " 'count': [4166.75,\n",
       "  3010.75,\n",
       "  2488.25,\n",
       "  1598.75,\n",
       "  1312.25,\n",
       "  1878.0,\n",
       "  3357.75,\n",
       "  5286.5,\n",
       "  7117.25,\n",
       "  7524.5,\n",
       "  6212.5,\n",
       "  5883.75,\n",
       "  5856.5,\n",
       "  5716.75,\n",
       "  6262.25,\n",
       "  6701.5,\n",
       "  7220.75,\n",
       "  7958.5,\n",
       "  8062.5,\n",
       "  7240.5,\n",
       "  6592.5,\n",
       "  6027.5,\n",
       "  5270.75,\n",
       "  4201.5,\n",
       "  2884.0,\n",
       "  1857.5,\n",
       "  1393.25,\n",
       "  852.25,\n",
       "  832.75,\n",
       "  1704.0,\n",
       "  3490.0,\n",
       "  6396.0,\n",
       "  8819.75,\n",
       "  8487.75,\n",
       "  6618.25,\n",
       "  6083.25,\n",
       "  5919.5,\n",
       "  5957.0,\n",
       "  6392.5,\n",
       "  6932.75,\n",
       "  7345.25,\n",
       "  8385.25,\n",
       "  8638.0,\n",
       "  7601.25,\n",
       "  7015.25,\n",
       "  6677.0,\n",
       "  5765.5,\n",
       "  4650.75,\n",
       "  3049.5,\n",
       "  1936.0,\n",
       "  1405.25,\n",
       "  828.75,\n",
       "  834.5,\n",
       "  1620.0,\n",
       "  3425.25,\n",
       "  6206.75,\n",
       "  8560.25,\n",
       "  8307.0,\n",
       "  6404.0,\n",
       "  5942.5,\n",
       "  5906.75,\n",
       "  5945.25,\n",
       "  6501.0,\n",
       "  7015.0,\n",
       "  7395.5,\n",
       "  8459.5,\n",
       "  9029.25,\n",
       "  8553.5,\n",
       "  7794.25,\n",
       "  7267.25,\n",
       "  6619.75,\n",
       "  5379.5,\n",
       "  3470.75,\n",
       "  2268.0,\n",
       "  1716.5,\n",
       "  1023.75,\n",
       "  959.75,\n",
       "  1713.75,\n",
       "  3562.75,\n",
       "  6436.75,\n",
       "  8961.5,\n",
       "  8545.5,\n",
       "  6729.0,\n",
       "  6407.5,\n",
       "  6197.5,\n",
       "  6188.0,\n",
       "  6697.0,\n",
       "  7337.0,\n",
       "  7913.0,\n",
       "  9129.0,\n",
       "  10128.25,\n",
       "  9791.25,\n",
       "  9052.25,\n",
       "  8345.75,\n",
       "  7904.25,\n",
       "  7029.0,\n",
       "  4769.5,\n",
       "  3292.25,\n",
       "  2553.5,\n",
       "  1400.0,\n",
       "  1156.5,\n",
       "  1811.75,\n",
       "  3658.75,\n",
       "  6583.5,\n",
       "  9088.5,\n",
       "  8740.0,\n",
       "  7127.5,\n",
       "  6921.5,\n",
       "  6907.25,\n",
       "  7086.25,\n",
       "  7648.25,\n",
       "  8383.25,\n",
       "  9279.75,\n",
       "  10484.75,\n",
       "  11743.0,\n",
       "  12437.5,\n",
       "  12387.5,\n",
       "  12002.5,\n",
       "  12045.0,\n",
       "  12220.5,\n",
       "  10586.6,\n",
       "  8844.4,\n",
       "  8042.6,\n",
       "  4691.6,\n",
       "  2499.4,\n",
       "  1991.6,\n",
       "  2626.6,\n",
       "  3459.0,\n",
       "  4891.8,\n",
       "  5867.0,\n",
       "  6423.6,\n",
       "  6939.2,\n",
       "  7303.6,\n",
       "  7498.0,\n",
       "  7982.2,\n",
       "  8552.2,\n",
       "  9121.2,\n",
       "  10084.8,\n",
       "  11153.8,\n",
       "  11679.4,\n",
       "  11650.4,\n",
       "  11375.0,\n",
       "  12061.4,\n",
       "  13068.4,\n",
       "  11991.0,\n",
       "  10528.6,\n",
       "  9644.4,\n",
       "  6259.0,\n",
       "  3233.4,\n",
       "  2152.0,\n",
       "  2715.8,\n",
       "  3084.2,\n",
       "  3453.4,\n",
       "  4577.4,\n",
       "  5849.0,\n",
       "  6454.8,\n",
       "  6607.4,\n",
       "  6772.6,\n",
       "  6915.2,\n",
       "  7296.2,\n",
       "  7507.0,\n",
       "  7830.4,\n",
       "  7684.2,\n",
       "  7192.8,\n",
       "  6780.0,\n",
       "  6496.0,\n",
       "  6183.4,\n",
       "  5587.2]}"
      ]
     },
     "execution_count": 115,
     "metadata": {},
     "output_type": "execute_result"
    }
   ],
   "source": [
    "ptcjson = {\n",
    "    \"keys\":{\n",
    "        \"name\":\"tod\", \n",
    "        \"values\":np.arange(df.shape[0]).tolist()\n",
    "    },\n",
    "    \"count\":pd.to_numeric(df['count'], downcast='signed').tolist()\n",
    "}\n",
    "\n",
    "ptcjson"
   ]
  },
  {
   "cell_type": "code",
   "execution_count": null,
   "metadata": {},
   "outputs": [],
   "source": []
  },
  {
   "cell_type": "markdown",
   "metadata": {},
   "source": [
    "## Write json to file\n",
    "https://stackabuse.com/reading-and-writing-json-to-a-file-in-python/"
   ]
  },
  {
   "cell_type": "code",
   "execution_count": 116,
   "metadata": {},
   "outputs": [
    {
     "data": {
      "text/plain": [
       "(168, 3)"
      ]
     },
     "execution_count": 116,
     "metadata": {},
     "output_type": "execute_result"
    }
   ],
   "source": [
    "df.shape"
   ]
  },
  {
   "cell_type": "code",
   "execution_count": 117,
   "metadata": {},
   "outputs": [],
   "source": [
    "import json\n",
    "\n",
    "mydir = '../src/data/'\n",
    "# mydir = '/home/nangini/Documents/PROJECTS/BDITTO/VFH/DATA_STORY/DATA/JSONS/'\n",
    "\n",
    "file = 'fig4_tod_city.json'\n",
    "\n",
    "fname = mydir + file\n",
    "with open(fname, 'w') as outfile:\n",
    "    json.dump(ptcjson, outfile)"
   ]
  },
  {
   "cell_type": "code",
   "execution_count": null,
   "metadata": {},
   "outputs": [],
   "source": []
  },
  {
   "cell_type": "code",
   "execution_count": 118,
   "metadata": {},
   "outputs": [
    {
     "name": "stdout",
     "output_type": "stream",
     "text": [
      "200 OK\n"
     ]
    }
   ],
   "source": [
    "print(\"200 OK\")"
   ]
  },
  {
   "cell_type": "code",
   "execution_count": null,
   "metadata": {},
   "outputs": [],
   "source": []
  },
  {
   "cell_type": "code",
   "execution_count": null,
   "metadata": {},
   "outputs": [],
   "source": []
  }
 ],
 "metadata": {
  "kernelspec": {
   "display_name": "Python 3",
   "language": "python",
   "name": "python3"
  },
  "language_info": {
   "codemirror_mode": {
    "name": "ipython",
    "version": 3
   },
   "file_extension": ".py",
   "mimetype": "text/x-python",
   "name": "python",
   "nbconvert_exporter": "python",
   "pygments_lexer": "ipython3",
   "version": "3.6.7"
  }
 },
 "nbformat": 4,
 "nbformat_minor": 2
}
