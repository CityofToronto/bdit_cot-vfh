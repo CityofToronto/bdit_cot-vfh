{
 "cells": [
  {
   "cell_type": "markdown",
   "metadata": {},
   "source": [
    "# Create geojson file from list of PUDO coords\n",
    "See /home/test/Documents/PROJECTS/VFH/iPython_Notebooks/dv_pudo_profiles.ipynb for more info.  \n",
    "\n",
    "ref: https://geoffboeing.com/2015/10/exporting-python-data-geojson/  \n",
    "Huom: `with open(output_filename, 'wb') as output_file:` should be `'w'` not `'wb'`  "
   ]
  },
  {
   "cell_type": "code",
   "execution_count": 1,
   "metadata": {},
   "outputs": [
    {
     "data": {
      "text/plain": [
       "'/home/test/anaconda3/envs/vfh/bin/python'"
      ]
     },
     "execution_count": 1,
     "metadata": {},
     "output_type": "execute_result"
    }
   ],
   "source": [
    "import sys\n",
    "sys.executable"
   ]
  },
  {
   "cell_type": "code",
   "execution_count": 2,
   "metadata": {},
   "outputs": [],
   "source": [
    "%matplotlib inline\n",
    "import numpy as np\n",
    "import pandas as pd\n",
    "import pandas.io.sql as pandasql\n",
    "import matplotlib.pyplot as plt\n",
    "import matplotlib as mpl\n",
    "import matplotlib.ticker as ticker\n",
    "\n",
    "from IPython.display import HTML, display\n",
    "import datetime\n",
    "import matplotlib.dates as mdates\n",
    "from ipywidgets import interact, interactive, fixed, interact_manual\n",
    "import ipywidgets as widgets\n",
    "import os\n",
    "\n",
    "from datetime import datetime\n",
    "\n",
    "import json"
   ]
  },
  {
   "cell_type": "markdown",
   "metadata": {},
   "source": [
    "# Functions"
   ]
  },
  {
   "cell_type": "code",
   "execution_count": 3,
   "metadata": {},
   "outputs": [],
   "source": [
    "# https://geoffboeing.com/2015/10/exporting-python-data-geojson/\n",
    "def df_to_geojson(df, properties, lat='latitude', lon='longitude'):\n",
    "    geojson = {'type':'FeatureCollection', 'features':[]}\n",
    "    for _, row in df.iterrows():\n",
    "        feature = {'type':'Feature',\n",
    "                   'properties':{},\n",
    "                   'geometry':{'type':'Point',\n",
    "                               'coordinates':[]}}\n",
    "        feature['geometry']['coordinates'] = [row[lon],row[lat]]\n",
    "        for prop in properties:\n",
    "            feature['properties'][prop] = row[prop]\n",
    "        geojson['features'].append(feature)\n",
    "    return geojson"
   ]
  },
  {
   "cell_type": "markdown",
   "metadata": {},
   "source": [
    "# GeoJSON properties for file"
   ]
  },
  {
   "cell_type": "code",
   "execution_count": 4,
   "metadata": {},
   "outputs": [],
   "source": [
    "# Define the properties of the PUDO geojson file\n",
    "cols = ['type','dow','timewindow','latitude','longitude','intersection_id','counts']"
   ]
  },
  {
   "cell_type": "code",
   "execution_count": null,
   "metadata": {},
   "outputs": [],
   "source": []
  },
  {
   "cell_type": "markdown",
   "metadata": {},
   "source": [
    "# Variables"
   ]
  },
  {
   "cell_type": "code",
   "execution_count": 5,
   "metadata": {},
   "outputs": [],
   "source": [
    "ward=1\n",
    "this_day = \"Monday\"\n",
    "this_tod = \"amPeak\""
   ]
  },
  {
   "cell_type": "code",
   "execution_count": null,
   "metadata": {},
   "outputs": [],
   "source": []
  },
  {
   "cell_type": "markdown",
   "metadata": {},
   "source": [
    "# Read PUDO data from csv file"
   ]
  },
  {
   "cell_type": "code",
   "execution_count": 6,
   "metadata": {},
   "outputs": [
    {
     "name": "stdout",
     "output_type": "stream",
     "text": [
      "(47487, 12)\n"
     ]
    },
    {
     "data": {
      "text/html": [
       "<div>\n",
       "<style scoped>\n",
       "    .dataframe tbody tr th:only-of-type {\n",
       "        vertical-align: middle;\n",
       "    }\n",
       "\n",
       "    .dataframe tbody tr th {\n",
       "        vertical-align: top;\n",
       "    }\n",
       "\n",
       "    .dataframe thead th {\n",
       "        text-align: right;\n",
       "    }\n",
       "</style>\n",
       "<table border=\"1\" class=\"dataframe\">\n",
       "  <thead>\n",
       "    <tr style=\"text-align: right;\">\n",
       "      <th></th>\n",
       "      <th>pickup_datetime</th>\n",
       "      <th>dropoff_datetime</th>\n",
       "      <th>pickup_ward2018</th>\n",
       "      <th>dropoff_ward2018</th>\n",
       "      <th>pickup_gc_intersection_id</th>\n",
       "      <th>dropoff_gc_intersection_id</th>\n",
       "      <th>dow</th>\n",
       "      <th>timewindow</th>\n",
       "      <th>lat_pickup</th>\n",
       "      <th>lon_pickup</th>\n",
       "      <th>lat_dropoff</th>\n",
       "      <th>lon_dropoff</th>\n",
       "    </tr>\n",
       "  </thead>\n",
       "  <tbody>\n",
       "    <tr>\n",
       "      <th>0</th>\n",
       "      <td>2018-09-03 07:00:00</td>\n",
       "      <td>2018-09-03 07:04:57</td>\n",
       "      <td>14.0</td>\n",
       "      <td>14</td>\n",
       "      <td>13463478</td>\n",
       "      <td>30104238</td>\n",
       "      <td>Monday</td>\n",
       "      <td>amPeak</td>\n",
       "      <td>43.669251</td>\n",
       "      <td>-79.335609</td>\n",
       "      <td>43.665462</td>\n",
       "      <td>-79.354768</td>\n",
       "    </tr>\n",
       "    <tr>\n",
       "      <th>1</th>\n",
       "      <td>2018-09-03 07:00:00</td>\n",
       "      <td>2018-09-03 07:06:18</td>\n",
       "      <td>15.0</td>\n",
       "      <td>15</td>\n",
       "      <td>13455929</td>\n",
       "      <td>13453408</td>\n",
       "      <td>Monday</td>\n",
       "      <td>amPeak</td>\n",
       "      <td>43.713786</td>\n",
       "      <td>-79.392200</td>\n",
       "      <td>43.730241</td>\n",
       "      <td>-79.381454</td>\n",
       "    </tr>\n",
       "    <tr>\n",
       "      <th>2</th>\n",
       "      <td>2018-09-03 07:00:00</td>\n",
       "      <td>2018-09-03 07:06:18</td>\n",
       "      <td>15.0</td>\n",
       "      <td>15</td>\n",
       "      <td>13455929</td>\n",
       "      <td>13453408</td>\n",
       "      <td>Monday</td>\n",
       "      <td>amPeak</td>\n",
       "      <td>43.713786</td>\n",
       "      <td>-79.392200</td>\n",
       "      <td>43.730241</td>\n",
       "      <td>-79.381454</td>\n",
       "    </tr>\n",
       "    <tr>\n",
       "      <th>3</th>\n",
       "      <td>2018-09-03 07:00:00</td>\n",
       "      <td>2018-09-03 07:06:38</td>\n",
       "      <td>4.0</td>\n",
       "      <td>4</td>\n",
       "      <td>13465701</td>\n",
       "      <td>13467084</td>\n",
       "      <td>Monday</td>\n",
       "      <td>amPeak</td>\n",
       "      <td>43.657544</td>\n",
       "      <td>-79.465249</td>\n",
       "      <td>43.648833</td>\n",
       "      <td>-79.450028</td>\n",
       "    </tr>\n",
       "    <tr>\n",
       "      <th>4</th>\n",
       "      <td>2018-09-03 07:00:00</td>\n",
       "      <td>2018-09-03 07:06:07</td>\n",
       "      <td>10.0</td>\n",
       "      <td>10</td>\n",
       "      <td>13467512</td>\n",
       "      <td>13466378</td>\n",
       "      <td>Monday</td>\n",
       "      <td>amPeak</td>\n",
       "      <td>43.645373</td>\n",
       "      <td>-79.392061</td>\n",
       "      <td>43.652152</td>\n",
       "      <td>-79.382336</td>\n",
       "    </tr>\n",
       "  </tbody>\n",
       "</table>\n",
       "</div>"
      ],
      "text/plain": [
       "       pickup_datetime     dropoff_datetime  pickup_ward2018  \\\n",
       "0  2018-09-03 07:00:00  2018-09-03 07:04:57             14.0   \n",
       "1  2018-09-03 07:00:00  2018-09-03 07:06:18             15.0   \n",
       "2  2018-09-03 07:00:00  2018-09-03 07:06:18             15.0   \n",
       "3  2018-09-03 07:00:00  2018-09-03 07:06:38              4.0   \n",
       "4  2018-09-03 07:00:00  2018-09-03 07:06:07             10.0   \n",
       "\n",
       "   dropoff_ward2018  pickup_gc_intersection_id  dropoff_gc_intersection_id  \\\n",
       "0                14                   13463478                    30104238   \n",
       "1                15                   13455929                    13453408   \n",
       "2                15                   13455929                    13453408   \n",
       "3                 4                   13465701                    13467084   \n",
       "4                10                   13467512                    13466378   \n",
       "\n",
       "      dow timewindow  lat_pickup  lon_pickup  lat_dropoff  lon_dropoff  \n",
       "0  Monday     amPeak   43.669251  -79.335609    43.665462   -79.354768  \n",
       "1  Monday     amPeak   43.713786  -79.392200    43.730241   -79.381454  \n",
       "2  Monday     amPeak   43.713786  -79.392200    43.730241   -79.381454  \n",
       "3  Monday     amPeak   43.657544  -79.465249    43.648833   -79.450028  \n",
       "4  Monday     amPeak   43.645373  -79.392061    43.652152   -79.382336  "
      ]
     },
     "execution_count": 6,
     "metadata": {},
     "output_type": "execute_result"
    }
   ],
   "source": [
    "fname = '../../../Documents/PROJECTS/VFH/COT_PAGE/test_data/all_pudo_mon_ampeak.csv'\n",
    "# fname = '../../../Documents/PROJECTS/VFH/COT_PAGE/dummydata/test_data/w1_pudo_092018_latlon.csv'\n",
    "# fname = '~/Documents/PROJECTS/BDITTO/VFH/DATA_STORY/DATA/from_pgAdmin//w1_pudo_092018_latlon.csv'\n",
    "\n",
    "df = pd.read_csv(fname)\n",
    "\n",
    "print(df.shape)\n",
    "df.head(5)"
   ]
  },
  {
   "cell_type": "code",
   "execution_count": 7,
   "metadata": {},
   "outputs": [
    {
     "data": {
      "text/plain": [
       "['pickup_datetime',\n",
       " 'dropoff_datetime',\n",
       " 'pickup_ward2018',\n",
       " 'dropoff_ward2018',\n",
       " 'pickup_gc_intersection_id',\n",
       " 'dropoff_gc_intersection_id',\n",
       " 'dow',\n",
       " 'timewindow',\n",
       " 'lat_pickup',\n",
       " 'lon_pickup',\n",
       " 'lat_dropoff',\n",
       " 'lon_dropoff']"
      ]
     },
     "execution_count": 7,
     "metadata": {},
     "output_type": "execute_result"
    }
   ],
   "source": [
    "list(df)"
   ]
  },
  {
   "cell_type": "code",
   "execution_count": 8,
   "metadata": {},
   "outputs": [
    {
     "data": {
      "text/html": [
       "<div>\n",
       "<style scoped>\n",
       "    .dataframe tbody tr th:only-of-type {\n",
       "        vertical-align: middle;\n",
       "    }\n",
       "\n",
       "    .dataframe tbody tr th {\n",
       "        vertical-align: top;\n",
       "    }\n",
       "\n",
       "    .dataframe thead th {\n",
       "        text-align: right;\n",
       "    }\n",
       "</style>\n",
       "<table border=\"1\" class=\"dataframe\">\n",
       "  <thead>\n",
       "    <tr style=\"text-align: right;\">\n",
       "      <th></th>\n",
       "      <th>pickup_datetime</th>\n",
       "      <th>dropoff_datetime</th>\n",
       "      <th>pickup_ward2018</th>\n",
       "      <th>dropoff_ward2018</th>\n",
       "      <th>pickup_gc_intersection_id</th>\n",
       "      <th>dropoff_gc_intersection_id</th>\n",
       "      <th>dow</th>\n",
       "      <th>timewindow</th>\n",
       "      <th>lat_pickup</th>\n",
       "      <th>lon_pickup</th>\n",
       "      <th>lat_dropoff</th>\n",
       "      <th>lon_dropoff</th>\n",
       "    </tr>\n",
       "  </thead>\n",
       "  <tbody>\n",
       "    <tr>\n",
       "      <th>30245</th>\n",
       "      <td>2018-09-10 08:00:00</td>\n",
       "      <td>2018-09-10 08:08:53</td>\n",
       "      <td>1.0</td>\n",
       "      <td>1</td>\n",
       "      <td>13454935</td>\n",
       "      <td>20232410</td>\n",
       "      <td>Monday</td>\n",
       "      <td>amPeak</td>\n",
       "      <td>43.722744</td>\n",
       "      <td>-79.598217</td>\n",
       "      <td>43.728927</td>\n",
       "      <td>-79.60573</td>\n",
       "    </tr>\n",
       "    <tr>\n",
       "      <th>32321</th>\n",
       "      <td>2018-09-10 08:00:00</td>\n",
       "      <td>2018-09-10 08:05:53</td>\n",
       "      <td>1.0</td>\n",
       "      <td>1</td>\n",
       "      <td>13454935</td>\n",
       "      <td>13459809</td>\n",
       "      <td>Monday</td>\n",
       "      <td>amPeak</td>\n",
       "      <td>43.722744</td>\n",
       "      <td>-79.598217</td>\n",
       "      <td>43.693351</td>\n",
       "      <td>-79.58852</td>\n",
       "    </tr>\n",
       "  </tbody>\n",
       "</table>\n",
       "</div>"
      ],
      "text/plain": [
       "           pickup_datetime     dropoff_datetime  pickup_ward2018  \\\n",
       "30245  2018-09-10 08:00:00  2018-09-10 08:08:53              1.0   \n",
       "32321  2018-09-10 08:00:00  2018-09-10 08:05:53              1.0   \n",
       "\n",
       "       dropoff_ward2018  pickup_gc_intersection_id  \\\n",
       "30245                 1                   13454935   \n",
       "32321                 1                   13454935   \n",
       "\n",
       "       dropoff_gc_intersection_id     dow timewindow  lat_pickup  lon_pickup  \\\n",
       "30245                    20232410  Monday     amPeak   43.722744  -79.598217   \n",
       "32321                    13459809  Monday     amPeak   43.722744  -79.598217   \n",
       "\n",
       "       lat_dropoff  lon_dropoff  \n",
       "30245    43.728927    -79.60573  \n",
       "32321    43.693351    -79.58852  "
      ]
     },
     "execution_count": 8,
     "metadata": {},
     "output_type": "execute_result"
    }
   ],
   "source": [
    "df.loc[df['pickup_gc_intersection_id']==13454935]"
   ]
  },
  {
   "cell_type": "code",
   "execution_count": 9,
   "metadata": {},
   "outputs": [
    {
     "data": {
      "text/html": [
       "<div>\n",
       "<style scoped>\n",
       "    .dataframe tbody tr th:only-of-type {\n",
       "        vertical-align: middle;\n",
       "    }\n",
       "\n",
       "    .dataframe tbody tr th {\n",
       "        vertical-align: top;\n",
       "    }\n",
       "\n",
       "    .dataframe thead th {\n",
       "        text-align: right;\n",
       "    }\n",
       "</style>\n",
       "<table border=\"1\" class=\"dataframe\">\n",
       "  <thead>\n",
       "    <tr style=\"text-align: right;\">\n",
       "      <th></th>\n",
       "      <th>pickup_datetime</th>\n",
       "      <th>dropoff_datetime</th>\n",
       "      <th>pickup_ward2018</th>\n",
       "      <th>dropoff_ward2018</th>\n",
       "      <th>pickup_gc_intersection_id</th>\n",
       "      <th>dropoff_gc_intersection_id</th>\n",
       "      <th>dow</th>\n",
       "      <th>timewindow</th>\n",
       "      <th>lat_pickup</th>\n",
       "      <th>lon_pickup</th>\n",
       "      <th>lat_dropoff</th>\n",
       "      <th>lon_dropoff</th>\n",
       "    </tr>\n",
       "  </thead>\n",
       "  <tbody>\n",
       "    <tr>\n",
       "      <th>40288</th>\n",
       "      <td>2018-09-03 08:00:00</td>\n",
       "      <td>2018-09-03 08:03:28</td>\n",
       "      <td>1.0</td>\n",
       "      <td>1</td>\n",
       "      <td>13455196</td>\n",
       "      <td>13454935</td>\n",
       "      <td>Monday</td>\n",
       "      <td>amPeak</td>\n",
       "      <td>43.72126</td>\n",
       "      <td>-79.615747</td>\n",
       "      <td>43.722744</td>\n",
       "      <td>-79.598217</td>\n",
       "    </tr>\n",
       "  </tbody>\n",
       "</table>\n",
       "</div>"
      ],
      "text/plain": [
       "           pickup_datetime     dropoff_datetime  pickup_ward2018  \\\n",
       "40288  2018-09-03 08:00:00  2018-09-03 08:03:28              1.0   \n",
       "\n",
       "       dropoff_ward2018  pickup_gc_intersection_id  \\\n",
       "40288                 1                   13455196   \n",
       "\n",
       "       dropoff_gc_intersection_id     dow timewindow  lat_pickup  lon_pickup  \\\n",
       "40288                    13454935  Monday     amPeak    43.72126  -79.615747   \n",
       "\n",
       "       lat_dropoff  lon_dropoff  \n",
       "40288    43.722744   -79.598217  "
      ]
     },
     "execution_count": 9,
     "metadata": {},
     "output_type": "execute_result"
    }
   ],
   "source": [
    "df.loc[df['dropoff_gc_intersection_id']==13454935]"
   ]
  },
  {
   "cell_type": "code",
   "execution_count": null,
   "metadata": {},
   "outputs": [],
   "source": []
  },
  {
   "cell_type": "markdown",
   "metadata": {},
   "source": [
    "# Housekeeping"
   ]
  },
  {
   "cell_type": "markdown",
   "metadata": {},
   "source": [
    "## 1. Round lat, lon to 4 decimal places"
   ]
  },
  {
   "cell_type": "code",
   "execution_count": 10,
   "metadata": {},
   "outputs": [],
   "source": [
    "n=4 # number of decimals to round to\n",
    "\n",
    "df['lat_pickup'] = df['lat_pickup'].round(decimals=n)\n",
    "df['lon_pickup'] = df['lon_pickup'].round(decimals=n)\n",
    "\n",
    "df['lat_dropoff'] = df['lat_dropoff'].round(decimals=n)\n",
    "df['lon_dropoff'] = df['lon_dropoff'].round(decimals=n)"
   ]
  },
  {
   "cell_type": "markdown",
   "metadata": {},
   "source": [
    "## 2. Filter out rows where neither pickup or dropoff wards are the ward of interest\n",
    "Make col `keep` = 1 for where pick-up or for drop-off wards are the ward of interest"
   ]
  },
  {
   "cell_type": "code",
   "execution_count": 11,
   "metadata": {},
   "outputs": [],
   "source": [
    "# Assign a Pickup or Dropoff in column 'type'\n",
    "df['keep'] = np.nan\n",
    "df['latitude'] = np.nan\n",
    "df['longitude'] = np.nan\n",
    "\n",
    "df.loc[(df['pickup_ward2018']==ward) | (df['dropoff_ward2018']==ward), 'keep'] = 1"
   ]
  },
  {
   "cell_type": "code",
   "execution_count": 12,
   "metadata": {},
   "outputs": [
    {
     "data": {
      "text/plain": [
       "array([nan,  1.])"
      ]
     },
     "execution_count": 12,
     "metadata": {},
     "output_type": "execute_result"
    }
   ],
   "source": [
    "# Check\n",
    "df['keep'].unique()"
   ]
  },
  {
   "cell_type": "code",
   "execution_count": 13,
   "metadata": {},
   "outputs": [],
   "source": [
    "# Keep only rows where `keep` is not null\n",
    "df = df[df['keep'].notnull()]"
   ]
  },
  {
   "cell_type": "code",
   "execution_count": 14,
   "metadata": {},
   "outputs": [
    {
     "data": {
      "text/plain": [
       "array([1.])"
      ]
     },
     "execution_count": 14,
     "metadata": {},
     "output_type": "execute_result"
    }
   ],
   "source": [
    "# Check\n",
    "df['keep'].unique()"
   ]
  },
  {
   "cell_type": "code",
   "execution_count": 15,
   "metadata": {},
   "outputs": [
    {
     "name": "stdout",
     "output_type": "stream",
     "text": [
      "(2208, 15)\n"
     ]
    }
   ],
   "source": [
    "print(df.shape)"
   ]
  },
  {
   "cell_type": "code",
   "execution_count": 16,
   "metadata": {},
   "outputs": [
    {
     "data": {
      "text/html": [
       "<div>\n",
       "<style scoped>\n",
       "    .dataframe tbody tr th:only-of-type {\n",
       "        vertical-align: middle;\n",
       "    }\n",
       "\n",
       "    .dataframe tbody tr th {\n",
       "        vertical-align: top;\n",
       "    }\n",
       "\n",
       "    .dataframe thead th {\n",
       "        text-align: right;\n",
       "    }\n",
       "</style>\n",
       "<table border=\"1\" class=\"dataframe\">\n",
       "  <thead>\n",
       "    <tr style=\"text-align: right;\">\n",
       "      <th></th>\n",
       "      <th>pickup_datetime</th>\n",
       "      <th>dropoff_datetime</th>\n",
       "      <th>pickup_ward2018</th>\n",
       "      <th>dropoff_ward2018</th>\n",
       "      <th>pickup_gc_intersection_id</th>\n",
       "      <th>dropoff_gc_intersection_id</th>\n",
       "      <th>dow</th>\n",
       "      <th>timewindow</th>\n",
       "      <th>lat_pickup</th>\n",
       "      <th>lon_pickup</th>\n",
       "      <th>lat_dropoff</th>\n",
       "      <th>lon_dropoff</th>\n",
       "      <th>keep</th>\n",
       "      <th>latitude</th>\n",
       "      <th>longitude</th>\n",
       "    </tr>\n",
       "  </thead>\n",
       "  <tbody>\n",
       "    <tr>\n",
       "      <th>15</th>\n",
       "      <td>2018-09-03 07:00:00</td>\n",
       "      <td>2018-09-03 07:08:33</td>\n",
       "      <td>1.0</td>\n",
       "      <td>7</td>\n",
       "      <td>30033811</td>\n",
       "      <td>13450342</td>\n",
       "      <td>Monday</td>\n",
       "      <td>amPeak</td>\n",
       "      <td>43.7228</td>\n",
       "      <td>-79.5451</td>\n",
       "      <td>43.7521</td>\n",
       "      <td>-79.5424</td>\n",
       "      <td>1.0</td>\n",
       "      <td>NaN</td>\n",
       "      <td>NaN</td>\n",
       "    </tr>\n",
       "    <tr>\n",
       "      <th>31</th>\n",
       "      <td>2018-09-03 07:00:00</td>\n",
       "      <td>2018-09-03 07:22:24</td>\n",
       "      <td>1.0</td>\n",
       "      <td>17</td>\n",
       "      <td>30017577</td>\n",
       "      <td>13445287</td>\n",
       "      <td>Monday</td>\n",
       "      <td>amPeak</td>\n",
       "      <td>43.7167</td>\n",
       "      <td>-79.6017</td>\n",
       "      <td>43.7854</td>\n",
       "      <td>-79.3292</td>\n",
       "      <td>1.0</td>\n",
       "      <td>NaN</td>\n",
       "      <td>NaN</td>\n",
       "    </tr>\n",
       "    <tr>\n",
       "      <th>53</th>\n",
       "      <td>2018-09-03 08:00:00</td>\n",
       "      <td>2018-09-03 08:12:07</td>\n",
       "      <td>1.0</td>\n",
       "      <td>7</td>\n",
       "      <td>13453157</td>\n",
       "      <td>13450560</td>\n",
       "      <td>Monday</td>\n",
       "      <td>amPeak</td>\n",
       "      <td>43.7343</td>\n",
       "      <td>-79.5569</td>\n",
       "      <td>43.7501</td>\n",
       "      <td>-79.5114</td>\n",
       "      <td>1.0</td>\n",
       "      <td>NaN</td>\n",
       "      <td>NaN</td>\n",
       "    </tr>\n",
       "    <tr>\n",
       "      <th>113</th>\n",
       "      <td>2018-09-03 08:00:00</td>\n",
       "      <td>2018-09-03 08:06:46</td>\n",
       "      <td>1.0</td>\n",
       "      <td>1</td>\n",
       "      <td>13454852</td>\n",
       "      <td>13451809</td>\n",
       "      <td>Monday</td>\n",
       "      <td>amPeak</td>\n",
       "      <td>43.7235</td>\n",
       "      <td>-79.6190</td>\n",
       "      <td>43.7437</td>\n",
       "      <td>-79.6074</td>\n",
       "      <td>1.0</td>\n",
       "      <td>NaN</td>\n",
       "      <td>NaN</td>\n",
       "    </tr>\n",
       "    <tr>\n",
       "      <th>122</th>\n",
       "      <td>2018-09-03 07:00:00</td>\n",
       "      <td>2018-09-03 07:24:54</td>\n",
       "      <td>1.0</td>\n",
       "      <td>11</td>\n",
       "      <td>13460801</td>\n",
       "      <td>13463257</td>\n",
       "      <td>Monday</td>\n",
       "      <td>amPeak</td>\n",
       "      <td>43.6879</td>\n",
       "      <td>-79.5868</td>\n",
       "      <td>43.6713</td>\n",
       "      <td>-79.3872</td>\n",
       "      <td>1.0</td>\n",
       "      <td>NaN</td>\n",
       "      <td>NaN</td>\n",
       "    </tr>\n",
       "  </tbody>\n",
       "</table>\n",
       "</div>"
      ],
      "text/plain": [
       "         pickup_datetime     dropoff_datetime  pickup_ward2018  \\\n",
       "15   2018-09-03 07:00:00  2018-09-03 07:08:33              1.0   \n",
       "31   2018-09-03 07:00:00  2018-09-03 07:22:24              1.0   \n",
       "53   2018-09-03 08:00:00  2018-09-03 08:12:07              1.0   \n",
       "113  2018-09-03 08:00:00  2018-09-03 08:06:46              1.0   \n",
       "122  2018-09-03 07:00:00  2018-09-03 07:24:54              1.0   \n",
       "\n",
       "     dropoff_ward2018  pickup_gc_intersection_id  dropoff_gc_intersection_id  \\\n",
       "15                  7                   30033811                    13450342   \n",
       "31                 17                   30017577                    13445287   \n",
       "53                  7                   13453157                    13450560   \n",
       "113                 1                   13454852                    13451809   \n",
       "122                11                   13460801                    13463257   \n",
       "\n",
       "        dow timewindow  lat_pickup  lon_pickup  lat_dropoff  lon_dropoff  \\\n",
       "15   Monday     amPeak     43.7228    -79.5451      43.7521     -79.5424   \n",
       "31   Monday     amPeak     43.7167    -79.6017      43.7854     -79.3292   \n",
       "53   Monday     amPeak     43.7343    -79.5569      43.7501     -79.5114   \n",
       "113  Monday     amPeak     43.7235    -79.6190      43.7437     -79.6074   \n",
       "122  Monday     amPeak     43.6879    -79.5868      43.6713     -79.3872   \n",
       "\n",
       "     keep  latitude  longitude  \n",
       "15    1.0       NaN        NaN  \n",
       "31    1.0       NaN        NaN  \n",
       "53    1.0       NaN        NaN  \n",
       "113   1.0       NaN        NaN  \n",
       "122   1.0       NaN        NaN  "
      ]
     },
     "execution_count": 16,
     "metadata": {},
     "output_type": "execute_result"
    }
   ],
   "source": [
    "df.head(5)"
   ]
  },
  {
   "cell_type": "code",
   "execution_count": null,
   "metadata": {},
   "outputs": [],
   "source": []
  },
  {
   "cell_type": "markdown",
   "metadata": {},
   "source": [
    "## 3a. Split df into two dfs for pickups and dropoffs separately\n",
    "one where pickup ward == ward, the other where dropoff_ward == ward  \n",
    "\n",
    "Assign `type` = 1 for pickup df, 5 for dropoff df."
   ]
  },
  {
   "cell_type": "code",
   "execution_count": 17,
   "metadata": {},
   "outputs": [
    {
     "name": "stderr",
     "output_type": "stream",
     "text": [
      "/home/test/anaconda3/envs/vfh/lib/python3.6/site-packages/ipykernel_launcher.py:3: SettingWithCopyWarning: \n",
      "A value is trying to be set on a copy of a slice from a DataFrame.\n",
      "Try using .loc[row_indexer,col_indexer] = value instead\n",
      "\n",
      "See the caveats in the documentation: http://pandas.pydata.org/pandas-docs/stable/indexing.html#indexing-view-versus-copy\n",
      "  This is separate from the ipykernel package so we can avoid doing imports until\n"
     ]
    }
   ],
   "source": [
    "df_pu = pd.DataFrame()\n",
    "df_pu = df.loc[df['pickup_ward2018']==ward]\n",
    "df_pu['type'] = 1"
   ]
  },
  {
   "cell_type": "code",
   "execution_count": 18,
   "metadata": {},
   "outputs": [
    {
     "name": "stderr",
     "output_type": "stream",
     "text": [
      "/home/test/anaconda3/envs/vfh/lib/python3.6/site-packages/ipykernel_launcher.py:3: SettingWithCopyWarning: \n",
      "A value is trying to be set on a copy of a slice from a DataFrame.\n",
      "Try using .loc[row_indexer,col_indexer] = value instead\n",
      "\n",
      "See the caveats in the documentation: http://pandas.pydata.org/pandas-docs/stable/indexing.html#indexing-view-versus-copy\n",
      "  This is separate from the ipykernel package so we can avoid doing imports until\n"
     ]
    }
   ],
   "source": [
    "df_do = pd.DataFrame()\n",
    "df_do = df.loc[df['dropoff_ward2018']==ward]\n",
    "df_do['type'] = 5"
   ]
  },
  {
   "cell_type": "code",
   "execution_count": 19,
   "metadata": {},
   "outputs": [
    {
     "data": {
      "text/html": [
       "<div>\n",
       "<style scoped>\n",
       "    .dataframe tbody tr th:only-of-type {\n",
       "        vertical-align: middle;\n",
       "    }\n",
       "\n",
       "    .dataframe tbody tr th {\n",
       "        vertical-align: top;\n",
       "    }\n",
       "\n",
       "    .dataframe thead th {\n",
       "        text-align: right;\n",
       "    }\n",
       "</style>\n",
       "<table border=\"1\" class=\"dataframe\">\n",
       "  <thead>\n",
       "    <tr style=\"text-align: right;\">\n",
       "      <th></th>\n",
       "      <th>pickup_datetime</th>\n",
       "      <th>dropoff_datetime</th>\n",
       "      <th>pickup_ward2018</th>\n",
       "      <th>dropoff_ward2018</th>\n",
       "      <th>pickup_gc_intersection_id</th>\n",
       "      <th>dropoff_gc_intersection_id</th>\n",
       "      <th>dow</th>\n",
       "      <th>timewindow</th>\n",
       "      <th>lat_pickup</th>\n",
       "      <th>lon_pickup</th>\n",
       "      <th>lat_dropoff</th>\n",
       "      <th>lon_dropoff</th>\n",
       "      <th>keep</th>\n",
       "      <th>latitude</th>\n",
       "      <th>longitude</th>\n",
       "      <th>type</th>\n",
       "    </tr>\n",
       "  </thead>\n",
       "  <tbody>\n",
       "    <tr>\n",
       "      <th>15</th>\n",
       "      <td>2018-09-03 07:00:00</td>\n",
       "      <td>2018-09-03 07:08:33</td>\n",
       "      <td>1.0</td>\n",
       "      <td>7</td>\n",
       "      <td>30033811</td>\n",
       "      <td>13450342</td>\n",
       "      <td>Monday</td>\n",
       "      <td>amPeak</td>\n",
       "      <td>43.7228</td>\n",
       "      <td>-79.5451</td>\n",
       "      <td>43.7521</td>\n",
       "      <td>-79.5424</td>\n",
       "      <td>1.0</td>\n",
       "      <td>NaN</td>\n",
       "      <td>NaN</td>\n",
       "      <td>1</td>\n",
       "    </tr>\n",
       "    <tr>\n",
       "      <th>31</th>\n",
       "      <td>2018-09-03 07:00:00</td>\n",
       "      <td>2018-09-03 07:22:24</td>\n",
       "      <td>1.0</td>\n",
       "      <td>17</td>\n",
       "      <td>30017577</td>\n",
       "      <td>13445287</td>\n",
       "      <td>Monday</td>\n",
       "      <td>amPeak</td>\n",
       "      <td>43.7167</td>\n",
       "      <td>-79.6017</td>\n",
       "      <td>43.7854</td>\n",
       "      <td>-79.3292</td>\n",
       "      <td>1.0</td>\n",
       "      <td>NaN</td>\n",
       "      <td>NaN</td>\n",
       "      <td>1</td>\n",
       "    </tr>\n",
       "    <tr>\n",
       "      <th>53</th>\n",
       "      <td>2018-09-03 08:00:00</td>\n",
       "      <td>2018-09-03 08:12:07</td>\n",
       "      <td>1.0</td>\n",
       "      <td>7</td>\n",
       "      <td>13453157</td>\n",
       "      <td>13450560</td>\n",
       "      <td>Monday</td>\n",
       "      <td>amPeak</td>\n",
       "      <td>43.7343</td>\n",
       "      <td>-79.5569</td>\n",
       "      <td>43.7501</td>\n",
       "      <td>-79.5114</td>\n",
       "      <td>1.0</td>\n",
       "      <td>NaN</td>\n",
       "      <td>NaN</td>\n",
       "      <td>1</td>\n",
       "    </tr>\n",
       "    <tr>\n",
       "      <th>113</th>\n",
       "      <td>2018-09-03 08:00:00</td>\n",
       "      <td>2018-09-03 08:06:46</td>\n",
       "      <td>1.0</td>\n",
       "      <td>1</td>\n",
       "      <td>13454852</td>\n",
       "      <td>13451809</td>\n",
       "      <td>Monday</td>\n",
       "      <td>amPeak</td>\n",
       "      <td>43.7235</td>\n",
       "      <td>-79.6190</td>\n",
       "      <td>43.7437</td>\n",
       "      <td>-79.6074</td>\n",
       "      <td>1.0</td>\n",
       "      <td>NaN</td>\n",
       "      <td>NaN</td>\n",
       "      <td>1</td>\n",
       "    </tr>\n",
       "  </tbody>\n",
       "</table>\n",
       "</div>"
      ],
      "text/plain": [
       "         pickup_datetime     dropoff_datetime  pickup_ward2018  \\\n",
       "15   2018-09-03 07:00:00  2018-09-03 07:08:33              1.0   \n",
       "31   2018-09-03 07:00:00  2018-09-03 07:22:24              1.0   \n",
       "53   2018-09-03 08:00:00  2018-09-03 08:12:07              1.0   \n",
       "113  2018-09-03 08:00:00  2018-09-03 08:06:46              1.0   \n",
       "\n",
       "     dropoff_ward2018  pickup_gc_intersection_id  dropoff_gc_intersection_id  \\\n",
       "15                  7                   30033811                    13450342   \n",
       "31                 17                   30017577                    13445287   \n",
       "53                  7                   13453157                    13450560   \n",
       "113                 1                   13454852                    13451809   \n",
       "\n",
       "        dow timewindow  lat_pickup  lon_pickup  lat_dropoff  lon_dropoff  \\\n",
       "15   Monday     amPeak     43.7228    -79.5451      43.7521     -79.5424   \n",
       "31   Monday     amPeak     43.7167    -79.6017      43.7854     -79.3292   \n",
       "53   Monday     amPeak     43.7343    -79.5569      43.7501     -79.5114   \n",
       "113  Monday     amPeak     43.7235    -79.6190      43.7437     -79.6074   \n",
       "\n",
       "     keep  latitude  longitude  type  \n",
       "15    1.0       NaN        NaN     1  \n",
       "31    1.0       NaN        NaN     1  \n",
       "53    1.0       NaN        NaN     1  \n",
       "113   1.0       NaN        NaN     1  "
      ]
     },
     "execution_count": 19,
     "metadata": {},
     "output_type": "execute_result"
    }
   ],
   "source": [
    "df_pu.head(4)"
   ]
  },
  {
   "cell_type": "code",
   "execution_count": 20,
   "metadata": {},
   "outputs": [
    {
     "name": "stderr",
     "output_type": "stream",
     "text": [
      "/home/test/anaconda3/envs/vfh/lib/python3.6/site-packages/ipykernel_launcher.py:2: SettingWithCopyWarning: \n",
      "A value is trying to be set on a copy of a slice from a DataFrame.\n",
      "Try using .loc[row_indexer,col_indexer] = value instead\n",
      "\n",
      "See the caveats in the documentation: http://pandas.pydata.org/pandas-docs/stable/indexing.html#indexing-view-versus-copy\n",
      "  \n",
      "/home/test/anaconda3/envs/vfh/lib/python3.6/site-packages/ipykernel_launcher.py:3: SettingWithCopyWarning: \n",
      "A value is trying to be set on a copy of a slice from a DataFrame.\n",
      "Try using .loc[row_indexer,col_indexer] = value instead\n",
      "\n",
      "See the caveats in the documentation: http://pandas.pydata.org/pandas-docs/stable/indexing.html#indexing-view-versus-copy\n",
      "  This is separate from the ipykernel package so we can avoid doing imports until\n",
      "/home/test/anaconda3/envs/vfh/lib/python3.6/site-packages/ipykernel_launcher.py:5: SettingWithCopyWarning: \n",
      "A value is trying to be set on a copy of a slice from a DataFrame.\n",
      "Try using .loc[row_indexer,col_indexer] = value instead\n",
      "\n",
      "See the caveats in the documentation: http://pandas.pydata.org/pandas-docs/stable/indexing.html#indexing-view-versus-copy\n",
      "  \"\"\"\n",
      "/home/test/anaconda3/envs/vfh/lib/python3.6/site-packages/ipykernel_launcher.py:6: SettingWithCopyWarning: \n",
      "A value is trying to be set on a copy of a slice from a DataFrame.\n",
      "Try using .loc[row_indexer,col_indexer] = value instead\n",
      "\n",
      "See the caveats in the documentation: http://pandas.pydata.org/pandas-docs/stable/indexing.html#indexing-view-versus-copy\n",
      "  \n"
     ]
    }
   ],
   "source": [
    "# Fill `latitude` and `longitude` col with pickup or dropoff lat/lon\n",
    "df_pu['latitude'] = df_pu['lat_pickup']\n",
    "df_pu['longitude'] = df_pu['lon_pickup']\n",
    "\n",
    "df_do['latitude'] = df_do['lat_dropoff']\n",
    "df_do['longitude'] = df_do['lon_dropoff']"
   ]
  },
  {
   "cell_type": "code",
   "execution_count": null,
   "metadata": {},
   "outputs": [],
   "source": []
  },
  {
   "cell_type": "code",
   "execution_count": 21,
   "metadata": {},
   "outputs": [
    {
     "data": {
      "text/html": [
       "<div>\n",
       "<style scoped>\n",
       "    .dataframe tbody tr th:only-of-type {\n",
       "        vertical-align: middle;\n",
       "    }\n",
       "\n",
       "    .dataframe tbody tr th {\n",
       "        vertical-align: top;\n",
       "    }\n",
       "\n",
       "    .dataframe thead th {\n",
       "        text-align: right;\n",
       "    }\n",
       "</style>\n",
       "<table border=\"1\" class=\"dataframe\">\n",
       "  <thead>\n",
       "    <tr style=\"text-align: right;\">\n",
       "      <th></th>\n",
       "      <th>pickup_datetime</th>\n",
       "      <th>dropoff_datetime</th>\n",
       "      <th>pickup_ward2018</th>\n",
       "      <th>dropoff_ward2018</th>\n",
       "      <th>pickup_gc_intersection_id</th>\n",
       "      <th>dropoff_gc_intersection_id</th>\n",
       "      <th>dow</th>\n",
       "      <th>timewindow</th>\n",
       "      <th>lat_pickup</th>\n",
       "      <th>lon_pickup</th>\n",
       "      <th>lat_dropoff</th>\n",
       "      <th>lon_dropoff</th>\n",
       "      <th>keep</th>\n",
       "      <th>latitude</th>\n",
       "      <th>longitude</th>\n",
       "      <th>type</th>\n",
       "    </tr>\n",
       "  </thead>\n",
       "  <tbody>\n",
       "    <tr>\n",
       "      <th>15</th>\n",
       "      <td>2018-09-03 07:00:00</td>\n",
       "      <td>2018-09-03 07:08:33</td>\n",
       "      <td>1.0</td>\n",
       "      <td>7</td>\n",
       "      <td>30033811</td>\n",
       "      <td>13450342</td>\n",
       "      <td>Monday</td>\n",
       "      <td>amPeak</td>\n",
       "      <td>43.7228</td>\n",
       "      <td>-79.5451</td>\n",
       "      <td>43.7521</td>\n",
       "      <td>-79.5424</td>\n",
       "      <td>1.0</td>\n",
       "      <td>43.7228</td>\n",
       "      <td>-79.5451</td>\n",
       "      <td>1</td>\n",
       "    </tr>\n",
       "    <tr>\n",
       "      <th>31</th>\n",
       "      <td>2018-09-03 07:00:00</td>\n",
       "      <td>2018-09-03 07:22:24</td>\n",
       "      <td>1.0</td>\n",
       "      <td>17</td>\n",
       "      <td>30017577</td>\n",
       "      <td>13445287</td>\n",
       "      <td>Monday</td>\n",
       "      <td>amPeak</td>\n",
       "      <td>43.7167</td>\n",
       "      <td>-79.6017</td>\n",
       "      <td>43.7854</td>\n",
       "      <td>-79.3292</td>\n",
       "      <td>1.0</td>\n",
       "      <td>43.7167</td>\n",
       "      <td>-79.6017</td>\n",
       "      <td>1</td>\n",
       "    </tr>\n",
       "    <tr>\n",
       "      <th>53</th>\n",
       "      <td>2018-09-03 08:00:00</td>\n",
       "      <td>2018-09-03 08:12:07</td>\n",
       "      <td>1.0</td>\n",
       "      <td>7</td>\n",
       "      <td>13453157</td>\n",
       "      <td>13450560</td>\n",
       "      <td>Monday</td>\n",
       "      <td>amPeak</td>\n",
       "      <td>43.7343</td>\n",
       "      <td>-79.5569</td>\n",
       "      <td>43.7501</td>\n",
       "      <td>-79.5114</td>\n",
       "      <td>1.0</td>\n",
       "      <td>43.7343</td>\n",
       "      <td>-79.5569</td>\n",
       "      <td>1</td>\n",
       "    </tr>\n",
       "    <tr>\n",
       "      <th>113</th>\n",
       "      <td>2018-09-03 08:00:00</td>\n",
       "      <td>2018-09-03 08:06:46</td>\n",
       "      <td>1.0</td>\n",
       "      <td>1</td>\n",
       "      <td>13454852</td>\n",
       "      <td>13451809</td>\n",
       "      <td>Monday</td>\n",
       "      <td>amPeak</td>\n",
       "      <td>43.7235</td>\n",
       "      <td>-79.6190</td>\n",
       "      <td>43.7437</td>\n",
       "      <td>-79.6074</td>\n",
       "      <td>1.0</td>\n",
       "      <td>43.7235</td>\n",
       "      <td>-79.6190</td>\n",
       "      <td>1</td>\n",
       "    </tr>\n",
       "  </tbody>\n",
       "</table>\n",
       "</div>"
      ],
      "text/plain": [
       "         pickup_datetime     dropoff_datetime  pickup_ward2018  \\\n",
       "15   2018-09-03 07:00:00  2018-09-03 07:08:33              1.0   \n",
       "31   2018-09-03 07:00:00  2018-09-03 07:22:24              1.0   \n",
       "53   2018-09-03 08:00:00  2018-09-03 08:12:07              1.0   \n",
       "113  2018-09-03 08:00:00  2018-09-03 08:06:46              1.0   \n",
       "\n",
       "     dropoff_ward2018  pickup_gc_intersection_id  dropoff_gc_intersection_id  \\\n",
       "15                  7                   30033811                    13450342   \n",
       "31                 17                   30017577                    13445287   \n",
       "53                  7                   13453157                    13450560   \n",
       "113                 1                   13454852                    13451809   \n",
       "\n",
       "        dow timewindow  lat_pickup  lon_pickup  lat_dropoff  lon_dropoff  \\\n",
       "15   Monday     amPeak     43.7228    -79.5451      43.7521     -79.5424   \n",
       "31   Monday     amPeak     43.7167    -79.6017      43.7854     -79.3292   \n",
       "53   Monday     amPeak     43.7343    -79.5569      43.7501     -79.5114   \n",
       "113  Monday     amPeak     43.7235    -79.6190      43.7437     -79.6074   \n",
       "\n",
       "     keep  latitude  longitude  type  \n",
       "15    1.0   43.7228   -79.5451     1  \n",
       "31    1.0   43.7167   -79.6017     1  \n",
       "53    1.0   43.7343   -79.5569     1  \n",
       "113   1.0   43.7235   -79.6190     1  "
      ]
     },
     "execution_count": 21,
     "metadata": {},
     "output_type": "execute_result"
    }
   ],
   "source": [
    "df_pu.head(4)"
   ]
  },
  {
   "cell_type": "code",
   "execution_count": 22,
   "metadata": {},
   "outputs": [
    {
     "data": {
      "text/html": [
       "<div>\n",
       "<style scoped>\n",
       "    .dataframe tbody tr th:only-of-type {\n",
       "        vertical-align: middle;\n",
       "    }\n",
       "\n",
       "    .dataframe tbody tr th {\n",
       "        vertical-align: top;\n",
       "    }\n",
       "\n",
       "    .dataframe thead th {\n",
       "        text-align: right;\n",
       "    }\n",
       "</style>\n",
       "<table border=\"1\" class=\"dataframe\">\n",
       "  <thead>\n",
       "    <tr style=\"text-align: right;\">\n",
       "      <th></th>\n",
       "      <th>pickup_datetime</th>\n",
       "      <th>dropoff_datetime</th>\n",
       "      <th>pickup_ward2018</th>\n",
       "      <th>dropoff_ward2018</th>\n",
       "      <th>pickup_gc_intersection_id</th>\n",
       "      <th>dropoff_gc_intersection_id</th>\n",
       "      <th>dow</th>\n",
       "      <th>timewindow</th>\n",
       "      <th>lat_pickup</th>\n",
       "      <th>lon_pickup</th>\n",
       "      <th>lat_dropoff</th>\n",
       "      <th>lon_dropoff</th>\n",
       "      <th>keep</th>\n",
       "      <th>latitude</th>\n",
       "      <th>longitude</th>\n",
       "      <th>type</th>\n",
       "    </tr>\n",
       "  </thead>\n",
       "  <tbody>\n",
       "    <tr>\n",
       "      <th>113</th>\n",
       "      <td>2018-09-03 08:00:00</td>\n",
       "      <td>2018-09-03 08:06:46</td>\n",
       "      <td>1.0</td>\n",
       "      <td>1</td>\n",
       "      <td>13454852</td>\n",
       "      <td>13451809</td>\n",
       "      <td>Monday</td>\n",
       "      <td>amPeak</td>\n",
       "      <td>43.7235</td>\n",
       "      <td>-79.6190</td>\n",
       "      <td>43.7437</td>\n",
       "      <td>-79.6074</td>\n",
       "      <td>1.0</td>\n",
       "      <td>43.7437</td>\n",
       "      <td>-79.6074</td>\n",
       "      <td>5</td>\n",
       "    </tr>\n",
       "    <tr>\n",
       "      <th>174</th>\n",
       "      <td>2018-09-10 08:00:00</td>\n",
       "      <td>2018-09-10 08:18:41</td>\n",
       "      <td>2.0</td>\n",
       "      <td>1</td>\n",
       "      <td>13468496</td>\n",
       "      <td>20232410</td>\n",
       "      <td>Monday</td>\n",
       "      <td>amPeak</td>\n",
       "      <td>43.6397</td>\n",
       "      <td>-79.5629</td>\n",
       "      <td>43.7289</td>\n",
       "      <td>-79.6057</td>\n",
       "      <td>1.0</td>\n",
       "      <td>43.7289</td>\n",
       "      <td>-79.6057</td>\n",
       "      <td>5</td>\n",
       "    </tr>\n",
       "    <tr>\n",
       "      <th>175</th>\n",
       "      <td>2018-09-10 08:00:00</td>\n",
       "      <td>2018-09-10 08:18:41</td>\n",
       "      <td>2.0</td>\n",
       "      <td>1</td>\n",
       "      <td>13468496</td>\n",
       "      <td>20232410</td>\n",
       "      <td>Monday</td>\n",
       "      <td>amPeak</td>\n",
       "      <td>43.6397</td>\n",
       "      <td>-79.5629</td>\n",
       "      <td>43.7289</td>\n",
       "      <td>-79.6057</td>\n",
       "      <td>1.0</td>\n",
       "      <td>43.7289</td>\n",
       "      <td>-79.6057</td>\n",
       "      <td>5</td>\n",
       "    </tr>\n",
       "    <tr>\n",
       "      <th>202</th>\n",
       "      <td>2018-09-10 07:00:00</td>\n",
       "      <td>2018-09-10 07:12:37</td>\n",
       "      <td>1.0</td>\n",
       "      <td>1</td>\n",
       "      <td>13450427</td>\n",
       "      <td>13453918</td>\n",
       "      <td>Monday</td>\n",
       "      <td>amPeak</td>\n",
       "      <td>43.7521</td>\n",
       "      <td>-79.5890</td>\n",
       "      <td>43.7301</td>\n",
       "      <td>-79.5886</td>\n",
       "      <td>1.0</td>\n",
       "      <td>43.7301</td>\n",
       "      <td>-79.5886</td>\n",
       "      <td>5</td>\n",
       "    </tr>\n",
       "  </tbody>\n",
       "</table>\n",
       "</div>"
      ],
      "text/plain": [
       "         pickup_datetime     dropoff_datetime  pickup_ward2018  \\\n",
       "113  2018-09-03 08:00:00  2018-09-03 08:06:46              1.0   \n",
       "174  2018-09-10 08:00:00  2018-09-10 08:18:41              2.0   \n",
       "175  2018-09-10 08:00:00  2018-09-10 08:18:41              2.0   \n",
       "202  2018-09-10 07:00:00  2018-09-10 07:12:37              1.0   \n",
       "\n",
       "     dropoff_ward2018  pickup_gc_intersection_id  dropoff_gc_intersection_id  \\\n",
       "113                 1                   13454852                    13451809   \n",
       "174                 1                   13468496                    20232410   \n",
       "175                 1                   13468496                    20232410   \n",
       "202                 1                   13450427                    13453918   \n",
       "\n",
       "        dow timewindow  lat_pickup  lon_pickup  lat_dropoff  lon_dropoff  \\\n",
       "113  Monday     amPeak     43.7235    -79.6190      43.7437     -79.6074   \n",
       "174  Monday     amPeak     43.6397    -79.5629      43.7289     -79.6057   \n",
       "175  Monday     amPeak     43.6397    -79.5629      43.7289     -79.6057   \n",
       "202  Monday     amPeak     43.7521    -79.5890      43.7301     -79.5886   \n",
       "\n",
       "     keep  latitude  longitude  type  \n",
       "113   1.0   43.7437   -79.6074     5  \n",
       "174   1.0   43.7289   -79.6057     5  \n",
       "175   1.0   43.7289   -79.6057     5  \n",
       "202   1.0   43.7301   -79.5886     5  "
      ]
     },
     "execution_count": 22,
     "metadata": {},
     "output_type": "execute_result"
    }
   ],
   "source": [
    "df_do.head(4)"
   ]
  },
  {
   "cell_type": "code",
   "execution_count": null,
   "metadata": {},
   "outputs": [],
   "source": []
  },
  {
   "cell_type": "markdown",
   "metadata": {},
   "source": [
    "## 3b. Aggregate pickups and dropoffs"
   ]
  },
  {
   "cell_type": "code",
   "execution_count": 23,
   "metadata": {},
   "outputs": [
    {
     "data": {
      "text/html": [
       "<div>\n",
       "<style scoped>\n",
       "    .dataframe tbody tr th:only-of-type {\n",
       "        vertical-align: middle;\n",
       "    }\n",
       "\n",
       "    .dataframe tbody tr th {\n",
       "        vertical-align: top;\n",
       "    }\n",
       "\n",
       "    .dataframe thead th {\n",
       "        text-align: right;\n",
       "    }\n",
       "</style>\n",
       "<table border=\"1\" class=\"dataframe\">\n",
       "  <thead>\n",
       "    <tr style=\"text-align: right;\">\n",
       "      <th></th>\n",
       "      <th>type</th>\n",
       "      <th>dow</th>\n",
       "      <th>timewindow</th>\n",
       "      <th>latitude</th>\n",
       "      <th>longitude</th>\n",
       "      <th>pickup_gc_intersection_id</th>\n",
       "      <th>counts</th>\n",
       "    </tr>\n",
       "  </thead>\n",
       "  <tbody>\n",
       "    <tr>\n",
       "      <th>0</th>\n",
       "      <td>1</td>\n",
       "      <td>Monday</td>\n",
       "      <td>amPeak</td>\n",
       "      <td>43.6743</td>\n",
       "      <td>-79.5654</td>\n",
       "      <td>13463160</td>\n",
       "      <td>3</td>\n",
       "    </tr>\n",
       "    <tr>\n",
       "      <th>1</th>\n",
       "      <td>1</td>\n",
       "      <td>Monday</td>\n",
       "      <td>amPeak</td>\n",
       "      <td>43.6757</td>\n",
       "      <td>-79.5684</td>\n",
       "      <td>13462944</td>\n",
       "      <td>64</td>\n",
       "    </tr>\n",
       "    <tr>\n",
       "      <th>2</th>\n",
       "      <td>1</td>\n",
       "      <td>Monday</td>\n",
       "      <td>amPeak</td>\n",
       "      <td>43.6763</td>\n",
       "      <td>-79.5704</td>\n",
       "      <td>13462841</td>\n",
       "      <td>2</td>\n",
       "    </tr>\n",
       "  </tbody>\n",
       "</table>\n",
       "</div>"
      ],
      "text/plain": [
       "   type     dow timewindow  latitude  longitude  pickup_gc_intersection_id  \\\n",
       "0     1  Monday     amPeak   43.6743   -79.5654                   13463160   \n",
       "1     1  Monday     amPeak   43.6757   -79.5684                   13462944   \n",
       "2     1  Monday     amPeak   43.6763   -79.5704                   13462841   \n",
       "\n",
       "   counts  \n",
       "0       3  \n",
       "1      64  \n",
       "2       2  "
      ]
     },
     "execution_count": 23,
     "metadata": {},
     "output_type": "execute_result"
    }
   ],
   "source": [
    "df_pu_agg=pd.DataFrame()\n",
    "\n",
    "df_pu_agg = df_pu.groupby(\n",
    "    ['type','dow','timewindow','latitude','longitude','pickup_gc_intersection_id']\n",
    "    ).size().reset_index(name='counts')\n",
    "\n",
    "df_pu_agg.head(3)"
   ]
  },
  {
   "cell_type": "code",
   "execution_count": 24,
   "metadata": {},
   "outputs": [
    {
     "data": {
      "text/html": [
       "<div>\n",
       "<style scoped>\n",
       "    .dataframe tbody tr th:only-of-type {\n",
       "        vertical-align: middle;\n",
       "    }\n",
       "\n",
       "    .dataframe tbody tr th {\n",
       "        vertical-align: top;\n",
       "    }\n",
       "\n",
       "    .dataframe thead th {\n",
       "        text-align: right;\n",
       "    }\n",
       "</style>\n",
       "<table border=\"1\" class=\"dataframe\">\n",
       "  <thead>\n",
       "    <tr style=\"text-align: right;\">\n",
       "      <th></th>\n",
       "      <th>type</th>\n",
       "      <th>dow</th>\n",
       "      <th>timewindow</th>\n",
       "      <th>latitude</th>\n",
       "      <th>longitude</th>\n",
       "      <th>pickup_gc_intersection_id</th>\n",
       "      <th>counts</th>\n",
       "    </tr>\n",
       "  </thead>\n",
       "  <tbody>\n",
       "    <tr>\n",
       "      <th>187</th>\n",
       "      <td>1</td>\n",
       "      <td>Monday</td>\n",
       "      <td>amPeak</td>\n",
       "      <td>43.7227</td>\n",
       "      <td>-79.5982</td>\n",
       "      <td>13454935</td>\n",
       "      <td>2</td>\n",
       "    </tr>\n",
       "  </tbody>\n",
       "</table>\n",
       "</div>"
      ],
      "text/plain": [
       "     type     dow timewindow  latitude  longitude  pickup_gc_intersection_id  \\\n",
       "187     1  Monday     amPeak   43.7227   -79.5982                   13454935   \n",
       "\n",
       "     counts  \n",
       "187       2  "
      ]
     },
     "execution_count": 24,
     "metadata": {},
     "output_type": "execute_result"
    }
   ],
   "source": [
    "# Check\n",
    "df_pu_agg.loc[df_pu_agg['pickup_gc_intersection_id']==13454935]"
   ]
  },
  {
   "cell_type": "code",
   "execution_count": null,
   "metadata": {},
   "outputs": [],
   "source": []
  },
  {
   "cell_type": "code",
   "execution_count": 25,
   "metadata": {},
   "outputs": [
    {
     "data": {
      "text/html": [
       "<div>\n",
       "<style scoped>\n",
       "    .dataframe tbody tr th:only-of-type {\n",
       "        vertical-align: middle;\n",
       "    }\n",
       "\n",
       "    .dataframe tbody tr th {\n",
       "        vertical-align: top;\n",
       "    }\n",
       "\n",
       "    .dataframe thead th {\n",
       "        text-align: right;\n",
       "    }\n",
       "</style>\n",
       "<table border=\"1\" class=\"dataframe\">\n",
       "  <thead>\n",
       "    <tr style=\"text-align: right;\">\n",
       "      <th></th>\n",
       "      <th>type</th>\n",
       "      <th>dow</th>\n",
       "      <th>timewindow</th>\n",
       "      <th>latitude</th>\n",
       "      <th>longitude</th>\n",
       "      <th>dropoff_gc_intersection_id</th>\n",
       "      <th>counts</th>\n",
       "    </tr>\n",
       "  </thead>\n",
       "  <tbody>\n",
       "    <tr>\n",
       "      <th>0</th>\n",
       "      <td>5</td>\n",
       "      <td>Monday</td>\n",
       "      <td>amPeak</td>\n",
       "      <td>43.6709</td>\n",
       "      <td>-79.5904</td>\n",
       "      <td>13463803</td>\n",
       "      <td>1</td>\n",
       "    </tr>\n",
       "    <tr>\n",
       "      <th>1</th>\n",
       "      <td>5</td>\n",
       "      <td>Monday</td>\n",
       "      <td>amPeak</td>\n",
       "      <td>43.6727</td>\n",
       "      <td>-79.5921</td>\n",
       "      <td>13463477</td>\n",
       "      <td>2</td>\n",
       "    </tr>\n",
       "    <tr>\n",
       "      <th>2</th>\n",
       "      <td>5</td>\n",
       "      <td>Monday</td>\n",
       "      <td>amPeak</td>\n",
       "      <td>43.6741</td>\n",
       "      <td>-79.5889</td>\n",
       "      <td>30029322</td>\n",
       "      <td>11</td>\n",
       "    </tr>\n",
       "  </tbody>\n",
       "</table>\n",
       "</div>"
      ],
      "text/plain": [
       "   type     dow timewindow  latitude  longitude  dropoff_gc_intersection_id  \\\n",
       "0     5  Monday     amPeak   43.6709   -79.5904                    13463803   \n",
       "1     5  Monday     amPeak   43.6727   -79.5921                    13463477   \n",
       "2     5  Monday     amPeak   43.6741   -79.5889                    30029322   \n",
       "\n",
       "   counts  \n",
       "0       1  \n",
       "1       2  \n",
       "2      11  "
      ]
     },
     "execution_count": 25,
     "metadata": {},
     "output_type": "execute_result"
    }
   ],
   "source": [
    "df_do_agg=pd.DataFrame()\n",
    "\n",
    "df_do_agg = df_do.groupby(\n",
    "    ['type','dow','timewindow','latitude','longitude','dropoff_gc_intersection_id']\n",
    "    ).size().reset_index(name='counts')\n",
    "\n",
    "df_do_agg.head(3)"
   ]
  },
  {
   "cell_type": "code",
   "execution_count": 26,
   "metadata": {},
   "outputs": [
    {
     "data": {
      "text/html": [
       "<div>\n",
       "<style scoped>\n",
       "    .dataframe tbody tr th:only-of-type {\n",
       "        vertical-align: middle;\n",
       "    }\n",
       "\n",
       "    .dataframe tbody tr th {\n",
       "        vertical-align: top;\n",
       "    }\n",
       "\n",
       "    .dataframe thead th {\n",
       "        text-align: right;\n",
       "    }\n",
       "</style>\n",
       "<table border=\"1\" class=\"dataframe\">\n",
       "  <thead>\n",
       "    <tr style=\"text-align: right;\">\n",
       "      <th></th>\n",
       "      <th>type</th>\n",
       "      <th>dow</th>\n",
       "      <th>timewindow</th>\n",
       "      <th>latitude</th>\n",
       "      <th>longitude</th>\n",
       "      <th>dropoff_gc_intersection_id</th>\n",
       "      <th>counts</th>\n",
       "    </tr>\n",
       "  </thead>\n",
       "  <tbody>\n",
       "    <tr>\n",
       "      <th>167</th>\n",
       "      <td>5</td>\n",
       "      <td>Monday</td>\n",
       "      <td>amPeak</td>\n",
       "      <td>43.7227</td>\n",
       "      <td>-79.5982</td>\n",
       "      <td>13454935</td>\n",
       "      <td>1</td>\n",
       "    </tr>\n",
       "  </tbody>\n",
       "</table>\n",
       "</div>"
      ],
      "text/plain": [
       "     type     dow timewindow  latitude  longitude  dropoff_gc_intersection_id  \\\n",
       "167     5  Monday     amPeak   43.7227   -79.5982                    13454935   \n",
       "\n",
       "     counts  \n",
       "167       1  "
      ]
     },
     "execution_count": 26,
     "metadata": {},
     "output_type": "execute_result"
    }
   ],
   "source": [
    "# Check\n",
    "df_do_agg.loc[df_do_agg['dropoff_gc_intersection_id']==13454935]"
   ]
  },
  {
   "cell_type": "code",
   "execution_count": null,
   "metadata": {},
   "outputs": [],
   "source": []
  },
  {
   "cell_type": "markdown",
   "metadata": {},
   "source": [
    "## 4. Make a common table on common columns"
   ]
  },
  {
   "cell_type": "markdown",
   "metadata": {},
   "source": [
    "### a. All points\n",
    "Concat `df_pu` and `df_do`."
   ]
  },
  {
   "cell_type": "code",
   "execution_count": 27,
   "metadata": {},
   "outputs": [],
   "source": [
    "# First rename intersection id to common name to allow concat\n",
    "df_pu = df_pu.rename(columns={'pickup_gc_intersection_id': 'intersection_id'})\n",
    "df_do = df_do.rename(columns={'dropoff_gc_intersection_id': 'intersection_id'})"
   ]
  },
  {
   "cell_type": "code",
   "execution_count": 28,
   "metadata": {},
   "outputs": [
    {
     "data": {
      "text/html": [
       "<div>\n",
       "<style scoped>\n",
       "    .dataframe tbody tr th:only-of-type {\n",
       "        vertical-align: middle;\n",
       "    }\n",
       "\n",
       "    .dataframe tbody tr th {\n",
       "        vertical-align: top;\n",
       "    }\n",
       "\n",
       "    .dataframe thead th {\n",
       "        text-align: right;\n",
       "    }\n",
       "</style>\n",
       "<table border=\"1\" class=\"dataframe\">\n",
       "  <thead>\n",
       "    <tr style=\"text-align: right;\">\n",
       "      <th></th>\n",
       "      <th>type</th>\n",
       "      <th>dow</th>\n",
       "      <th>timewindow</th>\n",
       "      <th>latitude</th>\n",
       "      <th>longitude</th>\n",
       "      <th>intersection_id</th>\n",
       "    </tr>\n",
       "  </thead>\n",
       "  <tbody>\n",
       "    <tr>\n",
       "      <th>15</th>\n",
       "      <td>1</td>\n",
       "      <td>Monday</td>\n",
       "      <td>amPeak</td>\n",
       "      <td>43.7228</td>\n",
       "      <td>-79.5451</td>\n",
       "      <td>30033811</td>\n",
       "    </tr>\n",
       "    <tr>\n",
       "      <th>31</th>\n",
       "      <td>1</td>\n",
       "      <td>Monday</td>\n",
       "      <td>amPeak</td>\n",
       "      <td>43.7167</td>\n",
       "      <td>-79.6017</td>\n",
       "      <td>30017577</td>\n",
       "    </tr>\n",
       "    <tr>\n",
       "      <th>53</th>\n",
       "      <td>1</td>\n",
       "      <td>Monday</td>\n",
       "      <td>amPeak</td>\n",
       "      <td>43.7343</td>\n",
       "      <td>-79.5569</td>\n",
       "      <td>13453157</td>\n",
       "    </tr>\n",
       "    <tr>\n",
       "      <th>113</th>\n",
       "      <td>1</td>\n",
       "      <td>Monday</td>\n",
       "      <td>amPeak</td>\n",
       "      <td>43.7235</td>\n",
       "      <td>-79.6190</td>\n",
       "      <td>13454852</td>\n",
       "    </tr>\n",
       "  </tbody>\n",
       "</table>\n",
       "</div>"
      ],
      "text/plain": [
       "     type     dow timewindow  latitude  longitude  intersection_id\n",
       "15      1  Monday     amPeak   43.7228   -79.5451         30033811\n",
       "31      1  Monday     amPeak   43.7167   -79.6017         30017577\n",
       "53      1  Monday     amPeak   43.7343   -79.5569         13453157\n",
       "113     1  Monday     amPeak   43.7235   -79.6190         13454852"
      ]
     },
     "execution_count": 28,
     "metadata": {},
     "output_type": "execute_result"
    }
   ],
   "source": [
    "df_pudo=pd.DataFrame()\n",
    "\n",
    "df_pudo=pd.concat([\n",
    "    df_pu[['type','dow','timewindow','latitude','longitude','intersection_id']], \n",
    "    df_do[['type','dow','timewindow','latitude','longitude','intersection_id']]\n",
    "    ])\n",
    "\n",
    "df_pudo.head(4)"
   ]
  },
  {
   "cell_type": "code",
   "execution_count": 29,
   "metadata": {},
   "outputs": [
    {
     "data": {
      "text/html": [
       "<div>\n",
       "<style scoped>\n",
       "    .dataframe tbody tr th:only-of-type {\n",
       "        vertical-align: middle;\n",
       "    }\n",
       "\n",
       "    .dataframe tbody tr th {\n",
       "        vertical-align: top;\n",
       "    }\n",
       "\n",
       "    .dataframe thead th {\n",
       "        text-align: right;\n",
       "    }\n",
       "</style>\n",
       "<table border=\"1\" class=\"dataframe\">\n",
       "  <thead>\n",
       "    <tr style=\"text-align: right;\">\n",
       "      <th></th>\n",
       "      <th>type</th>\n",
       "      <th>dow</th>\n",
       "      <th>timewindow</th>\n",
       "      <th>latitude</th>\n",
       "      <th>longitude</th>\n",
       "      <th>intersection_id</th>\n",
       "    </tr>\n",
       "  </thead>\n",
       "  <tbody>\n",
       "    <tr>\n",
       "      <th>30245</th>\n",
       "      <td>1</td>\n",
       "      <td>Monday</td>\n",
       "      <td>amPeak</td>\n",
       "      <td>43.7227</td>\n",
       "      <td>-79.5982</td>\n",
       "      <td>13454935</td>\n",
       "    </tr>\n",
       "    <tr>\n",
       "      <th>32321</th>\n",
       "      <td>1</td>\n",
       "      <td>Monday</td>\n",
       "      <td>amPeak</td>\n",
       "      <td>43.7227</td>\n",
       "      <td>-79.5982</td>\n",
       "      <td>13454935</td>\n",
       "    </tr>\n",
       "    <tr>\n",
       "      <th>40288</th>\n",
       "      <td>5</td>\n",
       "      <td>Monday</td>\n",
       "      <td>amPeak</td>\n",
       "      <td>43.7227</td>\n",
       "      <td>-79.5982</td>\n",
       "      <td>13454935</td>\n",
       "    </tr>\n",
       "  </tbody>\n",
       "</table>\n",
       "</div>"
      ],
      "text/plain": [
       "       type     dow timewindow  latitude  longitude  intersection_id\n",
       "30245     1  Monday     amPeak   43.7227   -79.5982         13454935\n",
       "32321     1  Monday     amPeak   43.7227   -79.5982         13454935\n",
       "40288     5  Monday     amPeak   43.7227   -79.5982         13454935"
      ]
     },
     "execution_count": 29,
     "metadata": {},
     "output_type": "execute_result"
    }
   ],
   "source": [
    "# Check\n",
    "df_pudo.loc[df_pudo['intersection_id']==13454935]"
   ]
  },
  {
   "cell_type": "code",
   "execution_count": null,
   "metadata": {},
   "outputs": [],
   "source": []
  },
  {
   "cell_type": "markdown",
   "metadata": {},
   "source": [
    "### a. Aggregates\n",
    "Concat `df_pu_agg` and `df_do_agg`."
   ]
  },
  {
   "cell_type": "code",
   "execution_count": 30,
   "metadata": {},
   "outputs": [],
   "source": [
    "# First rename intersection id to common name to allow concat\n",
    "df_pu_agg = df_pu_agg.rename(columns={'pickup_gc_intersection_id': 'intersection_id'})\n",
    "df_do_agg = df_do_agg.rename(columns={'dropoff_gc_intersection_id': 'intersection_id'})"
   ]
  },
  {
   "cell_type": "code",
   "execution_count": 31,
   "metadata": {},
   "outputs": [
    {
     "data": {
      "text/html": [
       "<div>\n",
       "<style scoped>\n",
       "    .dataframe tbody tr th:only-of-type {\n",
       "        vertical-align: middle;\n",
       "    }\n",
       "\n",
       "    .dataframe tbody tr th {\n",
       "        vertical-align: top;\n",
       "    }\n",
       "\n",
       "    .dataframe thead th {\n",
       "        text-align: right;\n",
       "    }\n",
       "</style>\n",
       "<table border=\"1\" class=\"dataframe\">\n",
       "  <thead>\n",
       "    <tr style=\"text-align: right;\">\n",
       "      <th></th>\n",
       "      <th>type</th>\n",
       "      <th>dow</th>\n",
       "      <th>timewindow</th>\n",
       "      <th>latitude</th>\n",
       "      <th>longitude</th>\n",
       "      <th>intersection_id</th>\n",
       "      <th>counts</th>\n",
       "    </tr>\n",
       "  </thead>\n",
       "  <tbody>\n",
       "    <tr>\n",
       "      <th>0</th>\n",
       "      <td>1</td>\n",
       "      <td>Monday</td>\n",
       "      <td>amPeak</td>\n",
       "      <td>43.6743</td>\n",
       "      <td>-79.5654</td>\n",
       "      <td>13463160</td>\n",
       "      <td>3</td>\n",
       "    </tr>\n",
       "    <tr>\n",
       "      <th>1</th>\n",
       "      <td>1</td>\n",
       "      <td>Monday</td>\n",
       "      <td>amPeak</td>\n",
       "      <td>43.6757</td>\n",
       "      <td>-79.5684</td>\n",
       "      <td>13462944</td>\n",
       "      <td>64</td>\n",
       "    </tr>\n",
       "    <tr>\n",
       "      <th>2</th>\n",
       "      <td>1</td>\n",
       "      <td>Monday</td>\n",
       "      <td>amPeak</td>\n",
       "      <td>43.6763</td>\n",
       "      <td>-79.5704</td>\n",
       "      <td>13462841</td>\n",
       "      <td>2</td>\n",
       "    </tr>\n",
       "    <tr>\n",
       "      <th>3</th>\n",
       "      <td>1</td>\n",
       "      <td>Monday</td>\n",
       "      <td>amPeak</td>\n",
       "      <td>43.6768</td>\n",
       "      <td>-79.5642</td>\n",
       "      <td>13462745</td>\n",
       "      <td>5</td>\n",
       "    </tr>\n",
       "  </tbody>\n",
       "</table>\n",
       "</div>"
      ],
      "text/plain": [
       "   type     dow timewindow  latitude  longitude  intersection_id  counts\n",
       "0     1  Monday     amPeak   43.6743   -79.5654         13463160       3\n",
       "1     1  Monday     amPeak   43.6757   -79.5684         13462944      64\n",
       "2     1  Monday     amPeak   43.6763   -79.5704         13462841       2\n",
       "3     1  Monday     amPeak   43.6768   -79.5642         13462745       5"
      ]
     },
     "execution_count": 31,
     "metadata": {},
     "output_type": "execute_result"
    }
   ],
   "source": [
    "df_pudo_agg=pd.DataFrame()\n",
    "\n",
    "df_pudo_agg=pd.concat([df_pu_agg[cols], df_do_agg[cols] ])\n",
    "\n",
    "df_pudo_agg.head(4)"
   ]
  },
  {
   "cell_type": "code",
   "execution_count": 32,
   "metadata": {},
   "outputs": [
    {
     "data": {
      "text/html": [
       "<div>\n",
       "<style scoped>\n",
       "    .dataframe tbody tr th:only-of-type {\n",
       "        vertical-align: middle;\n",
       "    }\n",
       "\n",
       "    .dataframe tbody tr th {\n",
       "        vertical-align: top;\n",
       "    }\n",
       "\n",
       "    .dataframe thead th {\n",
       "        text-align: right;\n",
       "    }\n",
       "</style>\n",
       "<table border=\"1\" class=\"dataframe\">\n",
       "  <thead>\n",
       "    <tr style=\"text-align: right;\">\n",
       "      <th></th>\n",
       "      <th>type</th>\n",
       "      <th>dow</th>\n",
       "      <th>timewindow</th>\n",
       "      <th>latitude</th>\n",
       "      <th>longitude</th>\n",
       "      <th>intersection_id</th>\n",
       "      <th>counts</th>\n",
       "    </tr>\n",
       "  </thead>\n",
       "  <tbody>\n",
       "    <tr>\n",
       "      <th>187</th>\n",
       "      <td>1</td>\n",
       "      <td>Monday</td>\n",
       "      <td>amPeak</td>\n",
       "      <td>43.7227</td>\n",
       "      <td>-79.5982</td>\n",
       "      <td>13454935</td>\n",
       "      <td>2</td>\n",
       "    </tr>\n",
       "    <tr>\n",
       "      <th>167</th>\n",
       "      <td>5</td>\n",
       "      <td>Monday</td>\n",
       "      <td>amPeak</td>\n",
       "      <td>43.7227</td>\n",
       "      <td>-79.5982</td>\n",
       "      <td>13454935</td>\n",
       "      <td>1</td>\n",
       "    </tr>\n",
       "  </tbody>\n",
       "</table>\n",
       "</div>"
      ],
      "text/plain": [
       "     type     dow timewindow  latitude  longitude  intersection_id  counts\n",
       "187     1  Monday     amPeak   43.7227   -79.5982         13454935       2\n",
       "167     5  Monday     amPeak   43.7227   -79.5982         13454935       1"
      ]
     },
     "execution_count": 32,
     "metadata": {},
     "output_type": "execute_result"
    }
   ],
   "source": [
    "# Check\n",
    "df_pudo_agg.loc[df_pudo_agg['intersection_id']==13454935]"
   ]
  },
  {
   "cell_type": "code",
   "execution_count": null,
   "metadata": {},
   "outputs": [],
   "source": []
  },
  {
   "cell_type": "code",
   "execution_count": null,
   "metadata": {},
   "outputs": [],
   "source": []
  },
  {
   "cell_type": "code",
   "execution_count": null,
   "metadata": {},
   "outputs": [],
   "source": []
  },
  {
   "cell_type": "code",
   "execution_count": 33,
   "metadata": {},
   "outputs": [
    {
     "ename": "SyntaxError",
     "evalue": "invalid syntax (<ipython-input-33-02c2a1c0215a>, line 1)",
     "output_type": "error",
     "traceback": [
      "\u001b[0;36m  File \u001b[0;32m\"<ipython-input-33-02c2a1c0215a>\"\u001b[0;36m, line \u001b[0;32m1\u001b[0m\n\u001b[0;31m    df=\u001b[0m\n\u001b[0m       ^\u001b[0m\n\u001b[0;31mSyntaxError\u001b[0m\u001b[0;31m:\u001b[0m invalid syntax\n"
     ]
    }
   ],
   "source": [
    "df="
   ]
  },
  {
   "cell_type": "code",
   "execution_count": null,
   "metadata": {},
   "outputs": [],
   "source": []
  },
  {
   "cell_type": "markdown",
   "metadata": {},
   "source": [
    "# Save to geojson"
   ]
  },
  {
   "cell_type": "markdown",
   "metadata": {},
   "source": [
    "## All points"
   ]
  },
  {
   "cell_type": "code",
   "execution_count": null,
   "metadata": {},
   "outputs": [],
   "source": [
    "geojson = df_to_geojson(df_pudo, ['dow', 'timewindow', 'type'])"
   ]
  },
  {
   "cell_type": "code",
   "execution_count": null,
   "metadata": {},
   "outputs": [],
   "source": []
  },
  {
   "cell_type": "markdown",
   "metadata": {},
   "source": [
    "## Aggregated points"
   ]
  },
  {
   "cell_type": "code",
   "execution_count": null,
   "metadata": {},
   "outputs": [],
   "source": [
    "geojson_agg = df_to_geojson(df_pudo_agg, cols)"
   ]
  },
  {
   "cell_type": "code",
   "execution_count": null,
   "metadata": {},
   "outputs": [],
   "source": []
  },
  {
   "cell_type": "markdown",
   "metadata": {},
   "source": [
    "# Write geojson to file"
   ]
  },
  {
   "cell_type": "markdown",
   "metadata": {},
   "source": [
    "## All points"
   ]
  },
  {
   "cell_type": "code",
   "execution_count": null,
   "metadata": {},
   "outputs": [],
   "source": [
    "output_filename = '../src/geojson/w1_092018_' + this_day + '_' + this_tod + '.geojson'\n",
    "# output_filename = 'w1_092018_' + this_day + '_' + this_tod + '.geojson'\n",
    "\n",
    "with open(output_filename, 'w') as output_file:\n",
    "    output_file.write('')\n",
    "    json.dump(geojson, output_file, indent=2) "
   ]
  },
  {
   "cell_type": "markdown",
   "metadata": {},
   "source": [
    "## Aggregated points"
   ]
  },
  {
   "cell_type": "code",
   "execution_count": null,
   "metadata": {},
   "outputs": [],
   "source": [
    "output_filename = '../src/geojson/w1_092018_' + this_day + '_' + this_tod + '_agg.geojson'\n",
    "# output_filename = 'w1_092018_' + this_day + '_' + this_tod + '_agg.geojson'\n",
    "\n",
    "with open(output_filename, 'w') as output_file:\n",
    "    output_file.write('')\n",
    "    json.dump(geojson_agg, output_file, indent=2) "
   ]
  },
  {
   "cell_type": "code",
   "execution_count": null,
   "metadata": {},
   "outputs": [],
   "source": []
  },
  {
   "cell_type": "markdown",
   "metadata": {},
   "source": [
    "`\n",
    "$ ls -lh src/geojson/\n",
    "-rw-r--r-- 1 test test 328K Dec  4 15:46 w1_092018_Monday_amPeak_agg.geojson\n",
    "-rw-r--r-- 1 test test 753K Dec  4 13:51 w1_092018_Monday_amPeak.geojson\n",
    "`\n"
   ]
  },
  {
   "cell_type": "code",
   "execution_count": null,
   "metadata": {},
   "outputs": [],
   "source": []
  },
  {
   "cell_type": "code",
   "execution_count": null,
   "metadata": {},
   "outputs": [],
   "source": []
  },
  {
   "cell_type": "code",
   "execution_count": null,
   "metadata": {},
   "outputs": [],
   "source": []
  },
  {
   "cell_type": "code",
   "execution_count": null,
   "metadata": {},
   "outputs": [],
   "source": []
  }
 ],
 "metadata": {
  "kernelspec": {
   "display_name": "Python 3",
   "language": "python",
   "name": "python3"
  },
  "language_info": {
   "codemirror_mode": {
    "name": "ipython",
    "version": 3
   },
   "file_extension": ".py",
   "mimetype": "text/x-python",
   "name": "python",
   "nbconvert_exporter": "python",
   "pygments_lexer": "ipython3",
   "version": "3.6.7"
  }
 },
 "nbformat": 4,
 "nbformat_minor": 2
}
