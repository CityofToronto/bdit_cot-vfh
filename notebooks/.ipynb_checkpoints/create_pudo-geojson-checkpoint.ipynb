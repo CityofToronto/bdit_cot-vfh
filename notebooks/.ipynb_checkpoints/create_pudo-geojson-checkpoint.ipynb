{
 "cells": [
  {
   "cell_type": "markdown",
   "metadata": {},
   "source": [
    "# Create geojson file from list of PUDO coords\n",
    "See /home/test/Documents/PROJECTS/VFH/iPython_Notebooks/dv_pudo_profiles.ipynb for more info.  \n",
    "\n",
    "ref: https://geoffboeing.com/2015/10/exporting-python-data-geojson/  \n",
    "Huom: `with open(output_filename, 'wb') as output_file:` should be `'w'` not `'wb'`  "
   ]
  },
  {
   "cell_type": "code",
   "execution_count": 1,
   "metadata": {},
   "outputs": [
    {
     "data": {
      "text/plain": [
       "'/home/test/anaconda3/envs/vfh/bin/python'"
      ]
     },
     "execution_count": 1,
     "metadata": {},
     "output_type": "execute_result"
    }
   ],
   "source": [
    "import sys\n",
    "sys.executable"
   ]
  },
  {
   "cell_type": "code",
   "execution_count": 2,
   "metadata": {},
   "outputs": [],
   "source": [
    "%matplotlib inline\n",
    "import numpy as np\n",
    "import pandas as pd\n",
    "import pandas.io.sql as pandasql\n",
    "import matplotlib.pyplot as plt\n",
    "import matplotlib as mpl\n",
    "import matplotlib.ticker as ticker\n",
    "\n",
    "from IPython.display import HTML, display\n",
    "import datetime\n",
    "import matplotlib.dates as mdates\n",
    "from ipywidgets import interact, interactive, fixed, interact_manual\n",
    "import ipywidgets as widgets\n",
    "import os\n",
    "\n",
    "from datetime import datetime\n",
    "\n",
    "import json"
   ]
  },
  {
   "cell_type": "markdown",
   "metadata": {},
   "source": [
    "# Functions"
   ]
  },
  {
   "cell_type": "code",
   "execution_count": 60,
   "metadata": {},
   "outputs": [],
   "source": [
    "def df_to_geojson(df, properties, lat='latitude', lon='longitude'):\n",
    "    geojson = {'type':'FeatureCollection', 'features':[]}\n",
    "    for _, row in df.iterrows():\n",
    "        feature = {'type':'Feature',\n",
    "                   'properties':{},\n",
    "                   'geometry':{'type':'Point',\n",
    "                               'coordinates':[]}}\n",
    "        feature['geometry']['coordinates'] = [row[lon],row[lat]]\n",
    "        for prop in properties:\n",
    "            feature['properties'][prop] = row[prop]\n",
    "        geojson['features'].append(feature)\n",
    "    return geojson"
   ]
  },
  {
   "cell_type": "markdown",
   "metadata": {},
   "source": [
    "# GeoJSON properties"
   ]
  },
  {
   "cell_type": "code",
   "execution_count": 61,
   "metadata": {},
   "outputs": [],
   "source": [
    "# Define the properties of the PUDO geojson file\n",
    "cols = ['dow', 'timewindow', 'type']"
   ]
  },
  {
   "cell_type": "markdown",
   "metadata": {},
   "source": [
    "# Ward"
   ]
  },
  {
   "cell_type": "code",
   "execution_count": 31,
   "metadata": {},
   "outputs": [],
   "source": [
    "ward=1\n",
    "this_day = \"Monday\"\n",
    "this_tod = \"amPeak\""
   ]
  },
  {
   "cell_type": "markdown",
   "metadata": {},
   "source": [
    "# Read coordinates"
   ]
  },
  {
   "cell_type": "code",
   "execution_count": 5,
   "metadata": {},
   "outputs": [
    {
     "name": "stdout",
     "output_type": "stream",
     "text": [
      "(1380447, 16)\n"
     ]
    },
    {
     "data": {
      "text/html": [
       "<div>\n",
       "<style scoped>\n",
       "    .dataframe tbody tr th:only-of-type {\n",
       "        vertical-align: middle;\n",
       "    }\n",
       "\n",
       "    .dataframe tbody tr th {\n",
       "        vertical-align: top;\n",
       "    }\n",
       "\n",
       "    .dataframe thead th {\n",
       "        text-align: right;\n",
       "    }\n",
       "</style>\n",
       "<table border=\"1\" class=\"dataframe\">\n",
       "  <thead>\n",
       "    <tr style=\"text-align: right;\">\n",
       "      <th></th>\n",
       "      <th>pickup_datetime</th>\n",
       "      <th>dropoff_datetime</th>\n",
       "      <th>pickup_ward2018</th>\n",
       "      <th>dropoff_ward2018</th>\n",
       "      <th>pickup_gc_intersection_id</th>\n",
       "      <th>dropoff_gc_intersection_id</th>\n",
       "      <th>pickup_mun_id</th>\n",
       "      <th>dropoff_mun_id</th>\n",
       "      <th>dow</th>\n",
       "      <th>timewindow</th>\n",
       "      <th>pickup_geom</th>\n",
       "      <th>dropoff_geom</th>\n",
       "      <th>lat_pickup</th>\n",
       "      <th>lon_pickup</th>\n",
       "      <th>lat_dropoff</th>\n",
       "      <th>lon_dropoff</th>\n",
       "    </tr>\n",
       "  </thead>\n",
       "  <tbody>\n",
       "    <tr>\n",
       "      <th>0</th>\n",
       "      <td>2018-01-31 11:00:00</td>\n",
       "      <td>2018-01-31 11:16:10</td>\n",
       "      <td>1.0</td>\n",
       "      <td>1.0</td>\n",
       "      <td>13453377</td>\n",
       "      <td>13452644</td>\n",
       "      <td>69</td>\n",
       "      <td>69</td>\n",
       "      <td>Wednesday</td>\n",
       "      <td>midday</td>\n",
       "      <td>0101000020E6100000891D070AAEE753C0C9183602E5DD...</td>\n",
       "      <td>0101000020E6100000D7213E7D32E453C0A36DDE3370DE...</td>\n",
       "      <td>43.733551</td>\n",
       "      <td>-79.619998</td>\n",
       "      <td>43.737799</td>\n",
       "      <td>-79.565582</td>\n",
       "    </tr>\n",
       "    <tr>\n",
       "      <th>1</th>\n",
       "      <td>2018-02-04 11:00:00</td>\n",
       "      <td>2018-02-04 11:04:20</td>\n",
       "      <td>1.0</td>\n",
       "      <td>1.0</td>\n",
       "      <td>13452484</td>\n",
       "      <td>13449810</td>\n",
       "      <td>69</td>\n",
       "      <td>69</td>\n",
       "      <td>Saturday</td>\n",
       "      <td>midday</td>\n",
       "      <td>0101000020E6100000C253F8CEF0E553C02ED0E61F9ADE...</td>\n",
       "      <td>0101000020E610000053AD506718E653C09CC2B2E8C9E0...</td>\n",
       "      <td>43.739079</td>\n",
       "      <td>-79.592823</td>\n",
       "      <td>43.756162</td>\n",
       "      <td>-79.595239</td>\n",
       "    </tr>\n",
       "    <tr>\n",
       "      <th>2</th>\n",
       "      <td>2018-01-16 11:00:00</td>\n",
       "      <td>2018-01-16 11:50:22</td>\n",
       "      <td>13.0</td>\n",
       "      <td>1.0</td>\n",
       "      <td>20089579</td>\n",
       "      <td>13453797</td>\n",
       "      <td>69</td>\n",
       "      <td>69</td>\n",
       "      <td>Tuesday</td>\n",
       "      <td>midday</td>\n",
       "      <td>0101000020E6100000CCF75953E3D753C0872927604FD4...</td>\n",
       "      <td>0101000020E6100000A8D9369EE5E653C0E9F258C695DD...</td>\n",
       "      <td>43.658672</td>\n",
       "      <td>-79.373250</td>\n",
       "      <td>43.731133</td>\n",
       "      <td>-79.607765</td>\n",
       "    </tr>\n",
       "    <tr>\n",
       "      <th>3</th>\n",
       "      <td>2018-01-06 11:00:00</td>\n",
       "      <td>2018-01-06 11:36:41</td>\n",
       "      <td>10.0</td>\n",
       "      <td>1.0</td>\n",
       "      <td>30079943</td>\n",
       "      <td>13452805</td>\n",
       "      <td>69</td>\n",
       "      <td>69</td>\n",
       "      <td>Saturday</td>\n",
       "      <td>midday</td>\n",
       "      <td>0101000020E6100000DA7D7D639EDA53C0BC6C5A7ACBD1...</td>\n",
       "      <td>0101000020E61000001B87ED33D6E353C0CD0709F34CDE...</td>\n",
       "      <td>43.639022</td>\n",
       "      <td>-79.415917</td>\n",
       "      <td>43.736723</td>\n",
       "      <td>-79.559949</td>\n",
       "    </tr>\n",
       "    <tr>\n",
       "      <th>4</th>\n",
       "      <td>2018-01-12 11:00:00</td>\n",
       "      <td>2018-01-12 11:13:41</td>\n",
       "      <td>1.0</td>\n",
       "      <td>1.0</td>\n",
       "      <td>20232392</td>\n",
       "      <td>13462944</td>\n",
       "      <td>69</td>\n",
       "      <td>69</td>\n",
       "      <td>Friday</td>\n",
       "      <td>midday</td>\n",
       "      <td>0101000020E6100000214404ACADE653C06A0D40CB3CDD...</td>\n",
       "      <td>0101000020E6100000FF5CD13961E453C0499FDFC27DD6...</td>\n",
       "      <td>43.728418</td>\n",
       "      <td>-79.604350</td>\n",
       "      <td>43.675713</td>\n",
       "      <td>-79.568434</td>\n",
       "    </tr>\n",
       "  </tbody>\n",
       "</table>\n",
       "</div>"
      ],
      "text/plain": [
       "       pickup_datetime     dropoff_datetime  pickup_ward2018  \\\n",
       "0  2018-01-31 11:00:00  2018-01-31 11:16:10              1.0   \n",
       "1  2018-02-04 11:00:00  2018-02-04 11:04:20              1.0   \n",
       "2  2018-01-16 11:00:00  2018-01-16 11:50:22             13.0   \n",
       "3  2018-01-06 11:00:00  2018-01-06 11:36:41             10.0   \n",
       "4  2018-01-12 11:00:00  2018-01-12 11:13:41              1.0   \n",
       "\n",
       "   dropoff_ward2018  pickup_gc_intersection_id  dropoff_gc_intersection_id  \\\n",
       "0               1.0                   13453377                    13452644   \n",
       "1               1.0                   13452484                    13449810   \n",
       "2               1.0                   20089579                    13453797   \n",
       "3               1.0                   30079943                    13452805   \n",
       "4               1.0                   20232392                    13462944   \n",
       "\n",
       "   pickup_mun_id  dropoff_mun_id        dow timewindow  \\\n",
       "0             69              69  Wednesday     midday   \n",
       "1             69              69   Saturday     midday   \n",
       "2             69              69    Tuesday     midday   \n",
       "3             69              69   Saturday     midday   \n",
       "4             69              69     Friday     midday   \n",
       "\n",
       "                                         pickup_geom  \\\n",
       "0  0101000020E6100000891D070AAEE753C0C9183602E5DD...   \n",
       "1  0101000020E6100000C253F8CEF0E553C02ED0E61F9ADE...   \n",
       "2  0101000020E6100000CCF75953E3D753C0872927604FD4...   \n",
       "3  0101000020E6100000DA7D7D639EDA53C0BC6C5A7ACBD1...   \n",
       "4  0101000020E6100000214404ACADE653C06A0D40CB3CDD...   \n",
       "\n",
       "                                        dropoff_geom  lat_pickup  lon_pickup  \\\n",
       "0  0101000020E6100000D7213E7D32E453C0A36DDE3370DE...   43.733551  -79.619998   \n",
       "1  0101000020E610000053AD506718E653C09CC2B2E8C9E0...   43.739079  -79.592823   \n",
       "2  0101000020E6100000A8D9369EE5E653C0E9F258C695DD...   43.658672  -79.373250   \n",
       "3  0101000020E61000001B87ED33D6E353C0CD0709F34CDE...   43.639022  -79.415917   \n",
       "4  0101000020E6100000FF5CD13961E453C0499FDFC27DD6...   43.728418  -79.604350   \n",
       "\n",
       "   lat_dropoff  lon_dropoff  \n",
       "0    43.737799   -79.565582  \n",
       "1    43.756162   -79.595239  \n",
       "2    43.731133   -79.607765  \n",
       "3    43.736723   -79.559949  \n",
       "4    43.675713   -79.568434  "
      ]
     },
     "execution_count": 5,
     "metadata": {},
     "output_type": "execute_result"
    }
   ],
   "source": [
    "fname = '../../../Documents/PROJECTS/VFH/COT_PAGE/dummydata/test_data/w1_pudo_092018_latlon.csv'\n",
    "\n",
    "df = pd.read_csv(fname)\n",
    "\n",
    "print(df.shape)\n",
    "df.head(5)"
   ]
  },
  {
   "cell_type": "code",
   "execution_count": 6,
   "metadata": {},
   "outputs": [
    {
     "data": {
      "text/plain": [
       "['pickup_datetime',\n",
       " 'dropoff_datetime',\n",
       " 'pickup_ward2018',\n",
       " 'dropoff_ward2018',\n",
       " 'pickup_gc_intersection_id',\n",
       " 'dropoff_gc_intersection_id',\n",
       " 'pickup_mun_id',\n",
       " 'dropoff_mun_id',\n",
       " 'dow',\n",
       " 'timewindow',\n",
       " 'pickup_geom',\n",
       " 'dropoff_geom',\n",
       " 'lat_pickup',\n",
       " 'lon_pickup',\n",
       " 'lat_dropoff',\n",
       " 'lon_dropoff']"
      ]
     },
     "execution_count": 6,
     "metadata": {},
     "output_type": "execute_result"
    }
   ],
   "source": [
    "list(df)"
   ]
  },
  {
   "cell_type": "markdown",
   "metadata": {},
   "source": [
    "# PUDO subsets"
   ]
  },
  {
   "cell_type": "markdown",
   "metadata": {},
   "source": [
    "## Filter by ward"
   ]
  },
  {
   "cell_type": "markdown",
   "metadata": {},
   "source": [
    "### all days of week, all time windows"
   ]
  },
  {
   "cell_type": "code",
   "execution_count": 8,
   "metadata": {},
   "outputs": [
    {
     "name": "stdout",
     "output_type": "stream",
     "text": [
      "(641183, 7)\n"
     ]
    }
   ],
   "source": [
    "df_pu = df.loc[df['pickup_ward2018']==ward, ['pickup_datetime',\n",
    " 'dropoff_datetime', 'dropoff_ward2018', 'dow', 'timewindow','lat_pickup','lon_pickup']]\n",
    "print(df_pu.shape)"
   ]
  },
  {
   "cell_type": "code",
   "execution_count": 9,
   "metadata": {},
   "outputs": [
    {
     "data": {
      "text/plain": [
       "['pickup_datetime',\n",
       " 'dropoff_datetime',\n",
       " 'dropoff_ward2018',\n",
       " 'dow',\n",
       " 'timewindow',\n",
       " 'latitude',\n",
       " 'longitude']"
      ]
     },
     "execution_count": 9,
     "metadata": {},
     "output_type": "execute_result"
    }
   ],
   "source": [
    "df_pu = df_pu.rename(columns={'lat_pickup': 'latitude', 'lon_pickup': 'longitude'})\n",
    "list(df_pu)"
   ]
  },
  {
   "cell_type": "markdown",
   "metadata": {},
   "source": [
    "### Monday, amPeak only"
   ]
  },
  {
   "cell_type": "code",
   "execution_count": 62,
   "metadata": {},
   "outputs": [
    {
     "name": "stdout",
     "output_type": "stream",
     "text": [
      "(18226, 8)\n"
     ]
    },
    {
     "data": {
      "text/plain": [
       "['pickup_datetime',\n",
       " 'dropoff_datetime',\n",
       " 'pickup_ward2018',\n",
       " 'dropoff_ward2018',\n",
       " 'dow',\n",
       " 'timewindow',\n",
       " 'lat_pickup',\n",
       " 'lon_pickup']"
      ]
     },
     "execution_count": 62,
     "metadata": {},
     "output_type": "execute_result"
    }
   ],
   "source": [
    "df_mon_amPeak = df.loc[(df['dow']==\"Monday\") & (df['timewindow']==\"amPeak\"), ['pickup_datetime',\n",
    " 'dropoff_datetime', 'pickup_ward2018','dropoff_ward2018', 'dow', 'timewindow','lat_pickup','lon_pickup']]\n",
    "\n",
    "print(df_mon_amPeak.shape)\n",
    "list(df_mon_amPeak)"
   ]
  },
  {
   "cell_type": "code",
   "execution_count": 63,
   "metadata": {},
   "outputs": [],
   "source": [
    "df_mon_amPeak['type'] = np.nan"
   ]
  },
  {
   "cell_type": "code",
   "execution_count": 64,
   "metadata": {},
   "outputs": [],
   "source": [
    "df_mon_amPeak.loc[df_mon_amPeak['pickup_ward2018']==1, 'type'] = 1\n",
    "df_mon_amPeak.loc[df_mon_amPeak['dropoff_ward2018']==1, 'type'] = 5"
   ]
  },
  {
   "cell_type": "code",
   "execution_count": 65,
   "metadata": {},
   "outputs": [
    {
     "data": {
      "text/plain": [
       "array([5., 1.])"
      ]
     },
     "execution_count": 65,
     "metadata": {},
     "output_type": "execute_result"
    }
   ],
   "source": [
    "df_mon_amPeak['type'].unique()"
   ]
  },
  {
   "cell_type": "code",
   "execution_count": null,
   "metadata": {},
   "outputs": [],
   "source": []
  },
  {
   "cell_type": "code",
   "execution_count": null,
   "metadata": {},
   "outputs": [],
   "source": []
  },
  {
   "cell_type": "code",
   "execution_count": null,
   "metadata": {},
   "outputs": [],
   "source": []
  },
  {
   "cell_type": "code",
   "execution_count": 66,
   "metadata": {},
   "outputs": [
    {
     "data": {
      "text/plain": [
       "['pickup_datetime',\n",
       " 'dropoff_datetime',\n",
       " 'pickup_ward2018',\n",
       " 'dropoff_ward2018',\n",
       " 'dow',\n",
       " 'timewindow',\n",
       " 'latitude',\n",
       " 'longitude',\n",
       " 'type']"
      ]
     },
     "execution_count": 66,
     "metadata": {},
     "output_type": "execute_result"
    }
   ],
   "source": [
    "df_mon_amPeak = df_mon_amPeak.rename(columns={'lat_pickup': 'latitude', 'lon_pickup': 'longitude'})\n",
    "list(df_mon_amPeak)"
   ]
  },
  {
   "cell_type": "code",
   "execution_count": null,
   "metadata": {},
   "outputs": [],
   "source": []
  },
  {
   "cell_type": "code",
   "execution_count": 69,
   "metadata": {},
   "outputs": [],
   "source": [
    "df_mon_amPeak = df_mon_amPeak.astype({\"type\": int,})"
   ]
  },
  {
   "cell_type": "code",
   "execution_count": 70,
   "metadata": {},
   "outputs": [
    {
     "data": {
      "text/plain": [
       "array([5, 1])"
      ]
     },
     "execution_count": 70,
     "metadata": {},
     "output_type": "execute_result"
    }
   ],
   "source": [
    "df_mon_amPeak['type'].unique()"
   ]
  },
  {
   "cell_type": "code",
   "execution_count": null,
   "metadata": {},
   "outputs": [],
   "source": []
  },
  {
   "cell_type": "markdown",
   "metadata": {},
   "source": [
    "# Save to geojson"
   ]
  },
  {
   "cell_type": "code",
   "execution_count": 71,
   "metadata": {},
   "outputs": [],
   "source": [
    "# geojson_pu = df_to_geojson(df_pu, cols)"
   ]
  },
  {
   "cell_type": "code",
   "execution_count": 72,
   "metadata": {},
   "outputs": [],
   "source": [
    "geojson_mon_amPeak = df_to_geojson(df_mon_amPeak, cols)"
   ]
  },
  {
   "cell_type": "code",
   "execution_count": null,
   "metadata": {},
   "outputs": [],
   "source": []
  },
  {
   "cell_type": "code",
   "execution_count": null,
   "metadata": {},
   "outputs": [],
   "source": []
  },
  {
   "cell_type": "markdown",
   "metadata": {},
   "source": [
    "# Write geojson to file"
   ]
  },
  {
   "cell_type": "code",
   "execution_count": 73,
   "metadata": {},
   "outputs": [],
   "source": [
    "output_filename = '../src/geojson/w1_092018_' + this_day + '_' + this_tod + '.geojson'\n",
    "\n",
    "with open(output_filename, 'w') as output_file:\n",
    "    output_file.write('')\n",
    "    json.dump(geojson_mon_amPeak, output_file, indent=2) "
   ]
  },
  {
   "cell_type": "code",
   "execution_count": null,
   "metadata": {},
   "outputs": [],
   "source": [
    "\n"
   ]
  },
  {
   "cell_type": "code",
   "execution_count": null,
   "metadata": {},
   "outputs": [],
   "source": []
  }
 ],
 "metadata": {
  "kernelspec": {
   "display_name": "Python 3",
   "language": "python",
   "name": "python3"
  },
  "language_info": {
   "codemirror_mode": {
    "name": "ipython",
    "version": 3
   },
   "file_extension": ".py",
   "mimetype": "text/x-python",
   "name": "python",
   "nbconvert_exporter": "python",
   "pygments_lexer": "ipython3",
   "version": "3.6.7"
  }
 },
 "nbformat": 4,
 "nbformat_minor": 2
}
