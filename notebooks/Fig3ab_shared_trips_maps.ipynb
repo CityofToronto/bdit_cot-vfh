{
 "cells": [
  {
   "cell_type": "markdown",
   "metadata": {},
   "source": [
    "# Create json files for shared trips choropleth (Figs 3a, 3b)\n",
    "Fig 3a - number of requested (and completed) shared trips  \n",
    "Fig 3b - proportion of requested shared trips that were matched up  \n",
    "\n",
    "Queries stored in `~/Documents/PROJECTS/VFH/COT_PAGE/QUERIES/` as:  \n",
    "`Fig3a_prop_shared_trips_by_nn.sql`  \n",
    "`Fig3b_prop_actual_shared_by_nn.sql`  "
   ]
  },
  {
   "cell_type": "markdown",
   "metadata": {},
   "source": [
    "**refs**    \n",
    "\n",
    "* https://geoffboeing.com/2015/10/exporting-python-data-geojson/  \n",
    "Huom: `with open(output_filename, 'wb') as output_file:` should be `'w'` not `'wb'`  \n",
    "* geoJSON minifier: https://jsonformatter.org/json-minify  "
   ]
  },
  {
   "cell_type": "code",
   "execution_count": null,
   "metadata": {},
   "outputs": [],
   "source": []
  },
  {
   "cell_type": "markdown",
   "metadata": {},
   "source": [
    "## Fig 3a Query (Fig3a_prop_shared_trips_by_nn.sql)\n",
    "From https://github.com/CityofToronto/bdit_vfh/blob/master/notebooks/vfh_final.ipynb, **Proportion of Shared Ride Trips by Neighbourhood, September 2018, Exhibit 3-25**:\n",
    "\n",
    "```\n",
    "CREATE TABLE cnangini.fig3a_shared_trips AS\n",
    "WITH daily_ave AS (\n",
    "\n",
    "    SELECT sum(count) as count, pickup_neighbourhood \n",
    "    FROM ptc.trip_data_agg_neighbourhood_pool\n",
    "    WHERE pickup_datetime > '2018-08-31'\n",
    "    GROUP BY  pickup_neighbourhood\n",
    "),\n",
    "\n",
    "daily_ave_all AS (\n",
    "    SELECT sum(count) as count, pickup_neighbourhood \n",
    "    FROM ptc.trip_data_agg_neighbourhood\n",
    "    WHERE pickup_datetime > '2018-08-31'\n",
    "    GROUP BY  pickup_neighbourhood\n",
    ")\n",
    "\n",
    "SELECT pickup_neighbourhood, ROUND(100 * a.count/b.count) AS prop, geom\n",
    "FROM daily_ave a\n",
    "LEFT JOIN daily_ave_all b USING (pickup_neighbourhood)\n",
    "LEFT JOIN gis.neighbourhood ON pickup_neighbourhood = area_s_cd::integer\n",
    "WHERE pickup_neighbourhood IS NOT NULL\n",
    "ORDER by pickup_neighbourhood;\n",
    "\n",
    "-- Add dummy rows for nn 141, 142\n",
    "INSERT INTO cnangini.fig3a_shared_trips (pickup_neighbourhood, prop) \n",
    "VALUES (141, NULL);\n",
    "\n",
    "INSERT INTO cnangini.fig3a_shared_trips (pickup_neighbourhood, prop) \n",
    "VALUES (142, NULL);\n",
    "\n",
    "```\n",
    "\n",
    "_**Note:** table `cnangini.fig3a_shared_trips` to be deleted from schema; saved as `~/Documents/PROJECTS/VFH/COT_PAGE/INTERIM_DATA/FROM_PGADMIN/Fig3a_shared_trips.csv`_"
   ]
  },
  {
   "cell_type": "markdown",
   "metadata": {},
   "source": [
    "## Fig 3b Query (Fig3b_prop_actual_shared_by_nn.sql)\n",
    "**made by Raph à-la-volée :**  \n",
    "\n",
    "```\n",
    "CREATE TABLE cnangini.fig3b_matched_shared_trips AS\n",
    " WITH raw_data AS (\n",
    "     SELECT trip_data_new_geom.pickup_datetime::date AS pickup_datetime,\n",
    "            trip_data_new_geom.pickup_neighbourhood,\n",
    "            date_part('hour'::text, trip_data_new_geom.pickup_datetime) AS hr,\n",
    "            trip_data_new_geom.ptctripid,\n",
    "\t \t\tcount(*) OVER (PARTITION BY ptctripid) AS num_shared\n",
    "       FROM ptc.trip_data_new_geom\n",
    "      WHERE (trip_data_new_geom.provider_id = ANY (ARRAY[28608558, 1608409])) \n",
    "             AND trip_data_new_geom.dropoff_datetime IS NOT NULL \n",
    "             AND trip_data_new_geom.pickup_datetime IS NOT NULL\n",
    "             AND trip_data_new_geom.pickup_datetime >= '2018-09-01 00:00:00'::timestamp without time zone \n",
    "             AND trip_data_new_geom.dropoff_datetime >= '2018-09-01 00:00:00'::timestamp without time zone\n",
    ")\n",
    "\n",
    "SELECT pickup_neighbourhood, \n",
    "   100 * SUM(CASE WHEN num_shared > 1 THEN 1 ELSE 0 END) --Count of picked up passengers in this neighbourhood who   actually shared their trip\n",
    "   / COUNT(*) -- number of completed shared trip requests for this neighbourhood\n",
    "   AS proportion_matched_shared_trips,\n",
    "   geom\n",
    "FROM raw_data\n",
    "LEFT JOIN gis.neighbourhood ON pickup_neighbourhood = area_s_cd::integer\n",
    "WHERE pickup_neighbourhood IS NOT NULL\n",
    "GROUP BY pickup_neighbourhood, geom\n",
    "ORDER BY pickup_neighbourhood;\n",
    "\n",
    "-- Add dummy rows for nn 141, 142\n",
    "INSERT INTO cnangini.fig3b_matched_shared_trips (pickup_neighbourhood, proportion_matched_shared_trips) \n",
    "VALUES (141, NULL);\n",
    "\n",
    "INSERT INTO cnangini.fig3b_matched_shared_trips (pickup_neighbourhood, proportion_matched_shared_trips) \n",
    "VALUES (142, NULL);\n",
    "\n",
    "```\n",
    "\n",
    "_**Note:** table `cnangini.fig3b_matched_shared_trips` to be deleted from schema; saved as `~/Documents/PROJECTS/VFH/COT_PAGE/INTERIM_DATA/FROM_PGADMIN/Fig3b_matched_shared_trips.csv`_"
   ]
  },
  {
   "cell_type": "code",
   "execution_count": null,
   "metadata": {},
   "outputs": [],
   "source": []
  },
  {
   "cell_type": "code",
   "execution_count": null,
   "metadata": {},
   "outputs": [],
   "source": []
  },
  {
   "cell_type": "markdown",
   "metadata": {},
   "source": [
    "# Save tables to csv file in pgAdmin\n",
    "\n",
    "Go to pgAdmin and export `cnangini.fig3a_shared_trips` and `cnangini.fig3b_matched_shared_trips` to csv.  \n",
    "\n",
    "=> save in `~/Documents/PROJECTS/VFH/COT_PAGE/INTERIM_DATA/FROM_PGADMIN/` as  \n",
    "`Fig3a_shared_trips.csv` and  \n",
    "`fig3b_matched_shared_trips.csv`  "
   ]
  },
  {
   "cell_type": "code",
   "execution_count": null,
   "metadata": {},
   "outputs": [],
   "source": []
  },
  {
   "cell_type": "code",
   "execution_count": null,
   "metadata": {},
   "outputs": [],
   "source": []
  },
  {
   "cell_type": "code",
   "execution_count": null,
   "metadata": {},
   "outputs": [],
   "source": []
  }
 ],
 "metadata": {
  "kernelspec": {
   "display_name": "Python 3",
   "language": "python",
   "name": "python3"
  },
  "language_info": {
   "codemirror_mode": {
    "name": "ipython",
    "version": 3
   },
   "file_extension": ".py",
   "mimetype": "text/x-python",
   "name": "python",
   "nbconvert_exporter": "python",
   "pygments_lexer": "ipython3",
   "version": "3.6.7"
  }
 },
 "nbformat": 4,
 "nbformat_minor": 2
}
