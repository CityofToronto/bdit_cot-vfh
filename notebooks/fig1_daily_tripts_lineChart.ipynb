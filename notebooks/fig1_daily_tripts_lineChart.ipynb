{
 "cells": [
  {
   "cell_type": "markdown",
   "metadata": {},
   "source": [
    "# Create json file of daily trips averaged by month\n",
    "\n",
    "original table: `ptc.daily_trips`  \n",
    "\n",
    "Processed to fill-in data gap using this query:  \n",
    "```\n",
    "SELECT to_char(dt, 'YYYY-MM') as period, \n",
    "     CASE WHEN to_char(dt, 'YYYY-MM') = '2018-03' THEN 108321\n",
    "         ELSE avg(count)::integer \n",
    "     END as count \n",
    "FROM ptc.daily_trips\n",
    "GROUP BY period\n",
    "ORDER BY period\n",
    "```\n",
    "\n",
    "JSON format should be:  \n",
    "```\n",
    "{\n",
    "\t\"tpd\": {\n",
    "\t\t\"keys\": {\n",
    "\t\t\t\"name\": \"years\",\n",
    "\t\t\t\"values\": [\n",
    "\t\t\t\t\"2016-09\", \"2016-10\", \"2016-11\", \"2016-12\", \"2017-01\", \"2017-02\",\n",
    "\t       \"2017-03\", \"2017-04\", \"2017-05\", \"2017-06\", \"2017-07\", \"2017-08\",\n",
    "\t       \"2017-09\", \"2017-10\", \"2017-11\", \"2017-12\", \"2018-01\", \"2018-02\",\n",
    "\t       \"2018-03\", \"2018-04\", \"2018-05\", \"2018-06\", \"2018-07\", \"2018-08\",\n",
    "\t       \"2018-09\", \"2018-10\", \"2018-11\", \"2018-12\", \"2019-01\", \"2019-02\",\n",
    "\t       \"2019-03\"\n",
    "\t\t\t]\n",
    "\t\t},\n",
    "\t\t\"city\": [\n",
    "\t\t\t62242,  64443,  65595,  71107,  69280,  75834,  80486,  80165,\n",
    "\t        79951,  83822,  76303,  77527,  82788,  83752,  88247,  97224,\n",
    "\t        91856, 100055, 108321, 116587, 118861, 132495, 131914, 145230,\n",
    "\t       152776, 159412, 161733, 164054, 161267, 172254, 175803\n",
    "\t\t]\n",
    "\t}\n",
    "}\n",
    "```"
   ]
  },
  {
   "cell_type": "code",
   "execution_count": 48,
   "metadata": {},
   "outputs": [
    {
     "data": {
      "text/plain": [
       "'/home/nangini/anaconda3/bin/python'"
      ]
     },
     "execution_count": 48,
     "metadata": {},
     "output_type": "execute_result"
    }
   ],
   "source": [
    "import sys\n",
    "sys.executable"
   ]
  },
  {
   "cell_type": "code",
   "execution_count": 49,
   "metadata": {},
   "outputs": [],
   "source": [
    "%matplotlib inline\n",
    "import numpy as np\n",
    "import pandas as pd\n",
    "import pandas.io.sql as pandasql\n",
    "import matplotlib.pyplot as plt\n",
    "import matplotlib as mpl\n",
    "import matplotlib.ticker as ticker\n",
    "\n",
    "from IPython.display import HTML, display\n",
    "import datetime\n",
    "import matplotlib.dates as mdates\n",
    "from ipywidgets import interact, interactive, fixed, interact_manual\n",
    "import ipywidgets as widgets\n",
    "import os\n",
    "\n",
    "from datetime import datetime\n",
    "\n",
    "import json"
   ]
  },
  {
   "cell_type": "markdown",
   "metadata": {},
   "source": [
    "# Functions"
   ]
  },
  {
   "cell_type": "code",
   "execution_count": 50,
   "metadata": {},
   "outputs": [],
   "source": [
    "# https://geoffboeing.com/2015/10/exporting-python-data-geojson/\n",
    "def df_to_geojson(df, properties, lat=\"latitude\", lon=\"longitude\"):\n",
    "    geojson = {\"type\":\"FeatureCollection\", \"features\":[]}\n",
    "    for _, row in df.iterrows():\n",
    "        feature = {\"type\":\"Feature\",\n",
    "                   \"properties\":{},\n",
    "                   \"geometry\":{\"type\":\"Point\",\n",
    "                               \"coordinates\":[]}}\n",
    "        feature[\"geometry\"][\"coordinates\"] = [row[lon],row[lat]]\n",
    "        for prop in properties:\n",
    "            feature[\"properties\"][prop] = int(row[prop])\n",
    "        geojson[\"features\"].append(feature)\n",
    "    return geojson"
   ]
  },
  {
   "cell_type": "code",
   "execution_count": null,
   "metadata": {},
   "outputs": [],
   "source": []
  },
  {
   "cell_type": "markdown",
   "metadata": {},
   "source": [
    "# Variables"
   ]
  },
  {
   "cell_type": "code",
   "execution_count": null,
   "metadata": {},
   "outputs": [],
   "source": []
  },
  {
   "cell_type": "markdown",
   "metadata": {},
   "source": [
    "# Read daily trip count from csv file\n",
    "Created by the following query:  \n",
    "```\n",
    "SELECT to_char(dt, 'YYYY-MM') as period, \n",
    "     CASE WHEN to_char(dt, 'YYYY-MM') = '2018-03' THEN 108321\n",
    "         ELSE avg(count)::integer \n",
    "     END as count \n",
    "FROM ptc.daily_trips\n",
    "GROUP BY period\n",
    "ORDER BY period\n",
    "```"
   ]
  },
  {
   "cell_type": "code",
   "execution_count": 51,
   "metadata": {},
   "outputs": [
    {
     "name": "stdout",
     "output_type": "stream",
     "text": [
      "(1088, 2)\n"
     ]
    },
    {
     "data": {
      "text/html": [
       "<div>\n",
       "<style scoped>\n",
       "    .dataframe tbody tr th:only-of-type {\n",
       "        vertical-align: middle;\n",
       "    }\n",
       "\n",
       "    .dataframe tbody tr th {\n",
       "        vertical-align: top;\n",
       "    }\n",
       "\n",
       "    .dataframe thead th {\n",
       "        text-align: right;\n",
       "    }\n",
       "</style>\n",
       "<table border=\"1\" class=\"dataframe\">\n",
       "  <thead>\n",
       "    <tr style=\"text-align: right;\">\n",
       "      <th></th>\n",
       "      <th>dt</th>\n",
       "      <th>count</th>\n",
       "    </tr>\n",
       "  </thead>\n",
       "  <tbody>\n",
       "    <tr>\n",
       "      <th>0</th>\n",
       "      <td>2016-09-07</td>\n",
       "      <td>53897.0</td>\n",
       "    </tr>\n",
       "    <tr>\n",
       "      <th>1</th>\n",
       "      <td>2016-09-08</td>\n",
       "      <td>56636.0</td>\n",
       "    </tr>\n",
       "    <tr>\n",
       "      <th>2</th>\n",
       "      <td>2016-09-09</td>\n",
       "      <td>72422.0</td>\n",
       "    </tr>\n",
       "    <tr>\n",
       "      <th>3</th>\n",
       "      <td>2016-09-10</td>\n",
       "      <td>90372.0</td>\n",
       "    </tr>\n",
       "    <tr>\n",
       "      <th>4</th>\n",
       "      <td>2016-09-11</td>\n",
       "      <td>65221.0</td>\n",
       "    </tr>\n",
       "  </tbody>\n",
       "</table>\n",
       "</div>"
      ],
      "text/plain": [
       "           dt    count\n",
       "0  2016-09-07  53897.0\n",
       "1  2016-09-08  56636.0\n",
       "2  2016-09-09  72422.0\n",
       "3  2016-09-10  90372.0\n",
       "4  2016-09-11  65221.0"
      ]
     },
     "execution_count": 51,
     "metadata": {},
     "output_type": "execute_result"
    }
   ],
   "source": [
    "mydir = '../../../../Documents/PROJECTS/BDITTO/VFH/COT_PAGE/DATA/FROM_PGADMIN/'\n",
    "\n",
    "# fname = '/../../Documents/PROJECTS/VFH/COT_PAGE/INTERIM_DATA/FROM_PGADMIN/daily_trips_processed.csv'\n",
    "fname = mydir + 'daily_trips_filledin.csv'\n",
    "\n",
    "\n",
    "df = pd.read_csv(fname)\n",
    "\n",
    "print(df.shape)\n",
    "df.head(5)"
   ]
  },
  {
   "cell_type": "code",
   "execution_count": null,
   "metadata": {},
   "outputs": [],
   "source": []
  },
  {
   "cell_type": "markdown",
   "metadata": {},
   "source": [
    "# Process data"
   ]
  },
  {
   "cell_type": "markdown",
   "metadata": {},
   "source": [
    "## Group the data by month, and take the mean for each month\n",
    "https://chrisalbon.com/python/data_wrangling/pandas_group_data_by_time/"
   ]
  },
  {
   "cell_type": "code",
   "execution_count": 52,
   "metadata": {},
   "outputs": [
    {
     "data": {
      "text/html": [
       "<div>\n",
       "<style scoped>\n",
       "    .dataframe tbody tr th:only-of-type {\n",
       "        vertical-align: middle;\n",
       "    }\n",
       "\n",
       "    .dataframe tbody tr th {\n",
       "        vertical-align: top;\n",
       "    }\n",
       "\n",
       "    .dataframe thead th {\n",
       "        text-align: right;\n",
       "    }\n",
       "</style>\n",
       "<table border=\"1\" class=\"dataframe\">\n",
       "  <thead>\n",
       "    <tr style=\"text-align: right;\">\n",
       "      <th></th>\n",
       "      <th>count</th>\n",
       "    </tr>\n",
       "    <tr>\n",
       "      <th>dt</th>\n",
       "      <th></th>\n",
       "    </tr>\n",
       "  </thead>\n",
       "  <tbody>\n",
       "    <tr>\n",
       "      <th>2016-09-07</th>\n",
       "      <td>53897.0</td>\n",
       "    </tr>\n",
       "    <tr>\n",
       "      <th>2016-09-08</th>\n",
       "      <td>56636.0</td>\n",
       "    </tr>\n",
       "    <tr>\n",
       "      <th>2016-09-09</th>\n",
       "      <td>72422.0</td>\n",
       "    </tr>\n",
       "    <tr>\n",
       "      <th>2016-09-10</th>\n",
       "      <td>90372.0</td>\n",
       "    </tr>\n",
       "    <tr>\n",
       "      <th>2016-09-11</th>\n",
       "      <td>65221.0</td>\n",
       "    </tr>\n",
       "  </tbody>\n",
       "</table>\n",
       "</div>"
      ],
      "text/plain": [
       "              count\n",
       "dt                 \n",
       "2016-09-07  53897.0\n",
       "2016-09-08  56636.0\n",
       "2016-09-09  72422.0\n",
       "2016-09-10  90372.0\n",
       "2016-09-11  65221.0"
      ]
     },
     "execution_count": 52,
     "metadata": {},
     "output_type": "execute_result"
    }
   ],
   "source": [
    "# Set dt col as index\n",
    "df.set_index('dt', inplace=True)\n",
    "\n",
    "df.head(5)"
   ]
  },
  {
   "cell_type": "code",
   "execution_count": 53,
   "metadata": {},
   "outputs": [
    {
     "data": {
      "text/html": [
       "<div>\n",
       "<style scoped>\n",
       "    .dataframe tbody tr th:only-of-type {\n",
       "        vertical-align: middle;\n",
       "    }\n",
       "\n",
       "    .dataframe tbody tr th {\n",
       "        vertical-align: top;\n",
       "    }\n",
       "\n",
       "    .dataframe thead th {\n",
       "        text-align: right;\n",
       "    }\n",
       "</style>\n",
       "<table border=\"1\" class=\"dataframe\">\n",
       "  <thead>\n",
       "    <tr style=\"text-align: right;\">\n",
       "      <th></th>\n",
       "      <th>count</th>\n",
       "    </tr>\n",
       "    <tr>\n",
       "      <th>dt</th>\n",
       "      <th></th>\n",
       "    </tr>\n",
       "  </thead>\n",
       "  <tbody>\n",
       "    <tr>\n",
       "      <th>2016-09-07</th>\n",
       "      <td>53897.0</td>\n",
       "    </tr>\n",
       "    <tr>\n",
       "      <th>2016-09-08</th>\n",
       "      <td>56636.0</td>\n",
       "    </tr>\n",
       "    <tr>\n",
       "      <th>2016-09-09</th>\n",
       "      <td>72422.0</td>\n",
       "    </tr>\n",
       "    <tr>\n",
       "      <th>2016-09-10</th>\n",
       "      <td>90372.0</td>\n",
       "    </tr>\n",
       "    <tr>\n",
       "      <th>2016-09-11</th>\n",
       "      <td>65221.0</td>\n",
       "    </tr>\n",
       "  </tbody>\n",
       "</table>\n",
       "</div>"
      ],
      "text/plain": [
       "              count\n",
       "dt                 \n",
       "2016-09-07  53897.0\n",
       "2016-09-08  56636.0\n",
       "2016-09-09  72422.0\n",
       "2016-09-10  90372.0\n",
       "2016-09-11  65221.0"
      ]
     },
     "execution_count": 53,
     "metadata": {},
     "output_type": "execute_result"
    }
   ],
   "source": [
    "# Convert index to datetime\n",
    "df.index = pd.to_datetime(df.index)\n",
    "\n",
    "df.head(5)"
   ]
  },
  {
   "cell_type": "code",
   "execution_count": null,
   "metadata": {},
   "outputs": [],
   "source": []
  },
  {
   "cell_type": "code",
   "execution_count": 54,
   "metadata": {},
   "outputs": [
    {
     "data": {
      "text/html": [
       "<div>\n",
       "<style scoped>\n",
       "    .dataframe tbody tr th:only-of-type {\n",
       "        vertical-align: middle;\n",
       "    }\n",
       "\n",
       "    .dataframe tbody tr th {\n",
       "        vertical-align: top;\n",
       "    }\n",
       "\n",
       "    .dataframe thead th {\n",
       "        text-align: right;\n",
       "    }\n",
       "</style>\n",
       "<table border=\"1\" class=\"dataframe\">\n",
       "  <thead>\n",
       "    <tr style=\"text-align: right;\">\n",
       "      <th></th>\n",
       "      <th>count</th>\n",
       "    </tr>\n",
       "    <tr>\n",
       "      <th>dt</th>\n",
       "      <th></th>\n",
       "    </tr>\n",
       "  </thead>\n",
       "  <tbody>\n",
       "    <tr>\n",
       "      <th>2016-09-30</th>\n",
       "      <td>62241.708333</td>\n",
       "    </tr>\n",
       "    <tr>\n",
       "      <th>2016-10-31</th>\n",
       "      <td>64442.709677</td>\n",
       "    </tr>\n",
       "    <tr>\n",
       "      <th>2016-11-30</th>\n",
       "      <td>65595.133333</td>\n",
       "    </tr>\n",
       "    <tr>\n",
       "      <th>2016-12-31</th>\n",
       "      <td>71106.741935</td>\n",
       "    </tr>\n",
       "    <tr>\n",
       "      <th>2017-01-31</th>\n",
       "      <td>69279.935484</td>\n",
       "    </tr>\n",
       "  </tbody>\n",
       "</table>\n",
       "</div>"
      ],
      "text/plain": [
       "                   count\n",
       "dt                      \n",
       "2016-09-30  62241.708333\n",
       "2016-10-31  64442.709677\n",
       "2016-11-30  65595.133333\n",
       "2016-12-31  71106.741935\n",
       "2017-01-31  69279.935484"
      ]
     },
     "execution_count": 54,
     "metadata": {},
     "output_type": "execute_result"
    }
   ],
   "source": [
    "# Group the data by month, and take the mean for each group (i.e. each month)\n",
    "dm = df.resample('M').mean()\n",
    "dm.head(5)"
   ]
  },
  {
   "cell_type": "code",
   "execution_count": 55,
   "metadata": {},
   "outputs": [],
   "source": [
    "# store only YYYY-MM\n",
    "dm.index = dm.index.strftime('%Y-%m')"
   ]
  },
  {
   "cell_type": "code",
   "execution_count": 56,
   "metadata": {},
   "outputs": [
    {
     "data": {
      "text/plain": [
       "Index(['2016-09', '2016-10', '2016-11', '2016-12', '2017-01', '2017-02',\n",
       "       '2017-03', '2017-04', '2017-05', '2017-06', '2017-07', '2017-08',\n",
       "       '2017-09', '2017-10', '2017-11', '2017-12', '2018-01', '2018-02',\n",
       "       '2018-03', '2018-04', '2018-05', '2018-06', '2018-07', '2018-08',\n",
       "       '2018-09', '2018-10', '2018-11', '2018-12', '2019-01', '2019-02',\n",
       "       '2019-03', '2019-04', '2019-05', '2019-06', '2019-07'],\n",
       "      dtype='object')"
      ]
     },
     "execution_count": 56,
     "metadata": {},
     "output_type": "execute_result"
    }
   ],
   "source": [
    "dm.index"
   ]
  },
  {
   "cell_type": "code",
   "execution_count": 57,
   "metadata": {},
   "outputs": [
    {
     "data": {
      "text/html": [
       "<div>\n",
       "<style scoped>\n",
       "    .dataframe tbody tr th:only-of-type {\n",
       "        vertical-align: middle;\n",
       "    }\n",
       "\n",
       "    .dataframe tbody tr th {\n",
       "        vertical-align: top;\n",
       "    }\n",
       "\n",
       "    .dataframe thead th {\n",
       "        text-align: right;\n",
       "    }\n",
       "</style>\n",
       "<table border=\"1\" class=\"dataframe\">\n",
       "  <thead>\n",
       "    <tr style=\"text-align: right;\">\n",
       "      <th></th>\n",
       "      <th>count</th>\n",
       "    </tr>\n",
       "  </thead>\n",
       "  <tbody>\n",
       "    <tr>\n",
       "      <th>2016-09</th>\n",
       "      <td>62241.708333</td>\n",
       "    </tr>\n",
       "    <tr>\n",
       "      <th>2016-10</th>\n",
       "      <td>64442.709677</td>\n",
       "    </tr>\n",
       "    <tr>\n",
       "      <th>2016-11</th>\n",
       "      <td>65595.133333</td>\n",
       "    </tr>\n",
       "    <tr>\n",
       "      <th>2016-12</th>\n",
       "      <td>71106.741935</td>\n",
       "    </tr>\n",
       "    <tr>\n",
       "      <th>2017-01</th>\n",
       "      <td>69279.935484</td>\n",
       "    </tr>\n",
       "  </tbody>\n",
       "</table>\n",
       "</div>"
      ],
      "text/plain": [
       "                count\n",
       "2016-09  62241.708333\n",
       "2016-10  64442.709677\n",
       "2016-11  65595.133333\n",
       "2016-12  71106.741935\n",
       "2017-01  69279.935484"
      ]
     },
     "execution_count": 57,
     "metadata": {},
     "output_type": "execute_result"
    }
   ],
   "source": [
    "dm.head(5)"
   ]
  },
  {
   "cell_type": "markdown",
   "metadata": {},
   "source": [
    "## Convert count to int"
   ]
  },
  {
   "cell_type": "code",
   "execution_count": 58,
   "metadata": {},
   "outputs": [],
   "source": [
    "dm['count'] = dm['count'].astype('int')"
   ]
  },
  {
   "cell_type": "code",
   "execution_count": 59,
   "metadata": {},
   "outputs": [
    {
     "data": {
      "text/html": [
       "<div>\n",
       "<style scoped>\n",
       "    .dataframe tbody tr th:only-of-type {\n",
       "        vertical-align: middle;\n",
       "    }\n",
       "\n",
       "    .dataframe tbody tr th {\n",
       "        vertical-align: top;\n",
       "    }\n",
       "\n",
       "    .dataframe thead th {\n",
       "        text-align: right;\n",
       "    }\n",
       "</style>\n",
       "<table border=\"1\" class=\"dataframe\">\n",
       "  <thead>\n",
       "    <tr style=\"text-align: right;\">\n",
       "      <th></th>\n",
       "      <th>count</th>\n",
       "    </tr>\n",
       "  </thead>\n",
       "  <tbody>\n",
       "    <tr>\n",
       "      <th>2016-09</th>\n",
       "      <td>62241</td>\n",
       "    </tr>\n",
       "    <tr>\n",
       "      <th>2016-10</th>\n",
       "      <td>64442</td>\n",
       "    </tr>\n",
       "    <tr>\n",
       "      <th>2016-11</th>\n",
       "      <td>65595</td>\n",
       "    </tr>\n",
       "    <tr>\n",
       "      <th>2016-12</th>\n",
       "      <td>71106</td>\n",
       "    </tr>\n",
       "    <tr>\n",
       "      <th>2017-01</th>\n",
       "      <td>69279</td>\n",
       "    </tr>\n",
       "  </tbody>\n",
       "</table>\n",
       "</div>"
      ],
      "text/plain": [
       "         count\n",
       "2016-09  62241\n",
       "2016-10  64442\n",
       "2016-11  65595\n",
       "2016-12  71106\n",
       "2017-01  69279"
      ]
     },
     "execution_count": 59,
     "metadata": {},
     "output_type": "execute_result"
    }
   ],
   "source": [
    "dm.head(5)"
   ]
  },
  {
   "cell_type": "code",
   "execution_count": null,
   "metadata": {},
   "outputs": [],
   "source": []
  },
  {
   "cell_type": "markdown",
   "metadata": {},
   "source": [
    "# Check against database"
   ]
  },
  {
   "cell_type": "markdown",
   "metadata": {},
   "source": [
    "## pick-ups in ward"
   ]
  },
  {
   "cell_type": "markdown",
   "metadata": {},
   "source": [
    "**WARD 10 Monday, hr 0 in db**  \n",
    "\n",
    "```\n",
    "SELECT COUNT(*) FROM cnangini.trip_data_092018_counts\n",
    "WHERE pickup_ward2018 = 10\n",
    "AND pickup_dow = 'Monday'\n",
    "AND pickup_hr = '00'\n",
    "```\n",
    "=> **4146 for ward 10**  \n",
    "=> **265 for ward 1**  "
   ]
  },
  {
   "cell_type": "code",
   "execution_count": 60,
   "metadata": {},
   "outputs": [],
   "source": [
    "# print('ward: ' + repr(ward))\n",
    "# df_merge.loc[(df_merge['dow']=='Monday') & (df_merge['hr']==0), ['dow','hr','pcounts']]\n",
    "# # => CHECK OK"
   ]
  },
  {
   "cell_type": "code",
   "execution_count": null,
   "metadata": {},
   "outputs": [],
   "source": []
  },
  {
   "cell_type": "code",
   "execution_count": null,
   "metadata": {},
   "outputs": [],
   "source": []
  },
  {
   "cell_type": "code",
   "execution_count": null,
   "metadata": {},
   "outputs": [],
   "source": []
  },
  {
   "cell_type": "markdown",
   "metadata": {},
   "source": [
    "# Create json object and write to file\n",
    "Format:  \n",
    "```\n",
    "{\n",
    "\t\"tpd\": {\n",
    "\t\t\"keys\": {\n",
    "\t\t\t\"name\": \"years\",\n",
    "\t\t\t\"values\": [\n",
    "\t\t\t\t\"2016-09\", \"2016-10\", \"2016-11\", \"2016-12\", \"2017-01\", \"2017-02\",\n",
    "\t       \"2017-03\", \"2017-04\", \"2017-05\", \"2017-06\", \"2017-07\", \"2017-08\",\n",
    "\t       \"2017-09\", \"2017-10\", \"2017-11\", \"2017-12\", \"2018-01\", \"2018-02\",\n",
    "\t       \"2018-03\", \"2018-04\", \"2018-05\", \"2018-06\", \"2018-07\", \"2018-08\",\n",
    "\t       \"2018-09\", \"2018-10\", \"2018-11\", \"2018-12\", \"2019-01\", \"2019-02\",\n",
    "\t       \"2019-03\"\n",
    "\t\t\t]\n",
    "\t\t},\n",
    "\t\t\"city\": [\n",
    "\t\t\t62242,  64443,  65595,  71107,  69280,  75834,  80486,  80165,\n",
    "\t        79951,  83822,  76303,  77527,  82788,  83752,  88247,  97224,\n",
    "\t        91856, 100055, 108321, 116587, 118861, 132495, 131914, 145230,\n",
    "\t       152776, 159412, 161733, 164054, 161267, 172254, 175803\n",
    "\t\t]\n",
    "\t}\n",
    "}\n",
    "\n",
    "```"
   ]
  },
  {
   "cell_type": "code",
   "execution_count": null,
   "metadata": {},
   "outputs": [],
   "source": []
  },
  {
   "cell_type": "code",
   "execution_count": null,
   "metadata": {},
   "outputs": [],
   "source": []
  },
  {
   "cell_type": "code",
   "execution_count": 63,
   "metadata": {},
   "outputs": [
    {
     "data": {
      "text/plain": [
       "{'tpd': {'keys': {'name': 'date',\n",
       "   'values': ['2016-09',\n",
       "    '2016-10',\n",
       "    '2016-11',\n",
       "    '2016-12',\n",
       "    '2017-01',\n",
       "    '2017-02',\n",
       "    '2017-03',\n",
       "    '2017-04',\n",
       "    '2017-05',\n",
       "    '2017-06',\n",
       "    '2017-07',\n",
       "    '2017-08',\n",
       "    '2017-09',\n",
       "    '2017-10',\n",
       "    '2017-11',\n",
       "    '2017-12',\n",
       "    '2018-01',\n",
       "    '2018-02',\n",
       "    '2018-03',\n",
       "    '2018-04',\n",
       "    '2018-05',\n",
       "    '2018-06',\n",
       "    '2018-07',\n",
       "    '2018-08',\n",
       "    '2018-09',\n",
       "    '2018-10',\n",
       "    '2018-11',\n",
       "    '2018-12',\n",
       "    '2019-01',\n",
       "    '2019-02',\n",
       "    '2019-03',\n",
       "    '2019-04',\n",
       "    '2019-05',\n",
       "    '2019-06',\n",
       "    '2019-07']},\n",
       "  'city': [62241,\n",
       "   64442,\n",
       "   65595,\n",
       "   71106,\n",
       "   69279,\n",
       "   75834,\n",
       "   80485,\n",
       "   80164,\n",
       "   79951,\n",
       "   83821,\n",
       "   76302,\n",
       "   77526,\n",
       "   82788,\n",
       "   83751,\n",
       "   88247,\n",
       "   97223,\n",
       "   91856,\n",
       "   100055,\n",
       "   91034,\n",
       "   116587,\n",
       "   118860,\n",
       "   132494,\n",
       "   131914,\n",
       "   145229,\n",
       "   152776,\n",
       "   159412,\n",
       "   172294,\n",
       "   164054,\n",
       "   161266,\n",
       "   172253,\n",
       "   175803,\n",
       "   169743,\n",
       "   172861,\n",
       "   177690,\n",
       "   160291]}}"
      ]
     },
     "execution_count": 63,
     "metadata": {},
     "output_type": "execute_result"
    }
   ],
   "source": [
    "ptcjson = {\n",
    "    \"tpd\": {\n",
    "        \"keys\": {\n",
    "            \"name\": \"date\",\n",
    "            \"values\": dm.index.to_list()\n",
    "        },\n",
    "        \"city\": dm['count'].to_list()\n",
    "    }\n",
    "}\n",
    "\n",
    "ptcjson"
   ]
  },
  {
   "cell_type": "code",
   "execution_count": null,
   "metadata": {},
   "outputs": [],
   "source": []
  },
  {
   "cell_type": "markdown",
   "metadata": {},
   "source": [
    "## Write json to file\n",
    "https://stackabuse.com/reading-and-writing-json-to-a-file-in-python/"
   ]
  },
  {
   "cell_type": "code",
   "execution_count": 64,
   "metadata": {},
   "outputs": [
    {
     "data": {
      "text/plain": [
       "(35, 1)"
      ]
     },
     "execution_count": 64,
     "metadata": {},
     "output_type": "execute_result"
    }
   ],
   "source": [
    "dm.shape"
   ]
  },
  {
   "cell_type": "code",
   "execution_count": 65,
   "metadata": {},
   "outputs": [],
   "source": [
    "import json\n",
    "\n",
    "# mydir = '../../../Documents/PROJECTS/VFH/COT_PAGE/INTERIM_DATA/JSONS/'\n",
    "projdir = '../src/data/'\n",
    "\n",
    "fname = projdir + 'fig1_dailytrips.json'\n",
    "with open(fname, 'w') as outfile:\n",
    "    json.dump(ptcjson, outfile)"
   ]
  },
  {
   "cell_type": "code",
   "execution_count": null,
   "metadata": {},
   "outputs": [],
   "source": []
  },
  {
   "cell_type": "code",
   "execution_count": 66,
   "metadata": {},
   "outputs": [
    {
     "name": "stdout",
     "output_type": "stream",
     "text": [
      "200 OK\n"
     ]
    }
   ],
   "source": [
    "print(\"200 OK\")"
   ]
  },
  {
   "cell_type": "code",
   "execution_count": null,
   "metadata": {},
   "outputs": [],
   "source": []
  },
  {
   "cell_type": "code",
   "execution_count": null,
   "metadata": {},
   "outputs": [],
   "source": []
  }
 ],
 "metadata": {
  "kernelspec": {
   "display_name": "Python 3",
   "language": "python",
   "name": "python3"
  },
  "language_info": {
   "codemirror_mode": {
    "name": "ipython",
    "version": 3
   },
   "file_extension": ".py",
   "mimetype": "text/x-python",
   "name": "python",
   "nbconvert_exporter": "python",
   "pygments_lexer": "ipython3",
   "version": "3.6.5"
  }
 },
 "nbformat": 4,
 "nbformat_minor": 2
}
